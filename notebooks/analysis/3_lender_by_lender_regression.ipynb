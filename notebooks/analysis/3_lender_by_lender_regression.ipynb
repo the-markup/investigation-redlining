{
 "cells": [
  {
   "cell_type": "code",
   "execution_count": 1,
   "id": "monetary-birmingham",
   "metadata": {},
   "outputs": [],
   "source": [
    "%load_ext autoreload\n",
    "%autoreload 2"
   ]
  },
  {
   "cell_type": "code",
   "execution_count": 2,
   "id": "effective-omaha",
   "metadata": {},
   "outputs": [],
   "source": [
    "import pandas as pd\n",
    "import numpy as np\n",
    "\n",
    "import sys\n",
    "sys.path.append('../..')\n",
    "\n",
    "from utils.use_regression import (create_formula, run_regression, convert_results_to_df, calculate_vif)"
   ]
  },
  {
   "cell_type": "markdown",
   "id": "institutional-leader",
   "metadata": {},
   "source": [
    "### 1. Import Data"
   ]
  },
  {
   "cell_type": "code",
   "execution_count": 3,
   "id": "iraqi-thickness",
   "metadata": {},
   "outputs": [
    {
     "name": "stdout",
     "output_type": "stream",
     "text": [
      "<class 'pandas.core.frame.DataFrame'>\n",
      "RangeIndex: 2433071 entries, 0 to 2433070\n",
      "Data columns (total 63 columns):\n",
      " #   Column                        Dtype  \n",
      "---  ------                        -----  \n",
      " 0   black                         float64\n",
      " 1   latino                        float64\n",
      " 2   asian_cb                      float64\n",
      " 3   native                        float64\n",
      " 4   race_na                       float64\n",
      " 5   no_coapplicant                float64\n",
      " 6   na_coapplicant                float64\n",
      " 7   female                        float64\n",
      " 8   sex_na                        float64\n",
      " 9   less_than25                   float64\n",
      " 10  between25_34                  float64\n",
      " 11  between45_54                  float64\n",
      " 12  between55_64                  float64\n",
      " 13  older_than65                  float64\n",
      " 14  age_na                        float64\n",
      " 15  income_log                    float64\n",
      " 16  loan_log                      float64\n",
      " 17  property_value_ratio          float64\n",
      " 18  less30yrs_mortgage            float64\n",
      " 19  more30yrs_mortgage            float64\n",
      " 20  equifax                       float64\n",
      " 21  experian                      float64\n",
      " 22  other_model                   float64\n",
      " 23  more_than_one                 float64\n",
      " 24  model_na                      float64\n",
      " 25  dti_manageable                float64\n",
      " 26  dti_unmanageable              float64\n",
      " 27  dti_struggling                float64\n",
      " 28  combined_loan_to_value_ratio  float64\n",
      " 29  moderate_lmi                  float64\n",
      " 30  middle_lmi                    float64\n",
      " 31  low_lmi                       float64\n",
      " 32  credit_union                  float64\n",
      " 33  independent                   float64\n",
      " 34  lender_na                     float64\n",
      " 35  lar_count                     int64  \n",
      " 36  non_desktop                   float64\n",
      " 37  aus_na                        float64\n",
      " 38  white_cat2                    float64\n",
      " 39  white_cat3                    float64\n",
      " 40  white_cat4                    float64\n",
      " 41  metro_90th                    float64\n",
      " 42  metro_80th                    float64\n",
      " 43  metro_70th                    float64\n",
      " 44  metro_60th                    float64\n",
      " 45  metro_50th                    float64\n",
      " 46  metro_40th                    float64\n",
      " 47  metro_30th                    float64\n",
      " 48  metro_20th                    float64\n",
      " 49  metro_10th                    float64\n",
      " 50  metro_less10th                float64\n",
      " 51  micro_area                    float64\n",
      " 52  metro_none                    float64\n",
      " 53  denied                        float64\n",
      " 54  loan_outcome                  int64  \n",
      " 55  younger_than_34               float64\n",
      " 56  older_than_55                 float64\n",
      " 57  not30yr_mortgage              float64\n",
      " 58  metro_code                    object \n",
      " 59  lei                           object \n",
      " 60  app_race_ethnicity            int64  \n",
      " 61  app_credit_model              object \n",
      " 62  property_value_ratio.1        float64\n",
      "dtypes: float64(57), int64(3), object(3)\n",
      "memory usage: 1.1+ GB\n"
     ]
    }
   ],
   "source": [
    "hmda19_df = pd.read_csv('../../data/hmda_lar/cleaned_data/3_hmda2019_regressiondata_210823.csv',\n",
    "                        dtype = {'app_credit_model': str, 'metro_code': str, 'lei': str})\n",
    "\n",
    "hmda19_df.info()"
   ]
  },
  {
   "cell_type": "code",
   "execution_count": 4,
   "id": "surprising-philosophy",
   "metadata": {},
   "outputs": [],
   "source": [
    "lenders_df = pd.read_csv('../../data/supplemental_hmda_data/cleaned/lender_definitions_em210513.csv', \n",
    "                         dtype = str)"
   ]
  },
  {
   "cell_type": "markdown",
   "id": "arranged-azerbaijan",
   "metadata": {},
   "source": [
    "### 2. Clean and filter data"
   ]
  },
  {
   "cell_type": "code",
   "execution_count": 5,
   "id": "round-audio",
   "metadata": {},
   "outputs": [],
   "source": [
    "lenders_df2 = lenders_df[['lei', 'respondent_name', 'lender_def']].copy()"
   ]
  },
  {
   "cell_type": "code",
   "execution_count": 6,
   "id": "configured-campbell",
   "metadata": {},
   "outputs": [
    {
     "name": "stdout",
     "output_type": "stream",
     "text": [
      "2433071\n",
      "2421691\n"
     ]
    }
   ],
   "source": [
    "print(len(hmda19_df))\n",
    "\n",
    "hmda19_df2 = hmda19_df[(hmda19_df['na_coapplicant'] != 0) & (hmda19_df['age_na'] != 0) &\\\n",
    "                       (hmda19_df['lender_na'] != 0)]\n",
    "\n",
    "print(len(hmda19_df2))"
   ]
  },
  {
   "cell_type": "markdown",
   "id": "musical-stage",
   "metadata": {},
   "source": [
    "### 3. Get big lenders"
   ]
  },
  {
   "cell_type": "code",
   "execution_count": 7,
   "id": "joint-carrier",
   "metadata": {},
   "outputs": [
    {
     "name": "stdout",
     "output_type": "stream",
     "text": [
      "72\n"
     ]
    },
    {
     "data": {
      "text/html": [
       "<div>\n",
       "<style scoped>\n",
       "    .dataframe tbody tr th:only-of-type {\n",
       "        vertical-align: middle;\n",
       "    }\n",
       "\n",
       "    .dataframe tbody tr th {\n",
       "        vertical-align: top;\n",
       "    }\n",
       "\n",
       "    .dataframe thead th {\n",
       "        text-align: right;\n",
       "    }\n",
       "</style>\n",
       "<table border=\"1\" class=\"dataframe\">\n",
       "  <thead>\n",
       "    <tr style=\"text-align: right;\">\n",
       "      <th></th>\n",
       "      <th>lei</th>\n",
       "      <th>total_apps</th>\n",
       "    </tr>\n",
       "  </thead>\n",
       "  <tbody>\n",
       "    <tr>\n",
       "      <th>0</th>\n",
       "      <td>KB1H1DSPRFMYMCUFXT09</td>\n",
       "      <td>113658</td>\n",
       "    </tr>\n",
       "    <tr>\n",
       "      <th>1</th>\n",
       "      <td>549300HW662MN1WU8550</td>\n",
       "      <td>108623</td>\n",
       "    </tr>\n",
       "    <tr>\n",
       "      <th>2</th>\n",
       "      <td>549300FGXN1K3HLB1R50</td>\n",
       "      <td>104549</td>\n",
       "    </tr>\n",
       "  </tbody>\n",
       "</table>\n",
       "</div>"
      ],
      "text/plain": [
       "                    lei  total_apps\n",
       "0  KB1H1DSPRFMYMCUFXT09      113658\n",
       "1  549300HW662MN1WU8550      108623\n",
       "2  549300FGXN1K3HLB1R50      104549"
      ]
     },
     "execution_count": 7,
     "metadata": {},
     "output_type": "execute_result"
    }
   ],
   "source": [
    "lenders_apps_df = pd.DataFrame(hmda19_df2['lei'].value_counts(dropna = False)).reset_index().\\\n",
    "                  rename(columns = {'index': 'lei', 'lei': 'total_apps'})\n",
    "\n",
    "lenders_apps_df2 = lenders_apps_df[(lenders_apps_df['total_apps'] >= 5000)]\n",
    "print(len(lenders_apps_df2))\n",
    "\n",
    "lenders_apps_df2.head(3)"
   ]
  },
  {
   "cell_type": "markdown",
   "id": "automated-hebrew",
   "metadata": {},
   "source": [
    "### 4. List independent Variables"
   ]
  },
  {
   "cell_type": "code",
   "execution_count": 8,
   "id": "fuzzy-somalia",
   "metadata": {},
   "outputs": [],
   "source": [
    "independent_vars = ['black', 'latino', 'asian_cb', 'native', 'race_na',\n",
    "                    'female', 'sex_na',\n",
    "                    'no_coapplicant',\n",
    "                    'younger_than_34', 'older_than_55',\n",
    "                    'income_log',\n",
    "                    'loan_log',\n",
    "                    'property_value_ratio', \n",
    "                    'not30yr_mortgage',\n",
    "                    'equifax', 'experian', 'other_model', 'more_than_one', 'model_na',\n",
    "                    'dti_manageable', 'dti_unmanageable', 'dti_struggling',\n",
    "                    'combined_loan_to_value_ratio',\n",
    "                    'low_lmi', 'moderate_lmi', 'middle_lmi',\n",
    "                    'non_desktop', 'aus_na',\n",
    "                    'white_cat2', 'white_cat3', 'white_cat4']"
   ]
  },
  {
   "cell_type": "markdown",
   "id": "radio-religious",
   "metadata": {},
   "source": [
    "### 5. Count the vaules that show up for each lender\n",
    "- Remove continuous variables because we are counting loans and denials"
   ]
  },
  {
   "cell_type": "code",
   "execution_count": 9,
   "id": "brown-shopper",
   "metadata": {},
   "outputs": [],
   "source": [
    "continous_vars = ['income_log', 'loan_log', 'combined_loan_to_value_ratio', 'property_value_ratio']\n",
    "independent_vars2 = [var for var in independent_vars if var not in continous_vars]"
   ]
  },
  {
   "cell_type": "code",
   "execution_count": 10,
   "id": "bacterial-skiing",
   "metadata": {},
   "outputs": [],
   "source": [
    "lenders = lenders_apps_df2['lei'].unique().tolist()\n",
    "lenders_list = []\n",
    "df_holder = []"
   ]
  },
  {
   "cell_type": "markdown",
   "id": "polar-measurement",
   "metadata": {},
   "source": [
    "#### Count all the independent variables for each lender, by loans and denials"
   ]
  },
  {
   "cell_type": "code",
   "execution_count": 11,
   "id": "synthetic-warren",
   "metadata": {},
   "outputs": [
    {
     "data": {
      "text/plain": [
       "2734"
      ]
     },
     "execution_count": 11,
     "metadata": {},
     "output_type": "execute_result"
    }
   ],
   "source": [
    "lender_var_holder = []\n",
    "\n",
    "for independent_var in independent_vars2:\n",
    "    index_values = []\n",
    "    index_values.extend(('lei', independent_var))\n",
    "    \n",
    "    lender_var_df = pd.pivot_table(hmda19_df2, index = index_values, columns = ['loan_outcome'], \n",
    "                                   values = ['denied'], aggfunc = 'count', fill_value = 0).reset_index()\n",
    "    \n",
    "    lender_var_df.columns = lender_var_df.columns.droplevel(0)\n",
    "    lender_var_df.columns.name = None\n",
    "    lender_var_df.columns = ['lei', 'variable_flag', 'loan', 'denied']\n",
    "    lender_var_df['variable_name'] = independent_var\n",
    "    lender_var_holder.append(lender_var_df)\n",
    "    \n",
    "lender_varcount_df = pd.concat(lender_var_holder)\n",
    "lender_varcount_df['lei'].nunique()"
   ]
  },
  {
   "cell_type": "markdown",
   "id": "binding-parcel",
   "metadata": {},
   "source": [
    "#### Finding missing records for each lender\n",
    "- Focus on positive variables"
   ]
  },
  {
   "cell_type": "code",
   "execution_count": 12,
   "id": "plain-north",
   "metadata": {},
   "outputs": [],
   "source": [
    "lender_varcount_df2 = lender_varcount_df[(lender_varcount_df['variable_flag'] == 0)]\n",
    "missing_rows_list = []"
   ]
  },
  {
   "cell_type": "code",
   "execution_count": 13,
   "id": "military-delivery",
   "metadata": {},
   "outputs": [],
   "source": [
    "for lender in lender_varcount_df2['lei'].unique():\n",
    "    lender_vars_df = lender_varcount_df2[(lender_varcount_df2['lei'] == lender)]\n",
    "    lender_vars = lender_vars_df['variable_name'].unique()\n",
    "    \n",
    "    for var in independent_vars2:\n",
    "        if var not in lender_vars:\n",
    "            missing_row = pd.DataFrame([[lender, 0, 0, 0, var]], columns = ['lei', 'variable_flag', 'loan', \n",
    "                                                                            'denied', 'variable_name'])\n",
    "            missing_rows_list.append(missing_row)\n",
    "\n",
    "missing_rows_df = pd.concat(missing_rows_list)         \n",
    "lender_varcount_df3 = lender_varcount_df2.append(missing_rows_df)"
   ]
  },
  {
   "cell_type": "markdown",
   "id": "wanted-trinidad",
   "metadata": {},
   "source": [
    "- Calculate the denial and loan percentage"
   ]
  },
  {
   "cell_type": "code",
   "execution_count": 14,
   "id": "communist-scoop",
   "metadata": {},
   "outputs": [],
   "source": [
    "lender_varcount_df3['total_count'] = lender_varcount_df3['loan'] + lender_varcount_df3['denied']\n",
    "\n",
    "lender_varcount_df3['loan_pct'] = lender_varcount_df3['loan'].\\\n",
    "                                  div(lender_varcount_df3['total_count']).multiply(100)\n",
    "\n",
    "lender_varcount_df3['denied_pct'] = lender_varcount_df3['denied'].\\\n",
    "                                    div(lender_varcount_df3['total_count']).multiply(100)"
   ]
  },
  {
   "cell_type": "markdown",
   "id": "intelligent-richmond",
   "metadata": {},
   "source": [
    "- Filter for the select lenders"
   ]
  },
  {
   "cell_type": "code",
   "execution_count": 15,
   "id": "detailed-snapshot",
   "metadata": {},
   "outputs": [
    {
     "data": {
      "text/plain": [
       "True"
      ]
     },
     "execution_count": 15,
     "metadata": {},
     "output_type": "execute_result"
    }
   ],
   "source": [
    "lender_varcount_df4 = lender_varcount_df3[(lender_varcount_df3['lei'].isin(lenders))]\n",
    "len(lenders) == lender_varcount_df4['lei'].nunique()"
   ]
  },
  {
   "cell_type": "markdown",
   "id": "facial-trinidad",
   "metadata": {},
   "source": [
    "#### Which variables are zero\n",
    "- Credit models and underwriters are specific to individual lenders\n",
    "- Many lenders stick to experian, equifax, transunion"
   ]
  },
  {
   "cell_type": "code",
   "execution_count": 16,
   "id": "steady-stopping",
   "metadata": {},
   "outputs": [
    {
     "data": {
      "text/plain": [
       "more_than_one    59\n",
       "other_model      45\n",
       "non_desktop       7\n",
       "model_na          3\n",
       "aus_na            3\n",
       "experian          2\n",
       "equifax           2\n",
       "Name: variable_name, dtype: int64"
      ]
     },
     "execution_count": 16,
     "metadata": {},
     "output_type": "execute_result"
    }
   ],
   "source": [
    "lender_varcount_df4[(lender_varcount_df4['total_count'] == 0)]['variable_name'].value_counts(dropna = False)"
   ]
  },
  {
   "cell_type": "code",
   "execution_count": 17,
   "id": "local-spray",
   "metadata": {},
   "outputs": [
    {
     "name": "stdout",
     "output_type": "stream",
     "text": [
      "Number of lenders with at least one credit model missing: 68\n"
     ]
    }
   ],
   "source": [
    "model_vars = ['equifax', 'experian', 'other_model', 'more_than_one', 'model_na']\n",
    "\n",
    "missing_credit = lender_varcount_df4[(lender_varcount_df4['variable_name'].isin(model_vars)) &\\\n",
    "                                      (lender_varcount_df4['total_count'] == 0)]['lei'].nunique()\n",
    "\n",
    "print('Number of lenders with at least one credit model missing: ' + str(missing_credit))"
   ]
  },
  {
   "cell_type": "code",
   "execution_count": 18,
   "id": "cognitive-replica",
   "metadata": {},
   "outputs": [
    {
     "name": "stdout",
     "output_type": "stream",
     "text": [
      "Number of lenders with at least one underwriter missing: 10\n"
     ]
    }
   ],
   "source": [
    "aus = ['non_desktop', 'aus_na']\n",
    "\n",
    "missing_aus = lender_varcount_df4[(lender_varcount_df4['variable_name'].isin(aus)) &\\\n",
    "                                  (lender_varcount_df4['total_count'] == 0)]['lei'].nunique()\n",
    "\n",
    "print('Number of lenders with at least one underwriter missing: ' + str(missing_aus))"
   ]
  },
  {
   "cell_type": "markdown",
   "id": "accepted-venue",
   "metadata": {},
   "source": [
    "#### Select dummy varibales that are greater than zero\n",
    "- Leaving out variables where credit model and aus don't exits in the lender's data"
   ]
  },
  {
   "cell_type": "code",
   "execution_count": 19,
   "id": "worst-launch",
   "metadata": {},
   "outputs": [],
   "source": [
    "lender_varcount_df5 = lender_varcount_df4[(lender_varcount_df4['total_count'] > 0)]"
   ]
  },
  {
   "cell_type": "markdown",
   "id": "early-simulation",
   "metadata": {},
   "source": [
    "### 7. Run regression on individual lenders"
   ]
  },
  {
   "cell_type": "code",
   "execution_count": 20,
   "id": "lasting-twist",
   "metadata": {},
   "outputs": [
    {
     "name": "stdout",
     "output_type": "stream",
     "text": [
      "Warning: Maximum number of iterations has been exceeded.\n",
      "         Current function value: 0.182879\n",
      "         Iterations: 35\n"
     ]
    },
    {
     "name": "stderr",
     "output_type": "stream",
     "text": [
      "/Users/emmanuel/.pyenv/versions/3.8.0/envs/redlining/lib/python3.8/site-packages/statsmodels/base/model.py:566: ConvergenceWarning: Maximum Likelihood optimization failed to converge. Check mle_retvals\n",
      "  warnings.warn(\"Maximum Likelihood optimization failed to \"\n"
     ]
    },
    {
     "name": "stdout",
     "output_type": "stream",
     "text": [
      "Optimization terminated successfully.\n",
      "         Current function value: 0.097206\n",
      "         Iterations 9\n",
      "Warning: Maximum number of iterations has been exceeded.\n",
      "         Current function value: 0.328955\n",
      "         Iterations: 35\n"
     ]
    },
    {
     "name": "stderr",
     "output_type": "stream",
     "text": [
      "/Users/emmanuel/.pyenv/versions/3.8.0/envs/redlining/lib/python3.8/site-packages/statsmodels/base/model.py:566: ConvergenceWarning: Maximum Likelihood optimization failed to converge. Check mle_retvals\n",
      "  warnings.warn(\"Maximum Likelihood optimization failed to \"\n"
     ]
    },
    {
     "name": "stdout",
     "output_type": "stream",
     "text": [
      "Warning: Maximum number of iterations has been exceeded.\n",
      "         Current function value: 0.179183\n",
      "         Iterations: 35\n"
     ]
    },
    {
     "name": "stderr",
     "output_type": "stream",
     "text": [
      "/Users/emmanuel/.pyenv/versions/3.8.0/envs/redlining/lib/python3.8/site-packages/statsmodels/base/model.py:566: ConvergenceWarning: Maximum Likelihood optimization failed to converge. Check mle_retvals\n",
      "  warnings.warn(\"Maximum Likelihood optimization failed to \"\n"
     ]
    },
    {
     "name": "stdout",
     "output_type": "stream",
     "text": [
      "Optimization terminated successfully.\n",
      "         Current function value: 0.251815\n",
      "         Iterations 14\n",
      "Optimization terminated successfully.\n",
      "         Current function value: 0.096063\n",
      "         Iterations 9\n",
      "Optimization terminated successfully.\n",
      "         Current function value: 0.145295\n",
      "         Iterations 8\n",
      "Warning: Maximum number of iterations has been exceeded.\n",
      "         Current function value: 0.318299\n",
      "         Iterations: 35\n"
     ]
    },
    {
     "name": "stderr",
     "output_type": "stream",
     "text": [
      "/Users/emmanuel/.pyenv/versions/3.8.0/envs/redlining/lib/python3.8/site-packages/statsmodels/base/model.py:566: ConvergenceWarning: Maximum Likelihood optimization failed to converge. Check mle_retvals\n",
      "  warnings.warn(\"Maximum Likelihood optimization failed to \"\n"
     ]
    },
    {
     "name": "stdout",
     "output_type": "stream",
     "text": [
      "Optimization terminated successfully.\n",
      "         Current function value: 0.093371\n",
      "         Iterations 9\n",
      "Optimization terminated successfully.\n",
      "         Current function value: 0.163173\n",
      "         Iterations 8\n",
      "Optimization terminated successfully.\n",
      "         Current function value: 0.101158\n",
      "         Iterations 8\n",
      "Optimization terminated successfully.\n",
      "         Current function value: 0.051905\n",
      "         Iterations 9\n",
      "Optimization terminated successfully.\n",
      "         Current function value: 0.339966\n",
      "         Iterations 6\n",
      "Optimization terminated successfully.\n",
      "         Current function value: 0.054217\n",
      "         Iterations 9\n",
      "Optimization terminated successfully.\n",
      "         Current function value: 0.289879\n",
      "         Iterations 7\n",
      "Optimization terminated successfully.\n",
      "         Current function value: 0.166566\n",
      "         Iterations 8\n",
      "Optimization terminated successfully.\n",
      "         Current function value: 0.133698\n",
      "         Iterations 8\n",
      "Optimization terminated successfully.\n",
      "         Current function value: 0.179477\n",
      "         Iterations 8\n",
      "Optimization terminated successfully.\n",
      "         Current function value: 0.184326\n",
      "         Iterations 8\n",
      "Optimization terminated successfully.\n",
      "         Current function value: 0.366037\n",
      "         Iterations 7\n",
      "Optimization terminated successfully.\n",
      "         Current function value: 0.274959\n",
      "         Iterations 7\n",
      "Optimization terminated successfully.\n",
      "         Current function value: 0.114979\n",
      "         Iterations 8\n",
      "Optimization terminated successfully.\n",
      "         Current function value: 0.151536\n",
      "         Iterations 8\n",
      "Optimization terminated successfully.\n",
      "         Current function value: 0.136145\n",
      "         Iterations 8\n",
      "Optimization terminated successfully.\n",
      "         Current function value: 0.240333\n",
      "         Iterations 7\n",
      "Optimization terminated successfully.\n",
      "         Current function value: 0.066024\n",
      "         Iterations 9\n",
      "Optimization terminated successfully.\n",
      "         Current function value: 0.090096\n",
      "         Iterations 9\n",
      "Warning: Maximum number of iterations has been exceeded.\n",
      "         Current function value: 0.046450\n",
      "         Iterations: 35\n"
     ]
    },
    {
     "name": "stderr",
     "output_type": "stream",
     "text": [
      "/Users/emmanuel/.pyenv/versions/3.8.0/envs/redlining/lib/python3.8/site-packages/statsmodels/base/model.py:566: ConvergenceWarning: Maximum Likelihood optimization failed to converge. Check mle_retvals\n",
      "  warnings.warn(\"Maximum Likelihood optimization failed to \"\n"
     ]
    },
    {
     "name": "stdout",
     "output_type": "stream",
     "text": [
      "Optimization terminated successfully.\n",
      "         Current function value: 0.284854\n",
      "         Iterations 7\n"
     ]
    },
    {
     "name": "stderr",
     "output_type": "stream",
     "text": [
      "/Users/emmanuel/.pyenv/versions/3.8.0/envs/redlining/lib/python3.8/site-packages/statsmodels/discrete/discrete_model.py:1810: RuntimeWarning: overflow encountered in exp\n",
      "  return 1/(1+np.exp(-X))\n",
      "/Users/emmanuel/.pyenv/versions/3.8.0/envs/redlining/lib/python3.8/site-packages/statsmodels/discrete/discrete_model.py:1863: RuntimeWarning: divide by zero encountered in log\n",
      "  return np.sum(np.log(self.cdf(q*np.dot(X,params))))\n"
     ]
    },
    {
     "name": "stdout",
     "output_type": "stream",
     "text": [
      "Warning: Maximum number of iterations has been exceeded.\n",
      "         Current function value: inf\n",
      "         Iterations: 35\n",
      "Optimization terminated successfully.\n",
      "         Current function value: 0.208540\n",
      "         Iterations 8\n",
      "Optimization terminated successfully.\n",
      "         Current function value: 0.163964\n",
      "         Iterations 8\n",
      "Optimization terminated successfully.\n",
      "         Current function value: 0.096274\n",
      "         Iterations 9\n",
      "Warning: Maximum number of iterations has been exceeded.\n",
      "         Current function value: 0.098960\n",
      "         Iterations: 35\n"
     ]
    },
    {
     "name": "stderr",
     "output_type": "stream",
     "text": [
      "/Users/emmanuel/.pyenv/versions/3.8.0/envs/redlining/lib/python3.8/site-packages/statsmodels/base/model.py:566: ConvergenceWarning: Maximum Likelihood optimization failed to converge. Check mle_retvals\n",
      "  warnings.warn(\"Maximum Likelihood optimization failed to \"\n"
     ]
    },
    {
     "name": "stdout",
     "output_type": "stream",
     "text": [
      "Optimization terminated successfully.\n",
      "         Current function value: 0.182855\n",
      "         Iterations 10\n",
      "Warning: Maximum number of iterations has been exceeded.\n",
      "         Current function value: 0.177530\n",
      "         Iterations: 35\n"
     ]
    },
    {
     "name": "stderr",
     "output_type": "stream",
     "text": [
      "/Users/emmanuel/.pyenv/versions/3.8.0/envs/redlining/lib/python3.8/site-packages/statsmodels/base/model.py:566: ConvergenceWarning: Maximum Likelihood optimization failed to converge. Check mle_retvals\n",
      "  warnings.warn(\"Maximum Likelihood optimization failed to \"\n"
     ]
    },
    {
     "name": "stdout",
     "output_type": "stream",
     "text": [
      "Warning: Maximum number of iterations has been exceeded.\n",
      "         Current function value: 0.106795\n",
      "         Iterations: 35\n"
     ]
    },
    {
     "name": "stderr",
     "output_type": "stream",
     "text": [
      "/Users/emmanuel/.pyenv/versions/3.8.0/envs/redlining/lib/python3.8/site-packages/statsmodels/base/model.py:566: ConvergenceWarning: Maximum Likelihood optimization failed to converge. Check mle_retvals\n",
      "  warnings.warn(\"Maximum Likelihood optimization failed to \"\n"
     ]
    },
    {
     "name": "stdout",
     "output_type": "stream",
     "text": [
      "Warning: Maximum number of iterations has been exceeded.\n",
      "         Current function value: 0.010143\n",
      "         Iterations: 35\n"
     ]
    },
    {
     "name": "stderr",
     "output_type": "stream",
     "text": [
      "/Users/emmanuel/.pyenv/versions/3.8.0/envs/redlining/lib/python3.8/site-packages/statsmodels/base/model.py:566: ConvergenceWarning: Maximum Likelihood optimization failed to converge. Check mle_retvals\n",
      "  warnings.warn(\"Maximum Likelihood optimization failed to \"\n"
     ]
    },
    {
     "name": "stdout",
     "output_type": "stream",
     "text": [
      "Optimization terminated successfully.\n",
      "         Current function value: 0.077796\n",
      "         Iterations 9\n",
      "Optimization terminated successfully.\n",
      "         Current function value: 0.154990\n",
      "         Iterations 34\n",
      "Optimization terminated successfully.\n",
      "         Current function value: 0.185807\n",
      "         Iterations 8\n",
      "Optimization terminated successfully.\n",
      "         Current function value: 0.074433\n",
      "         Iterations 9\n",
      "Optimization terminated successfully.\n",
      "         Current function value: 0.434546\n",
      "         Iterations 6\n",
      "Optimization terminated successfully.\n",
      "         Current function value: 0.121258\n",
      "         Iterations 8\n",
      "Warning: Maximum number of iterations has been exceeded.\n",
      "         Current function value: 0.008661\n",
      "         Iterations: 35\n"
     ]
    },
    {
     "name": "stderr",
     "output_type": "stream",
     "text": [
      "/Users/emmanuel/.pyenv/versions/3.8.0/envs/redlining/lib/python3.8/site-packages/statsmodels/base/model.py:566: ConvergenceWarning: Maximum Likelihood optimization failed to converge. Check mle_retvals\n",
      "  warnings.warn(\"Maximum Likelihood optimization failed to \"\n"
     ]
    },
    {
     "name": "stdout",
     "output_type": "stream",
     "text": [
      "Optimization terminated successfully.\n",
      "         Current function value: 0.118822\n",
      "         Iterations 8\n",
      "Optimization terminated successfully.\n",
      "         Current function value: 0.116361\n",
      "         Iterations 8\n",
      "Optimization terminated successfully.\n",
      "         Current function value: 0.075483\n",
      "         Iterations 9\n",
      "Optimization terminated successfully.\n",
      "         Current function value: 0.233596\n",
      "         Iterations 7\n",
      "Warning: Maximum number of iterations has been exceeded.\n",
      "         Current function value: 0.100104\n",
      "         Iterations: 35\n"
     ]
    },
    {
     "name": "stderr",
     "output_type": "stream",
     "text": [
      "/Users/emmanuel/.pyenv/versions/3.8.0/envs/redlining/lib/python3.8/site-packages/statsmodels/base/model.py:566: ConvergenceWarning: Maximum Likelihood optimization failed to converge. Check mle_retvals\n",
      "  warnings.warn(\"Maximum Likelihood optimization failed to \"\n"
     ]
    },
    {
     "name": "stdout",
     "output_type": "stream",
     "text": [
      "Warning: Maximum number of iterations has been exceeded.\n",
      "         Current function value: 0.042117\n",
      "         Iterations: 35\n"
     ]
    },
    {
     "name": "stderr",
     "output_type": "stream",
     "text": [
      "/Users/emmanuel/.pyenv/versions/3.8.0/envs/redlining/lib/python3.8/site-packages/statsmodels/base/model.py:566: ConvergenceWarning: Maximum Likelihood optimization failed to converge. Check mle_retvals\n",
      "  warnings.warn(\"Maximum Likelihood optimization failed to \"\n"
     ]
    },
    {
     "name": "stdout",
     "output_type": "stream",
     "text": [
      "Optimization terminated successfully.\n",
      "         Current function value: 0.250088\n",
      "         Iterations 9\n",
      "Optimization terminated successfully.\n",
      "         Current function value: 0.062918\n",
      "         Iterations 31\n",
      "Optimization terminated successfully.\n",
      "         Current function value: 0.131574\n",
      "         Iterations 8\n",
      "Optimization terminated successfully.\n",
      "         Current function value: 0.070439\n",
      "         Iterations 9\n",
      "Optimization terminated successfully.\n",
      "         Current function value: 0.335768\n",
      "         Iterations 7\n",
      "Optimization terminated successfully.\n",
      "         Current function value: 0.191946\n",
      "         Iterations 8\n",
      "Warning: Maximum number of iterations has been exceeded.\n",
      "         Current function value: 0.250917\n",
      "         Iterations: 35\n"
     ]
    },
    {
     "name": "stderr",
     "output_type": "stream",
     "text": [
      "/Users/emmanuel/.pyenv/versions/3.8.0/envs/redlining/lib/python3.8/site-packages/statsmodels/base/model.py:566: ConvergenceWarning: Maximum Likelihood optimization failed to converge. Check mle_retvals\n",
      "  warnings.warn(\"Maximum Likelihood optimization failed to \"\n"
     ]
    },
    {
     "name": "stdout",
     "output_type": "stream",
     "text": [
      "Warning: Maximum number of iterations has been exceeded.\n",
      "         Current function value: 0.056319\n",
      "         Iterations: 35\n"
     ]
    },
    {
     "name": "stderr",
     "output_type": "stream",
     "text": [
      "/Users/emmanuel/.pyenv/versions/3.8.0/envs/redlining/lib/python3.8/site-packages/statsmodels/base/model.py:566: ConvergenceWarning: Maximum Likelihood optimization failed to converge. Check mle_retvals\n",
      "  warnings.warn(\"Maximum Likelihood optimization failed to \"\n"
     ]
    },
    {
     "name": "stdout",
     "output_type": "stream",
     "text": [
      "Warning: Maximum number of iterations has been exceeded.\n",
      "         Current function value: 0.229305\n",
      "         Iterations: 35\n"
     ]
    },
    {
     "name": "stderr",
     "output_type": "stream",
     "text": [
      "/Users/emmanuel/.pyenv/versions/3.8.0/envs/redlining/lib/python3.8/site-packages/statsmodels/base/model.py:566: ConvergenceWarning: Maximum Likelihood optimization failed to converge. Check mle_retvals\n",
      "  warnings.warn(\"Maximum Likelihood optimization failed to \"\n"
     ]
    },
    {
     "name": "stdout",
     "output_type": "stream",
     "text": [
      "Warning: Maximum number of iterations has been exceeded.\n",
      "         Current function value: 0.029377\n",
      "         Iterations: 35\n"
     ]
    },
    {
     "name": "stderr",
     "output_type": "stream",
     "text": [
      "/Users/emmanuel/.pyenv/versions/3.8.0/envs/redlining/lib/python3.8/site-packages/statsmodels/base/model.py:566: ConvergenceWarning: Maximum Likelihood optimization failed to converge. Check mle_retvals\n",
      "  warnings.warn(\"Maximum Likelihood optimization failed to \"\n"
     ]
    },
    {
     "name": "stdout",
     "output_type": "stream",
     "text": [
      "Optimization terminated successfully.\n",
      "         Current function value: 0.147730\n",
      "         Iterations 18\n",
      "Optimization terminated successfully.\n",
      "         Current function value: 0.566335\n",
      "         Iterations 7\n",
      "Warning: Maximum number of iterations has been exceeded.\n",
      "         Current function value: 0.121210\n",
      "         Iterations: 35\n"
     ]
    },
    {
     "name": "stderr",
     "output_type": "stream",
     "text": [
      "/Users/emmanuel/.pyenv/versions/3.8.0/envs/redlining/lib/python3.8/site-packages/statsmodels/base/model.py:566: ConvergenceWarning: Maximum Likelihood optimization failed to converge. Check mle_retvals\n",
      "  warnings.warn(\"Maximum Likelihood optimization failed to \"\n"
     ]
    },
    {
     "name": "stdout",
     "output_type": "stream",
     "text": [
      "Optimization terminated successfully.\n",
      "         Current function value: 0.087099\n",
      "         Iterations 10\n",
      "Warning: Maximum number of iterations has been exceeded.\n",
      "         Current function value: 0.070897\n",
      "         Iterations: 35\n"
     ]
    },
    {
     "name": "stderr",
     "output_type": "stream",
     "text": [
      "/Users/emmanuel/.pyenv/versions/3.8.0/envs/redlining/lib/python3.8/site-packages/statsmodels/base/model.py:566: ConvergenceWarning: Maximum Likelihood optimization failed to converge. Check mle_retvals\n",
      "  warnings.warn(\"Maximum Likelihood optimization failed to \"\n"
     ]
    },
    {
     "name": "stdout",
     "output_type": "stream",
     "text": [
      "Warning: Maximum number of iterations has been exceeded.\n",
      "         Current function value: 0.131111\n",
      "         Iterations: 35\n"
     ]
    },
    {
     "name": "stderr",
     "output_type": "stream",
     "text": [
      "/Users/emmanuel/.pyenv/versions/3.8.0/envs/redlining/lib/python3.8/site-packages/statsmodels/base/model.py:566: ConvergenceWarning: Maximum Likelihood optimization failed to converge. Check mle_retvals\n",
      "  warnings.warn(\"Maximum Likelihood optimization failed to \"\n"
     ]
    },
    {
     "name": "stdout",
     "output_type": "stream",
     "text": [
      "Warning: Maximum number of iterations has been exceeded.\n",
      "         Current function value: 0.083009\n",
      "         Iterations: 35\n"
     ]
    },
    {
     "name": "stderr",
     "output_type": "stream",
     "text": [
      "/Users/emmanuel/.pyenv/versions/3.8.0/envs/redlining/lib/python3.8/site-packages/statsmodels/base/model.py:566: ConvergenceWarning: Maximum Likelihood optimization failed to converge. Check mle_retvals\n",
      "  warnings.warn(\"Maximum Likelihood optimization failed to \"\n"
     ]
    },
    {
     "name": "stdout",
     "output_type": "stream",
     "text": [
      "Warning: Maximum number of iterations has been exceeded.\n",
      "         Current function value: 0.088143\n",
      "         Iterations: 35\n"
     ]
    },
    {
     "name": "stderr",
     "output_type": "stream",
     "text": [
      "/Users/emmanuel/.pyenv/versions/3.8.0/envs/redlining/lib/python3.8/site-packages/statsmodels/base/model.py:566: ConvergenceWarning: Maximum Likelihood optimization failed to converge. Check mle_retvals\n",
      "  warnings.warn(\"Maximum Likelihood optimization failed to \"\n",
      "/Users/emmanuel/.pyenv/versions/3.8.0/envs/redlining/lib/python3.8/site-packages/statsmodels/discrete/discrete_model.py:1810: RuntimeWarning: overflow encountered in exp\n",
      "  return 1/(1+np.exp(-X))\n",
      "/Users/emmanuel/.pyenv/versions/3.8.0/envs/redlining/lib/python3.8/site-packages/statsmodels/discrete/discrete_model.py:1863: RuntimeWarning: divide by zero encountered in log\n",
      "  return np.sum(np.log(self.cdf(q*np.dot(X,params))))\n"
     ]
    },
    {
     "name": "stdout",
     "output_type": "stream",
     "text": [
      "Warning: Maximum number of iterations has been exceeded.\n",
      "         Current function value: inf\n",
      "         Iterations: 35\n",
      "Warning: Maximum number of iterations has been exceeded.\n",
      "         Current function value: 0.044748\n",
      "         Iterations: 35\n"
     ]
    },
    {
     "name": "stderr",
     "output_type": "stream",
     "text": [
      "/Users/emmanuel/.pyenv/versions/3.8.0/envs/redlining/lib/python3.8/site-packages/statsmodels/base/model.py:566: ConvergenceWarning: Maximum Likelihood optimization failed to converge. Check mle_retvals\n",
      "  warnings.warn(\"Maximum Likelihood optimization failed to \"\n"
     ]
    }
   ],
   "source": [
    "lender_holder = []\n",
    "\n",
    "for lender in lenders:\n",
    "    lender_df = hmda19_df2[(hmda19_df2['lei'] == lender)]\n",
    "    total_apps = len(lender_df)\n",
    "    \n",
    "    lender_independent_vars = lender_varcount_df5[(lender_varcount_df5['lei'] == lender)]\\\n",
    "                              ['variable_name'].unique().tolist()\n",
    "    lender_independent_vars2 = lender_independent_vars + continous_vars\n",
    "    \n",
    "    regression_formula = create_formula(lender_independent_vars2)\n",
    "    model = run_regression(data = lender_df, formula = regression_formula)\n",
    "    \n",
    "    try:\n",
    "        results = model.fit()\n",
    "        info = results.mle_retvals['converged']\n",
    "    \n",
    "        results_df = convert_results_to_df(results)\n",
    "        results_df.insert(0, 'lei', lender)\n",
    "        results_df.insert(1, 'psuedo_rsquare', results.prsquared)\n",
    "        results_df['iteration_flag'] = info\n",
    "        results_df['total_apps'] = total_apps\n",
    "        \n",
    "    except:\n",
    "        independent_nan_list = []\n",
    "        \n",
    "        for regression_var in lender_independent_vars:\n",
    "            results_dict = {'lei': lender, 'variable_name': regression_var, 'standard_error': np.nan, \n",
    "                            'z_value': np.nan, 'p_value': np.nan, 'odds_ratio': np.nan, \n",
    "                            'iteration_flag': np.nan, 'psuedo_rsquare': np.nan, 'total_apps': total_apps}\n",
    "            \n",
    "            results_df = pd.DataFrame([results_dict], columns = results_dict.keys())\n",
    "            independent_nan_list.append(results_df)\n",
    "        results_df = pd.concat(independent_nan_list)\n",
    "    \n",
    "    lender_holder.append(results_df)\n",
    "\n",
    "lender_results_df = pd.concat(lender_holder)"
   ]
  },
  {
   "cell_type": "markdown",
   "id": "distant-daily",
   "metadata": {},
   "source": [
    "### 8. Join Dataframes and filter for significant results"
   ]
  },
  {
   "cell_type": "code",
   "execution_count": 21,
   "id": "viral-relation",
   "metadata": {},
   "outputs": [],
   "source": [
    "lender_results_df2 = pd.merge(lender_results_df, lender_varcount_df5, how = 'left',\n",
    "                              on = ['lei', 'variable_name'])"
   ]
  },
  {
   "cell_type": "markdown",
   "id": "polished-character",
   "metadata": {},
   "source": [
    "#### Number of lenders that didn't produce any results"
   ]
  },
  {
   "cell_type": "code",
   "execution_count": 22,
   "id": "loving-hampshire",
   "metadata": {},
   "outputs": [
    {
     "data": {
      "text/plain": [
       "4"
      ]
     },
     "execution_count": 22,
     "metadata": {},
     "output_type": "execute_result"
    }
   ],
   "source": [
    "no_results_lenders = lender_results_df2[(lender_results_df2['psuedo_rsquare'].isnull()) & \\\n",
    "                                        (lender_results_df2['p_value'].isnull()) &\\\n",
    "                                        (lender_results_df2['z_value'].isnull())]['lei']\n",
    "\n",
    "no_results_lenders.nunique()"
   ]
  },
  {
   "cell_type": "markdown",
   "id": "superb-duplicate",
   "metadata": {},
   "source": [
    "#### Lenders where the equation didn't work for them"
   ]
  },
  {
   "cell_type": "code",
   "execution_count": 23,
   "id": "inside-victor",
   "metadata": {},
   "outputs": [
    {
     "data": {
      "text/plain": [
       "26"
      ]
     },
     "execution_count": 23,
     "metadata": {},
     "output_type": "execute_result"
    }
   ],
   "source": [
    "equation_lenders = lender_results_df2[(lender_results_df2['psuedo_rsquare'] < .1) |\\\n",
    "                                      (lender_results_df2['iteration_flag'] == False)]['lei']\n",
    "\n",
    "equation_lenders.nunique()"
   ]
  },
  {
   "cell_type": "markdown",
   "id": "romantic-reservation",
   "metadata": {},
   "source": [
    "#### Results with valid results"
   ]
  },
  {
   "cell_type": "code",
   "execution_count": 24,
   "id": "latest-pierce",
   "metadata": {},
   "outputs": [
    {
     "name": "stdout",
     "output_type": "stream",
     "text": [
      "42\n"
     ]
    }
   ],
   "source": [
    "lender_results_df3 = lender_results_df2[(lender_results_df2['psuedo_rsquare'] >= .1) &\\\n",
    "                                        (lender_results_df2['iteration_flag'] == True)]\n",
    "\n",
    "print(lender_results_df3['lei'].nunique())"
   ]
  },
  {
   "cell_type": "markdown",
   "id": "popular-crown",
   "metadata": {},
   "source": [
    "No over lap between lenders with results and lenders where the equation didn't work or with no results at all"
   ]
  },
  {
   "cell_type": "code",
   "execution_count": 25,
   "id": "another-heritage",
   "metadata": {},
   "outputs": [
    {
     "data": {
      "text/html": [
       "<div>\n",
       "<style scoped>\n",
       "    .dataframe tbody tr th:only-of-type {\n",
       "        vertical-align: middle;\n",
       "    }\n",
       "\n",
       "    .dataframe tbody tr th {\n",
       "        vertical-align: top;\n",
       "    }\n",
       "\n",
       "    .dataframe thead th {\n",
       "        text-align: right;\n",
       "    }\n",
       "</style>\n",
       "<table border=\"1\" class=\"dataframe\">\n",
       "  <thead>\n",
       "    <tr style=\"text-align: right;\">\n",
       "      <th></th>\n",
       "      <th>lei</th>\n",
       "      <th>psuedo_rsquare</th>\n",
       "      <th>variable_name</th>\n",
       "      <th>pseudo_rsquared</th>\n",
       "      <th>coefficient</th>\n",
       "      <th>standard_error</th>\n",
       "      <th>z_value</th>\n",
       "      <th>p_value</th>\n",
       "      <th>odds_ratio</th>\n",
       "      <th>iteration_flag</th>\n",
       "      <th>total_apps</th>\n",
       "      <th>variable_flag</th>\n",
       "      <th>loan</th>\n",
       "      <th>denied</th>\n",
       "      <th>total_count</th>\n",
       "      <th>loan_pct</th>\n",
       "      <th>denied_pct</th>\n",
       "    </tr>\n",
       "  </thead>\n",
       "  <tbody>\n",
       "  </tbody>\n",
       "</table>\n",
       "</div>"
      ],
      "text/plain": [
       "Empty DataFrame\n",
       "Columns: [lei, psuedo_rsquare, variable_name, pseudo_rsquared, coefficient, standard_error, z_value, p_value, odds_ratio, iteration_flag, total_apps, variable_flag, loan, denied, total_count, loan_pct, denied_pct]\n",
       "Index: []"
      ]
     },
     "execution_count": 25,
     "metadata": {},
     "output_type": "execute_result"
    }
   ],
   "source": [
    "lender_results_df3[(lender_results_df3['lei'].isin(equation_lenders)) | \\\n",
    "                   (lender_results_df3['lei'].isin(no_results_lenders))]"
   ]
  },
  {
   "cell_type": "markdown",
   "id": "powerful-perth",
   "metadata": {},
   "source": [
    "### 9. Test for collinarity"
   ]
  },
  {
   "cell_type": "code",
   "execution_count": 26,
   "id": "optional-regard",
   "metadata": {},
   "outputs": [
    {
     "name": "stderr",
     "output_type": "stream",
     "text": [
      "100%|██████████| 28/28 [00:06<00:00,  4.32it/s]\n",
      " 70%|███████   | 21/30 [00:02<00:01,  8.64it/s]../../utils/use_regression.py:52: RuntimeWarning: divide by zero encountered in double_scalars\n",
      "  vif = round(1/(1-rsq), 2)\n",
      "100%|██████████| 30/30 [00:03<00:00,  8.50it/s]\n",
      "100%|██████████| 29/29 [00:02<00:00, 10.48it/s]\n",
      "100%|██████████| 30/30 [00:02<00:00, 13.20it/s]\n",
      "100%|██████████| 29/29 [00:01<00:00, 15.89it/s]\n",
      "100%|██████████| 29/29 [00:01<00:00, 21.77it/s]\n",
      "100%|██████████| 30/30 [00:01<00:00, 25.21it/s]\n",
      "100%|██████████| 29/29 [00:01<00:00, 26.81it/s]\n",
      "100%|██████████| 29/29 [00:01<00:00, 26.66it/s]\n",
      "100%|██████████| 31/31 [00:01<00:00, 25.73it/s]\n",
      "100%|██████████| 30/30 [00:00<00:00, 30.90it/s]\n",
      "100%|██████████| 29/29 [00:00<00:00, 38.74it/s]\n",
      "100%|██████████| 30/30 [00:00<00:00, 40.11it/s]\n",
      "100%|██████████| 29/29 [00:00<00:00, 44.22it/s]\n",
      "100%|██████████| 30/30 [00:00<00:00, 44.29it/s]\n",
      "100%|██████████| 30/30 [00:00<00:00, 44.40it/s]\n",
      "100%|██████████| 29/29 [00:00<00:00, 46.91it/s]\n",
      "100%|██████████| 29/29 [00:00<00:00, 46.85it/s]\n",
      "100%|██████████| 27/27 [00:00<00:00, 52.11it/s]\n",
      "100%|██████████| 30/30 [00:00<00:00, 48.61it/s]\n",
      "100%|██████████| 29/29 [00:00<00:00, 54.49it/s]\n",
      "100%|██████████| 28/28 [00:00<00:00, 57.21it/s]\n",
      "100%|██████████| 30/30 [00:00<00:00, 55.64it/s]\n",
      "100%|██████████| 30/30 [00:00<00:00, 55.49it/s]\n",
      "100%|██████████| 29/29 [00:00<00:00, 57.48it/s]\n",
      "100%|██████████| 30/30 [00:00<00:00, 59.50it/s]\n",
      "100%|██████████| 30/30 [00:00<00:00, 65.21it/s]\n",
      "100%|██████████| 28/28 [00:00<00:00, 73.28it/s]\n",
      "100%|██████████| 29/29 [00:00<00:00, 65.69it/s]\n",
      "100%|██████████| 29/29 [00:00<00:00, 78.08it/s]\n",
      "100%|██████████| 29/29 [00:00<00:00, 77.28it/s]\n",
      "100%|██████████| 29/29 [00:00<00:00, 80.09it/s]\n",
      "100%|██████████| 29/29 [00:00<00:00, 81.54it/s]\n",
      "100%|██████████| 30/30 [00:00<00:00, 78.78it/s]\n",
      "100%|██████████| 29/29 [00:00<00:00, 86.18it/s]\n",
      "100%|██████████| 29/29 [00:00<00:00, 83.25it/s]\n",
      "100%|██████████| 30/30 [00:00<00:00, 86.92it/s]\n",
      "100%|██████████| 30/30 [00:00<00:00, 87.41it/s]\n",
      "100%|██████████| 29/29 [00:00<00:00, 90.50it/s]\n",
      "100%|██████████| 29/29 [00:00<00:00, 90.73it/s]\n",
      "100%|██████████| 29/29 [00:00<00:00, 94.28it/s]\n",
      "100%|██████████| 29/29 [00:00<00:00, 95.68it/s]\n"
     ]
    }
   ],
   "source": [
    "vif_list = []\n",
    "\n",
    "for lender in lender_results_df3['lei'].unique():\n",
    "    lender_vars_df = lender_results_df3[(lender_results_df3['lei'] == lender)]\n",
    "    independent_vars = lender_vars_df['variable_name'].unique()[1:]\n",
    "    \n",
    "    lender_df = hmda19_df2[(hmda19_df2['lei'] == lender)][independent_vars]\n",
    "    \n",
    "    vif_df = calculate_vif(lender_df)\n",
    "    vif_df['lei'] = lender\n",
    "    \n",
    "    vif_list.append(vif_df)\n",
    "    \n",
    "lenders_vif_df = pd.concat(vif_list)"
   ]
  },
  {
   "cell_type": "code",
   "execution_count": 27,
   "id": "capital-handbook",
   "metadata": {},
   "outputs": [],
   "source": [
    "lenders_vif_df2 = lenders_vif_df[(lenders_vif_df['independent_var'] != 'income_log') &\\\n",
    "                                 (lenders_vif_df['independent_var'] != 'loan_log')]\n",
    "\n",
    "collinarity_lenders = lenders_vif_df2[(lenders_vif_df2['threshold'] == '1')]['lei'].unique()"
   ]
  },
  {
   "cell_type": "markdown",
   "id": "institutional-collar",
   "metadata": {},
   "source": [
    "#### Lenders with collinarity issues\n",
    "- 12 lenders"
   ]
  },
  {
   "cell_type": "code",
   "execution_count": 28,
   "id": "offensive-spelling",
   "metadata": {},
   "outputs": [
    {
     "data": {
      "text/plain": [
       "12"
      ]
     },
     "execution_count": 28,
     "metadata": {},
     "output_type": "execute_result"
    }
   ],
   "source": [
    "len(collinarity_lenders)"
   ]
  },
  {
   "cell_type": "markdown",
   "id": "accessory-guatemala",
   "metadata": {},
   "source": [
    "#### Filter out lenders with collinarity issues\n",
    "- 30 lenders with no results (4 with no results + 26 with poor fit)\n",
    "- 12 lenders with collinarity issues\n",
    "- 30 lenders move forward"
   ]
  },
  {
   "cell_type": "code",
   "execution_count": 29,
   "id": "supported-subdivision",
   "metadata": {},
   "outputs": [
    {
     "data": {
      "text/plain": [
       "30"
      ]
     },
     "execution_count": 29,
     "metadata": {},
     "output_type": "execute_result"
    }
   ],
   "source": [
    "lender_results_df4 = lender_results_df3[~(lender_results_df3['lei'].isin(collinarity_lenders))]\n",
    "\n",
    "lender_results_df4['lei'].nunique()"
   ]
  },
  {
   "cell_type": "markdown",
   "id": "scheduled-fancy",
   "metadata": {},
   "source": [
    "### 10. Focus on lenders with racial and ethnic results\n",
    "- 26 lenders "
   ]
  },
  {
   "cell_type": "code",
   "execution_count": 30,
   "id": "common-tsunami",
   "metadata": {},
   "outputs": [
    {
     "name": "stdout",
     "output_type": "stream",
     "text": [
      "26\n"
     ]
    }
   ],
   "source": [
    "races = ['black', 'latino', 'asian_cb', 'native']\n",
    "lender_results_df5 = lender_results_df4[(lender_results_df4['variable_name'].isin(races))]\n",
    "\n",
    "lender_results_df6 = lender_results_df5[(lender_results_df5['p_value'] < .05)]\n",
    "\n",
    "print(lender_results_df6['lei'].nunique())"
   ]
  },
  {
   "cell_type": "markdown",
   "id": "minor-process",
   "metadata": {},
   "source": [
    "#### Join with names"
   ]
  },
  {
   "cell_type": "code",
   "execution_count": 31,
   "id": "composite-symphony",
   "metadata": {},
   "outputs": [],
   "source": [
    "lender_results_df7 = pd.merge(lender_results_df6, lenders_df2, how = 'left', on = ['lei'])"
   ]
  },
  {
   "cell_type": "code",
   "execution_count": 32,
   "id": "instrumental-system",
   "metadata": {},
   "outputs": [
    {
     "data": {
      "text/plain": [
       "26"
      ]
     },
     "execution_count": 32,
     "metadata": {},
     "output_type": "execute_result"
    }
   ],
   "source": [
    "lender_results_df7['lei'].nunique()"
   ]
  },
  {
   "cell_type": "markdown",
   "id": "serial-catholic",
   "metadata": {},
   "source": [
    "#### Filter out where applicants are less than 75"
   ]
  },
  {
   "cell_type": "code",
   "execution_count": 33,
   "id": "unavailable-passing",
   "metadata": {},
   "outputs": [
    {
     "data": {
      "text/plain": [
       "26"
      ]
     },
     "execution_count": 33,
     "metadata": {},
     "output_type": "execute_result"
    }
   ],
   "source": [
    "lender_results_df8 = lender_results_df7[(lender_results_df7['total_count'] >= 75)]\n",
    "\n",
    "lender_results_df8['lei'].nunique()"
   ]
  },
  {
   "cell_type": "markdown",
   "id": "vanilla-brand",
   "metadata": {},
   "source": [
    "#### Disparity range:"
   ]
  },
  {
   "cell_type": "code",
   "execution_count": 34,
   "id": "compressed-master",
   "metadata": {},
   "outputs": [
    {
     "name": "stdout",
     "output_type": "stream",
     "text": [
      "3.5832032532791747\n",
      "1.2573673512101307\n"
     ]
    }
   ],
   "source": [
    "print(lender_results_df8['odds_ratio'].max())\n",
    "print(lender_results_df8['odds_ratio'].min())"
   ]
  },
  {
   "cell_type": "markdown",
   "id": "disabled-matthew",
   "metadata": {},
   "source": [
    "#### 25 lenders with statistically significant disparities"
   ]
  },
  {
   "cell_type": "code",
   "execution_count": 35,
   "id": "descending-implementation",
   "metadata": {},
   "outputs": [
    {
     "data": {
      "text/plain": [
       "25"
      ]
     },
     "execution_count": 35,
     "metadata": {},
     "output_type": "execute_result"
    }
   ],
   "source": [
    "lender_results_df8[(lender_results_df8['odds_ratio'] >= 1.45)]['lei'].nunique()"
   ]
  },
  {
   "cell_type": "code",
   "execution_count": 36,
   "id": "shared-banks",
   "metadata": {},
   "outputs": [
    {
     "name": "stdout",
     "output_type": "stream",
     "text": [
      "7\n"
     ]
    },
    {
     "data": {
      "text/html": [
       "<div>\n",
       "<style scoped>\n",
       "    .dataframe tbody tr th:only-of-type {\n",
       "        vertical-align: middle;\n",
       "    }\n",
       "\n",
       "    .dataframe tbody tr th {\n",
       "        vertical-align: top;\n",
       "    }\n",
       "\n",
       "    .dataframe thead th {\n",
       "        text-align: right;\n",
       "    }\n",
       "</style>\n",
       "<table border=\"1\" class=\"dataframe\">\n",
       "  <thead>\n",
       "    <tr style=\"text-align: right;\">\n",
       "      <th></th>\n",
       "      <th>lei</th>\n",
       "      <th>respondent_name</th>\n",
       "      <th>variable_name</th>\n",
       "      <th>total_count</th>\n",
       "      <th>p_value</th>\n",
       "      <th>odds_ratio</th>\n",
       "    </tr>\n",
       "  </thead>\n",
       "  <tbody>\n",
       "    <tr>\n",
       "      <th>21</th>\n",
       "      <td>5493001SXWZ4OFP8Z903</td>\n",
       "      <td>DHI MORTGAGE COMPANY, LTD.</td>\n",
       "      <td>latino</td>\n",
       "      <td>2154.0</td>\n",
       "      <td>2.423503e-07</td>\n",
       "      <td>2.037769</td>\n",
       "    </tr>\n",
       "    <tr>\n",
       "      <th>20</th>\n",
       "      <td>5493001SXWZ4OFP8Z903</td>\n",
       "      <td>DHI MORTGAGE COMPANY, LTD.</td>\n",
       "      <td>black</td>\n",
       "      <td>1276.0</td>\n",
       "      <td>1.875910e-10</td>\n",
       "      <td>2.613202</td>\n",
       "    </tr>\n",
       "    <tr>\n",
       "      <th>18</th>\n",
       "      <td>549300H3IZO24NSOO931</td>\n",
       "      <td>EAGLE HOME MORTGAGE, LLC</td>\n",
       "      <td>latino</td>\n",
       "      <td>2837.0</td>\n",
       "      <td>1.388851e-14</td>\n",
       "      <td>2.124229</td>\n",
       "    </tr>\n",
       "    <tr>\n",
       "      <th>17</th>\n",
       "      <td>549300H3IZO24NSOO931</td>\n",
       "      <td>EAGLE HOME MORTGAGE, LLC</td>\n",
       "      <td>black</td>\n",
       "      <td>1281.0</td>\n",
       "      <td>3.007772e-11</td>\n",
       "      <td>2.301073</td>\n",
       "    </tr>\n",
       "    <tr>\n",
       "      <th>0</th>\n",
       "      <td>549300MGPZBLQDIL7538</td>\n",
       "      <td>FAIRWAY INDEPENDENT MORTGAGE CORPORATION</td>\n",
       "      <td>black</td>\n",
       "      <td>2014.0</td>\n",
       "      <td>1.438527e-10</td>\n",
       "      <td>2.091842</td>\n",
       "    </tr>\n",
       "    <tr>\n",
       "      <th>43</th>\n",
       "      <td>549300LYRWPSYPK6S325</td>\n",
       "      <td>FREEDOM MORTGAGE CORPORATION</td>\n",
       "      <td>latino</td>\n",
       "      <td>1043.0</td>\n",
       "      <td>1.885856e-05</td>\n",
       "      <td>2.243939</td>\n",
       "    </tr>\n",
       "    <tr>\n",
       "      <th>13</th>\n",
       "      <td>549300DD4R4SYK5RAQ92</td>\n",
       "      <td>MOVEMENT MORTGAGE, LLC</td>\n",
       "      <td>latino</td>\n",
       "      <td>2228.0</td>\n",
       "      <td>3.507122e-09</td>\n",
       "      <td>2.119191</td>\n",
       "    </tr>\n",
       "    <tr>\n",
       "      <th>12</th>\n",
       "      <td>549300DD4R4SYK5RAQ92</td>\n",
       "      <td>MOVEMENT MORTGAGE, LLC</td>\n",
       "      <td>black</td>\n",
       "      <td>1289.0</td>\n",
       "      <td>1.383497e-06</td>\n",
       "      <td>2.131013</td>\n",
       "    </tr>\n",
       "    <tr>\n",
       "      <th>33</th>\n",
       "      <td>5493003GQDUH26DNNH17</td>\n",
       "      <td>NAVY FEDERAL CREDIT UNION</td>\n",
       "      <td>black</td>\n",
       "      <td>1467.0</td>\n",
       "      <td>6.205845e-15</td>\n",
       "      <td>2.056585</td>\n",
       "    </tr>\n",
       "    <tr>\n",
       "      <th>32</th>\n",
       "      <td>5493004WMLN60ZJ2ON46</td>\n",
       "      <td>PULTE MORTGAGE LLC</td>\n",
       "      <td>latino</td>\n",
       "      <td>1296.0</td>\n",
       "      <td>9.610523e-05</td>\n",
       "      <td>2.156586</td>\n",
       "    </tr>\n",
       "  </tbody>\n",
       "</table>\n",
       "</div>"
      ],
      "text/plain": [
       "                     lei                           respondent_name  \\\n",
       "21  5493001SXWZ4OFP8Z903                DHI MORTGAGE COMPANY, LTD.   \n",
       "20  5493001SXWZ4OFP8Z903                DHI MORTGAGE COMPANY, LTD.   \n",
       "18  549300H3IZO24NSOO931                  EAGLE HOME MORTGAGE, LLC   \n",
       "17  549300H3IZO24NSOO931                  EAGLE HOME MORTGAGE, LLC   \n",
       "0   549300MGPZBLQDIL7538  FAIRWAY INDEPENDENT MORTGAGE CORPORATION   \n",
       "43  549300LYRWPSYPK6S325              FREEDOM MORTGAGE CORPORATION   \n",
       "13  549300DD4R4SYK5RAQ92                    MOVEMENT MORTGAGE, LLC   \n",
       "12  549300DD4R4SYK5RAQ92                    MOVEMENT MORTGAGE, LLC   \n",
       "33  5493003GQDUH26DNNH17                 NAVY FEDERAL CREDIT UNION   \n",
       "32  5493004WMLN60ZJ2ON46                        PULTE MORTGAGE LLC   \n",
       "\n",
       "   variable_name  total_count       p_value  odds_ratio  \n",
       "21        latino       2154.0  2.423503e-07    2.037769  \n",
       "20         black       1276.0  1.875910e-10    2.613202  \n",
       "18        latino       2837.0  1.388851e-14    2.124229  \n",
       "17         black       1281.0  3.007772e-11    2.301073  \n",
       "0          black       2014.0  1.438527e-10    2.091842  \n",
       "43        latino       1043.0  1.885856e-05    2.243939  \n",
       "13        latino       2228.0  3.507122e-09    2.119191  \n",
       "12         black       1289.0  1.383497e-06    2.131013  \n",
       "33         black       1467.0  6.205845e-15    2.056585  \n",
       "32        latino       1296.0  9.610523e-05    2.156586  "
      ]
     },
     "execution_count": 36,
     "metadata": {},
     "output_type": "execute_result"
    }
   ],
   "source": [
    "lender_results_df9 = lender_results_df8[(lender_results_df8['total_count'] >= 1000) & \\\n",
    "                                        (lender_results_df8['odds_ratio'] >= 1.95)].\\\n",
    "                      sort_values(by = ['odds_ratio'], ascending = False)\n",
    "\n",
    "print(lender_results_df9['lei'].nunique())\n",
    "\n",
    "lender_results_df9[['lei', 'respondent_name', 'variable_name', 'total_count', 'p_value', 'odds_ratio']].\\\n",
    "sort_values(by = ['respondent_name', 'odds_ratio'])"
   ]
  },
  {
   "cell_type": "code",
   "execution_count": 37,
   "id": "documented-capability",
   "metadata": {},
   "outputs": [],
   "source": [
    "lender_results_df9[['lei', 'respondent_name', 'variable_name', 'total_count', 'p_value', 'odds_ratio']].\\\n",
    "sort_values(by = ['respondent_name', 'odds_ratio']).\\\n",
    "to_csv('../../findings/lender_findings/1_lender_findings210823.csv', index = False)"
   ]
  },
  {
   "cell_type": "code",
   "execution_count": null,
   "id": "wrapped-avatar",
   "metadata": {},
   "outputs": [],
   "source": [
    "    "
   ]
  }
 ],
 "metadata": {
  "kernelspec": {
   "display_name": "Python 3",
   "language": "python",
   "name": "python3"
  },
  "language_info": {
   "codemirror_mode": {
    "name": "ipython",
    "version": 3
   },
   "file_extension": ".py",
   "mimetype": "text/x-python",
   "name": "python",
   "nbconvert_exporter": "python",
   "pygments_lexer": "ipython3",
   "version": "3.8.0"
  }
 },
 "nbformat": 4,
 "nbformat_minor": 5
}
