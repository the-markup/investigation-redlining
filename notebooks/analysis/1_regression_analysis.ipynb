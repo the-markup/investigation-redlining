{
 "cells": [
  {
   "cell_type": "code",
   "execution_count": 1,
   "id": "searching-money",
   "metadata": {},
   "outputs": [],
   "source": [
    "%load_ext autoreload\n",
    "%autoreload 2"
   ]
  },
  {
   "cell_type": "code",
   "execution_count": 2,
   "id": "incident-fighter",
   "metadata": {},
   "outputs": [],
   "source": [
    "import pandas as pd\n",
    "import numpy as np\n",
    "\n",
    "import sys\n",
    "sys.path.append('../..')\n",
    "\n",
    "from sklearn.metrics import confusion_matrix, accuracy_score\n",
    "from utils.use_regression import (create_dummy_vars, create_formula, run_regression, calculate_vif, \n",
    "                                  calcuate_confusion_matrix, convert_results_to_df)"
   ]
  },
  {
   "cell_type": "markdown",
   "id": "accepting-interim",
   "metadata": {},
   "source": [
    "### 1. Import Data"
   ]
  },
  {
   "cell_type": "code",
   "execution_count": 3,
   "id": "known-cedar",
   "metadata": {},
   "outputs": [
    {
     "name": "stdout",
     "output_type": "stream",
     "text": [
      "<class 'pandas.core.frame.DataFrame'>\n",
      "RangeIndex: 4529912 entries, 0 to 4529911\n",
      "Columns: 119 entries, activity_year to lmi_def\n",
      "dtypes: object(119)\n",
      "memory usage: 4.0+ GB\n"
     ]
    }
   ],
   "source": [
    "hmda19_df = pd.read_csv('../../data/hmda_lar/cleaned_data/2_hmda2019_210823.csv', dtype = str)\n",
    "\n",
    "hmda19_df.info()"
   ]
  },
  {
   "cell_type": "markdown",
   "id": "occasional-russian",
   "metadata": {},
   "source": [
    "### 2. Filter for Conventional Originations and Denials and where income is above 0"
   ]
  },
  {
   "cell_type": "code",
   "execution_count": 4,
   "id": "aggressive-sword",
   "metadata": {},
   "outputs": [
    {
     "name": "stdout",
     "output_type": "stream",
     "text": [
      "2677473\n"
     ]
    }
   ],
   "source": [
    "hmda19_df['income'] = pd.to_numeric(hmda19_df['income'])\n",
    "\n",
    "hmda19_df2 = hmda19_df[(hmda19_df['loan_type'] == '1') & (hmda19_df['income'] > 0) &\\\n",
    "                       ((hmda19_df['loan_outcome'] == '1') | (hmda19_df['loan_outcome'] == '3'))].copy()\n",
    "\n",
    "print(len(hmda19_df2))"
   ]
  },
  {
   "cell_type": "markdown",
   "id": "devoted-contributor",
   "metadata": {},
   "source": [
    "### 3. Create Dummy Variables for Regression\n",
    "\n",
    "#### Select columns for dummy variables"
   ]
  },
  {
   "cell_type": "code",
   "execution_count": 5,
   "id": "material-surgeon",
   "metadata": {},
   "outputs": [],
   "source": [
    "regression_cols = [{'loan_outcome': {'denied': ['3']}},\n",
    "                   \n",
    "                   ### Reference: White\n",
    "                   {'app_race_ethnicity': {'black': ['3'], 'latino': ['6'], 'asian': ['2'], 'native': ['1'],\n",
    "                                           'pac_islander': ['4'], 'race_na': ['7'], 'asian_cb': ['2', '4']}},\n",
    "                   \n",
    "                   ### Reference: Coapplicant\n",
    "                   {'co_applicant': {'no_coapplicant': ['2'], 'na_coapplicant': ['3']}},\n",
    "                   \n",
    "                   ### Reference: Male\n",
    "                   {'applicant_sex_cat': {'female': ['2'], 'sex_na': ['3', '6']}},\n",
    "                   \n",
    "                   ### Reference: Between 34-44 or Between 34-54\n",
    "                   {'applicant_age_cat': {'less_than25': ['1'], 'between25_34': ['2'], \n",
    "                                          'between45_54': ['4'], 'between55_64': ['5'], 'between65_74': ['6'],\n",
    "                                          'greater74': ['7'], 'age_na': ['8'],\n",
    "                                          'younger_than_34': ['1', '2'], 'older_than_55': ['5', '6', '7'],\n",
    "                                          'older_than65': ['6', '7']}},\n",
    "                   \n",
    "                   ### Reference: Bucket 2 & 3\n",
    "                   {'prop_value_cat': {'pvr_bucket1': ['1'], 'pvr_bucket4': ['4'], 'pvr_bucket5': ['5'], \n",
    "                                        'pvr_bucket6': ['6'], 'pvr_bucket_none': ['7']}},\n",
    "                   \n",
    "                   \n",
    "                   ### Reference: 30yr Mortgage\n",
    "                   {'mortgage_term': {'less30yrs_mortgage': ['2'], 'more30yrs_mortgage': ['3'], \n",
    "                                      'mortgage_term_na': ['4'], 'not30yr_mortgage': ['2', '3']}},\n",
    "                   \n",
    "                   ### Reference: TransUnion\n",
    "                   {'app_credit_model': {'equifax': ['1'], 'experian': ['2'], 'other_model': ['4', '6'], \n",
    "                                         'more_than_one': ['5'], 'model_na': ['7']}},\n",
    "                   \n",
    "                   {'dti_cat': {'dti_manageable': ['2'], 'dti_unmanageable': ['3'], \n",
    "                                'dti_struggling': ['4'], 'dti_na': ['5', '6']}},\n",
    "                   \n",
    "                   ### Reference: 20 pct downpayment\n",
    "                   {'downpayment_flag': {'less20pct_downpayment': ['2'],'downpayment_na': ['3', '5']}},\n",
    "                   \n",
    "                   ### Reference: Upper LMI\n",
    "                   {'lmi_def': {'low_lmi': ['1'], 'moderate_lmi': ['2'], 'middle_lmi': ['3'], 'na_lmi': ['5']}},\n",
    "                   \n",
    "                   ### Reference: White Cat 1\n",
    "                   {'diverse_def': {'white_cat2': ['2'], 'white_cat3': ['3'], 'white_cat4': ['4'], \n",
    "                                      'white_cat_na': ['0', '5']}},\n",
    "                   \n",
    "                   ### Reference: Banks\n",
    "                   {'lender_def': {'credit_union': ['2'], 'independent': ['3'],  'lender_na': ['4', '6']}},\n",
    "                   \n",
    "                   ### Reference: Desktop\n",
    "                   {'main_aus': {'non_desktop': ['2', '3', '4', '5', '6'], 'aus_na': ['7']}},\n",
    "                   \n",
    "                   ### Reference: 99th Percentile\n",
    "                   {'metro_percentile': {'metro_90th': ['9'], 'metro_80th': ['8'],\n",
    "                                         'metro_70th': ['7'], 'metro_60th': ['6'], 'metro_50th': ['5'],\n",
    "                                         'metro_40th': ['4'], 'metro_30th': ['3'], 'metro_20th': ['2'],\n",
    "                                         'metro_10th': ['1'], 'metro_less10th': ['0'], 'micro_area': ['111'],\n",
    "                                         'metro_none': ['000']}}]"
   ]
  },
  {
   "cell_type": "code",
   "execution_count": 6,
   "id": "southwest-kingdom",
   "metadata": {},
   "outputs": [],
   "source": [
    "continous_vars = ['income_log', 'loan_log', 'lar_count', 'property_value_ratio', 'prop_zscore']\n",
    "\n",
    "for continuous_var in continous_vars:\n",
    "    hmda19_df2[continuous_var] = pd.to_numeric(hmda19_df2[continuous_var])"
   ]
  },
  {
   "cell_type": "code",
   "execution_count": 7,
   "id": "embedded-colonial",
   "metadata": {},
   "outputs": [],
   "source": [
    "for columns in regression_cols:\n",
    "    ### Function to create dummy variables\n",
    "    hmda19_df2 = create_dummy_vars(hmda19_df2, columns)"
   ]
  },
  {
   "cell_type": "markdown",
   "id": "agricultural-disco",
   "metadata": {},
   "source": [
    "#### Independent Variables"
   ]
  },
  {
   "cell_type": "code",
   "execution_count": 8,
   "id": "micro-power",
   "metadata": {},
   "outputs": [
    {
     "name": "stdout",
     "output_type": "stream",
     "text": [
      "62\n"
     ]
    }
   ],
   "source": [
    "variables = ['black', 'latino', 'asian_cb', 'native', 'race_na',\n",
    "             'no_coapplicant', 'na_coapplicant',\n",
    "             'female', 'sex_na',\n",
    "             'less_than25', 'between25_34', 'between45_54', 'between55_64', 'older_than65', 'age_na',\n",
    "             'income_log', 'loan_log',\n",
    "             'pvr_bucket1', 'pvr_bucket4', 'pvr_bucket5', 'pvr_bucket6', 'pvr_bucket_none',\n",
    "             'less30yrs_mortgage', 'more30yrs_mortgage', 'mortgage_term_na',\n",
    "             'equifax', 'experian', 'other_model', 'more_than_one', 'model_na',\n",
    "             'dti_manageable', 'dti_unmanageable', 'dti_struggling', 'dti_na',\n",
    "             'less20pct_downpayment','downpayment_na',\n",
    "             'moderate_lmi', 'middle_lmi', 'low_lmi', 'na_lmi',\n",
    "             'credit_union', 'independent',  'lender_na',\n",
    "             'lar_count',\n",
    "             'non_desktop', 'aus_na',\n",
    "             'white_cat2', 'white_cat3', 'white_cat4', 'white_cat_na',\n",
    "             'metro_90th', 'metro_80th', 'metro_70th', 'metro_60th', 'metro_50th', 'metro_40th', \n",
    "             'metro_30th', 'metro_20th', 'metro_10th', 'metro_less10th', 'micro_area', 'metro_none']\n",
    "\n",
    "print(len(variables))"
   ]
  },
  {
   "cell_type": "markdown",
   "id": "conscious-titanium",
   "metadata": {},
   "source": [
    "### 2. Run Collinearity Test"
   ]
  },
  {
   "cell_type": "code",
   "execution_count": 9,
   "id": "normal-battle",
   "metadata": {},
   "outputs": [
    {
     "name": "stderr",
     "output_type": "stream",
     "text": [
      "100%|██████████| 62/62 [33:03<00:00, 32.00s/it]\n"
     ]
    }
   ],
   "source": [
    "hmda_independent_vars = hmda19_df2[variables]\n",
    "\n",
    "vif_df = calculate_vif(hmda_independent_vars)"
   ]
  },
  {
   "cell_type": "markdown",
   "id": "difficult-making",
   "metadata": {},
   "source": [
    "#### Varibales that are above the 2.5 threshold"
   ]
  },
  {
   "cell_type": "code",
   "execution_count": 10,
   "id": "active-standard",
   "metadata": {},
   "outputs": [
    {
     "data": {
      "text/html": [
       "<div>\n",
       "<style scoped>\n",
       "    .dataframe tbody tr th:only-of-type {\n",
       "        vertical-align: middle;\n",
       "    }\n",
       "\n",
       "    .dataframe tbody tr th {\n",
       "        vertical-align: top;\n",
       "    }\n",
       "\n",
       "    .dataframe thead th {\n",
       "        text-align: right;\n",
       "    }\n",
       "</style>\n",
       "<table border=\"1\" class=\"dataframe\">\n",
       "  <thead>\n",
       "    <tr style=\"text-align: right;\">\n",
       "      <th></th>\n",
       "      <th>independent_var</th>\n",
       "      <th>vif</th>\n",
       "      <th>threshold</th>\n",
       "    </tr>\n",
       "  </thead>\n",
       "  <tbody>\n",
       "    <tr>\n",
       "      <th>21</th>\n",
       "      <td>pvr_bucket_none</td>\n",
       "      <td>8.63</td>\n",
       "      <td>1</td>\n",
       "    </tr>\n",
       "    <tr>\n",
       "      <th>33</th>\n",
       "      <td>dti_na</td>\n",
       "      <td>7.86</td>\n",
       "      <td>1</td>\n",
       "    </tr>\n",
       "    <tr>\n",
       "      <th>49</th>\n",
       "      <td>white_cat_na</td>\n",
       "      <td>7.66</td>\n",
       "      <td>1</td>\n",
       "    </tr>\n",
       "    <tr>\n",
       "      <th>39</th>\n",
       "      <td>na_lmi</td>\n",
       "      <td>6.72</td>\n",
       "      <td>1</td>\n",
       "    </tr>\n",
       "    <tr>\n",
       "      <th>24</th>\n",
       "      <td>mortgage_term_na</td>\n",
       "      <td>5.38</td>\n",
       "      <td>1</td>\n",
       "    </tr>\n",
       "    <tr>\n",
       "      <th>35</th>\n",
       "      <td>downpayment_na</td>\n",
       "      <td>3.97</td>\n",
       "      <td>1</td>\n",
       "    </tr>\n",
       "    <tr>\n",
       "      <th>16</th>\n",
       "      <td>loan_log</td>\n",
       "      <td>3.09</td>\n",
       "      <td>1</td>\n",
       "    </tr>\n",
       "    <tr>\n",
       "      <th>15</th>\n",
       "      <td>income_log</td>\n",
       "      <td>2.98</td>\n",
       "      <td>1</td>\n",
       "    </tr>\n",
       "    <tr>\n",
       "      <th>50</th>\n",
       "      <td>metro_90th</td>\n",
       "      <td>2.93</td>\n",
       "      <td>1</td>\n",
       "    </tr>\n",
       "  </tbody>\n",
       "</table>\n",
       "</div>"
      ],
      "text/plain": [
       "     independent_var   vif threshold\n",
       "21   pvr_bucket_none  8.63         1\n",
       "33            dti_na  7.86         1\n",
       "49      white_cat_na  7.66         1\n",
       "39            na_lmi  6.72         1\n",
       "24  mortgage_term_na  5.38         1\n",
       "35    downpayment_na  3.97         1\n",
       "16          loan_log  3.09         1\n",
       "15        income_log  2.98         1\n",
       "50        metro_90th  2.93         1"
      ]
     },
     "execution_count": 10,
     "metadata": {},
     "output_type": "execute_result"
    }
   ],
   "source": [
    "vif_df[(vif_df['threshold'] == '1')].sort_values(by = ['vif'], ascending = False)"
   ]
  },
  {
   "cell_type": "markdown",
   "id": "hungry-review",
   "metadata": {},
   "source": [
    "#### Remove variables with high VIFs\n",
    "- Keeping income, loan and metro_90th"
   ]
  },
  {
   "cell_type": "code",
   "execution_count": 11,
   "id": "destroyed-breed",
   "metadata": {},
   "outputs": [],
   "source": [
    "to_keep = ['income_log', 'loan_log', 'metro_90th']\n",
    "\n",
    "highvif_vars = vif_df[(vif_df['threshold'] == '1') & ~(vif_df['independent_var'].isin(to_keep))]\\\n",
    "              ['independent_var'].unique().tolist()\n",
    "\n",
    "variables2 = [var for var in variables if var not in highvif_vars]"
   ]
  },
  {
   "cell_type": "markdown",
   "id": "flush-width",
   "metadata": {},
   "source": [
    "### 3. Filter Out High Vif Variables\n",
    "- Property Value Ratios NA\n",
    "- Mortgage Term NA\n",
    "- DTI NA\n",
    "- Downpayment NA\n",
    "- NA Lmi\n",
    "- White Cat NA"
   ]
  },
  {
   "cell_type": "code",
   "execution_count": 12,
   "id": "exotic-indonesia",
   "metadata": {},
   "outputs": [
    {
     "name": "stdout",
     "output_type": "stream",
     "text": [
      "2498421\n"
     ]
    }
   ],
   "source": [
    "hmda19_df3 = hmda19_df2[(hmda19_df2['prop_value_cat'] != '7') & (hmda19_df2['mortgage_term'] != '4') &\\\n",
    "                        (hmda19_df2['dti_cat'] != '5') & (hmda19_df2['dti_cat'] != '6') &\\\n",
    "                        (hmda19_df2['downpayment_flag'] != '3') & (hmda19_df2['lmi_def'] != '5') &\\\n",
    "                        (hmda19_df2['diverse_def'] != '0') & (hmda19_df2['diverse_def'] != '5')].copy()\n",
    "\n",
    "print(len(hmda19_df3))"
   ]
  },
  {
   "cell_type": "markdown",
   "id": "vanilla-blend",
   "metadata": {},
   "source": [
    "#### Also filtering out CLTV above 100"
   ]
  },
  {
   "cell_type": "code",
   "execution_count": 13,
   "id": "committed-doctrine",
   "metadata": {},
   "outputs": [
    {
     "name": "stdout",
     "output_type": "stream",
     "text": [
      "2433071\n"
     ]
    }
   ],
   "source": [
    "hmda19_df3['combined_loan_to_value_ratio'] = pd.to_numeric(hmda19_df3['combined_loan_to_value_ratio'])\n",
    "\n",
    "hmda19_df4 = hmda19_df3[(hmda19_df3['combined_loan_to_value_ratio'] <= 100)]\n",
    "\n",
    "print(len(hmda19_df4))"
   ]
  },
  {
   "cell_type": "markdown",
   "id": "fleet-barbados",
   "metadata": {},
   "source": [
    "#### Replace variables"
   ]
  },
  {
   "cell_type": "code",
   "execution_count": 14,
   "id": "naughty-funeral",
   "metadata": {},
   "outputs": [],
   "source": [
    "# high_vif_vars = ['pvr_bucket_none', 'mortgage_term_na', 'dti_na', 'downpayment_na', 'na_lmi', 'white_cat_na']\n",
    "\n",
    "vars_to_removes = ['pvr_bucket1', 'pvr_bucket4', 'pvr_bucket5', 'pvr_bucket6', 'less20pct_downpayment']\n",
    "\n",
    "variables3 = [var for var in variables2 if var not in vars_to_removes]\n",
    "variables3.insert(17, 'property_value_ratio')\n",
    "variables3.insert(28, 'combined_loan_to_value_ratio')"
   ]
  },
  {
   "cell_type": "markdown",
   "id": "structured-affairs",
   "metadata": {},
   "source": [
    "#### Variables to use"
   ]
  },
  {
   "cell_type": "code",
   "execution_count": 15,
   "id": "martial-wesley",
   "metadata": {},
   "outputs": [
    {
     "data": {
      "text/plain": [
       "0                            black\n",
       "1                           latino\n",
       "2                         asian_cb\n",
       "3                           native\n",
       "4                          race_na\n",
       "5                   no_coapplicant\n",
       "6                   na_coapplicant\n",
       "7                           female\n",
       "8                           sex_na\n",
       "9                      less_than25\n",
       "10                    between25_34\n",
       "11                    between45_54\n",
       "12                    between55_64\n",
       "13                    older_than65\n",
       "14                          age_na\n",
       "15                      income_log\n",
       "16                        loan_log\n",
       "17            property_value_ratio\n",
       "18              less30yrs_mortgage\n",
       "19              more30yrs_mortgage\n",
       "20                         equifax\n",
       "21                        experian\n",
       "22                     other_model\n",
       "23                   more_than_one\n",
       "24                        model_na\n",
       "25                  dti_manageable\n",
       "26                dti_unmanageable\n",
       "27                  dti_struggling\n",
       "28    combined_loan_to_value_ratio\n",
       "29                    moderate_lmi\n",
       "30                      middle_lmi\n",
       "31                         low_lmi\n",
       "32                    credit_union\n",
       "33                     independent\n",
       "34                       lender_na\n",
       "35                       lar_count\n",
       "36                     non_desktop\n",
       "37                          aus_na\n",
       "38                      white_cat2\n",
       "39                      white_cat3\n",
       "40                      white_cat4\n",
       "41                      metro_90th\n",
       "42                      metro_80th\n",
       "43                      metro_70th\n",
       "44                      metro_60th\n",
       "45                      metro_50th\n",
       "46                      metro_40th\n",
       "47                      metro_30th\n",
       "48                      metro_20th\n",
       "49                      metro_10th\n",
       "50                  metro_less10th\n",
       "51                      micro_area\n",
       "52                      metro_none\n",
       "dtype: object"
      ]
     },
     "execution_count": 15,
     "metadata": {},
     "output_type": "execute_result"
    }
   ],
   "source": [
    "pd.Series(variables3)"
   ]
  },
  {
   "cell_type": "markdown",
   "id": "cubic-invasion",
   "metadata": {},
   "source": [
    "### 4. Run Regression\n",
    "#### Regression Formula"
   ]
  },
  {
   "cell_type": "code",
   "execution_count": 16,
   "id": "comfortable-communication",
   "metadata": {},
   "outputs": [
    {
     "data": {
      "text/plain": [
       "'denied ~ black + latino + asian_cb + native + race_na + no_coapplicant + na_coapplicant + female + sex_na + less_than25 + between25_34 + between45_54 + between55_64 + older_than65 + age_na + income_log + loan_log + property_value_ratio + less30yrs_mortgage + more30yrs_mortgage + equifax + experian + other_model + more_than_one + model_na + dti_manageable + dti_unmanageable + dti_struggling + combined_loan_to_value_ratio + moderate_lmi + middle_lmi + low_lmi + credit_union + independent + lender_na + lar_count + non_desktop + aus_na + white_cat2 + white_cat3 + white_cat4 + metro_90th + metro_80th + metro_70th + metro_60th + metro_50th + metro_40th + metro_30th + metro_20th + metro_10th + metro_less10th + micro_area + metro_none'"
      ]
     },
     "execution_count": 16,
     "metadata": {},
     "output_type": "execute_result"
    }
   ],
   "source": [
    "regression_formula = create_formula(variables3)\n",
    "regression_formula"
   ]
  },
  {
   "cell_type": "code",
   "execution_count": 17,
   "id": "novel-study",
   "metadata": {},
   "outputs": [
    {
     "name": "stdout",
     "output_type": "stream",
     "text": [
      "Number of records: 2433071\n"
     ]
    }
   ],
   "source": [
    "print('Number of records: ' + str(len(hmda19_df4)))"
   ]
  },
  {
   "cell_type": "code",
   "execution_count": 21,
   "id": "aging-vegetation",
   "metadata": {},
   "outputs": [
    {
     "name": "stdout",
     "output_type": "stream",
     "text": [
      "Optimization terminated successfully.\n",
      "         Current function value: 0.189819\n",
      "         Iterations 8\n"
     ]
    },
    {
     "data": {
      "text/html": [
       "<table class=\"simpletable\">\n",
       "<caption>Logit Regression Results</caption>\n",
       "<tr>\n",
       "  <th>Dep. Variable:</th>        <td>denied</td>      <th>  No. Observations:  </th>   <td>2433071</td>  \n",
       "</tr>\n",
       "<tr>\n",
       "  <th>Model:</th>                 <td>Logit</td>      <th>  Df Residuals:      </th>   <td>2433017</td>  \n",
       "</tr>\n",
       "<tr>\n",
       "  <th>Method:</th>                 <td>MLE</td>       <th>  Df Model:          </th>   <td>    53</td>   \n",
       "</tr>\n",
       "<tr>\n",
       "  <th>Date:</th>            <td>Tue, 24 Aug 2021</td> <th>  Pseudo R-squ.:     </th>   <td>0.2256</td>   \n",
       "</tr>\n",
       "<tr>\n",
       "  <th>Time:</th>                <td>05:56:02</td>     <th>  Log-Likelihood:    </th> <td>-4.6184e+05</td>\n",
       "</tr>\n",
       "<tr>\n",
       "  <th>converged:</th>             <td>True</td>       <th>  LL-Null:           </th> <td>-5.9636e+05</td>\n",
       "</tr>\n",
       "<tr>\n",
       "  <th>Covariance Type:</th>     <td>nonrobust</td>    <th>  LLR p-value:       </th>   <td> 0.000</td>   \n",
       "</tr>\n",
       "</table>\n",
       "<table class=\"simpletable\">\n",
       "<tr>\n",
       "                <td></td>                  <th>coef</th>     <th>std err</th>      <th>z</th>      <th>P>|z|</th>  <th>[0.025</th>    <th>0.975]</th>  \n",
       "</tr>\n",
       "<tr>\n",
       "  <th>Intercept</th>                    <td>   -8.2670</td> <td>    0.228</td> <td>  -36.282</td> <td> 0.000</td> <td>   -8.714</td> <td>   -7.820</td>\n",
       "</tr>\n",
       "<tr>\n",
       "  <th>black</th>                        <td>    0.6017</td> <td>    0.012</td> <td>   49.182</td> <td> 0.000</td> <td>    0.578</td> <td>    0.626</td>\n",
       "</tr>\n",
       "<tr>\n",
       "  <th>latino</th>                       <td>    0.3688</td> <td>    0.010</td> <td>   37.397</td> <td> 0.000</td> <td>    0.349</td> <td>    0.388</td>\n",
       "</tr>\n",
       "<tr>\n",
       "  <th>asian_cb</th>                     <td>    0.3841</td> <td>    0.011</td> <td>   35.651</td> <td> 0.000</td> <td>    0.363</td> <td>    0.405</td>\n",
       "</tr>\n",
       "<tr>\n",
       "  <th>native</th>                       <td>    0.5083</td> <td>    0.041</td> <td>   12.364</td> <td> 0.000</td> <td>    0.428</td> <td>    0.589</td>\n",
       "</tr>\n",
       "<tr>\n",
       "  <th>race_na</th>                      <td>    0.3448</td> <td>    0.012</td> <td>   28.135</td> <td> 0.000</td> <td>    0.321</td> <td>    0.369</td>\n",
       "</tr>\n",
       "<tr>\n",
       "  <th>no_coapplicant</th>               <td>    0.2178</td> <td>    0.007</td> <td>   32.756</td> <td> 0.000</td> <td>    0.205</td> <td>    0.231</td>\n",
       "</tr>\n",
       "<tr>\n",
       "  <th>na_coapplicant</th>               <td>   -0.0773</td> <td>    0.079</td> <td>   -0.975</td> <td> 0.329</td> <td>   -0.233</td> <td>    0.078</td>\n",
       "</tr>\n",
       "<tr>\n",
       "  <th>female</th>                       <td>   -0.0744</td> <td>    0.007</td> <td>  -11.380</td> <td> 0.000</td> <td>   -0.087</td> <td>   -0.062</td>\n",
       "</tr>\n",
       "<tr>\n",
       "  <th>sex_na</th>                       <td>    0.0453</td> <td>    0.015</td> <td>    2.966</td> <td> 0.003</td> <td>    0.015</td> <td>    0.075</td>\n",
       "</tr>\n",
       "<tr>\n",
       "  <th>less_than25</th>                  <td>   -0.0219</td> <td>    0.015</td> <td>   -1.476</td> <td> 0.140</td> <td>   -0.051</td> <td>    0.007</td>\n",
       "</tr>\n",
       "<tr>\n",
       "  <th>between25_34</th>                 <td>   -0.2004</td> <td>    0.008</td> <td>  -24.734</td> <td> 0.000</td> <td>   -0.216</td> <td>   -0.185</td>\n",
       "</tr>\n",
       "<tr>\n",
       "  <th>between45_54</th>                 <td>    0.1582</td> <td>    0.009</td> <td>   18.272</td> <td> 0.000</td> <td>    0.141</td> <td>    0.175</td>\n",
       "</tr>\n",
       "<tr>\n",
       "  <th>between55_64</th>                 <td>    0.0918</td> <td>    0.010</td> <td>    9.172</td> <td> 0.000</td> <td>    0.072</td> <td>    0.111</td>\n",
       "</tr>\n",
       "<tr>\n",
       "  <th>older_than65</th>                 <td>   -0.0809</td> <td>    0.012</td> <td>   -6.535</td> <td> 0.000</td> <td>   -0.105</td> <td>   -0.057</td>\n",
       "</tr>\n",
       "<tr>\n",
       "  <th>age_na</th>                       <td>    1.6525</td> <td>    0.130</td> <td>   12.759</td> <td> 0.000</td> <td>    1.399</td> <td>    1.906</td>\n",
       "</tr>\n",
       "<tr>\n",
       "  <th>income_log</th>                   <td>   -0.0148</td> <td>    0.007</td> <td>   -2.190</td> <td> 0.028</td> <td>   -0.028</td> <td>   -0.002</td>\n",
       "</tr>\n",
       "<tr>\n",
       "  <th>loan_log</th>                     <td>    0.3627</td> <td>    0.007</td> <td>   53.158</td> <td> 0.000</td> <td>    0.349</td> <td>    0.376</td>\n",
       "</tr>\n",
       "<tr>\n",
       "  <th>property_value_ratio</th>         <td>   -0.0002</td> <td>    0.000</td> <td>   -1.190</td> <td> 0.234</td> <td>   -0.001</td> <td>    0.000</td>\n",
       "</tr>\n",
       "<tr>\n",
       "  <th>less30yrs_mortgage</th>           <td>   -0.1585</td> <td>    0.012</td> <td>  -13.761</td> <td> 0.000</td> <td>   -0.181</td> <td>   -0.136</td>\n",
       "</tr>\n",
       "<tr>\n",
       "  <th>more30yrs_mortgage</th>           <td>    0.3967</td> <td>    0.023</td> <td>   16.923</td> <td> 0.000</td> <td>    0.351</td> <td>    0.443</td>\n",
       "</tr>\n",
       "<tr>\n",
       "  <th>equifax</th>                      <td>   -0.0123</td> <td>    0.008</td> <td>   -1.635</td> <td> 0.102</td> <td>   -0.027</td> <td>    0.002</td>\n",
       "</tr>\n",
       "<tr>\n",
       "  <th>experian</th>                     <td>    0.0583</td> <td>    0.008</td> <td>    7.346</td> <td> 0.000</td> <td>    0.043</td> <td>    0.074</td>\n",
       "</tr>\n",
       "<tr>\n",
       "  <th>other_model</th>                  <td>    0.4128</td> <td>    0.019</td> <td>   22.254</td> <td> 0.000</td> <td>    0.376</td> <td>    0.449</td>\n",
       "</tr>\n",
       "<tr>\n",
       "  <th>more_than_one</th>                <td>   -0.2803</td> <td>    0.018</td> <td>  -15.503</td> <td> 0.000</td> <td>   -0.316</td> <td>   -0.245</td>\n",
       "</tr>\n",
       "<tr>\n",
       "  <th>model_na</th>                     <td>    0.2611</td> <td>    0.012</td> <td>   21.880</td> <td> 0.000</td> <td>    0.238</td> <td>    0.285</td>\n",
       "</tr>\n",
       "<tr>\n",
       "  <th>dti_manageable</th>               <td>   -0.0016</td> <td>    0.008</td> <td>   -0.197</td> <td> 0.844</td> <td>   -0.017</td> <td>    0.014</td>\n",
       "</tr>\n",
       "<tr>\n",
       "  <th>dti_unmanageable</th>             <td>    0.3669</td> <td>    0.008</td> <td>   44.972</td> <td> 0.000</td> <td>    0.351</td> <td>    0.383</td>\n",
       "</tr>\n",
       "<tr>\n",
       "  <th>dti_struggling</th>               <td>    3.8197</td> <td>    0.011</td> <td>  355.842</td> <td> 0.000</td> <td>    3.799</td> <td>    3.841</td>\n",
       "</tr>\n",
       "<tr>\n",
       "  <th>combined_loan_to_value_ratio</th> <td>   -0.0093</td> <td>    0.000</td> <td>  -42.184</td> <td> 0.000</td> <td>   -0.010</td> <td>   -0.009</td>\n",
       "</tr>\n",
       "<tr>\n",
       "  <th>moderate_lmi</th>                 <td>    0.0849</td> <td>    0.010</td> <td>    8.484</td> <td> 0.000</td> <td>    0.065</td> <td>    0.105</td>\n",
       "</tr>\n",
       "<tr>\n",
       "  <th>middle_lmi</th>                   <td>    0.0215</td> <td>    0.007</td> <td>    3.087</td> <td> 0.002</td> <td>    0.008</td> <td>    0.035</td>\n",
       "</tr>\n",
       "<tr>\n",
       "  <th>low_lmi</th>                      <td>    0.1645</td> <td>    0.019</td> <td>    8.546</td> <td> 0.000</td> <td>    0.127</td> <td>    0.202</td>\n",
       "</tr>\n",
       "<tr>\n",
       "  <th>credit_union</th>                 <td>   -0.1010</td> <td>    0.011</td> <td>   -8.905</td> <td> 0.000</td> <td>   -0.123</td> <td>   -0.079</td>\n",
       "</tr>\n",
       "<tr>\n",
       "  <th>independent</th>                  <td>   -0.1097</td> <td>    0.007</td> <td>  -16.146</td> <td> 0.000</td> <td>   -0.123</td> <td>   -0.096</td>\n",
       "</tr>\n",
       "<tr>\n",
       "  <th>lender_na</th>                    <td>   -0.4714</td> <td>    0.075</td> <td>   -6.296</td> <td> 0.000</td> <td>   -0.618</td> <td>   -0.325</td>\n",
       "</tr>\n",
       "<tr>\n",
       "  <th>lar_count</th>                    <td> -1.16e-06</td> <td> 1.01e-08</td> <td> -115.376</td> <td> 0.000</td> <td>-1.18e-06</td> <td>-1.14e-06</td>\n",
       "</tr>\n",
       "<tr>\n",
       "  <th>non_desktop</th>                  <td>   -0.0491</td> <td>    0.007</td> <td>   -6.869</td> <td> 0.000</td> <td>   -0.063</td> <td>   -0.035</td>\n",
       "</tr>\n",
       "<tr>\n",
       "  <th>aus_na</th>                       <td>    1.2728</td> <td>    0.009</td> <td>  149.420</td> <td> 0.000</td> <td>    1.256</td> <td>    1.289</td>\n",
       "</tr>\n",
       "<tr>\n",
       "  <th>white_cat2</th>                   <td>    0.0904</td> <td>    0.007</td> <td>   12.217</td> <td> 0.000</td> <td>    0.076</td> <td>    0.105</td>\n",
       "</tr>\n",
       "<tr>\n",
       "  <th>white_cat3</th>                   <td>    0.1909</td> <td>    0.010</td> <td>   19.699</td> <td> 0.000</td> <td>    0.172</td> <td>    0.210</td>\n",
       "</tr>\n",
       "<tr>\n",
       "  <th>white_cat4</th>                   <td>    0.3504</td> <td>    0.012</td> <td>   28.735</td> <td> 0.000</td> <td>    0.326</td> <td>    0.374</td>\n",
       "</tr>\n",
       "<tr>\n",
       "  <th>metro_90th</th>                   <td>   -0.1500</td> <td>    0.010</td> <td>  -15.759</td> <td> 0.000</td> <td>   -0.169</td> <td>   -0.131</td>\n",
       "</tr>\n",
       "<tr>\n",
       "  <th>metro_80th</th>                   <td>   -0.1820</td> <td>    0.011</td> <td>  -16.186</td> <td> 0.000</td> <td>   -0.204</td> <td>   -0.160</td>\n",
       "</tr>\n",
       "<tr>\n",
       "  <th>metro_70th</th>                   <td>   -0.2087</td> <td>    0.013</td> <td>  -15.807</td> <td> 0.000</td> <td>   -0.235</td> <td>   -0.183</td>\n",
       "</tr>\n",
       "<tr>\n",
       "  <th>metro_60th</th>                   <td>   -0.1572</td> <td>    0.016</td> <td>  -10.018</td> <td> 0.000</td> <td>   -0.188</td> <td>   -0.126</td>\n",
       "</tr>\n",
       "<tr>\n",
       "  <th>metro_50th</th>                   <td>   -0.2226</td> <td>    0.018</td> <td>  -12.153</td> <td> 0.000</td> <td>   -0.259</td> <td>   -0.187</td>\n",
       "</tr>\n",
       "<tr>\n",
       "  <th>metro_40th</th>                   <td>   -0.3255</td> <td>    0.022</td> <td>  -15.070</td> <td> 0.000</td> <td>   -0.368</td> <td>   -0.283</td>\n",
       "</tr>\n",
       "<tr>\n",
       "  <th>metro_30th</th>                   <td>   -0.2400</td> <td>    0.023</td> <td>  -10.373</td> <td> 0.000</td> <td>   -0.285</td> <td>   -0.195</td>\n",
       "</tr>\n",
       "<tr>\n",
       "  <th>metro_20th</th>                   <td>   -0.1909</td> <td>    0.026</td> <td>   -7.238</td> <td> 0.000</td> <td>   -0.243</td> <td>   -0.139</td>\n",
       "</tr>\n",
       "<tr>\n",
       "  <th>metro_10th</th>                   <td>   -0.2651</td> <td>    0.029</td> <td>   -9.004</td> <td> 0.000</td> <td>   -0.323</td> <td>   -0.207</td>\n",
       "</tr>\n",
       "<tr>\n",
       "  <th>metro_less10th</th>               <td>   -0.2306</td> <td>    0.035</td> <td>   -6.611</td> <td> 0.000</td> <td>   -0.299</td> <td>   -0.162</td>\n",
       "</tr>\n",
       "<tr>\n",
       "  <th>micro_area</th>                   <td>    0.0050</td> <td>    0.015</td> <td>    0.326</td> <td> 0.745</td> <td>   -0.025</td> <td>    0.035</td>\n",
       "</tr>\n",
       "<tr>\n",
       "  <th>metro_none</th>                   <td>    0.2510</td> <td>    0.018</td> <td>   13.667</td> <td> 0.000</td> <td>    0.215</td> <td>    0.287</td>\n",
       "</tr>\n",
       "</table>"
      ],
      "text/plain": [
       "<class 'statsmodels.iolib.summary.Summary'>\n",
       "\"\"\"\n",
       "                           Logit Regression Results                           \n",
       "==============================================================================\n",
       "Dep. Variable:                 denied   No. Observations:              2433071\n",
       "Model:                          Logit   Df Residuals:                  2433017\n",
       "Method:                           MLE   Df Model:                           53\n",
       "Date:                Tue, 24 Aug 2021   Pseudo R-squ.:                  0.2256\n",
       "Time:                        05:56:02   Log-Likelihood:            -4.6184e+05\n",
       "converged:                       True   LL-Null:                   -5.9636e+05\n",
       "Covariance Type:            nonrobust   LLR p-value:                     0.000\n",
       "================================================================================================\n",
       "                                   coef    std err          z      P>|z|      [0.025      0.975]\n",
       "------------------------------------------------------------------------------------------------\n",
       "Intercept                       -8.2670      0.228    -36.282      0.000      -8.714      -7.820\n",
       "black                            0.6017      0.012     49.182      0.000       0.578       0.626\n",
       "latino                           0.3688      0.010     37.397      0.000       0.349       0.388\n",
       "asian_cb                         0.3841      0.011     35.651      0.000       0.363       0.405\n",
       "native                           0.5083      0.041     12.364      0.000       0.428       0.589\n",
       "race_na                          0.3448      0.012     28.135      0.000       0.321       0.369\n",
       "no_coapplicant                   0.2178      0.007     32.756      0.000       0.205       0.231\n",
       "na_coapplicant                  -0.0773      0.079     -0.975      0.329      -0.233       0.078\n",
       "female                          -0.0744      0.007    -11.380      0.000      -0.087      -0.062\n",
       "sex_na                           0.0453      0.015      2.966      0.003       0.015       0.075\n",
       "less_than25                     -0.0219      0.015     -1.476      0.140      -0.051       0.007\n",
       "between25_34                    -0.2004      0.008    -24.734      0.000      -0.216      -0.185\n",
       "between45_54                     0.1582      0.009     18.272      0.000       0.141       0.175\n",
       "between55_64                     0.0918      0.010      9.172      0.000       0.072       0.111\n",
       "older_than65                    -0.0809      0.012     -6.535      0.000      -0.105      -0.057\n",
       "age_na                           1.6525      0.130     12.759      0.000       1.399       1.906\n",
       "income_log                      -0.0148      0.007     -2.190      0.028      -0.028      -0.002\n",
       "loan_log                         0.3627      0.007     53.158      0.000       0.349       0.376\n",
       "property_value_ratio            -0.0002      0.000     -1.190      0.234      -0.001       0.000\n",
       "less30yrs_mortgage              -0.1585      0.012    -13.761      0.000      -0.181      -0.136\n",
       "more30yrs_mortgage               0.3967      0.023     16.923      0.000       0.351       0.443\n",
       "equifax                         -0.0123      0.008     -1.635      0.102      -0.027       0.002\n",
       "experian                         0.0583      0.008      7.346      0.000       0.043       0.074\n",
       "other_model                      0.4128      0.019     22.254      0.000       0.376       0.449\n",
       "more_than_one                   -0.2803      0.018    -15.503      0.000      -0.316      -0.245\n",
       "model_na                         0.2611      0.012     21.880      0.000       0.238       0.285\n",
       "dti_manageable                  -0.0016      0.008     -0.197      0.844      -0.017       0.014\n",
       "dti_unmanageable                 0.3669      0.008     44.972      0.000       0.351       0.383\n",
       "dti_struggling                   3.8197      0.011    355.842      0.000       3.799       3.841\n",
       "combined_loan_to_value_ratio    -0.0093      0.000    -42.184      0.000      -0.010      -0.009\n",
       "moderate_lmi                     0.0849      0.010      8.484      0.000       0.065       0.105\n",
       "middle_lmi                       0.0215      0.007      3.087      0.002       0.008       0.035\n",
       "low_lmi                          0.1645      0.019      8.546      0.000       0.127       0.202\n",
       "credit_union                    -0.1010      0.011     -8.905      0.000      -0.123      -0.079\n",
       "independent                     -0.1097      0.007    -16.146      0.000      -0.123      -0.096\n",
       "lender_na                       -0.4714      0.075     -6.296      0.000      -0.618      -0.325\n",
       "lar_count                     -1.16e-06   1.01e-08   -115.376      0.000   -1.18e-06   -1.14e-06\n",
       "non_desktop                     -0.0491      0.007     -6.869      0.000      -0.063      -0.035\n",
       "aus_na                           1.2728      0.009    149.420      0.000       1.256       1.289\n",
       "white_cat2                       0.0904      0.007     12.217      0.000       0.076       0.105\n",
       "white_cat3                       0.1909      0.010     19.699      0.000       0.172       0.210\n",
       "white_cat4                       0.3504      0.012     28.735      0.000       0.326       0.374\n",
       "metro_90th                      -0.1500      0.010    -15.759      0.000      -0.169      -0.131\n",
       "metro_80th                      -0.1820      0.011    -16.186      0.000      -0.204      -0.160\n",
       "metro_70th                      -0.2087      0.013    -15.807      0.000      -0.235      -0.183\n",
       "metro_60th                      -0.1572      0.016    -10.018      0.000      -0.188      -0.126\n",
       "metro_50th                      -0.2226      0.018    -12.153      0.000      -0.259      -0.187\n",
       "metro_40th                      -0.3255      0.022    -15.070      0.000      -0.368      -0.283\n",
       "metro_30th                      -0.2400      0.023    -10.373      0.000      -0.285      -0.195\n",
       "metro_20th                      -0.1909      0.026     -7.238      0.000      -0.243      -0.139\n",
       "metro_10th                      -0.2651      0.029     -9.004      0.000      -0.323      -0.207\n",
       "metro_less10th                  -0.2306      0.035     -6.611      0.000      -0.299      -0.162\n",
       "micro_area                       0.0050      0.015      0.326      0.745      -0.025       0.035\n",
       "metro_none                       0.2510      0.018     13.667      0.000       0.215       0.287\n",
       "================================================================================================\n",
       "\"\"\""
      ]
     },
     "execution_count": 21,
     "metadata": {},
     "output_type": "execute_result"
    }
   ],
   "source": [
    "model = run_regression(data = hmda19_df4, formula = regression_formula).fit()\n",
    "model.summary()"
   ]
  },
  {
   "cell_type": "markdown",
   "id": "leading-instruction",
   "metadata": {},
   "source": [
    "### 5. Findings:\n",
    "#### Racial and ethnic findings\n",
    "- Black applicants are almost twice as likely to be denied \n",
    "- Latinx/Hispanic are almost 1.4 times\n",
    "- Native Applicants are 1.7 times\n",
    "- Asian/Pacific Isalnder are 1.5"
   ]
  },
  {
   "cell_type": "code",
   "execution_count": 22,
   "id": "earned-hindu",
   "metadata": {
    "scrolled": true
   },
   "outputs": [
    {
     "data": {
      "text/html": [
       "<div>\n",
       "<style scoped>\n",
       "    .dataframe tbody tr th:only-of-type {\n",
       "        vertical-align: middle;\n",
       "    }\n",
       "\n",
       "    .dataframe tbody tr th {\n",
       "        vertical-align: top;\n",
       "    }\n",
       "\n",
       "    .dataframe thead th {\n",
       "        text-align: right;\n",
       "    }\n",
       "</style>\n",
       "<table border=\"1\" class=\"dataframe\">\n",
       "  <thead>\n",
       "    <tr style=\"text-align: right;\">\n",
       "      <th></th>\n",
       "      <th>variable_name</th>\n",
       "      <th>pseudo_rsquared</th>\n",
       "      <th>coefficient</th>\n",
       "      <th>standard_error</th>\n",
       "      <th>z_value</th>\n",
       "      <th>p_value</th>\n",
       "      <th>odds_ratio</th>\n",
       "    </tr>\n",
       "  </thead>\n",
       "  <tbody>\n",
       "    <tr>\n",
       "      <th>1</th>\n",
       "      <td>black</td>\n",
       "      <td>0.225557</td>\n",
       "      <td>0.601675</td>\n",
       "      <td>0.012234</td>\n",
       "      <td>49.181903</td>\n",
       "      <td>0.000000e+00</td>\n",
       "      <td>1.825173</td>\n",
       "    </tr>\n",
       "    <tr>\n",
       "      <th>2</th>\n",
       "      <td>latino</td>\n",
       "      <td>0.225557</td>\n",
       "      <td>0.368820</td>\n",
       "      <td>0.009862</td>\n",
       "      <td>37.396918</td>\n",
       "      <td>4.385107e-306</td>\n",
       "      <td>1.446027</td>\n",
       "    </tr>\n",
       "    <tr>\n",
       "      <th>3</th>\n",
       "      <td>asian_cb</td>\n",
       "      <td>0.225557</td>\n",
       "      <td>0.384095</td>\n",
       "      <td>0.010774</td>\n",
       "      <td>35.651020</td>\n",
       "      <td>2.272040e-278</td>\n",
       "      <td>1.468284</td>\n",
       "    </tr>\n",
       "    <tr>\n",
       "      <th>4</th>\n",
       "      <td>native</td>\n",
       "      <td>0.225557</td>\n",
       "      <td>0.508317</td>\n",
       "      <td>0.041112</td>\n",
       "      <td>12.364051</td>\n",
       "      <td>4.090157e-35</td>\n",
       "      <td>1.662491</td>\n",
       "    </tr>\n",
       "  </tbody>\n",
       "</table>\n",
       "</div>"
      ],
      "text/plain": [
       "  variable_name  pseudo_rsquared  coefficient  standard_error    z_value  \\\n",
       "1         black         0.225557     0.601675        0.012234  49.181903   \n",
       "2        latino         0.225557     0.368820        0.009862  37.396918   \n",
       "3      asian_cb         0.225557     0.384095        0.010774  35.651020   \n",
       "4        native         0.225557     0.508317        0.041112  12.364051   \n",
       "\n",
       "         p_value  odds_ratio  \n",
       "1   0.000000e+00    1.825173  \n",
       "2  4.385107e-306    1.446027  \n",
       "3  2.272040e-278    1.468284  \n",
       "4   4.090157e-35    1.662491  "
      ]
     },
     "execution_count": 22,
     "metadata": {},
     "output_type": "execute_result"
    }
   ],
   "source": [
    "national_findings_df = convert_results_to_df(model)\n",
    "\n",
    "races = ['black', 'latino', 'native', 'asian_cb']\n",
    "national_findings_df[(national_findings_df['variable_name'].isin(races))]"
   ]
  },
  {
   "cell_type": "markdown",
   "id": "breeding-vessel",
   "metadata": {},
   "source": [
    "#### DTI Categories Findings"
   ]
  },
  {
   "cell_type": "code",
   "execution_count": 23,
   "id": "medium-competition",
   "metadata": {},
   "outputs": [
    {
     "data": {
      "text/html": [
       "<div>\n",
       "<style scoped>\n",
       "    .dataframe tbody tr th:only-of-type {\n",
       "        vertical-align: middle;\n",
       "    }\n",
       "\n",
       "    .dataframe tbody tr th {\n",
       "        vertical-align: top;\n",
       "    }\n",
       "\n",
       "    .dataframe thead th {\n",
       "        text-align: right;\n",
       "    }\n",
       "</style>\n",
       "<table border=\"1\" class=\"dataframe\">\n",
       "  <thead>\n",
       "    <tr style=\"text-align: right;\">\n",
       "      <th></th>\n",
       "      <th>variable_name</th>\n",
       "      <th>pseudo_rsquared</th>\n",
       "      <th>coefficient</th>\n",
       "      <th>standard_error</th>\n",
       "      <th>z_value</th>\n",
       "      <th>p_value</th>\n",
       "      <th>odds_ratio</th>\n",
       "    </tr>\n",
       "  </thead>\n",
       "  <tbody>\n",
       "    <tr>\n",
       "      <th>26</th>\n",
       "      <td>dti_manageable</td>\n",
       "      <td>0.225557</td>\n",
       "      <td>-0.001563</td>\n",
       "      <td>0.007939</td>\n",
       "      <td>-0.196817</td>\n",
       "      <td>0.843971</td>\n",
       "      <td>0.998439</td>\n",
       "    </tr>\n",
       "    <tr>\n",
       "      <th>27</th>\n",
       "      <td>dti_unmanageable</td>\n",
       "      <td>0.225557</td>\n",
       "      <td>0.366916</td>\n",
       "      <td>0.008159</td>\n",
       "      <td>44.972003</td>\n",
       "      <td>0.000000</td>\n",
       "      <td>1.443277</td>\n",
       "    </tr>\n",
       "    <tr>\n",
       "      <th>28</th>\n",
       "      <td>dti_struggling</td>\n",
       "      <td>0.225557</td>\n",
       "      <td>3.819702</td>\n",
       "      <td>0.010734</td>\n",
       "      <td>355.841752</td>\n",
       "      <td>0.000000</td>\n",
       "      <td>45.590638</td>\n",
       "    </tr>\n",
       "  </tbody>\n",
       "</table>\n",
       "</div>"
      ],
      "text/plain": [
       "       variable_name  pseudo_rsquared  coefficient  standard_error  \\\n",
       "26    dti_manageable         0.225557    -0.001563        0.007939   \n",
       "27  dti_unmanageable         0.225557     0.366916        0.008159   \n",
       "28    dti_struggling         0.225557     3.819702        0.010734   \n",
       "\n",
       "       z_value   p_value  odds_ratio  \n",
       "26   -0.196817  0.843971    0.998439  \n",
       "27   44.972003  0.000000    1.443277  \n",
       "28  355.841752  0.000000   45.590638  "
      ]
     },
     "execution_count": 23,
     "metadata": {},
     "output_type": "execute_result"
    }
   ],
   "source": [
    "dti_vars = ['dti_manageable', 'dti_unmanageable', 'dti_struggling']\n",
    "\n",
    "national_findings_df[(national_findings_df['variable_name'].isin(dti_vars))]"
   ]
  },
  {
   "cell_type": "code",
   "execution_count": 25,
   "id": "bulgarian-munich",
   "metadata": {},
   "outputs": [],
   "source": [
    "national_findings_df.to_csv('../../findings/national_findings/national_findings_210823.csv', index = False)"
   ]
  },
  {
   "cell_type": "markdown",
   "id": "devoted-market",
   "metadata": {},
   "source": [
    "### 6. Additional statistical tests\n",
    "#### Check for collinearity again"
   ]
  },
  {
   "cell_type": "code",
   "execution_count": 26,
   "id": "rubber-numbers",
   "metadata": {},
   "outputs": [
    {
     "name": "stderr",
     "output_type": "stream",
     "text": [
      "100%|██████████| 53/53 [20:54<00:00, 23.67s/it]\n"
     ]
    }
   ],
   "source": [
    "cols = national_findings_df['variable_name'].unique().tolist()[1:]\n",
    "\n",
    "hmda_independent_vars2 = hmda19_df4[cols]\n",
    "vif_df2 = calculate_vif(hmda_independent_vars2)"
   ]
  },
  {
   "cell_type": "markdown",
   "id": "exposed-guyana",
   "metadata": {},
   "source": [
    "No new additional varibales that are collinear"
   ]
  },
  {
   "cell_type": "code",
   "execution_count": 27,
   "id": "clinical-boutique",
   "metadata": {},
   "outputs": [
    {
     "data": {
      "text/html": [
       "<div>\n",
       "<style scoped>\n",
       "    .dataframe tbody tr th:only-of-type {\n",
       "        vertical-align: middle;\n",
       "    }\n",
       "\n",
       "    .dataframe tbody tr th {\n",
       "        vertical-align: top;\n",
       "    }\n",
       "\n",
       "    .dataframe thead th {\n",
       "        text-align: right;\n",
       "    }\n",
       "</style>\n",
       "<table border=\"1\" class=\"dataframe\">\n",
       "  <thead>\n",
       "    <tr style=\"text-align: right;\">\n",
       "      <th></th>\n",
       "      <th>independent_var</th>\n",
       "      <th>vif</th>\n",
       "      <th>threshold</th>\n",
       "    </tr>\n",
       "  </thead>\n",
       "  <tbody>\n",
       "    <tr>\n",
       "      <th>15</th>\n",
       "      <td>income_log</td>\n",
       "      <td>3.00</td>\n",
       "      <td>1</td>\n",
       "    </tr>\n",
       "    <tr>\n",
       "      <th>16</th>\n",
       "      <td>loan_log</td>\n",
       "      <td>2.89</td>\n",
       "      <td>1</td>\n",
       "    </tr>\n",
       "    <tr>\n",
       "      <th>41</th>\n",
       "      <td>metro_90th</td>\n",
       "      <td>2.87</td>\n",
       "      <td>1</td>\n",
       "    </tr>\n",
       "  </tbody>\n",
       "</table>\n",
       "</div>"
      ],
      "text/plain": [
       "   independent_var   vif threshold\n",
       "15      income_log  3.00         1\n",
       "16        loan_log  2.89         1\n",
       "41      metro_90th  2.87         1"
      ]
     },
     "execution_count": 27,
     "metadata": {},
     "output_type": "execute_result"
    }
   ],
   "source": [
    "vif_df2[(vif_df2['threshold'] == '1')]"
   ]
  },
  {
   "cell_type": "markdown",
   "id": "attempted-manner",
   "metadata": {},
   "source": [
    "#### Calculate Confusion Matrix"
   ]
  },
  {
   "cell_type": "code",
   "execution_count": 28,
   "id": "sensitive-credit",
   "metadata": {},
   "outputs": [
    {
     "name": "stderr",
     "output_type": "stream",
     "text": [
      "/Users/emmanuel/.pyenv/versions/3.8.0/envs/redlining/lib/python3.8/site-packages/statsmodels/discrete/discrete_model.py:1810: RuntimeWarning: overflow encountered in exp\n",
      "  return 1/(1+np.exp(-X))\n"
     ]
    },
    {
     "name": "stdout",
     "output_type": "stream",
     "text": [
      "Confusion Matrix : \n",
      " [[  49337  125019]\n",
      " [  20266 2303799]]\n",
      "Overall accuracy:  94.18492720001953\n",
      "Denied accuracy:  28.296703296703296\n",
      "Loan accuracy :  99.12799340810176\n"
     ]
    }
   ],
   "source": [
    "calcuate_confusion_matrix(hmda19_df3, model, cols, ['denied'])"
   ]
  },
  {
   "cell_type": "markdown",
   "id": "crude-sponsorship",
   "metadata": {},
   "source": [
    "### 7. Export Findings and Data\n",
    "\n",
    "#### Write data to be used for metros and lenders"
   ]
  },
  {
   "cell_type": "code",
   "execution_count": 29,
   "id": "colored-closing",
   "metadata": {},
   "outputs": [],
   "source": [
    "cols_to_export = cols + ['denied', 'loan_outcome', 'younger_than_34', 'older_than_55', 'not30yr_mortgage', \n",
    "                         'metro_code', 'lei', 'app_race_ethnicity', 'app_credit_model', 'property_value_ratio']"
   ]
  },
  {
   "cell_type": "code",
   "execution_count": 30,
   "id": "random-worry",
   "metadata": {},
   "outputs": [],
   "source": [
    "hmda19_df5 = hmda19_df4[cols_to_export]\n",
    "hmda19_df5.to_csv('../../data/hmda_lar/cleaned_data/3_hmda2019_regressiondata_210823.csv', index = False)"
   ]
  },
  {
   "cell_type": "code",
   "execution_count": null,
   "id": "protected-telling",
   "metadata": {},
   "outputs": [],
   "source": []
  }
 ],
 "metadata": {
  "kernelspec": {
   "display_name": "Python 3",
   "language": "python",
   "name": "python3"
  },
  "language_info": {
   "codemirror_mode": {
    "name": "ipython",
    "version": 3
   },
   "file_extension": ".py",
   "mimetype": "text/x-python",
   "name": "python",
   "nbconvert_exporter": "python",
   "pygments_lexer": "ipython3",
   "version": "3.8.0"
  }
 },
 "nbformat": 4,
 "nbformat_minor": 5
}
