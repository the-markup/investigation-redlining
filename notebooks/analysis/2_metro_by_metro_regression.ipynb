{
 "cells": [
  {
   "cell_type": "code",
   "execution_count": 1,
   "id": "reduced-japan",
   "metadata": {},
   "outputs": [],
   "source": [
    "%load_ext autoreload\n",
    "%autoreload 2"
   ]
  },
  {
   "cell_type": "code",
   "execution_count": 2,
   "id": "intellectual-quantity",
   "metadata": {},
   "outputs": [],
   "source": [
    "import sys\n",
    "sys.path.append('../..')\n",
    "\n",
    "import pandas as pd\n",
    "import numpy as np\n",
    "\n",
    "from functools import reduce \n",
    "from utils.use_regression import (create_formula, convert_results_to_df, run_regression)"
   ]
  },
  {
   "cell_type": "markdown",
   "id": "distinct-police",
   "metadata": {},
   "source": [
    "### 1. Import Data\n",
    "\n",
    "#### HMDA Data that contains all dummy variables"
   ]
  },
  {
   "cell_type": "code",
   "execution_count": 3,
   "id": "hawaiian-transparency",
   "metadata": {},
   "outputs": [
    {
     "name": "stdout",
     "output_type": "stream",
     "text": [
      "<class 'pandas.core.frame.DataFrame'>\n",
      "RangeIndex: 2433071 entries, 0 to 2433070\n",
      "Data columns (total 63 columns):\n",
      " #   Column                        Dtype  \n",
      "---  ------                        -----  \n",
      " 0   black                         float64\n",
      " 1   latino                        float64\n",
      " 2   asian_cb                      float64\n",
      " 3   native                        float64\n",
      " 4   race_na                       float64\n",
      " 5   no_coapplicant                float64\n",
      " 6   na_coapplicant                float64\n",
      " 7   female                        float64\n",
      " 8   sex_na                        float64\n",
      " 9   less_than25                   float64\n",
      " 10  between25_34                  float64\n",
      " 11  between45_54                  float64\n",
      " 12  between55_64                  float64\n",
      " 13  older_than65                  float64\n",
      " 14  age_na                        float64\n",
      " 15  income_log                    float64\n",
      " 16  loan_log                      float64\n",
      " 17  property_value_ratio          float64\n",
      " 18  less30yrs_mortgage            float64\n",
      " 19  more30yrs_mortgage            float64\n",
      " 20  equifax                       float64\n",
      " 21  experian                      float64\n",
      " 22  other_model                   float64\n",
      " 23  more_than_one                 float64\n",
      " 24  model_na                      float64\n",
      " 25  dti_manageable                float64\n",
      " 26  dti_unmanageable              float64\n",
      " 27  dti_struggling                float64\n",
      " 28  combined_loan_to_value_ratio  float64\n",
      " 29  moderate_lmi                  float64\n",
      " 30  middle_lmi                    float64\n",
      " 31  low_lmi                       float64\n",
      " 32  credit_union                  float64\n",
      " 33  independent                   float64\n",
      " 34  lender_na                     float64\n",
      " 35  lar_count                     int64  \n",
      " 36  non_desktop                   float64\n",
      " 37  aus_na                        float64\n",
      " 38  white_cat2                    float64\n",
      " 39  white_cat3                    float64\n",
      " 40  white_cat4                    float64\n",
      " 41  metro_90th                    float64\n",
      " 42  metro_80th                    float64\n",
      " 43  metro_70th                    float64\n",
      " 44  metro_60th                    float64\n",
      " 45  metro_50th                    float64\n",
      " 46  metro_40th                    float64\n",
      " 47  metro_30th                    float64\n",
      " 48  metro_20th                    float64\n",
      " 49  metro_10th                    float64\n",
      " 50  metro_less10th                float64\n",
      " 51  micro_area                    float64\n",
      " 52  metro_none                    float64\n",
      " 53  denied                        float64\n",
      " 54  loan_outcome                  int64  \n",
      " 55  younger_than_34               float64\n",
      " 56  older_than_55                 float64\n",
      " 57  not30yr_mortgage              float64\n",
      " 58  metro_code                    object \n",
      " 59  lei                           object \n",
      " 60  app_race_ethnicity            int64  \n",
      " 61  app_credit_model              object \n",
      " 62  property_value_ratio.1        float64\n",
      "dtypes: float64(57), int64(3), object(3)\n",
      "memory usage: 1.1+ GB\n"
     ]
    }
   ],
   "source": [
    "hmda19_df = pd.read_csv('../../data/hmda_lar/cleaned_data/3_hmda2019_regressiondata_210823.csv',\n",
    "                        dtype = {'app_credit_model': str, 'metro_code': str})\n",
    "\n",
    "hmda19_df.info()"
   ]
  },
  {
   "cell_type": "markdown",
   "id": "turkish-germany",
   "metadata": {},
   "source": [
    "#### Metro Data"
   ]
  },
  {
   "cell_type": "code",
   "execution_count": 4,
   "id": "fiscal-sweet",
   "metadata": {},
   "outputs": [
    {
     "name": "stdout",
     "output_type": "stream",
     "text": [
      "<class 'pandas.core.frame.DataFrame'>\n",
      "RangeIndex: 3225 entries, 0 to 3224\n",
      "Data columns (total 14 columns):\n",
      " #   Column            Non-Null Count  Dtype \n",
      "---  ------            --------------  ----- \n",
      " 0   fips_state_code   3224 non-null   object\n",
      " 1   fips_county_code  3224 non-null   object\n",
      " 2   county_name       3220 non-null   object\n",
      " 3   state_name        3220 non-null   object\n",
      " 4   cbsa_code         1916 non-null   object\n",
      " 5   cbsa_title        1916 non-null   object\n",
      " 6   csa_code          1256 non-null   object\n",
      " 7   csa_title         1256 non-null   object\n",
      " 8   metro_type        3225 non-null   object\n",
      " 9   metro_code        1916 non-null   object\n",
      " 10  metro_name        1916 non-null   object\n",
      " 11  metro_pop         1915 non-null   object\n",
      " 12  metro_percentile  3225 non-null   object\n",
      " 13  metro_type_def    3225 non-null   object\n",
      "dtypes: object(14)\n",
      "memory usage: 352.9+ KB\n"
     ]
    }
   ],
   "source": [
    "metros_df = pd.read_csv('../../data/census_data/county_to_metro_crosswalk/clean/all_counties_210804.csv',\n",
    "                        dtype = str)\n",
    "\n",
    "metros_df.info()"
   ]
  },
  {
   "cell_type": "markdown",
   "id": "fitting-worship",
   "metadata": {},
   "source": [
    "### 2. Reshape metro data\n",
    "\n",
    "#### Data is at the county level, grouping by metros"
   ]
  },
  {
   "cell_type": "code",
   "execution_count": 5,
   "id": "representative-objective",
   "metadata": {},
   "outputs": [],
   "source": [
    "metros_df2 = pd.DataFrame(metros_df.groupby(by = ['metro_code', 'metro_name', 'metro_type', 'metro_pop'],\n",
    "                          dropna = False).size()).reset_index().rename(columns = {0: 'count'}).\\\n",
    "                          drop(columns = {'count'})\n",
    "\n",
    "metros_df2['metro_pop'] = pd.to_numeric(metros_df2['metro_pop'])"
   ]
  },
  {
   "cell_type": "markdown",
   "id": "german-albert",
   "metadata": {},
   "source": [
    "### 3. Filter HMDA data\n",
    "#### Filtering those NA's that are less than one percent of the column. These values break at the metro level\n",
    "\n",
    "- 0: Yes\n",
    "- 1: No"
   ]
  },
  {
   "cell_type": "code",
   "execution_count": 6,
   "id": "shaped-georgia",
   "metadata": {},
   "outputs": [
    {
     "data": {
      "text/plain": [
       "1.0    99.820145\n",
       "0.0     0.179855\n",
       "Name: na_coapplicant, dtype: float64"
      ]
     },
     "execution_count": 6,
     "metadata": {},
     "output_type": "execute_result"
    }
   ],
   "source": [
    "hmda19_df['na_coapplicant'].value_counts(dropna = False, normalize = True) * 100"
   ]
  },
  {
   "cell_type": "code",
   "execution_count": 7,
   "id": "mathematical-blink",
   "metadata": {},
   "outputs": [
    {
     "data": {
      "text/plain": [
       "1.0    99.981957\n",
       "0.0     0.018043\n",
       "Name: age_na, dtype: float64"
      ]
     },
     "execution_count": 7,
     "metadata": {},
     "output_type": "execute_result"
    }
   ],
   "source": [
    "hmda19_df['age_na'].value_counts(dropna = False, normalize = True) * 100"
   ]
  },
  {
   "cell_type": "code",
   "execution_count": 8,
   "id": "fixed-chancellor",
   "metadata": {},
   "outputs": [
    {
     "data": {
      "text/plain": [
       "1.0    99.730135\n",
       "0.0     0.269865\n",
       "Name: lender_na, dtype: float64"
      ]
     },
     "execution_count": 8,
     "metadata": {},
     "output_type": "execute_result"
    }
   ],
   "source": [
    "hmda19_df['lender_na'].value_counts(dropna = False, normalize = True) * 100"
   ]
  },
  {
   "cell_type": "code",
   "execution_count": 9,
   "id": "magnetic-allergy",
   "metadata": {},
   "outputs": [],
   "source": [
    "hmda19_df2 = hmda19_df[(hmda19_df['na_coapplicant'] != 0) & (hmda19_df['age_na'] != 0) &\\\n",
    "                       (hmda19_df['lender_na'] != 0)]"
   ]
  },
  {
   "cell_type": "markdown",
   "id": "previous-reconstruction",
   "metadata": {},
   "source": [
    "#### Filter out Metros with no code"
   ]
  },
  {
   "cell_type": "code",
   "execution_count": 10,
   "id": "behind-shoot",
   "metadata": {},
   "outputs": [
    {
     "name": "stdout",
     "output_type": "stream",
     "text": [
      "2357940\n"
     ]
    }
   ],
   "source": [
    "hmda19_df3 = hmda19_df2[(hmda19_df2['metro_code'].notnull())]\n",
    "\n",
    "print(len(hmda19_df3))"
   ]
  },
  {
   "cell_type": "markdown",
   "id": "boring-person",
   "metadata": {},
   "source": [
    "### 4. Setup independent variables"
   ]
  },
  {
   "cell_type": "code",
   "execution_count": 11,
   "id": "informed-aggregate",
   "metadata": {},
   "outputs": [],
   "source": [
    "independent_vars = ['black', 'latino', 'native', 'asian_cb', 'race_na',\n",
    "                    'female', 'sex_na',\n",
    "                    'no_coapplicant', \n",
    "                    'younger_than_34', 'older_than_55', \n",
    "                    'income_log', \n",
    "                    'loan_log', \n",
    "                    'property_value_ratio', \n",
    "                    'not30yr_mortgage', \n",
    "                    'equifax', 'experian', 'other_model', 'more_than_one', 'model_na',\n",
    "                    'dti_manageable', 'dti_unmanageable', 'dti_struggling',\n",
    "                    'combined_loan_to_value_ratio',\n",
    "                    'low_lmi', 'moderate_lmi', 'middle_lmi',\n",
    "                    'credit_union', 'independent',\n",
    "                    'lar_count',\n",
    "                    'non_desktop', 'aus_na', \n",
    "                    'white_cat2', 'white_cat3', 'white_cat4']\n",
    "\n",
    "continuous_vars = ['income_log', 'loan_log', 'combined_loan_to_value_ratio', 'lar_count', 'prop_zscore']"
   ]
  },
  {
   "cell_type": "markdown",
   "id": "anonymous-teach",
   "metadata": {},
   "source": [
    "### 5. Get variable count for each metro"
   ]
  },
  {
   "cell_type": "code",
   "execution_count": 12,
   "id": "qualified-spring",
   "metadata": {},
   "outputs": [
    {
     "name": "stdout",
     "output_type": "stream",
     "text": [
      "Number of metros: 959\n"
     ]
    }
   ],
   "source": [
    "metros = hmda19_df3['metro_code'].unique()\n",
    "\n",
    "print('Number of metros: ' + str(len(metros)))"
   ]
  },
  {
   "cell_type": "markdown",
   "id": "typical-sociology",
   "metadata": {},
   "source": [
    "#### Count all the independent variables for each metro"
   ]
  },
  {
   "cell_type": "code",
   "execution_count": 13,
   "id": "progressive-expert",
   "metadata": {},
   "outputs": [
    {
     "data": {
      "text/plain": [
       "959"
      ]
     },
     "execution_count": 13,
     "metadata": {},
     "output_type": "execute_result"
    }
   ],
   "source": [
    "### Excluding continous variables from the counting\n",
    "independent_vars2 = [var for var in independent_vars if var not in continuous_vars]\n",
    "\n",
    "metro_var_holder = []\n",
    "\n",
    "for independent_var in independent_vars2:\n",
    "    index_values = []\n",
    "    index_values.extend(('metro_code', independent_var))\n",
    "    \n",
    "    metro_var_df = pd.pivot_table(hmda19_df3, index = index_values, columns = ['loan_outcome'], \n",
    "                                  values = ['denied'], aggfunc = 'count', fill_value = 0).reset_index()\n",
    "    \n",
    "    metro_var_df.columns = metro_var_df.columns.droplevel(0)\n",
    "    metro_var_df.columns.name = None\n",
    "    metro_var_df.columns = ['metro_code', 'variable_flag', 'loan', 'denied']\n",
    "    metro_var_df['variable_name'] = independent_var\n",
    "    \n",
    "    metro_var_holder.append(metro_var_df)\n",
    "    \n",
    "metro_varcount_df = pd.concat(metro_var_holder)\n",
    "metro_varcount_df['metro_code'].nunique()"
   ]
  },
  {
   "cell_type": "markdown",
   "id": "informed-seeking",
   "metadata": {},
   "source": [
    "#### Add missing records to the variable count dataframe"
   ]
  },
  {
   "cell_type": "code",
   "execution_count": 14,
   "id": "associate-practitioner",
   "metadata": {},
   "outputs": [],
   "source": [
    "metro_varcount_df2 = metro_varcount_df[(metro_varcount_df['variable_flag'] == 0)]\n",
    "missing_rows_list = []\n",
    "\n",
    "for metro in metros:\n",
    "    metro_vars_df = metro_varcount_df2[(metro_varcount_df2['metro_code'] == metro)]\n",
    "    metro_vars = metro_vars_df['variable_name'].unique()\n",
    "    \n",
    "    ### including the continous variables\n",
    "    for reference_var in independent_vars:\n",
    "        if reference_var not in metro_vars:\n",
    "            missing_row = pd.DataFrame([[metro, 0, 0, 0, reference_var]], columns = ['metro_code', \n",
    "                                               'variable_flag', 'loan', 'denied', 'variable_name'])\n",
    "            missing_rows_list.append(missing_row)\n",
    "            \n",
    "missing_rows_df = pd.concat(missing_rows_list)         \n",
    "metro_varcount_df3 = metro_varcount_df2.append(missing_rows_df)"
   ]
  },
  {
   "cell_type": "markdown",
   "id": "acting-clock",
   "metadata": {},
   "source": [
    "#### Find variable total count and percentages"
   ]
  },
  {
   "cell_type": "code",
   "execution_count": 16,
   "id": "cloudy-indian",
   "metadata": {},
   "outputs": [],
   "source": [
    "metro_varcount_df3['total_count'] = metro_varcount_df3['loan'] + metro_varcount_df3['denied']\n",
    "\n",
    "metro_varcount_df3['loan_pct'] = metro_varcount_df3['loan'].div(metro_varcount_df3['total_count']).multiply(100)\n",
    "\n",
    "metro_varcount_df3['denied_pct'] = metro_varcount_df3['denied'].\\\n",
    "                                   div(metro_varcount_df3['total_count']).multiply(100)"
   ]
  },
  {
   "cell_type": "markdown",
   "id": "statutory-allocation",
   "metadata": {},
   "source": [
    "### 6. Run regression for all metros"
   ]
  },
  {
   "cell_type": "code",
   "execution_count": 17,
   "id": "stuffed-stroke",
   "metadata": {},
   "outputs": [
    {
     "name": "stdout",
     "output_type": "stream",
     "text": [
      "0: Metro: 35084\n",
      "Optimization terminated successfully.\n",
      "         Current function value: 0.203528\n",
      "         Iterations 8\n",
      "1: Metro: 35614\n",
      "Optimization terminated successfully.\n",
      "         Current function value: 0.260659\n",
      "         Iterations 7\n",
      "2: Metro: 35154\n",
      "Optimization terminated successfully.\n",
      "         Current function value: 0.212554\n",
      "         Iterations 8\n",
      "3: Metro: 39100\n",
      "Optimization terminated successfully.\n",
      "         Current function value: 0.191431\n",
      "         Iterations 8\n",
      "4: Metro: 45940\n",
      "Warning: Maximum number of iterations has been exceeded.\n",
      "         Current function value: 0.218257\n",
      "         Iterations: 35\n",
      "5: Metro: 20700\n"
     ]
    },
    {
     "name": "stderr",
     "output_type": "stream",
     "text": [
      "/Users/emmanuel/.pyenv/versions/3.8.0/envs/redlining/lib/python3.8/site-packages/statsmodels/base/model.py:566: ConvergenceWarning: Maximum Likelihood optimization failed to converge. Check mle_retvals\n",
      "  warnings.warn(\"Maximum Likelihood optimization failed to \"\n"
     ]
    },
    {
     "name": "stdout",
     "output_type": "stream",
     "text": [
      "Optimization terminated successfully.\n",
      "         Current function value: 0.216407\n",
      "         Iterations 25\n",
      "6: Metro: 48424\n",
      "Optimization terminated successfully.\n",
      "         Current function value: 0.270169\n",
      "         Iterations 7\n",
      "7: Metro: 33124\n",
      "Warning: Maximum number of iterations has been exceeded.\n",
      "         Current function value: 0.338133\n",
      "         Iterations: 35\n",
      "8: Metro: 37964\n"
     ]
    },
    {
     "name": "stderr",
     "output_type": "stream",
     "text": [
      "/Users/emmanuel/.pyenv/versions/3.8.0/envs/redlining/lib/python3.8/site-packages/statsmodels/base/model.py:566: ConvergenceWarning: Maximum Likelihood optimization failed to converge. Check mle_retvals\n",
      "  warnings.warn(\"Maximum Likelihood optimization failed to \"\n"
     ]
    },
    {
     "name": "stdout",
     "output_type": "stream",
     "text": [
      "Warning: Maximum number of iterations has been exceeded.\n",
      "         Current function value: 0.201493\n",
      "         Iterations: 35\n",
      "9: Metro: 12100\n"
     ]
    },
    {
     "name": "stderr",
     "output_type": "stream",
     "text": [
      "/Users/emmanuel/.pyenv/versions/3.8.0/envs/redlining/lib/python3.8/site-packages/statsmodels/base/model.py:566: ConvergenceWarning: Maximum Likelihood optimization failed to converge. Check mle_retvals\n",
      "  warnings.warn(\"Maximum Likelihood optimization failed to \"\n"
     ]
    },
    {
     "name": "stdout",
     "output_type": "stream",
     "text": [
      "Warning: Maximum number of iterations has been exceeded.\n",
      "         Current function value: 0.187555\n",
      "         Iterations: 35\n",
      "10: Metro: 35004\n"
     ]
    },
    {
     "name": "stderr",
     "output_type": "stream",
     "text": [
      "/Users/emmanuel/.pyenv/versions/3.8.0/envs/redlining/lib/python3.8/site-packages/statsmodels/base/model.py:566: ConvergenceWarning: Maximum Likelihood optimization failed to converge. Check mle_retvals\n",
      "  warnings.warn(\"Maximum Likelihood optimization failed to \"\n"
     ]
    },
    {
     "name": "stdout",
     "output_type": "stream",
     "text": [
      "Optimization terminated successfully.\n",
      "         Current function value: 0.210568\n",
      "         Iterations 8\n",
      "11: Metro: 47894\n",
      "Optimization terminated successfully.\n",
      "         Current function value: 0.159598\n",
      "         Iterations 8\n",
      "12: Metro: 15804\n",
      "Optimization terminated successfully.\n",
      "         Current function value: 0.174943\n",
      "         Iterations 8\n",
      "13: Metro: 33874\n",
      "Optimization terminated successfully.\n",
      "         Current function value: 0.158975\n",
      "         Iterations 8\n",
      "14: Metro: 42540\n",
      "Optimization terminated successfully.\n",
      "         Current function value: 0.225927\n",
      "         Iterations 17\n",
      "15: Metro: 22744\n",
      "Optimization terminated successfully.\n",
      "         Current function value: 0.306555\n",
      "         Iterations 7\n",
      "16: Metro: 44300\n",
      "Warning: Maximum number of iterations has been exceeded.\n",
      "         Current function value: 0.191518\n",
      "         Iterations: 35\n",
      "17: Metro: 36740\n",
      "Optimization terminated successfully.\n",
      "         Current function value: 0.236587\n",
      "         Iterations 7\n",
      "18: Metro: 10900\n",
      "Optimization terminated successfully.\n",
      "         Current function value: 0.197833\n",
      "         Iterations 8\n",
      "19: Metro: 35840\n",
      "Optimization terminated successfully.\n",
      "         Current function value: 0.219672\n",
      "         Iterations 7\n",
      "20: Metro: 12580\n",
      "Optimization terminated successfully.\n",
      "         Current function value: 0.155479\n",
      "         Iterations 8\n",
      "21: Metro: 39740\n",
      "Optimization terminated successfully.\n",
      "         Current function value: 0.154101\n",
      "         Iterations 30\n",
      "22: Metro: 49620\n",
      "Warning: Maximum number of iterations has been exceeded.\n",
      "         Current function value: 0.148090\n",
      "         Iterations: 35\n",
      "23: Metro: 38300\n"
     ]
    },
    {
     "name": "stderr",
     "output_type": "stream",
     "text": [
      "/Users/emmanuel/.pyenv/versions/3.8.0/envs/redlining/lib/python3.8/site-packages/statsmodels/base/model.py:566: ConvergenceWarning: Maximum Likelihood optimization failed to converge. Check mle_retvals\n",
      "  warnings.warn(\"Maximum Likelihood optimization failed to \"\n"
     ]
    },
    {
     "name": "stdout",
     "output_type": "stream",
     "text": [
      "Optimization terminated successfully.\n",
      "         Current function value: 0.158466\n",
      "         Iterations 8\n",
      "24: Metro: 10580\n",
      "Optimization terminated successfully.\n",
      "         Current function value: 0.126827\n",
      "         Iterations 8\n",
      "25: Metro: 36140\n",
      "Warning: Maximum number of iterations has been exceeded.\n",
      "         Current function value: 0.194130\n",
      "         Iterations: 35\n",
      "26: Metro: 14860\n",
      "Optimization terminated successfully.\n",
      "         Current function value: 0.210527\n",
      "         Iterations 7\n",
      "27: Metro: 15764\n",
      "Optimization terminated successfully.\n",
      "         Current function value: 0.147661\n",
      "         Iterations 8\n",
      "28: Metro: 45300\n",
      "Optimization terminated successfully.\n",
      "         Current function value: 0.228183\n",
      "         Iterations 7\n",
      "29: Metro: 29460\n",
      "Warning: Maximum number of iterations has been exceeded.\n",
      "         Current function value: 0.253962\n",
      "         Iterations: 35\n",
      "30: Metro: 45060\n"
     ]
    },
    {
     "name": "stderr",
     "output_type": "stream",
     "text": [
      "/Users/emmanuel/.pyenv/versions/3.8.0/envs/redlining/lib/python3.8/site-packages/statsmodels/base/model.py:566: ConvergenceWarning: Maximum Likelihood optimization failed to converge. Check mle_retvals\n",
      "  warnings.warn(\"Maximum Likelihood optimization failed to \"\n"
     ]
    },
    {
     "name": "stdout",
     "output_type": "stream",
     "text": [
      "Optimization terminated successfully.\n",
      "         Current function value: 0.165774\n",
      "         Iterations 8\n",
      "31: Metro: 37340\n",
      "Warning: Maximum number of iterations has been exceeded.\n",
      "         Current function value: 0.229650\n",
      "         Iterations: 35\n",
      "32: Metro: 28940\n"
     ]
    },
    {
     "name": "stderr",
     "output_type": "stream",
     "text": [
      "/Users/emmanuel/.pyenv/versions/3.8.0/envs/redlining/lib/python3.8/site-packages/statsmodels/base/model.py:566: ConvergenceWarning: Maximum Likelihood optimization failed to converge. Check mle_retvals\n",
      "  warnings.warn(\"Maximum Likelihood optimization failed to \"\n"
     ]
    },
    {
     "name": "stdout",
     "output_type": "stream",
     "text": [
      "Optimization terminated successfully.\n",
      "         Current function value: 0.172689\n",
      "         Iterations 22\n",
      "33: Metro: 42940\n",
      "Warning: Maximum number of iterations has been exceeded.\n",
      "         Current function value: 0.230941\n",
      "         Iterations: 35\n",
      "34: Metro: 34100\n",
      "Warning: Maximum number of iterations has been exceeded.\n",
      "         Current function value: 0.205367\n",
      "         Iterations: 35\n",
      "35: Metro: 28700\n",
      "Warning: Maximum number of iterations has been exceeded.\n",
      "         Current function value: 0.158466\n",
      "         Iterations: 35\n",
      "36: Metro: 35460\n"
     ]
    },
    {
     "name": "stderr",
     "output_type": "stream",
     "text": [
      "/Users/emmanuel/.pyenv/versions/3.8.0/envs/redlining/lib/python3.8/site-packages/statsmodels/discrete/discrete_model.py:1810: RuntimeWarning: overflow encountered in exp\n",
      "  return 1/(1+np.exp(-X))\n",
      "/Users/emmanuel/.pyenv/versions/3.8.0/envs/redlining/lib/python3.8/site-packages/statsmodels/discrete/discrete_model.py:1863: RuntimeWarning: divide by zero encountered in log\n",
      "  return np.sum(np.log(self.cdf(q*np.dot(X,params))))\n"
     ]
    },
    {
     "name": "stdout",
     "output_type": "stream",
     "text": [
      "Warning: Maximum number of iterations has been exceeded.\n",
      "         Current function value: inf\n",
      "         Iterations: 35\n",
      "37: Metro: 27740\n",
      "Warning: Maximum number of iterations has been exceeded.\n",
      "         Current function value: 0.164286\n",
      "         Iterations: 35\n",
      "38: Metro: 34980\n",
      "Optimization terminated successfully.\n",
      "         Current function value: 0.174689\n",
      "         Iterations 9\n",
      "39: Metro: 16860\n",
      "Optimization terminated successfully.\n",
      "         Current function value: 0.154070\n",
      "         Iterations 8\n",
      "40: Metro: 18900\n",
      "Warning: Maximum number of iterations has been exceeded.\n",
      "         Current function value: 0.153090\n",
      "         Iterations: 35\n",
      "41: Metro: 24620\n"
     ]
    },
    {
     "name": "stderr",
     "output_type": "stream",
     "text": [
      "/Users/emmanuel/.pyenv/versions/3.8.0/envs/redlining/lib/python3.8/site-packages/statsmodels/discrete/discrete_model.py:1810: RuntimeWarning: overflow encountered in exp\n",
      "  return 1/(1+np.exp(-X))\n",
      "/Users/emmanuel/.pyenv/versions/3.8.0/envs/redlining/lib/python3.8/site-packages/statsmodels/discrete/discrete_model.py:1863: RuntimeWarning: divide by zero encountered in log\n",
      "  return np.sum(np.log(self.cdf(q*np.dot(X,params))))\n"
     ]
    },
    {
     "name": "stdout",
     "output_type": "stream",
     "text": [
      "Warning: Maximum number of iterations has been exceeded.\n",
      "         Current function value: inf\n",
      "         Iterations: 35\n",
      "42: Metro: 17420\n",
      "Warning: Maximum number of iterations has been exceeded.\n",
      "         Current function value: 0.147641\n",
      "         Iterations: 35\n",
      "43: Metro: 48864\n",
      "Optimization terminated successfully.\n",
      "         Current function value: 0.167368\n",
      "         Iterations 8\n",
      "44: Metro: 20100\n",
      "Optimization terminated successfully.\n",
      "         Current function value: 0.160005\n",
      "         Iterations 30\n",
      "45: Metro: 41540\n",
      "Optimization terminated successfully.\n",
      "         Current function value: 0.168634\n",
      "         Iterations 8\n",
      "46: Metro: 33980\n"
     ]
    },
    {
     "name": "stderr",
     "output_type": "stream",
     "text": [
      "/Users/emmanuel/.pyenv/versions/3.8.0/envs/redlining/lib/python3.8/site-packages/statsmodels/discrete/discrete_model.py:1810: RuntimeWarning: overflow encountered in exp\n",
      "  return 1/(1+np.exp(-X))\n",
      "/Users/emmanuel/.pyenv/versions/3.8.0/envs/redlining/lib/python3.8/site-packages/statsmodels/discrete/discrete_model.py:1863: RuntimeWarning: divide by zero encountered in log\n",
      "  return np.sum(np.log(self.cdf(q*np.dot(X,params))))\n"
     ]
    },
    {
     "name": "stdout",
     "output_type": "stream",
     "text": [
      "Warning: Maximum number of iterations has been exceeded.\n",
      "         Current function value: inf\n",
      "         Iterations: 35\n",
      "47: Metro: 20500\n",
      "Optimization terminated successfully.\n",
      "         Current function value: 0.157726\n",
      "         Iterations 9\n",
      "48: Metro: 49180\n",
      "Warning: Maximum number of iterations has been exceeded.\n",
      "         Current function value: 0.181448\n",
      "         Iterations: 35\n",
      "49: Metro: 19660\n"
     ]
    },
    {
     "name": "stderr",
     "output_type": "stream",
     "text": [
      "/Users/emmanuel/.pyenv/versions/3.8.0/envs/redlining/lib/python3.8/site-packages/statsmodels/base/model.py:566: ConvergenceWarning: Maximum Likelihood optimization failed to converge. Check mle_retvals\n",
      "  warnings.warn(\"Maximum Likelihood optimization failed to \"\n"
     ]
    },
    {
     "name": "stdout",
     "output_type": "stream",
     "text": [
      "Optimization terminated successfully.\n",
      "         Current function value: 0.233472\n",
      "         Iterations 8\n",
      "50: Metro: 16740\n",
      "Optimization terminated successfully.\n",
      "         Current function value: 0.178307\n",
      "         Iterations 8\n",
      "51: Metro: 27260\n",
      "Optimization terminated successfully.\n",
      "         Current function value: 0.214584\n",
      "         Iterations 7\n",
      "52: Metro: 14380\n"
     ]
    },
    {
     "name": "stderr",
     "output_type": "stream",
     "text": [
      "/Users/emmanuel/.pyenv/versions/3.8.0/envs/redlining/lib/python3.8/site-packages/statsmodels/discrete/discrete_model.py:1810: RuntimeWarning: overflow encountered in exp\n",
      "  return 1/(1+np.exp(-X))\n",
      "/Users/emmanuel/.pyenv/versions/3.8.0/envs/redlining/lib/python3.8/site-packages/statsmodels/discrete/discrete_model.py:1863: RuntimeWarning: divide by zero encountered in log\n",
      "  return np.sum(np.log(self.cdf(q*np.dot(X,params))))\n"
     ]
    },
    {
     "name": "stdout",
     "output_type": "stream",
     "text": [
      "Warning: Maximum number of iterations has been exceeded.\n",
      "         Current function value: inf\n",
      "         Iterations: 35\n",
      "53: Metro: 24660\n",
      "Optimization terminated successfully.\n",
      "         Current function value: 0.169816\n",
      "         Iterations 8\n",
      "54: Metro: 39580\n",
      "Optimization terminated successfully.\n",
      "         Current function value: 0.148290\n",
      "         Iterations 9\n",
      "55: Metro: 43140\n"
     ]
    },
    {
     "name": "stderr",
     "output_type": "stream",
     "text": [
      "/Users/emmanuel/.pyenv/versions/3.8.0/envs/redlining/lib/python3.8/site-packages/statsmodels/discrete/discrete_model.py:1810: RuntimeWarning: overflow encountered in exp\n",
      "  return 1/(1+np.exp(-X))\n",
      "/Users/emmanuel/.pyenv/versions/3.8.0/envs/redlining/lib/python3.8/site-packages/statsmodels/discrete/discrete_model.py:1863: RuntimeWarning: divide by zero encountered in log\n",
      "  return np.sum(np.log(self.cdf(q*np.dot(X,params))))\n"
     ]
    },
    {
     "name": "stdout",
     "output_type": "stream",
     "text": [
      "Warning: Maximum number of iterations has been exceeded.\n",
      "         Current function value: inf\n",
      "         Iterations: 35\n",
      "56: Metro: 34940\n",
      "Optimization terminated successfully.\n",
      "         Current function value: 0.269402\n",
      "         Iterations 7\n",
      "57: Metro: 37860\n",
      "Optimization terminated successfully.\n",
      "         Current function value: 0.193260\n",
      "         Iterations 8\n",
      "58: Metro: 19124\n",
      "Optimization terminated successfully.\n",
      "         Current function value: 0.178727\n",
      "         Iterations 8\n",
      "59: Metro: 41700\n",
      "Optimization terminated successfully.\n",
      "         Current function value: 0.218649\n",
      "         Iterations 7\n",
      "60: Metro: 15980\n",
      "Warning: Maximum number of iterations has been exceeded.\n",
      "         Current function value: 0.238210\n",
      "         Iterations: 35\n",
      "61: Metro: 26420\n"
     ]
    },
    {
     "name": "stderr",
     "output_type": "stream",
     "text": [
      "/Users/emmanuel/.pyenv/versions/3.8.0/envs/redlining/lib/python3.8/site-packages/statsmodels/base/model.py:566: ConvergenceWarning: Maximum Likelihood optimization failed to converge. Check mle_retvals\n",
      "  warnings.warn(\"Maximum Likelihood optimization failed to \"\n"
     ]
    },
    {
     "name": "stdout",
     "output_type": "stream",
     "text": [
      "Optimization terminated successfully.\n",
      "         Current function value: 0.215989\n",
      "         Iterations 7\n",
      "62: Metro: 12420\n",
      "Optimization terminated successfully.\n",
      "         Current function value: 0.186873\n",
      "         Iterations 8\n",
      "63: Metro: 18880\n",
      "Warning: Maximum number of iterations has been exceeded.\n",
      "         Current function value: 0.189766\n",
      "         Iterations: 35\n",
      "64: Metro: 47260\n",
      "Optimization terminated successfully.\n",
      "         Current function value: 0.143651\n",
      "         Iterations 8\n",
      "65: Metro: 40060\n",
      "Optimization terminated successfully.\n",
      "         Current function value: 0.117679\n",
      "         Iterations 8\n",
      "66: Metro: 23224\n",
      "Optimization terminated successfully.\n",
      "         Current function value: 0.161599\n",
      "         Iterations 8\n",
      "67: Metro: 31084\n",
      "Optimization terminated successfully.\n",
      "         Current function value: 0.243558\n",
      "         Iterations 7\n",
      "68: Metro: 12260\n"
     ]
    },
    {
     "name": "stderr",
     "output_type": "stream",
     "text": [
      "/Users/emmanuel/.pyenv/versions/3.8.0/envs/redlining/lib/python3.8/site-packages/statsmodels/discrete/discrete_model.py:1810: RuntimeWarning: overflow encountered in exp\n",
      "  return 1/(1+np.exp(-X))\n",
      "/Users/emmanuel/.pyenv/versions/3.8.0/envs/redlining/lib/python3.8/site-packages/statsmodels/discrete/discrete_model.py:1863: RuntimeWarning: divide by zero encountered in log\n",
      "  return np.sum(np.log(self.cdf(q*np.dot(X,params))))\n"
     ]
    },
    {
     "name": "stdout",
     "output_type": "stream",
     "text": [
      "Warning: Maximum number of iterations has been exceeded.\n",
      "         Current function value: inf\n",
      "         Iterations: 35\n",
      "69: Metro: 25940\n",
      "Warning: Maximum number of iterations has been exceeded.\n",
      "         Current function value: 0.147875\n",
      "         Iterations: 35\n",
      "70: Metro: 29404\n"
     ]
    },
    {
     "name": "stderr",
     "output_type": "stream",
     "text": [
      "/Users/emmanuel/.pyenv/versions/3.8.0/envs/redlining/lib/python3.8/site-packages/statsmodels/base/model.py:566: ConvergenceWarning: Maximum Likelihood optimization failed to converge. Check mle_retvals\n",
      "  warnings.warn(\"Maximum Likelihood optimization failed to \"\n"
     ]
    },
    {
     "name": "stdout",
     "output_type": "stream",
     "text": [
      "Optimization terminated successfully.\n",
      "         Current function value: 0.174451\n",
      "         Iterations 8\n",
      "71: Metro: 16984\n",
      "Optimization terminated successfully.\n",
      "         Current function value: 0.194791\n",
      "         Iterations 8\n",
      "72: Metro: 23844\n",
      "Warning: Maximum number of iterations has been exceeded.\n",
      "         Current function value: 0.132546\n",
      "         Iterations: 35\n",
      "73: Metro: 10300\n"
     ]
    },
    {
     "name": "stderr",
     "output_type": "stream",
     "text": [
      "/Users/emmanuel/.pyenv/versions/3.8.0/envs/redlining/lib/python3.8/site-packages/statsmodels/base/model.py:566: ConvergenceWarning: Maximum Likelihood optimization failed to converge. Check mle_retvals\n",
      "  warnings.warn(\"Maximum Likelihood optimization failed to \"\n"
     ]
    },
    {
     "name": "stdout",
     "output_type": "stream",
     "text": [
      "Warning: Maximum number of iterations has been exceeded.\n",
      "         Current function value: 0.125268\n",
      "         Iterations: 35\n",
      "74: Metro: 39540\n",
      "Warning: Maximum number of iterations has been exceeded.\n",
      "         Current function value: 0.168422\n",
      "         Iterations: 35\n",
      "75: Metro: 20994\n"
     ]
    },
    {
     "name": "stderr",
     "output_type": "stream",
     "text": [
      "/Users/emmanuel/.pyenv/versions/3.8.0/envs/redlining/lib/python3.8/site-packages/statsmodels/base/model.py:566: ConvergenceWarning: Maximum Likelihood optimization failed to converge. Check mle_retvals\n",
      "  warnings.warn(\"Maximum Likelihood optimization failed to \"\n"
     ]
    },
    {
     "name": "stdout",
     "output_type": "stream",
     "text": [
      "Optimization terminated successfully.\n",
      "         Current function value: 0.153573\n",
      "         Iterations 8\n",
      "76: Metro: 16580\n"
     ]
    },
    {
     "name": "stderr",
     "output_type": "stream",
     "text": [
      "/Users/emmanuel/.pyenv/versions/3.8.0/envs/redlining/lib/python3.8/site-packages/statsmodels/discrete/discrete_model.py:1810: RuntimeWarning: overflow encountered in exp\n",
      "  return 1/(1+np.exp(-X))\n",
      "/Users/emmanuel/.pyenv/versions/3.8.0/envs/redlining/lib/python3.8/site-packages/statsmodels/discrete/discrete_model.py:1863: RuntimeWarning: divide by zero encountered in log\n",
      "  return np.sum(np.log(self.cdf(q*np.dot(X,params))))\n"
     ]
    },
    {
     "name": "stdout",
     "output_type": "stream",
     "text": [
      "Warning: Maximum number of iterations has been exceeded.\n",
      "         Current function value: inf\n",
      "         Iterations: 35\n",
      "77: Metro: 11460\n",
      "Optimization terminated successfully.\n",
      "         Current function value: 0.140932\n",
      "         Iterations 25\n",
      "78: Metro: 42644\n",
      "Optimization terminated successfully.\n",
      "         Current function value: 0.166433\n",
      "         Iterations 8\n",
      "79: Metro: 11244\n",
      "Optimization terminated successfully.\n",
      "         Current function value: 0.221287\n",
      "         Iterations 7\n",
      "80: Metro: 36084\n",
      "Optimization terminated successfully.\n",
      "         Current function value: 0.206251\n",
      "         Iterations 8\n",
      "81: Metro: 37100\n"
     ]
    },
    {
     "name": "stderr",
     "output_type": "stream",
     "text": [
      "/Users/emmanuel/.pyenv/versions/3.8.0/envs/redlining/lib/python3.8/site-packages/statsmodels/discrete/discrete_model.py:1810: RuntimeWarning: overflow encountered in exp\n",
      "  return 1/(1+np.exp(-X))\n",
      "/Users/emmanuel/.pyenv/versions/3.8.0/envs/redlining/lib/python3.8/site-packages/statsmodels/discrete/discrete_model.py:1863: RuntimeWarning: divide by zero encountered in log\n",
      "  return np.sum(np.log(self.cdf(q*np.dot(X,params))))\n",
      "/Users/emmanuel/.pyenv/versions/3.8.0/envs/redlining/lib/python3.8/site-packages/statsmodels/base/model.py:566: ConvergenceWarning: Maximum Likelihood optimization failed to converge. Check mle_retvals\n",
      "  warnings.warn(\"Maximum Likelihood optimization failed to \"\n",
      "/Users/emmanuel/.pyenv/versions/3.8.0/envs/redlining/lib/python3.8/site-packages/pandas/core/arraylike.py:358: RuntimeWarning: overflow encountered in exp\n",
      "  result = getattr(ufunc, method)(*inputs, **kwargs)\n",
      "/Users/emmanuel/.pyenv/versions/3.8.0/envs/redlining/lib/python3.8/site-packages/statsmodels/discrete/discrete_model.py:1810: RuntimeWarning: overflow encountered in exp\n",
      "  return 1/(1+np.exp(-X))\n",
      "/Users/emmanuel/.pyenv/versions/3.8.0/envs/redlining/lib/python3.8/site-packages/statsmodels/discrete/discrete_model.py:1863: RuntimeWarning: divide by zero encountered in log\n",
      "  return np.sum(np.log(self.cdf(q*np.dot(X,params))))\n"
     ]
    },
    {
     "name": "stdout",
     "output_type": "stream",
     "text": [
      "Warning: Maximum number of iterations has been exceeded.\n",
      "         Current function value: inf\n",
      "         Iterations: 35\n",
      "82: Metro: 40140\n",
      "Optimization terminated successfully.\n",
      "         Current function value: 0.236549\n",
      "         Iterations 7\n",
      "83: Metro: 12540\n",
      "Optimization terminated successfully.\n",
      "         Current function value: 0.163721\n",
      "         Iterations 8\n",
      "84: Metro: 41940\n",
      "Warning: Maximum number of iterations has been exceeded.\n",
      "         Current function value: 0.215119\n",
      "         Iterations: 35\n",
      "85: Metro: 41740\n"
     ]
    },
    {
     "name": "stderr",
     "output_type": "stream",
     "text": [
      "/Users/emmanuel/.pyenv/versions/3.8.0/envs/redlining/lib/python3.8/site-packages/statsmodels/base/model.py:566: ConvergenceWarning: Maximum Likelihood optimization failed to converge. Check mle_retvals\n",
      "  warnings.warn(\"Maximum Likelihood optimization failed to \"\n"
     ]
    },
    {
     "name": "stdout",
     "output_type": "stream",
     "text": [
      "Optimization terminated successfully.\n",
      "         Current function value: 0.214594\n",
      "         Iterations 8\n",
      "86: Metro: 40900\n",
      "Optimization terminated successfully.\n",
      "         Current function value: 0.181873\n",
      "         Iterations 8\n",
      "87: Metro: 46700\n",
      "Optimization terminated successfully.\n",
      "         Current function value: 0.186212\n",
      "         Iterations 8\n",
      "88: Metro: 12060\n",
      "Optimization terminated successfully.\n",
      "         Current function value: 0.217365\n",
      "         Iterations 8\n",
      "89: Metro: 45580\n"
     ]
    },
    {
     "name": "stderr",
     "output_type": "stream",
     "text": [
      "/Users/emmanuel/.pyenv/versions/3.8.0/envs/redlining/lib/python3.8/site-packages/statsmodels/discrete/discrete_model.py:1810: RuntimeWarning: overflow encountered in exp\n",
      "  return 1/(1+np.exp(-X))\n",
      "/Users/emmanuel/.pyenv/versions/3.8.0/envs/redlining/lib/python3.8/site-packages/statsmodels/discrete/discrete_model.py:1863: RuntimeWarning: divide by zero encountered in log\n",
      "  return np.sum(np.log(self.cdf(q*np.dot(X,params))))\n"
     ]
    },
    {
     "name": "stdout",
     "output_type": "stream",
     "text": [
      "Warning: Maximum number of iterations has been exceeded.\n",
      "         Current function value: inf\n",
      "         Iterations: 35\n",
      "90: Metro: 31420\n",
      "Warning: Maximum number of iterations has been exceeded.\n",
      "         Current function value: 0.143062\n",
      "         Iterations: 35\n",
      "91: Metro: 40660\n"
     ]
    },
    {
     "name": "stderr",
     "output_type": "stream",
     "text": [
      "/Users/emmanuel/.pyenv/versions/3.8.0/envs/redlining/lib/python3.8/site-packages/statsmodels/base/model.py:566: ConvergenceWarning: Maximum Likelihood optimization failed to converge. Check mle_retvals\n",
      "  warnings.warn(\"Maximum Likelihood optimization failed to \"\n",
      "/Users/emmanuel/.pyenv/versions/3.8.0/envs/redlining/lib/python3.8/site-packages/statsmodels/discrete/discrete_model.py:1810: RuntimeWarning: overflow encountered in exp\n",
      "  return 1/(1+np.exp(-X))\n",
      "/Users/emmanuel/.pyenv/versions/3.8.0/envs/redlining/lib/python3.8/site-packages/statsmodels/discrete/discrete_model.py:1863: RuntimeWarning: divide by zero encountered in log\n",
      "  return np.sum(np.log(self.cdf(q*np.dot(X,params))))\n"
     ]
    },
    {
     "name": "stdout",
     "output_type": "stream",
     "text": [
      "Warning: Maximum number of iterations has been exceeded.\n",
      "         Current function value: inf\n",
      "         Iterations: 35\n",
      "92: Metro: 29300\n",
      "Warning: Maximum number of iterations has been exceeded.\n",
      "         Current function value: inf\n",
      "         Iterations: 35\n",
      "93: Metro: 36100\n",
      "Optimization terminated successfully.\n",
      "         Current function value: 0.225997\n",
      "         Iterations 7\n",
      "94: Metro: 42340\n",
      "Warning: Maximum number of iterations has been exceeded.\n",
      "         Current function value: 0.205710\n",
      "         Iterations: 35\n",
      "95: Metro: 27600\n"
     ]
    },
    {
     "name": "stderr",
     "output_type": "stream",
     "text": [
      "/Users/emmanuel/.pyenv/versions/3.8.0/envs/redlining/lib/python3.8/site-packages/statsmodels/base/model.py:566: ConvergenceWarning: Maximum Likelihood optimization failed to converge. Check mle_retvals\n",
      "  warnings.warn(\"Maximum Likelihood optimization failed to \"\n",
      "/Users/emmanuel/.pyenv/versions/3.8.0/envs/redlining/lib/python3.8/site-packages/statsmodels/discrete/discrete_model.py:1810: RuntimeWarning: overflow encountered in exp\n",
      "  return 1/(1+np.exp(-X))\n",
      "/Users/emmanuel/.pyenv/versions/3.8.0/envs/redlining/lib/python3.8/site-packages/statsmodels/discrete/discrete_model.py:1863: RuntimeWarning: divide by zero encountered in log\n",
      "  return np.sum(np.log(self.cdf(q*np.dot(X,params))))\n"
     ]
    },
    {
     "name": "stdout",
     "output_type": "stream",
     "text": [
      "Warning: Maximum number of iterations has been exceeded.\n",
      "         Current function value: inf\n",
      "         Iterations: 35\n",
      "96: Metro: 12020\n",
      "Warning: Maximum number of iterations has been exceeded.\n",
      "         Current function value: 0.153979\n",
      "         Iterations: 35\n",
      "97: Metro: 15260\n"
     ]
    },
    {
     "name": "stderr",
     "output_type": "stream",
     "text": [
      "/Users/emmanuel/.pyenv/versions/3.8.0/envs/redlining/lib/python3.8/site-packages/statsmodels/base/model.py:566: ConvergenceWarning: Maximum Likelihood optimization failed to converge. Check mle_retvals\n",
      "  warnings.warn(\"Maximum Likelihood optimization failed to \"\n"
     ]
    },
    {
     "name": "stdout",
     "output_type": "stream",
     "text": [
      "Warning: Maximum number of iterations has been exceeded.\n",
      "         Current function value: 0.181333\n",
      "         Iterations: 35\n",
      "98: Metro: 23580\n"
     ]
    },
    {
     "name": "stderr",
     "output_type": "stream",
     "text": [
      "/Users/emmanuel/.pyenv/versions/3.8.0/envs/redlining/lib/python3.8/site-packages/statsmodels/base/model.py:566: ConvergenceWarning: Maximum Likelihood optimization failed to converge. Check mle_retvals\n",
      "  warnings.warn(\"Maximum Likelihood optimization failed to \"\n"
     ]
    },
    {
     "name": "stdout",
     "output_type": "stream",
     "text": [
      "Warning: Maximum number of iterations has been exceeded.\n",
      "         Current function value: 0.158875\n",
      "         Iterations: 35\n",
      "99: Metro: 18460\n"
     ]
    },
    {
     "name": "stderr",
     "output_type": "stream",
     "text": [
      "/Users/emmanuel/.pyenv/versions/3.8.0/envs/redlining/lib/python3.8/site-packages/statsmodels/base/model.py:566: ConvergenceWarning: Maximum Likelihood optimization failed to converge. Check mle_retvals\n",
      "  warnings.warn(\"Maximum Likelihood optimization failed to \"\n",
      "/Users/emmanuel/.pyenv/versions/3.8.0/envs/redlining/lib/python3.8/site-packages/statsmodels/discrete/discrete_model.py:1810: RuntimeWarning: overflow encountered in exp\n",
      "  return 1/(1+np.exp(-X))\n",
      "/Users/emmanuel/.pyenv/versions/3.8.0/envs/redlining/lib/python3.8/site-packages/statsmodels/discrete/discrete_model.py:1863: RuntimeWarning: divide by zero encountered in log\n",
      "  return np.sum(np.log(self.cdf(q*np.dot(X,params))))\n"
     ]
    },
    {
     "name": "stdout",
     "output_type": "stream",
     "text": [
      "Warning: Maximum number of iterations has been exceeded.\n",
      "         Current function value: inf\n",
      "         Iterations: 35\n",
      "100: Metro: 33460\n",
      "Optimization terminated successfully.\n",
      "         Current function value: 0.120528\n",
      "         Iterations 9\n",
      "101: Metro: 47580\n",
      "Warning: Maximum number of iterations has been exceeded.\n",
      "         Current function value: 0.150341\n",
      "         Iterations: 35\n",
      "102: Metro: 45740\n"
     ]
    },
    {
     "name": "stderr",
     "output_type": "stream",
     "text": [
      "/Users/emmanuel/.pyenv/versions/3.8.0/envs/redlining/lib/python3.8/site-packages/statsmodels/base/model.py:566: ConvergenceWarning: Maximum Likelihood optimization failed to converge. Check mle_retvals\n",
      "  warnings.warn(\"Maximum Likelihood optimization failed to \"\n",
      "/Users/emmanuel/.pyenv/versions/3.8.0/envs/redlining/lib/python3.8/site-packages/statsmodels/discrete/discrete_model.py:1810: RuntimeWarning: overflow encountered in exp\n",
      "  return 1/(1+np.exp(-X))\n",
      "/Users/emmanuel/.pyenv/versions/3.8.0/envs/redlining/lib/python3.8/site-packages/statsmodels/discrete/discrete_model.py:1863: RuntimeWarning: divide by zero encountered in log\n",
      "  return np.sum(np.log(self.cdf(q*np.dot(X,params))))\n"
     ]
    },
    {
     "name": "stdout",
     "output_type": "stream",
     "text": [
      "Warning: Maximum number of iterations has been exceeded.\n",
      "         Current function value: inf\n",
      "         Iterations: 35\n",
      "103: Metro: 45540\n",
      "Optimization terminated successfully.\n",
      "         Current function value: 0.105951\n",
      "         Iterations 32\n",
      "104: Metro: 17140\n",
      "Optimization terminated successfully.\n",
      "         Current function value: 0.135815\n",
      "         Iterations 8\n",
      "105: Metro: 15660\n",
      "Warning: Maximum number of iterations has been exceeded.\n",
      "         Current function value: 0.189594\n",
      "         Iterations: 35\n",
      "106: Metro: 38240\n",
      "Warning: Maximum number of iterations has been exceeded.\n",
      "         Current function value: 0.173213\n",
      "         Iterations: 35\n",
      "107: Metro: 44340\n"
     ]
    },
    {
     "name": "stderr",
     "output_type": "stream",
     "text": [
      "/Users/emmanuel/.pyenv/versions/3.8.0/envs/redlining/lib/python3.8/site-packages/statsmodels/discrete/discrete_model.py:1810: RuntimeWarning: overflow encountered in exp\n",
      "  return 1/(1+np.exp(-X))\n",
      "/Users/emmanuel/.pyenv/versions/3.8.0/envs/redlining/lib/python3.8/site-packages/statsmodels/discrete/discrete_model.py:1863: RuntimeWarning: divide by zero encountered in log\n",
      "  return np.sum(np.log(self.cdf(q*np.dot(X,params))))\n"
     ]
    },
    {
     "name": "stdout",
     "output_type": "stream",
     "text": [
      "Warning: Maximum number of iterations has been exceeded.\n",
      "         Current function value: inf\n",
      "         Iterations: 35\n",
      "108: Metro: 21020\n",
      "Warning: Maximum number of iterations has been exceeded.\n",
      "         Current function value: 0.091797\n",
      "         Iterations: 35\n",
      "109: Metro: 39340\n"
     ]
    },
    {
     "name": "stderr",
     "output_type": "stream",
     "text": [
      "/Users/emmanuel/.pyenv/versions/3.8.0/envs/redlining/lib/python3.8/site-packages/statsmodels/base/model.py:566: ConvergenceWarning: Maximum Likelihood optimization failed to converge. Check mle_retvals\n",
      "  warnings.warn(\"Maximum Likelihood optimization failed to \"\n"
     ]
    },
    {
     "name": "stdout",
     "output_type": "stream",
     "text": [
      "Warning: Maximum number of iterations has been exceeded.\n",
      "         Current function value: 0.132484\n",
      "         Iterations: 35\n",
      "110: Metro: 19740\n"
     ]
    },
    {
     "name": "stderr",
     "output_type": "stream",
     "text": [
      "/Users/emmanuel/.pyenv/versions/3.8.0/envs/redlining/lib/python3.8/site-packages/statsmodels/base/model.py:566: ConvergenceWarning: Maximum Likelihood optimization failed to converge. Check mle_retvals\n",
      "  warnings.warn(\"Maximum Likelihood optimization failed to \"\n"
     ]
    },
    {
     "name": "stdout",
     "output_type": "stream",
     "text": [
      "Optimization terminated successfully.\n",
      "         Current function value: 0.162925\n",
      "         Iterations 9\n",
      "111: Metro: 25980\n"
     ]
    },
    {
     "name": "stderr",
     "output_type": "stream",
     "text": [
      "/Users/emmanuel/.pyenv/versions/3.8.0/envs/redlining/lib/python3.8/site-packages/statsmodels/discrete/discrete_model.py:1810: RuntimeWarning: overflow encountered in exp\n",
      "  return 1/(1+np.exp(-X))\n",
      "/Users/emmanuel/.pyenv/versions/3.8.0/envs/redlining/lib/python3.8/site-packages/statsmodels/discrete/discrete_model.py:1863: RuntimeWarning: divide by zero encountered in log\n",
      "  return np.sum(np.log(self.cdf(q*np.dot(X,params))))\n"
     ]
    },
    {
     "name": "stdout",
     "output_type": "stream",
     "text": [
      "Warning: Maximum number of iterations has been exceeded.\n",
      "         Current function value: inf\n",
      "         Iterations: 35\n",
      "112: Metro: 10420\n",
      "Warning: Maximum number of iterations has been exceeded.\n",
      "         Current function value: 0.139745\n",
      "         Iterations: 35\n",
      "113: Metro: 41620\n"
     ]
    },
    {
     "name": "stderr",
     "output_type": "stream",
     "text": [
      "/Users/emmanuel/.pyenv/versions/3.8.0/envs/redlining/lib/python3.8/site-packages/statsmodels/base/model.py:566: ConvergenceWarning: Maximum Likelihood optimization failed to converge. Check mle_retvals\n",
      "  warnings.warn(\"Maximum Likelihood optimization failed to \"\n"
     ]
    },
    {
     "name": "stdout",
     "output_type": "stream",
     "text": [
      "Optimization terminated successfully.\n",
      "         Current function value: 0.160218\n",
      "         Iterations 9\n",
      "114: Metro: 24860\n",
      "Warning: Maximum number of iterations has been exceeded.\n",
      "         Current function value: 0.163682\n",
      "         Iterations: 35\n",
      "115: Metro: 26140\n"
     ]
    },
    {
     "name": "stderr",
     "output_type": "stream",
     "text": [
      "/Users/emmanuel/.pyenv/versions/3.8.0/envs/redlining/lib/python3.8/site-packages/statsmodels/base/model.py:566: ConvergenceWarning: Maximum Likelihood optimization failed to converge. Check mle_retvals\n",
      "  warnings.warn(\"Maximum Likelihood optimization failed to \"\n"
     ]
    },
    {
     "name": "stdout",
     "output_type": "stream",
     "text": [
      "Optimization terminated successfully.\n",
      "         Current function value: 0.254573\n",
      "         Iterations 7\n",
      "116: Metro: 38060\n",
      "Optimization terminated successfully.\n",
      "         Current function value: 0.189854\n",
      "         Iterations 8\n",
      "117: Metro: 23104\n",
      "Optimization terminated successfully.\n",
      "         Current function value: 0.161254\n",
      "         Iterations 8\n",
      "118: Metro: 21700\n",
      "Warning: Maximum number of iterations has been exceeded.\n",
      "         Current function value: 0.114723\n",
      "         Iterations: 35\n",
      "119: Metro: 33660\n",
      "Warning: Maximum number of iterations has been exceeded.\n",
      "         Current function value: 0.134767\n",
      "         Iterations: 35\n",
      "120: Metro: 36260\n"
     ]
    },
    {
     "name": "stderr",
     "output_type": "stream",
     "text": [
      "/Users/emmanuel/.pyenv/versions/3.8.0/envs/redlining/lib/python3.8/site-packages/statsmodels/base/model.py:566: ConvergenceWarning: Maximum Likelihood optimization failed to converge. Check mle_retvals\n",
      "  warnings.warn(\"Maximum Likelihood optimization failed to \"\n"
     ]
    },
    {
     "name": "stdout",
     "output_type": "stream",
     "text": [
      "Warning: Maximum number of iterations has been exceeded.\n",
      "         Current function value: 0.152564\n",
      "         Iterations: 35\n",
      "121: Metro: 33860\n"
     ]
    },
    {
     "name": "stderr",
     "output_type": "stream",
     "text": [
      "/Users/emmanuel/.pyenv/versions/3.8.0/envs/redlining/lib/python3.8/site-packages/statsmodels/base/model.py:566: ConvergenceWarning: Maximum Likelihood optimization failed to converge. Check mle_retvals\n",
      "  warnings.warn(\"Maximum Likelihood optimization failed to \"\n"
     ]
    },
    {
     "name": "stdout",
     "output_type": "stream",
     "text": [
      "Warning: Maximum number of iterations has been exceeded.\n",
      "         Current function value: 0.195095\n",
      "         Iterations: 35\n",
      "122: Metro: 38940\n"
     ]
    },
    {
     "name": "stderr",
     "output_type": "stream",
     "text": [
      "/Users/emmanuel/.pyenv/versions/3.8.0/envs/redlining/lib/python3.8/site-packages/statsmodels/base/model.py:566: ConvergenceWarning: Maximum Likelihood optimization failed to converge. Check mle_retvals\n",
      "  warnings.warn(\"Maximum Likelihood optimization failed to \"\n"
     ]
    },
    {
     "name": "stdout",
     "output_type": "stream",
     "text": [
      "Optimization terminated successfully.\n",
      "         Current function value: 0.251661\n",
      "         Iterations 8\n",
      "123: Metro: 34820\n",
      "Optimization terminated successfully.\n",
      "         Current function value: 0.196833\n",
      "         Iterations 8\n",
      "124: Metro: 26620\n",
      "Warning: Maximum number of iterations has been exceeded.\n",
      "         Current function value: 0.130124\n",
      "         Iterations: 35\n",
      "125: Metro: 42680\n"
     ]
    },
    {
     "name": "stderr",
     "output_type": "stream",
     "text": [
      "/Users/emmanuel/.pyenv/versions/3.8.0/envs/redlining/lib/python3.8/site-packages/statsmodels/base/model.py:566: ConvergenceWarning: Maximum Likelihood optimization failed to converge. Check mle_retvals\n",
      "  warnings.warn(\"Maximum Likelihood optimization failed to \"\n"
     ]
    },
    {
     "name": "stdout",
     "output_type": "stream",
     "text": [
      "Warning: Maximum number of iterations has been exceeded.\n",
      "         Current function value: 0.222260\n",
      "         Iterations: 35\n",
      "126: Metro: 23420\n"
     ]
    },
    {
     "name": "stderr",
     "output_type": "stream",
     "text": [
      "/Users/emmanuel/.pyenv/versions/3.8.0/envs/redlining/lib/python3.8/site-packages/statsmodels/base/model.py:566: ConvergenceWarning: Maximum Likelihood optimization failed to converge. Check mle_retvals\n",
      "  warnings.warn(\"Maximum Likelihood optimization failed to \"\n"
     ]
    },
    {
     "name": "stdout",
     "output_type": "stream",
     "text": [
      "Optimization terminated successfully.\n",
      "         Current function value: 0.188308\n",
      "         Iterations 8\n",
      "127: Metro: 20780\n",
      "Warning: Maximum number of iterations has been exceeded.\n",
      "         Current function value: 0.210114\n",
      "         Iterations: 35\n",
      "128: Metro: 13820\n",
      "Optimization terminated successfully.\n",
      "         Current function value: 0.146983\n",
      "         Iterations 8\n",
      "129: Metro: 21340\n",
      "Optimization terminated successfully.\n",
      "         Current function value: 0.199637\n",
      "         Iterations 8\n",
      "130: Metro: 17900\n",
      "Optimization terminated successfully.\n",
      "         Current function value: 0.162918\n",
      "         Iterations 8\n",
      "131: Metro: 17980\n"
     ]
    },
    {
     "name": "stderr",
     "output_type": "stream",
     "text": [
      "/Users/emmanuel/.pyenv/versions/3.8.0/envs/redlining/lib/python3.8/site-packages/statsmodels/discrete/discrete_model.py:1810: RuntimeWarning: overflow encountered in exp\n",
      "  return 1/(1+np.exp(-X))\n",
      "/Users/emmanuel/.pyenv/versions/3.8.0/envs/redlining/lib/python3.8/site-packages/statsmodels/discrete/discrete_model.py:1863: RuntimeWarning: divide by zero encountered in log\n",
      "  return np.sum(np.log(self.cdf(q*np.dot(X,params))))\n"
     ]
    },
    {
     "name": "stdout",
     "output_type": "stream",
     "text": [
      "Warning: Maximum number of iterations has been exceeded.\n",
      "         Current function value: inf\n",
      "         Iterations: 35\n",
      "132: Metro: 20660\n",
      "Warning: Maximum number of iterations has been exceeded.\n",
      "         Current function value: inf\n",
      "         Iterations: 35\n",
      "133: Metro: 10500\n",
      "Warning: Maximum number of iterations has been exceeded.\n",
      "         Current function value: 0.094870\n",
      "         Iterations: 35\n",
      "134: Metro: 14260\n",
      "Optimization terminated successfully.\n",
      "         Current function value: 0.118264\n",
      "         Iterations 8\n",
      "135: Metro: 45104\n",
      "Optimization terminated successfully.\n",
      "         Current function value: 0.162891\n",
      "         Iterations 8\n",
      "136: Metro: 11700\n",
      "Warning: Maximum number of iterations has been exceeded.\n",
      "         Current function value: 0.174459\n",
      "         Iterations: 35\n",
      "137: Metro: 43620\n"
     ]
    },
    {
     "name": "stderr",
     "output_type": "stream",
     "text": [
      "/Users/emmanuel/.pyenv/versions/3.8.0/envs/redlining/lib/python3.8/site-packages/statsmodels/base/model.py:566: ConvergenceWarning: Maximum Likelihood optimization failed to converge. Check mle_retvals\n",
      "  warnings.warn(\"Maximum Likelihood optimization failed to \"\n"
     ]
    },
    {
     "name": "stdout",
     "output_type": "stream",
     "text": [
      "Warning: Maximum number of iterations has been exceeded.\n",
      "         Current function value: 0.071461\n",
      "         Iterations: 35\n",
      "138: Metro: 28060\n"
     ]
    },
    {
     "name": "stderr",
     "output_type": "stream",
     "text": [
      "/Users/emmanuel/.pyenv/versions/3.8.0/envs/redlining/lib/python3.8/site-packages/statsmodels/discrete/discrete_model.py:1810: RuntimeWarning: overflow encountered in exp\n",
      "  return 1/(1+np.exp(-X))\n",
      "/Users/emmanuel/.pyenv/versions/3.8.0/envs/redlining/lib/python3.8/site-packages/statsmodels/discrete/discrete_model.py:1863: RuntimeWarning: divide by zero encountered in log\n",
      "  return np.sum(np.log(self.cdf(q*np.dot(X,params))))\n"
     ]
    },
    {
     "name": "stdout",
     "output_type": "stream",
     "text": [
      "Warning: Maximum number of iterations has been exceeded.\n",
      "         Current function value: inf\n",
      "         Iterations: 35\n",
      "139: Metro: 41100\n",
      "Warning: Maximum number of iterations has been exceeded.\n",
      "         Current function value: 0.163756\n",
      "         Iterations: 35\n",
      "140: Metro: 24300\n",
      "Warning: Maximum number of iterations has been exceeded.\n",
      "         Current function value: 0.155795\n",
      "         Iterations: 35\n",
      "141: Metro: 44460\n",
      "Warning: Maximum number of iterations has been exceeded.\n",
      "         Current function value: inf\n",
      "         Iterations: 35\n",
      "142: Metro: 24060\n",
      "Warning: Maximum number of iterations has been exceeded.\n",
      "         Current function value: 0.185528\n",
      "         Iterations: 35\n",
      "143: Metro: 40940\n",
      "Warning: Maximum number of iterations has been exceeded.\n",
      "         Current function value: inf\n",
      "         Iterations: 35\n",
      "144: Metro: 42220\n",
      "Warning: Maximum number of iterations has been exceeded.\n",
      "         Current function value: 0.189543\n",
      "         Iterations: 35\n",
      "145: Metro: 34580\n",
      "Optimization terminated successfully.\n",
      "         Current function value: 0.145189\n",
      "         Iterations 8\n",
      "146: Metro: 39900\n",
      "Optimization terminated successfully.\n",
      "         Current function value: 0.154524\n",
      "         Iterations 8\n",
      "147: Metro: 36420\n",
      "Optimization terminated successfully.\n",
      "         Current function value: 0.150967\n",
      "         Iterations 9\n",
      "148: Metro: 28180\n"
     ]
    },
    {
     "name": "stderr",
     "output_type": "stream",
     "text": [
      "/Users/emmanuel/.pyenv/versions/3.8.0/envs/redlining/lib/python3.8/site-packages/statsmodels/discrete/discrete_model.py:1810: RuntimeWarning: overflow encountered in exp\n",
      "  return 1/(1+np.exp(-X))\n",
      "/Users/emmanuel/.pyenv/versions/3.8.0/envs/redlining/lib/python3.8/site-packages/statsmodels/discrete/discrete_model.py:1863: RuntimeWarning: divide by zero encountered in log\n",
      "  return np.sum(np.log(self.cdf(q*np.dot(X,params))))\n"
     ]
    },
    {
     "name": "stdout",
     "output_type": "stream",
     "text": [
      "Warning: Maximum number of iterations has been exceeded.\n",
      "         Current function value: inf\n",
      "         Iterations: 35\n",
      "149: Metro: 44700\n",
      "Optimization terminated successfully.\n",
      "         Current function value: 0.242263\n",
      "         Iterations 8\n",
      "150: Metro: 23940\n"
     ]
    },
    {
     "name": "stderr",
     "output_type": "stream",
     "text": [
      "/Users/emmanuel/.pyenv/versions/3.8.0/envs/redlining/lib/python3.8/site-packages/statsmodels/discrete/discrete_model.py:1810: RuntimeWarning: overflow encountered in exp\n",
      "  return 1/(1+np.exp(-X))\n",
      "/Users/emmanuel/.pyenv/versions/3.8.0/envs/redlining/lib/python3.8/site-packages/statsmodels/discrete/discrete_model.py:1863: RuntimeWarning: divide by zero encountered in log\n",
      "  return np.sum(np.log(self.cdf(q*np.dot(X,params))))\n"
     ]
    },
    {
     "name": "stdout",
     "output_type": "stream",
     "text": [
      "Warning: Maximum number of iterations has been exceeded.\n",
      "         Current function value: inf\n",
      "         Iterations: 35\n",
      "151: Metro: 14720\n",
      "Warning: Maximum number of iterations has been exceeded.\n",
      "         Current function value: 0.166144\n",
      "         Iterations: 35\n",
      "152: Metro: 33940\n",
      "Warning: Maximum number of iterations has been exceeded.\n",
      "         Current function value: 0.059993\n",
      "         Iterations: 35\n",
      "153: Metro: 29820\n",
      "Optimization terminated successfully.\n",
      "         Current function value: 0.248456\n",
      "         Iterations 7\n",
      "154: Metro: 40340\n",
      "Warning: Maximum number of iterations has been exceeded.\n",
      "         Current function value: 0.116417\n",
      "         Iterations: 35\n",
      "155: Metro: 15860\n",
      "Warning: Maximum number of iterations has been exceeded.\n",
      "         Current function value: 0.182644\n",
      "         Iterations: 35\n",
      "156: Metro: 28140\n",
      "Optimization terminated successfully.\n",
      "         Current function value: 0.132532\n",
      "         Iterations 8\n",
      "157: Metro: 10740\n",
      "Optimization terminated successfully.\n",
      "         Current function value: 0.168350\n",
      "         Iterations 8\n",
      "158: Metro: 16700\n",
      "Optimization terminated successfully.\n",
      "         Current function value: 0.198549\n",
      "         Iterations 8\n",
      "159: Metro: 48300\n",
      "Warning: Maximum number of iterations has been exceeded.\n",
      "         Current function value: 0.145227\n",
      "         Iterations: 35\n",
      "160: Metro: 18780\n"
     ]
    },
    {
     "name": "stderr",
     "output_type": "stream",
     "text": [
      "/Users/emmanuel/.pyenv/versions/3.8.0/envs/redlining/lib/python3.8/site-packages/statsmodels/base/model.py:566: ConvergenceWarning: Maximum Likelihood optimization failed to converge. Check mle_retvals\n",
      "  warnings.warn(\"Maximum Likelihood optimization failed to \"\n",
      "/Users/emmanuel/.pyenv/versions/3.8.0/envs/redlining/lib/python3.8/site-packages/statsmodels/discrete/discrete_model.py:1810: RuntimeWarning: overflow encountered in exp\n",
      "  return 1/(1+np.exp(-X))\n",
      "/Users/emmanuel/.pyenv/versions/3.8.0/envs/redlining/lib/python3.8/site-packages/statsmodels/discrete/discrete_model.py:1863: RuntimeWarning: divide by zero encountered in log\n",
      "  return np.sum(np.log(self.cdf(q*np.dot(X,params))))\n"
     ]
    },
    {
     "name": "stdout",
     "output_type": "stream",
     "text": [
      "Warning: Maximum number of iterations has been exceeded.\n",
      "         Current function value: inf\n",
      "         Iterations: 35\n",
      "161: Metro: 17820\n",
      "Warning: Maximum number of iterations has been exceeded.\n",
      "         Current function value: 0.135602\n",
      "         Iterations: 35\n",
      "162: Metro: 46060\n",
      "Optimization terminated successfully.\n",
      "         Current function value: 0.163890\n",
      "         Iterations 8\n",
      "163: Metro: 14500\n",
      "Warning: Maximum number of iterations has been exceeded.\n",
      "         Current function value: 0.137378\n",
      "         Iterations: 35\n",
      "164: Metro: 26660\n"
     ]
    },
    {
     "name": "stderr",
     "output_type": "stream",
     "text": [
      "/Users/emmanuel/.pyenv/versions/3.8.0/envs/redlining/lib/python3.8/site-packages/statsmodels/base/model.py:566: ConvergenceWarning: Maximum Likelihood optimization failed to converge. Check mle_retvals\n",
      "  warnings.warn(\"Maximum Likelihood optimization failed to \"\n"
     ]
    },
    {
     "name": "stdout",
     "output_type": "stream",
     "text": [
      "Warning: Maximum number of iterations has been exceeded.\n",
      "         Current function value: 0.084900\n",
      "         Iterations: 35\n",
      "165: Metro: 41500\n",
      "Optimization terminated successfully.\n",
      "         Current function value: 0.232890\n",
      "         Iterations 22\n",
      "166: Metro: 24540\n",
      "Optimization terminated successfully.\n",
      "         Current function value: 0.160481\n",
      "         Iterations 9\n",
      "167: Metro: 16100\n"
     ]
    },
    {
     "name": "stderr",
     "output_type": "stream",
     "text": [
      "/Users/emmanuel/.pyenv/versions/3.8.0/envs/redlining/lib/python3.8/site-packages/statsmodels/discrete/discrete_model.py:1810: RuntimeWarning: overflow encountered in exp\n",
      "  return 1/(1+np.exp(-X))\n",
      "/Users/emmanuel/.pyenv/versions/3.8.0/envs/redlining/lib/python3.8/site-packages/statsmodels/discrete/discrete_model.py:1863: RuntimeWarning: divide by zero encountered in log\n",
      "  return np.sum(np.log(self.cdf(q*np.dot(X,params))))\n"
     ]
    },
    {
     "name": "stdout",
     "output_type": "stream",
     "text": [
      "Warning: Maximum number of iterations has been exceeded.\n",
      "         Current function value: inf\n",
      "         Iterations: 35\n",
      "168: Metro: 41884\n",
      "Optimization terminated successfully.\n",
      "         Current function value: 0.191139\n",
      "         Iterations 8\n",
      "169: Metro: 39150\n",
      "Optimization terminated successfully.\n",
      "         Current function value: 0.147221\n",
      "         Iterations 8\n",
      "170: Metro: 42100\n"
     ]
    },
    {
     "name": "stderr",
     "output_type": "stream",
     "text": [
      "/Users/emmanuel/.pyenv/versions/3.8.0/envs/redlining/lib/python3.8/site-packages/statsmodels/discrete/discrete_model.py:1810: RuntimeWarning: overflow encountered in exp\n",
      "  return 1/(1+np.exp(-X))\n",
      "/Users/emmanuel/.pyenv/versions/3.8.0/envs/redlining/lib/python3.8/site-packages/statsmodels/discrete/discrete_model.py:1863: RuntimeWarning: divide by zero encountered in log\n",
      "  return np.sum(np.log(self.cdf(q*np.dot(X,params))))\n"
     ]
    },
    {
     "name": "stdout",
     "output_type": "stream",
     "text": [
      "Warning: Maximum number of iterations has been exceeded.\n",
      "         Current function value: inf\n",
      "         Iterations: 35\n",
      "171: Metro: 22280\n",
      "Warning: Maximum number of iterations has been exceeded.\n",
      "         Current function value: 0.067316\n",
      "         Iterations: 35\n",
      "172: Metro: 36500\n",
      "Optimization terminated successfully.\n",
      "         Current function value: 0.142449\n",
      "         Iterations 8\n",
      "173: Metro: 33260\n",
      "Warning: Maximum number of iterations has been exceeded.\n",
      "         Current function value: 0.148702\n",
      "         Iterations: 35\n",
      "174: Metro: 33140\n"
     ]
    },
    {
     "name": "stderr",
     "output_type": "stream",
     "text": [
      "/Users/emmanuel/.pyenv/versions/3.8.0/envs/redlining/lib/python3.8/site-packages/statsmodels/base/model.py:566: ConvergenceWarning: Maximum Likelihood optimization failed to converge. Check mle_retvals\n",
      "  warnings.warn(\"Maximum Likelihood optimization failed to \"\n"
     ]
    },
    {
     "name": "stdout",
     "output_type": "stream",
     "text": [
      "Warning: Maximum number of iterations has been exceeded.\n",
      "         Current function value: 0.170337\n",
      "         Iterations: 35\n",
      "175: Metro: 39380\n"
     ]
    },
    {
     "name": "stderr",
     "output_type": "stream",
     "text": [
      "/Users/emmanuel/.pyenv/versions/3.8.0/envs/redlining/lib/python3.8/site-packages/statsmodels/base/model.py:566: ConvergenceWarning: Maximum Likelihood optimization failed to converge. Check mle_retvals\n",
      "  warnings.warn(\"Maximum Likelihood optimization failed to \"\n"
     ]
    },
    {
     "name": "stdout",
     "output_type": "stream",
     "text": [
      "Warning: Maximum number of iterations has been exceeded.\n",
      "         Current function value: 0.172229\n",
      "         Iterations: 35\n",
      "176: Metro: 46520\n"
     ]
    },
    {
     "name": "stderr",
     "output_type": "stream",
     "text": [
      "/Users/emmanuel/.pyenv/versions/3.8.0/envs/redlining/lib/python3.8/site-packages/statsmodels/base/model.py:566: ConvergenceWarning: Maximum Likelihood optimization failed to converge. Check mle_retvals\n",
      "  warnings.warn(\"Maximum Likelihood optimization failed to \"\n"
     ]
    },
    {
     "name": "stdout",
     "output_type": "stream",
     "text": [
      "Optimization terminated successfully.\n",
      "         Current function value: 0.180367\n",
      "         Iterations 8\n",
      "177: Metro: 39420\n"
     ]
    },
    {
     "name": "stderr",
     "output_type": "stream",
     "text": [
      "/Users/emmanuel/.pyenv/versions/3.8.0/envs/redlining/lib/python3.8/site-packages/statsmodels/discrete/discrete_model.py:1810: RuntimeWarning: overflow encountered in exp\n",
      "  return 1/(1+np.exp(-X))\n",
      "/Users/emmanuel/.pyenv/versions/3.8.0/envs/redlining/lib/python3.8/site-packages/statsmodels/discrete/discrete_model.py:1863: RuntimeWarning: divide by zero encountered in log\n",
      "  return np.sum(np.log(self.cdf(q*np.dot(X,params))))\n"
     ]
    },
    {
     "name": "stdout",
     "output_type": "stream",
     "text": [
      "Warning: Maximum number of iterations has been exceeded.\n",
      "         Current function value: inf\n",
      "         Iterations: 35\n",
      "178: Metro: 17020\n",
      "Warning: Maximum number of iterations has been exceeded.\n",
      "         Current function value: 0.135460\n",
      "         Iterations: 35\n",
      "179: Metro: 33700\n"
     ]
    },
    {
     "name": "stderr",
     "output_type": "stream",
     "text": [
      "/Users/emmanuel/.pyenv/versions/3.8.0/envs/redlining/lib/python3.8/site-packages/statsmodels/base/model.py:566: ConvergenceWarning: Maximum Likelihood optimization failed to converge. Check mle_retvals\n",
      "  warnings.warn(\"Maximum Likelihood optimization failed to \"\n"
     ]
    },
    {
     "name": "stdout",
     "output_type": "stream",
     "text": [
      "Optimization terminated successfully.\n",
      "         Current function value: 0.201660\n",
      "         Iterations 8\n",
      "180: Metro: 42200\n",
      "Warning: Maximum number of iterations has been exceeded.\n",
      "         Current function value: 0.188182\n",
      "         Iterations: 35\n",
      "181: Metro: 25260\n"
     ]
    },
    {
     "name": "stderr",
     "output_type": "stream",
     "text": [
      "/Users/emmanuel/.pyenv/versions/3.8.0/envs/redlining/lib/python3.8/site-packages/statsmodels/base/model.py:566: ConvergenceWarning: Maximum Likelihood optimization failed to converge. Check mle_retvals\n",
      "  warnings.warn(\"Maximum Likelihood optimization failed to \"\n",
      "/Users/emmanuel/.pyenv/versions/3.8.0/envs/redlining/lib/python3.8/site-packages/statsmodels/base/model.py:566: ConvergenceWarning: Maximum Likelihood optimization failed to converge. Check mle_retvals\n",
      "  warnings.warn(\"Maximum Likelihood optimization failed to \"\n"
     ]
    },
    {
     "name": "stdout",
     "output_type": "stream",
     "text": [
      "Warning: Maximum number of iterations has been exceeded.\n",
      "         Current function value: 0.130104\n",
      "         Iterations: 35\n",
      "182: Metro: 41060\n",
      "Optimization terminated successfully.\n",
      "         Current function value: 0.097878\n",
      "         Iterations 9\n",
      "183: Metro: 33540\n",
      "Warning: Maximum number of iterations has been exceeded.\n",
      "         Current function value: 0.106174\n",
      "         Iterations: 35\n",
      "184: Metro: 13380\n",
      "Warning: Maximum number of iterations has been exceeded.\n",
      "         Current function value: 0.160969\n",
      "         Iterations: 35\n",
      "185: Metro: 32900\n"
     ]
    },
    {
     "name": "stderr",
     "output_type": "stream",
     "text": [
      "/Users/emmanuel/.pyenv/versions/3.8.0/envs/redlining/lib/python3.8/site-packages/statsmodels/base/model.py:566: ConvergenceWarning: Maximum Likelihood optimization failed to converge. Check mle_retvals\n",
      "  warnings.warn(\"Maximum Likelihood optimization failed to \"\n"
     ]
    },
    {
     "name": "stdout",
     "output_type": "stream",
     "text": [
      "Optimization terminated successfully.\n",
      "         Current function value: 0.224271\n",
      "         Iterations 8\n",
      "186: Metro: 46860\n"
     ]
    },
    {
     "name": "stderr",
     "output_type": "stream",
     "text": [
      "/Users/emmanuel/.pyenv/versions/3.8.0/envs/redlining/lib/python3.8/site-packages/statsmodels/discrete/discrete_model.py:1810: RuntimeWarning: overflow encountered in exp\n",
      "  return 1/(1+np.exp(-X))\n",
      "/Users/emmanuel/.pyenv/versions/3.8.0/envs/redlining/lib/python3.8/site-packages/statsmodels/discrete/discrete_model.py:1863: RuntimeWarning: divide by zero encountered in log\n",
      "  return np.sum(np.log(self.cdf(q*np.dot(X,params))))\n"
     ]
    },
    {
     "name": "stdout",
     "output_type": "stream",
     "text": [
      "Warning: Maximum number of iterations has been exceeded.\n",
      "         Current function value: inf\n",
      "         Iterations: 35\n",
      "187: Metro: 49100\n",
      "Warning: Maximum number of iterations has been exceeded.\n",
      "         Current function value: inf\n",
      "         Iterations: 35\n",
      "188: Metro: 28100\n",
      "Warning: Maximum number of iterations has been exceeded.\n",
      "         Current function value: inf\n",
      "         Iterations: 35\n",
      "189: Metro: 39460\n",
      "Optimization terminated successfully.\n",
      "         Current function value: 0.221615\n",
      "         Iterations 8\n",
      "190: Metro: 39860\n",
      "Warning: Maximum number of iterations has been exceeded.\n",
      "         Current function value: 0.121552\n",
      "         Iterations: 35\n",
      "191: Metro: 25720\n",
      "Optimization terminated successfully.\n",
      "         Current function value: 0.198126\n",
      "         Iterations 18\n",
      "192: Metro: 37740\n",
      "Warning: Maximum number of iterations has been exceeded.\n",
      "         Current function value: 0.183245\n",
      "         Iterations: 35\n",
      "193: Metro: 48900\n",
      "Optimization terminated successfully.\n",
      "         Current function value: 0.150632\n",
      "         Iterations 18\n",
      "194: Metro: 25540\n",
      "Optimization terminated successfully.\n",
      "         Current function value: 0.182515\n",
      "         Iterations 8\n",
      "195: Metro: 16260\n",
      "Warning: Maximum number of iterations has been exceeded.\n",
      "         Current function value: 0.229352\n",
      "         Iterations: 35\n",
      "196: Metro: 43420\n",
      "Warning: Maximum number of iterations has been exceeded.\n",
      "         Current function value: 0.168238\n",
      "         Iterations: 35\n",
      "197: Metro: 16500\n",
      "Warning: Maximum number of iterations has been exceeded.\n",
      "         Current function value: 0.166232\n",
      "         Iterations: 35\n",
      "198: Metro: 44060\n",
      "Optimization terminated successfully.\n",
      "         Current function value: 0.165563\n",
      "         Iterations 8\n",
      "199: Metro: 29620\n",
      "Optimization terminated successfully.\n",
      "         Current function value: 0.130012\n",
      "         Iterations 9\n",
      "200: Metro: 36620\n",
      "Warning: Maximum number of iterations has been exceeded.\n",
      "         Current function value: 0.190674\n",
      "         Iterations: 35\n",
      "201: Metro: 14660\n",
      "Warning: Maximum number of iterations has been exceeded.\n",
      "         Current function value: 0.135526\n",
      "         Iterations: 35\n",
      "202: Metro: 37220\n",
      "Optimization terminated successfully.\n",
      "         Current function value: 0.281614\n",
      "         Iterations 28\n",
      "203: Metro: 20940\n",
      "Warning: Maximum number of iterations has been exceeded.\n",
      "         Current function value: 0.219242\n",
      "         Iterations: 35\n",
      "204: Metro: 31820\n",
      "Warning: Maximum number of iterations has been exceeded.\n",
      "         Current function value: 0.193826\n",
      "         Iterations: 35\n",
      "205: Metro: 26780\n",
      "Warning: Maximum number of iterations has been exceeded.\n",
      "         Current function value: 0.089634\n",
      "         Iterations: 35\n",
      "206: Metro: 31460\n"
     ]
    },
    {
     "name": "stderr",
     "output_type": "stream",
     "text": [
      "/Users/emmanuel/.pyenv/versions/3.8.0/envs/redlining/lib/python3.8/site-packages/statsmodels/discrete/discrete_model.py:1810: RuntimeWarning: overflow encountered in exp\n",
      "  return 1/(1+np.exp(-X))\n",
      "/Users/emmanuel/.pyenv/versions/3.8.0/envs/redlining/lib/python3.8/site-packages/statsmodels/discrete/discrete_model.py:1863: RuntimeWarning: divide by zero encountered in log\n",
      "  return np.sum(np.log(self.cdf(q*np.dot(X,params))))\n"
     ]
    },
    {
     "name": "stdout",
     "output_type": "stream",
     "text": [
      "Warning: Maximum number of iterations has been exceeded.\n",
      "         Current function value: inf\n",
      "         Iterations: 35\n",
      "207: Metro: 22580\n",
      "Warning: Maximum number of iterations has been exceeded.\n",
      "         Current function value: 0.181352\n",
      "         Iterations: 35\n",
      "208: Metro: 22820\n",
      "Warning: Maximum number of iterations has been exceeded.\n",
      "         Current function value: inf\n",
      "         Iterations: 35\n",
      "209: Metro: 12380\n",
      "Warning: Maximum number of iterations has been exceeded.\n",
      "         Current function value: 0.115529\n",
      "         Iterations: 35\n",
      "210: Metro: 38900\n",
      "Optimization terminated successfully.\n",
      "         Current function value: 0.141175\n",
      "         Iterations 8\n",
      "211: Metro: 22060\n"
     ]
    },
    {
     "name": "stderr",
     "output_type": "stream",
     "text": [
      "/Users/emmanuel/.pyenv/versions/3.8.0/envs/redlining/lib/python3.8/site-packages/statsmodels/discrete/discrete_model.py:1810: RuntimeWarning: overflow encountered in exp\n",
      "  return 1/(1+np.exp(-X))\n",
      "/Users/emmanuel/.pyenv/versions/3.8.0/envs/redlining/lib/python3.8/site-packages/statsmodels/discrete/discrete_model.py:1863: RuntimeWarning: divide by zero encountered in log\n",
      "  return np.sum(np.log(self.cdf(q*np.dot(X,params))))\n"
     ]
    },
    {
     "name": "stdout",
     "output_type": "stream",
     "text": [
      "Warning: Maximum number of iterations has been exceeded.\n",
      "         Current function value: inf\n",
      "         Iterations: 35\n",
      "212: Metro: 10140\n",
      "Optimization terminated successfully.\n",
      "         Current function value: 0.153918\n",
      "         Iterations 23\n",
      "213: Metro: 42140\n",
      "Optimization terminated successfully.\n",
      "         Current function value: 0.199893\n",
      "         Iterations 8\n",
      "214: Metro: 43900\n",
      "Optimization terminated successfully.\n",
      "         Current function value: 0.215979\n",
      "         Iterations 8\n",
      "215: Metro: 13720\n"
     ]
    },
    {
     "name": "stderr",
     "output_type": "stream",
     "text": [
      "/Users/emmanuel/.pyenv/versions/3.8.0/envs/redlining/lib/python3.8/site-packages/statsmodels/discrete/discrete_model.py:1810: RuntimeWarning: overflow encountered in exp\n",
      "  return 1/(1+np.exp(-X))\n",
      "/Users/emmanuel/.pyenv/versions/3.8.0/envs/redlining/lib/python3.8/site-packages/statsmodels/discrete/discrete_model.py:1863: RuntimeWarning: divide by zero encountered in log\n",
      "  return np.sum(np.log(self.cdf(q*np.dot(X,params))))\n"
     ]
    },
    {
     "name": "stdout",
     "output_type": "stream",
     "text": [
      "Warning: Maximum number of iterations has been exceeded.\n",
      "         Current function value: inf\n",
      "         Iterations: 35\n",
      "216: Metro: 36940\n",
      "Warning: Maximum number of iterations has been exceeded.\n",
      "         Current function value: 0.074574\n",
      "         Iterations: 35\n",
      "217: Metro: 14580\n",
      "Warning: Maximum number of iterations has been exceeded.\n",
      "         Current function value: 0.110178\n",
      "         Iterations: 35\n",
      "218: Metro: 43320\n",
      "Warning: Maximum number of iterations has been exceeded.\n",
      "         Current function value: 0.144655\n",
      "         Iterations: 35\n",
      "219: Metro: 22660\n",
      "Warning: Maximum number of iterations has been exceeded.\n",
      "         Current function value: 0.157797\n",
      "         Iterations: 35\n",
      "220: Metro: 40420\n"
     ]
    },
    {
     "name": "stderr",
     "output_type": "stream",
     "text": [
      "/Users/emmanuel/.pyenv/versions/3.8.0/envs/redlining/lib/python3.8/site-packages/statsmodels/base/model.py:566: ConvergenceWarning: Maximum Likelihood optimization failed to converge. Check mle_retvals\n",
      "  warnings.warn(\"Maximum Likelihood optimization failed to \"\n"
     ]
    },
    {
     "name": "stdout",
     "output_type": "stream",
     "text": [
      "Optimization terminated successfully.\n",
      "         Current function value: 0.169618\n",
      "         Iterations 8\n",
      "221: Metro: 14740\n",
      "Optimization terminated successfully.\n",
      "         Current function value: 0.157179\n",
      "         Iterations 8\n",
      "222: Metro: 29420\n",
      "Optimization terminated successfully.\n",
      "         Current function value: 0.243366\n",
      "         Iterations 8\n",
      "223: Metro: 16940\n"
     ]
    },
    {
     "name": "stderr",
     "output_type": "stream",
     "text": [
      "/Users/emmanuel/.pyenv/versions/3.8.0/envs/redlining/lib/python3.8/site-packages/statsmodels/discrete/discrete_model.py:1810: RuntimeWarning: overflow encountered in exp\n",
      "  return 1/(1+np.exp(-X))\n",
      "/Users/emmanuel/.pyenv/versions/3.8.0/envs/redlining/lib/python3.8/site-packages/statsmodels/discrete/discrete_model.py:1863: RuntimeWarning: divide by zero encountered in log\n",
      "  return np.sum(np.log(self.cdf(q*np.dot(X,params))))\n"
     ]
    },
    {
     "name": "stdout",
     "output_type": "stream",
     "text": [
      "Warning: Maximum number of iterations has been exceeded.\n",
      "         Current function value: inf\n",
      "         Iterations: 35\n",
      "224: Metro: 35440\n",
      "Warning: Maximum number of iterations has been exceeded.\n",
      "         Current function value: 0.190961\n",
      "         Iterations: 35\n",
      "225: Metro: 16180\n",
      "Warning: Maximum number of iterations has been exceeded.\n",
      "         Current function value: 0.062871\n",
      "         Iterations: 35\n",
      "226: Metro: 41420\n",
      "Optimization terminated successfully.\n",
      "         Current function value: 0.162429\n",
      "         Iterations 8\n",
      "227: Metro: 45220\n",
      "Warning: Maximum number of iterations has been exceeded.\n",
      "         Current function value: 0.211739\n",
      "         Iterations: 35\n",
      "228: Metro: 26740\n"
     ]
    },
    {
     "name": "stderr",
     "output_type": "stream",
     "text": [
      "/Users/emmanuel/.pyenv/versions/3.8.0/envs/redlining/lib/python3.8/site-packages/statsmodels/base/model.py:566: ConvergenceWarning: Maximum Likelihood optimization failed to converge. Check mle_retvals\n",
      "  warnings.warn(\"Maximum Likelihood optimization failed to \"\n",
      "/Users/emmanuel/.pyenv/versions/3.8.0/envs/redlining/lib/python3.8/site-packages/statsmodels/discrete/discrete_model.py:1810: RuntimeWarning: overflow encountered in exp\n",
      "  return 1/(1+np.exp(-X))\n",
      "/Users/emmanuel/.pyenv/versions/3.8.0/envs/redlining/lib/python3.8/site-packages/statsmodels/discrete/discrete_model.py:1863: RuntimeWarning: divide by zero encountered in log\n",
      "  return np.sum(np.log(self.cdf(q*np.dot(X,params))))\n"
     ]
    },
    {
     "name": "stdout",
     "output_type": "stream",
     "text": [
      "Warning: Maximum number of iterations has been exceeded.\n",
      "         Current function value: inf\n",
      "         Iterations: 35\n",
      "229: Metro: 29660\n",
      "Warning: Maximum number of iterations has been exceeded.\n",
      "         Current function value: inf\n",
      "         Iterations: 35\n",
      "230: Metro: 32700\n",
      "Warning: Maximum number of iterations has been exceeded.\n",
      "         Current function value: inf\n",
      "         Iterations: 35\n",
      "231: Metro: 42034\n",
      "Warning: Maximum number of iterations has been exceeded.\n",
      "         Current function value: inf\n",
      "         Iterations: 35\n",
      "232: Metro: 36020\n",
      "Warning: Maximum number of iterations has been exceeded.\n",
      "         Current function value: 0.164301\n",
      "         Iterations: 35\n",
      "233: Metro: 12220\n",
      "Warning: Maximum number of iterations has been exceeded.\n",
      "         Current function value: 0.110495\n",
      "         Iterations: 35\n",
      "234: Metro: 23860\n"
     ]
    },
    {
     "name": "stderr",
     "output_type": "stream",
     "text": [
      "/Users/emmanuel/.pyenv/versions/3.8.0/envs/redlining/lib/python3.8/site-packages/statsmodels/base/model.py:566: ConvergenceWarning: Maximum Likelihood optimization failed to converge. Check mle_retvals\n",
      "  warnings.warn(\"Maximum Likelihood optimization failed to \"\n",
      "/Users/emmanuel/.pyenv/versions/3.8.0/envs/redlining/lib/python3.8/site-packages/statsmodels/discrete/discrete_model.py:1810: RuntimeWarning: overflow encountered in exp\n",
      "  return 1/(1+np.exp(-X))\n",
      "/Users/emmanuel/.pyenv/versions/3.8.0/envs/redlining/lib/python3.8/site-packages/statsmodels/discrete/discrete_model.py:1863: RuntimeWarning: divide by zero encountered in log\n",
      "  return np.sum(np.log(self.cdf(q*np.dot(X,params))))\n"
     ]
    },
    {
     "name": "stdout",
     "output_type": "stream",
     "text": [
      "Warning: Maximum number of iterations has been exceeded.\n",
      "         Current function value: inf\n",
      "         Iterations: 35\n",
      "235: Metro: 43760\n",
      "Warning: Maximum number of iterations has been exceeded.\n",
      "         Current function value: 0.182893\n",
      "         Iterations: 35\n",
      "236: Metro: 19940\n",
      "Warning: Maximum number of iterations has been exceeded.\n",
      "         Current function value: inf\n",
      "         Iterations: 35\n",
      "237: Metro: 32000\n",
      "Warning: Maximum number of iterations has been exceeded.\n",
      "         Current function value: 0.052965\n",
      "         Iterations: 35\n",
      "238: Metro: 42020\n"
     ]
    },
    {
     "name": "stderr",
     "output_type": "stream",
     "text": [
      "/Users/emmanuel/.pyenv/versions/3.8.0/envs/redlining/lib/python3.8/site-packages/statsmodels/base/model.py:566: ConvergenceWarning: Maximum Likelihood optimization failed to converge. Check mle_retvals\n",
      "  warnings.warn(\"Maximum Likelihood optimization failed to \"\n"
     ]
    },
    {
     "name": "stdout",
     "output_type": "stream",
     "text": [
      "Warning: Maximum number of iterations has been exceeded.\n",
      "         Current function value: 0.142248\n",
      "         Iterations: 35\n",
      "239: Metro: 24330\n"
     ]
    },
    {
     "name": "stderr",
     "output_type": "stream",
     "text": [
      "/Users/emmanuel/.pyenv/versions/3.8.0/envs/redlining/lib/python3.8/site-packages/statsmodels/discrete/discrete_model.py:1810: RuntimeWarning: overflow encountered in exp\n",
      "  return 1/(1+np.exp(-X))\n",
      "/Users/emmanuel/.pyenv/versions/3.8.0/envs/redlining/lib/python3.8/site-packages/statsmodels/discrete/discrete_model.py:1863: RuntimeWarning: divide by zero encountered in log\n",
      "  return np.sum(np.log(self.cdf(q*np.dot(X,params))))\n"
     ]
    },
    {
     "name": "stdout",
     "output_type": "stream",
     "text": [
      "Warning: Maximum number of iterations has been exceeded.\n",
      "         Current function value: inf\n",
      "         Iterations: 35\n",
      "240: Metro: 49340\n",
      "Optimization terminated successfully.\n",
      "         Current function value: 0.166840\n",
      "         Iterations 8\n",
      "241: Metro: 22380\n",
      "Warning: Maximum number of iterations has been exceeded.\n",
      "         Current function value: 0.161879\n",
      "         Iterations: 35\n",
      "242: Metro: 35300\n",
      "Optimization terminated successfully.\n",
      "         Current function value: 0.196326\n",
      "         Iterations 8\n",
      "243: Metro: 49740\n",
      "Warning: Maximum number of iterations has been exceeded.\n",
      "         Current function value: 0.126233\n",
      "         Iterations: 35\n",
      "244: Metro: 22840\n",
      "Warning: Maximum number of iterations has been exceeded.\n",
      "         Current function value: 0.095172\n",
      "         Iterations: 35\n",
      "245: Metro: 33300\n"
     ]
    },
    {
     "name": "stderr",
     "output_type": "stream",
     "text": [
      "/Users/emmanuel/.pyenv/versions/3.8.0/envs/redlining/lib/python3.8/site-packages/statsmodels/discrete/discrete_model.py:1810: RuntimeWarning: overflow encountered in exp\n",
      "  return 1/(1+np.exp(-X))\n",
      "/Users/emmanuel/.pyenv/versions/3.8.0/envs/redlining/lib/python3.8/site-packages/statsmodels/discrete/discrete_model.py:1863: RuntimeWarning: divide by zero encountered in log\n",
      "  return np.sum(np.log(self.cdf(q*np.dot(X,params))))\n"
     ]
    },
    {
     "name": "stdout",
     "output_type": "stream",
     "text": [
      "Warning: Maximum number of iterations has been exceeded.\n",
      "         Current function value: inf\n",
      "         Iterations: 35\n",
      "246: Metro: 35980\n",
      "Warning: Maximum number of iterations has been exceeded.\n",
      "         Current function value: 0.172796\n",
      "         Iterations: 35\n",
      "247: Metro: 20260\n"
     ]
    },
    {
     "name": "stderr",
     "output_type": "stream",
     "text": [
      "/Users/emmanuel/.pyenv/versions/3.8.0/envs/redlining/lib/python3.8/site-packages/statsmodels/base/model.py:566: ConvergenceWarning: Maximum Likelihood optimization failed to converge. Check mle_retvals\n",
      "  warnings.warn(\"Maximum Likelihood optimization failed to \"\n"
     ]
    },
    {
     "name": "stdout",
     "output_type": "stream",
     "text": [
      "Optimization terminated successfully.\n",
      "         Current function value: 0.179348\n",
      "         Iterations 8\n",
      "248: Metro: 19300\n",
      "Warning: Maximum number of iterations has been exceeded.\n",
      "         Current function value: 0.152754\n",
      "         Iterations: 35\n",
      "249: Metro: 14454\n"
     ]
    },
    {
     "name": "stderr",
     "output_type": "stream",
     "text": [
      "/Users/emmanuel/.pyenv/versions/3.8.0/envs/redlining/lib/python3.8/site-packages/statsmodels/base/model.py:566: ConvergenceWarning: Maximum Likelihood optimization failed to converge. Check mle_retvals\n",
      "  warnings.warn(\"Maximum Likelihood optimization failed to \"\n"
     ]
    },
    {
     "name": "stdout",
     "output_type": "stream",
     "text": [
      "Optimization terminated successfully.\n",
      "         Current function value: 0.163241\n",
      "         Iterations 8\n",
      "250: Metro: 13740\n",
      "Warning: Maximum number of iterations has been exceeded.\n",
      "         Current function value: 0.129457\n",
      "         Iterations: 35\n",
      "251: Metro: 23540\n",
      "Warning: Maximum number of iterations has been exceeded.\n",
      "         Current function value: 0.189838\n",
      "         Iterations: 35\n",
      "252: Metro: 20420\n"
     ]
    },
    {
     "name": "stderr",
     "output_type": "stream",
     "text": [
      "/Users/emmanuel/.pyenv/versions/3.8.0/envs/redlining/lib/python3.8/site-packages/statsmodels/base/model.py:566: ConvergenceWarning: Maximum Likelihood optimization failed to converge. Check mle_retvals\n",
      "  warnings.warn(\"Maximum Likelihood optimization failed to \"\n"
     ]
    },
    {
     "name": "stdout",
     "output_type": "stream",
     "text": [
      "Warning: Maximum number of iterations has been exceeded.\n",
      "         Current function value: 0.168221\n",
      "         Iterations: 35\n",
      "253: Metro: 31700\n",
      "Optimization terminated successfully.\n",
      "         Current function value: 0.176418\n",
      "         Iterations 8\n",
      "254: Metro: 25860\n",
      "Warning: Maximum number of iterations has been exceeded.\n",
      "         Current function value: 0.158539\n",
      "         Iterations: 35\n",
      "255: Metro: 27980\n",
      "Warning: Maximum number of iterations has been exceeded.\n",
      "         Current function value: 0.168582\n",
      "         Iterations: 35\n",
      "256: Metro: 21260\n",
      "Warning: Maximum number of iterations has been exceeded.\n",
      "         Current function value: 0.155439\n",
      "         Iterations: 35\n",
      "257: Metro: 39300\n",
      "Optimization terminated successfully.\n",
      "         Current function value: 0.177895\n",
      "         Iterations 8\n",
      "258: Metro: 34180\n",
      "Warning: Maximum number of iterations has been exceeded.\n",
      "         Current function value: 0.110249\n",
      "         Iterations: 35\n",
      "259: Metro: 24180\n"
     ]
    },
    {
     "name": "stderr",
     "output_type": "stream",
     "text": [
      "/Users/emmanuel/.pyenv/versions/3.8.0/envs/redlining/lib/python3.8/site-packages/statsmodels/base/model.py:566: ConvergenceWarning: Maximum Likelihood optimization failed to converge. Check mle_retvals\n",
      "  warnings.warn(\"Maximum Likelihood optimization failed to \"\n",
      "/Users/emmanuel/.pyenv/versions/3.8.0/envs/redlining/lib/python3.8/site-packages/statsmodels/discrete/discrete_model.py:1810: RuntimeWarning: overflow encountered in exp\n",
      "  return 1/(1+np.exp(-X))\n",
      "/Users/emmanuel/.pyenv/versions/3.8.0/envs/redlining/lib/python3.8/site-packages/statsmodels/discrete/discrete_model.py:1863: RuntimeWarning: divide by zero encountered in log\n",
      "  return np.sum(np.log(self.cdf(q*np.dot(X,params))))\n"
     ]
    },
    {
     "name": "stdout",
     "output_type": "stream",
     "text": [
      "Warning: Maximum number of iterations has been exceeded.\n",
      "         Current function value: inf\n",
      "         Iterations: 35\n",
      "260: Metro: 13420\n",
      "Warning: Maximum number of iterations has been exceeded.\n",
      "         Current function value: 0.176452\n",
      "         Iterations: 35\n",
      "261: Metro: 28420\n",
      "Optimization terminated successfully.\n",
      "         Current function value: 0.114535\n",
      "         Iterations 19\n",
      "262: Metro: 44140\n"
     ]
    },
    {
     "name": "stderr",
     "output_type": "stream",
     "text": [
      "/Users/emmanuel/.pyenv/versions/3.8.0/envs/redlining/lib/python3.8/site-packages/pandas/core/arraylike.py:358: RuntimeWarning: overflow encountered in exp\n",
      "  result = getattr(ufunc, method)(*inputs, **kwargs)\n"
     ]
    },
    {
     "name": "stdout",
     "output_type": "stream",
     "text": [
      "Optimization terminated successfully.\n",
      "         Current function value: 0.180857\n",
      "         Iterations 8\n",
      "263: Metro: 13460\n",
      "Warning: Maximum number of iterations has been exceeded.\n",
      "         Current function value: 0.151487\n",
      "         Iterations: 35\n",
      "264: Metro: 44100\n"
     ]
    },
    {
     "name": "stderr",
     "output_type": "stream",
     "text": [
      "/Users/emmanuel/.pyenv/versions/3.8.0/envs/redlining/lib/python3.8/site-packages/statsmodels/discrete/discrete_model.py:1810: RuntimeWarning: overflow encountered in exp\n",
      "  return 1/(1+np.exp(-X))\n",
      "/Users/emmanuel/.pyenv/versions/3.8.0/envs/redlining/lib/python3.8/site-packages/statsmodels/discrete/discrete_model.py:1863: RuntimeWarning: divide by zero encountered in log\n",
      "  return np.sum(np.log(self.cdf(q*np.dot(X,params))))\n"
     ]
    },
    {
     "name": "stdout",
     "output_type": "stream",
     "text": [
      "Warning: Maximum number of iterations has been exceeded.\n",
      "         Current function value: inf\n",
      "         Iterations: 35\n",
      "265: Metro: 31140\n",
      "Optimization terminated successfully.\n",
      "         Current function value: 0.179069\n",
      "         Iterations 9\n",
      "266: Metro: 30460\n",
      "Warning: Maximum number of iterations has been exceeded.\n",
      "         Current function value: 0.153912\n",
      "         Iterations: 35\n",
      "267: Metro: 40080\n"
     ]
    },
    {
     "name": "stderr",
     "output_type": "stream",
     "text": [
      "/Users/emmanuel/.pyenv/versions/3.8.0/envs/redlining/lib/python3.8/site-packages/statsmodels/base/model.py:566: ConvergenceWarning: Maximum Likelihood optimization failed to converge. Check mle_retvals\n",
      "  warnings.warn(\"Maximum Likelihood optimization failed to \"\n",
      "/Users/emmanuel/.pyenv/versions/3.8.0/envs/redlining/lib/python3.8/site-packages/statsmodels/discrete/discrete_model.py:1810: RuntimeWarning: overflow encountered in exp\n",
      "  return 1/(1+np.exp(-X))\n",
      "/Users/emmanuel/.pyenv/versions/3.8.0/envs/redlining/lib/python3.8/site-packages/statsmodels/discrete/discrete_model.py:1863: RuntimeWarning: divide by zero encountered in log\n",
      "  return np.sum(np.log(self.cdf(q*np.dot(X,params))))\n"
     ]
    },
    {
     "name": "stdout",
     "output_type": "stream",
     "text": [
      "Warning: Maximum number of iterations has been exceeded.\n",
      "         Current function value: inf\n",
      "         Iterations: 35\n",
      "268: Metro: 48580\n",
      "Warning: Maximum number of iterations has been exceeded.\n",
      "         Current function value: inf\n",
      "         Iterations: 35\n",
      "269: Metro: 14540\n",
      "Warning: Maximum number of iterations has been exceeded.\n",
      "         Current function value: inf\n",
      "         Iterations: 35\n",
      "270: Metro: 28500\n",
      "Warning: Maximum number of iterations has been exceeded.\n",
      "         Current function value: 0.157041\n",
      "         Iterations: 35\n",
      "271: Metro: 12680\n",
      "Warning: Maximum number of iterations has been exceeded.\n",
      "         Current function value: 0.172121\n",
      "         Iterations: 35\n",
      "272: Metro: 40484\n",
      "Optimization terminated successfully.\n",
      "         Current function value: 0.174604\n",
      "         Iterations 8\n",
      "273: Metro: 23180\n",
      "Warning: Maximum number of iterations has been exceeded.\n",
      "         Current function value: 0.150328\n",
      "         Iterations: 35\n",
      "274: Metro: 18260\n",
      "Warning: Maximum number of iterations has been exceeded.\n",
      "         Current function value: 0.109261\n",
      "         Iterations: 35\n",
      "275: Metro: 43220\n",
      "Warning: Maximum number of iterations has been exceeded.\n",
      "         Current function value: 0.108030\n",
      "         Iterations: 35\n",
      "276: Metro: 10620\n",
      "Warning: Maximum number of iterations has been exceeded.\n",
      "         Current function value: 0.145117\n",
      "         Iterations: 35\n",
      "277: Metro: 20220\n"
     ]
    },
    {
     "name": "stderr",
     "output_type": "stream",
     "text": [
      "/Users/emmanuel/.pyenv/versions/3.8.0/envs/redlining/lib/python3.8/site-packages/statsmodels/discrete/discrete_model.py:1810: RuntimeWarning: overflow encountered in exp\n",
      "  return 1/(1+np.exp(-X))\n",
      "/Users/emmanuel/.pyenv/versions/3.8.0/envs/redlining/lib/python3.8/site-packages/statsmodels/discrete/discrete_model.py:1863: RuntimeWarning: divide by zero encountered in log\n",
      "  return np.sum(np.log(self.cdf(q*np.dot(X,params))))\n"
     ]
    },
    {
     "name": "stdout",
     "output_type": "stream",
     "text": [
      "Warning: Maximum number of iterations has been exceeded.\n",
      "         Current function value: inf\n",
      "         Iterations: 35\n",
      "278: Metro: 46140\n",
      "Optimization terminated successfully.\n",
      "         Current function value: 0.147557\n",
      "         Iterations 8\n",
      "279: Metro: 47300\n",
      "Warning: Maximum number of iterations has been exceeded.\n",
      "         Current function value: 0.169674\n",
      "         Iterations: 35\n",
      "280: Metro: 14820\n"
     ]
    },
    {
     "name": "stderr",
     "output_type": "stream",
     "text": [
      "/Users/emmanuel/.pyenv/versions/3.8.0/envs/redlining/lib/python3.8/site-packages/statsmodels/base/model.py:566: ConvergenceWarning: Maximum Likelihood optimization failed to converge. Check mle_retvals\n",
      "  warnings.warn(\"Maximum Likelihood optimization failed to \"\n"
     ]
    },
    {
     "name": "stdout",
     "output_type": "stream",
     "text": [
      "Warning: Maximum number of iterations has been exceeded.\n",
      "         Current function value: 0.174509\n",
      "         Iterations: 35\n",
      "281: Metro: 38860\n",
      "Optimization terminated successfully.\n",
      "         Current function value: 0.166653\n",
      "         Iterations 8\n",
      "282: Metro: 39820\n",
      "Optimization terminated successfully.\n",
      "         Current function value: 0.133986\n",
      "         Iterations 9\n",
      "283: Metro: 18300\n",
      "Warning: Maximum number of iterations has been exceeded.\n",
      "         Current function value: 0.484288\n",
      "         Iterations: 35\n",
      "284: Metro: 49420\n",
      "Warning: Maximum number of iterations has been exceeded.\n",
      "         Current function value: 0.126396\n",
      "         Iterations: 35\n",
      "285: Metro: 43940\n"
     ]
    },
    {
     "name": "stderr",
     "output_type": "stream",
     "text": [
      "/Users/emmanuel/.pyenv/versions/3.8.0/envs/redlining/lib/python3.8/site-packages/statsmodels/discrete/discrete_model.py:1810: RuntimeWarning: overflow encountered in exp\n",
      "  return 1/(1+np.exp(-X))\n",
      "/Users/emmanuel/.pyenv/versions/3.8.0/envs/redlining/lib/python3.8/site-packages/statsmodels/discrete/discrete_model.py:1863: RuntimeWarning: divide by zero encountered in log\n",
      "  return np.sum(np.log(self.cdf(q*np.dot(X,params))))\n"
     ]
    },
    {
     "name": "stdout",
     "output_type": "stream",
     "text": [
      "Warning: Maximum number of iterations has been exceeded.\n",
      "         Current function value: inf\n",
      "         Iterations: 35\n",
      "286: Metro: 19000\n",
      "Warning: Maximum number of iterations has been exceeded.\n",
      "         Current function value: inf\n",
      "         Iterations: 35\n",
      "287: Metro: 41180\n",
      "Optimization terminated successfully.\n",
      "         Current function value: 0.141477\n",
      "         Iterations 9\n",
      "288: Metro: 45860\n",
      "Warning: Maximum number of iterations has been exceeded.\n",
      "         Current function value: 0.236073\n",
      "         Iterations: 35\n",
      "289: Metro: 11540\n",
      "Optimization terminated successfully.\n",
      "         Current function value: 0.104371\n",
      "         Iterations 9\n",
      "290: Metro: 36780\n",
      "Warning: Maximum number of iterations has been exceeded.\n",
      "         Current function value: 0.125936\n",
      "         Iterations: 35\n",
      "291: Metro: 33340\n",
      "Warning: Maximum number of iterations has been exceeded.\n",
      "         Current function value: 0.153908\n",
      "         Iterations: 35\n",
      "292: Metro: 24580\n"
     ]
    },
    {
     "name": "stderr",
     "output_type": "stream",
     "text": [
      "/Users/emmanuel/.pyenv/versions/3.8.0/envs/redlining/lib/python3.8/site-packages/statsmodels/base/model.py:566: ConvergenceWarning: Maximum Likelihood optimization failed to converge. Check mle_retvals\n",
      "  warnings.warn(\"Maximum Likelihood optimization failed to \"\n"
     ]
    },
    {
     "name": "stdout",
     "output_type": "stream",
     "text": [
      "Warning: Maximum number of iterations has been exceeded.\n",
      "         Current function value: 0.122080\n",
      "         Iterations: 35\n",
      "293: Metro: 34900\n"
     ]
    },
    {
     "name": "stderr",
     "output_type": "stream",
     "text": [
      "/Users/emmanuel/.pyenv/versions/3.8.0/envs/redlining/lib/python3.8/site-packages/statsmodels/base/model.py:566: ConvergenceWarning: Maximum Likelihood optimization failed to converge. Check mle_retvals\n",
      "  warnings.warn(\"Maximum Likelihood optimization failed to \"\n",
      "/Users/emmanuel/.pyenv/versions/3.8.0/envs/redlining/lib/python3.8/site-packages/statsmodels/discrete/discrete_model.py:1810: RuntimeWarning: overflow encountered in exp\n",
      "  return 1/(1+np.exp(-X))\n",
      "/Users/emmanuel/.pyenv/versions/3.8.0/envs/redlining/lib/python3.8/site-packages/statsmodels/discrete/discrete_model.py:1863: RuntimeWarning: divide by zero encountered in log\n",
      "  return np.sum(np.log(self.cdf(q*np.dot(X,params))))\n"
     ]
    },
    {
     "name": "stdout",
     "output_type": "stream",
     "text": [
      "Warning: Maximum number of iterations has been exceeded.\n",
      "         Current function value: inf\n",
      "         Iterations: 35\n",
      "294: Metro: 33740\n",
      "Warning: Maximum number of iterations has been exceeded.\n",
      "         Current function value: 0.109515\n",
      "         Iterations: 35\n",
      "295: Metro: 16140\n"
     ]
    },
    {
     "name": "stderr",
     "output_type": "stream",
     "text": [
      "/Users/emmanuel/.pyenv/versions/3.8.0/envs/redlining/lib/python3.8/site-packages/statsmodels/base/model.py:566: ConvergenceWarning: Maximum Likelihood optimization failed to converge. Check mle_retvals\n",
      "  warnings.warn(\"Maximum Likelihood optimization failed to \"\n",
      "/Users/emmanuel/.pyenv/versions/3.8.0/envs/redlining/lib/python3.8/site-packages/statsmodels/discrete/discrete_model.py:1810: RuntimeWarning: overflow encountered in exp\n",
      "  return 1/(1+np.exp(-X))\n",
      "/Users/emmanuel/.pyenv/versions/3.8.0/envs/redlining/lib/python3.8/site-packages/statsmodels/discrete/discrete_model.py:1863: RuntimeWarning: divide by zero encountered in log\n",
      "  return np.sum(np.log(self.cdf(q*np.dot(X,params))))\n"
     ]
    },
    {
     "name": "stdout",
     "output_type": "stream",
     "text": [
      "Warning: Maximum number of iterations has been exceeded.\n",
      "         Current function value: inf\n",
      "         Iterations: 35\n",
      "296: Metro: 47940\n",
      "Warning: Maximum number of iterations has been exceeded.\n",
      "         Current function value: 0.085105\n",
      "         Iterations: 35\n",
      "297: Metro: 16300\n"
     ]
    },
    {
     "name": "stderr",
     "output_type": "stream",
     "text": [
      "/Users/emmanuel/.pyenv/versions/3.8.0/envs/redlining/lib/python3.8/site-packages/statsmodels/base/model.py:566: ConvergenceWarning: Maximum Likelihood optimization failed to converge. Check mle_retvals\n",
      "  warnings.warn(\"Maximum Likelihood optimization failed to \"\n"
     ]
    },
    {
     "name": "stdout",
     "output_type": "stream",
     "text": [
      "Warning: Maximum number of iterations has been exceeded.\n",
      "         Current function value: 0.088252\n",
      "         Iterations: 35\n",
      "298: Metro: 38420\n"
     ]
    },
    {
     "name": "stderr",
     "output_type": "stream",
     "text": [
      "/Users/emmanuel/.pyenv/versions/3.8.0/envs/redlining/lib/python3.8/site-packages/statsmodels/discrete/discrete_model.py:1810: RuntimeWarning: overflow encountered in exp\n",
      "  return 1/(1+np.exp(-X))\n",
      "/Users/emmanuel/.pyenv/versions/3.8.0/envs/redlining/lib/python3.8/site-packages/statsmodels/discrete/discrete_model.py:1863: RuntimeWarning: divide by zero encountered in log\n",
      "  return np.sum(np.log(self.cdf(q*np.dot(X,params))))\n"
     ]
    },
    {
     "name": "stdout",
     "output_type": "stream",
     "text": [
      "Warning: Maximum number of iterations has been exceeded.\n",
      "         Current function value: inf\n",
      "         Iterations: 35\n",
      "299: Metro: 31540\n",
      "Optimization terminated successfully.\n",
      "         Current function value: 0.124039\n",
      "         Iterations 8\n",
      "300: Metro: 34700\n",
      "Warning: Maximum number of iterations has been exceeded.\n",
      "         Current function value: 0.173315\n",
      "         Iterations: 35\n",
      "301: Metro: 19780\n",
      "Optimization terminated successfully.\n",
      "         Current function value: 0.125224\n",
      "         Iterations 9\n",
      "302: Metro: 26980\n",
      "Warning: Maximum number of iterations has been exceeded.\n",
      "         Current function value: 0.074192\n",
      "         Iterations: 35\n",
      "303: Metro: 29100\n"
     ]
    },
    {
     "name": "stderr",
     "output_type": "stream",
     "text": [
      "/Users/emmanuel/.pyenv/versions/3.8.0/envs/redlining/lib/python3.8/site-packages/statsmodels/base/model.py:566: ConvergenceWarning: Maximum Likelihood optimization failed to converge. Check mle_retvals\n",
      "  warnings.warn(\"Maximum Likelihood optimization failed to \"\n"
     ]
    },
    {
     "name": "stdout",
     "output_type": "stream",
     "text": [
      "Warning: Maximum number of iterations has been exceeded.\n",
      "         Current function value: 0.071118\n",
      "         Iterations: 35\n",
      "304: Metro: 13180\n"
     ]
    },
    {
     "name": "stderr",
     "output_type": "stream",
     "text": [
      "/Users/emmanuel/.pyenv/versions/3.8.0/envs/redlining/lib/python3.8/site-packages/statsmodels/discrete/discrete_model.py:1810: RuntimeWarning: overflow encountered in exp\n",
      "  return 1/(1+np.exp(-X))\n",
      "/Users/emmanuel/.pyenv/versions/3.8.0/envs/redlining/lib/python3.8/site-packages/statsmodels/discrete/discrete_model.py:1863: RuntimeWarning: divide by zero encountered in log\n",
      "  return np.sum(np.log(self.cdf(q*np.dot(X,params))))\n"
     ]
    },
    {
     "name": "stdout",
     "output_type": "stream",
     "text": [
      "Warning: Maximum number of iterations has been exceeded.\n",
      "         Current function value: inf\n",
      "         Iterations: 35\n",
      "305: Metro: 43100\n",
      "Optimization terminated successfully.\n",
      "         Current function value: 0.152350\n",
      "         Iterations 28\n",
      "306: Metro: 12660\n",
      "Warning: Maximum number of iterations has been exceeded.\n",
      "         Current function value: 0.186550\n",
      "         Iterations: 35\n",
      "307: Metro: 22540\n",
      "Warning: Maximum number of iterations has been exceeded.\n",
      "         Current function value: inf\n",
      "         Iterations: 35\n",
      "308: Metro: 19340\n",
      "Warning: Maximum number of iterations has been exceeded.\n",
      "         Current function value: 0.103502\n",
      "         Iterations: 35\n",
      "309: Metro: 32380\n"
     ]
    },
    {
     "name": "stderr",
     "output_type": "stream",
     "text": [
      "/Users/emmanuel/.pyenv/versions/3.8.0/envs/redlining/lib/python3.8/site-packages/statsmodels/base/model.py:566: ConvergenceWarning: Maximum Likelihood optimization failed to converge. Check mle_retvals\n",
      "  warnings.warn(\"Maximum Likelihood optimization failed to \"\n",
      "/Users/emmanuel/.pyenv/versions/3.8.0/envs/redlining/lib/python3.8/site-packages/statsmodels/discrete/discrete_model.py:1810: RuntimeWarning: overflow encountered in exp\n",
      "  return 1/(1+np.exp(-X))\n",
      "/Users/emmanuel/.pyenv/versions/3.8.0/envs/redlining/lib/python3.8/site-packages/statsmodels/discrete/discrete_model.py:1863: RuntimeWarning: divide by zero encountered in log\n",
      "  return np.sum(np.log(self.cdf(q*np.dot(X,params))))\n"
     ]
    },
    {
     "name": "stdout",
     "output_type": "stream",
     "text": [
      "Warning: Maximum number of iterations has been exceeded.\n",
      "         Current function value: inf\n",
      "         Iterations: 35\n",
      "310: Metro: 17540\n",
      "Warning: Maximum number of iterations has been exceeded.\n",
      "         Current function value: inf\n",
      "         Iterations: 35\n",
      "311: Metro: 39500\n",
      "Warning: Maximum number of iterations has been exceeded.\n",
      "         Current function value: inf\n",
      "         Iterations: 35\n",
      "312: Metro: 42860\n",
      "Warning: Maximum number of iterations has been exceeded.\n",
      "         Current function value: 0.221419\n",
      "         Iterations: 35\n",
      "313: Metro: 27500\n",
      "Optimization terminated successfully.\n",
      "         Current function value: 0.149473\n",
      "         Iterations 9\n",
      "314: Metro: 11180\n",
      "Warning: Maximum number of iterations has been exceeded.\n",
      "         Current function value: inf\n",
      "         Iterations: 35\n",
      "315: Metro: 32820\n",
      "Warning: Maximum number of iterations has been exceeded.\n",
      "         Current function value: 0.160462\n",
      "         Iterations: 35\n",
      "316: Metro: 19180\n"
     ]
    },
    {
     "name": "stderr",
     "output_type": "stream",
     "text": [
      "/Users/emmanuel/.pyenv/versions/3.8.0/envs/redlining/lib/python3.8/site-packages/statsmodels/base/model.py:566: ConvergenceWarning: Maximum Likelihood optimization failed to converge. Check mle_retvals\n",
      "  warnings.warn(\"Maximum Likelihood optimization failed to \"\n"
     ]
    },
    {
     "name": "stdout",
     "output_type": "stream",
     "text": [
      "Warning: Maximum number of iterations has been exceeded.\n",
      "         Current function value: 0.158506\n",
      "         Iterations: 35\n",
      "317: Metro: 22700\n",
      "Warning: Maximum number of iterations has been exceeded.\n",
      "         Current function value: 0.167294\n",
      "         Iterations: 35\n",
      "318: Metro: 15460\n",
      "Warning: Maximum number of iterations has been exceeded.\n",
      "         Current function value: 0.236676\n",
      "         Iterations: 35\n",
      "319: Metro: 24380\n",
      "320: Metro: 23300\n",
      "Warning: Maximum number of iterations has been exceeded.\n",
      "         Current function value: inf\n",
      "         Iterations: 35\n",
      "321: Metro: 18140\n"
     ]
    },
    {
     "name": "stderr",
     "output_type": "stream",
     "text": [
      "/Users/emmanuel/.pyenv/versions/3.8.0/envs/redlining/lib/python3.8/site-packages/statsmodels/discrete/discrete_model.py:1810: RuntimeWarning: overflow encountered in exp\n",
      "  return 1/(1+np.exp(-X))\n",
      "/Users/emmanuel/.pyenv/versions/3.8.0/envs/redlining/lib/python3.8/site-packages/statsmodels/discrete/discrete_model.py:1863: RuntimeWarning: divide by zero encountered in log\n",
      "  return np.sum(np.log(self.cdf(q*np.dot(X,params))))\n"
     ]
    },
    {
     "name": "stdout",
     "output_type": "stream",
     "text": [
      "Optimization terminated successfully.\n",
      "         Current function value: 0.152664\n",
      "         Iterations 8\n",
      "322: Metro: 17460\n",
      "Optimization terminated successfully.\n",
      "         Current function value: 0.154279\n",
      "         Iterations 8\n",
      "323: Metro: 19430\n",
      "Optimization terminated successfully.\n",
      "         Current function value: 0.109696\n",
      "         Iterations 9\n",
      "324: Metro: 44220\n"
     ]
    },
    {
     "name": "stderr",
     "output_type": "stream",
     "text": [
      "/Users/emmanuel/.pyenv/versions/3.8.0/envs/redlining/lib/python3.8/site-packages/statsmodels/discrete/discrete_model.py:1810: RuntimeWarning: overflow encountered in exp\n",
      "  return 1/(1+np.exp(-X))\n",
      "/Users/emmanuel/.pyenv/versions/3.8.0/envs/redlining/lib/python3.8/site-packages/statsmodels/discrete/discrete_model.py:1863: RuntimeWarning: divide by zero encountered in log\n",
      "  return np.sum(np.log(self.cdf(q*np.dot(X,params))))\n"
     ]
    },
    {
     "name": "stdout",
     "output_type": "stream",
     "text": [
      "Warning: Maximum number of iterations has been exceeded.\n",
      "         Current function value: inf\n",
      "         Iterations: 35\n",
      "325: Metro: 48540\n",
      "Warning: Maximum number of iterations has been exceeded.\n",
      "         Current function value: inf\n",
      "         Iterations: 35\n",
      "326: Metro: 17300\n",
      "Warning: Maximum number of iterations has been exceeded.\n",
      "         Current function value: 0.211950\n",
      "         Iterations: 35\n",
      "327: Metro: 46500\n"
     ]
    },
    {
     "name": "stderr",
     "output_type": "stream",
     "text": [
      "/Users/emmanuel/.pyenv/versions/3.8.0/envs/redlining/lib/python3.8/site-packages/statsmodels/base/model.py:566: ConvergenceWarning: Maximum Likelihood optimization failed to converge. Check mle_retvals\n",
      "  warnings.warn(\"Maximum Likelihood optimization failed to \"\n",
      "/Users/emmanuel/.pyenv/versions/3.8.0/envs/redlining/lib/python3.8/site-packages/statsmodels/discrete/discrete_model.py:1810: RuntimeWarning: overflow encountered in exp\n",
      "  return 1/(1+np.exp(-X))\n",
      "/Users/emmanuel/.pyenv/versions/3.8.0/envs/redlining/lib/python3.8/site-packages/statsmodels/discrete/discrete_model.py:1863: RuntimeWarning: divide by zero encountered in log\n",
      "  return np.sum(np.log(self.cdf(q*np.dot(X,params))))\n"
     ]
    },
    {
     "name": "stdout",
     "output_type": "stream",
     "text": [
      "Warning: Maximum number of iterations has been exceeded.\n",
      "         Current function value: inf\n",
      "         Iterations: 35\n",
      "328: Metro: 47920\n",
      "Warning: Maximum number of iterations has been exceeded.\n",
      "         Current function value: inf\n",
      "         Iterations: 35\n",
      "329: Metro: 34540\n",
      "Warning: Maximum number of iterations has been exceeded.\n",
      "         Current function value: inf\n",
      "         Iterations: 35\n",
      "330: Metro: 45660\n",
      "Warning: Maximum number of iterations has been exceeded.\n",
      "         Current function value: 0.178913\n",
      "         Iterations: 35\n",
      "331: Metro: 13340\n",
      "Warning: Maximum number of iterations has been exceeded.\n",
      "         Current function value: inf\n",
      "         Iterations: 35\n",
      "332: Metro: 32020\n",
      "Warning: Maximum number of iterations has been exceeded.\n",
      "         Current function value: 0.099519\n",
      "         Iterations: 35\n",
      "333: Metro: 11740\n",
      "Warning: Maximum number of iterations has been exceeded.\n",
      "         Current function value: 0.101222\n",
      "         Iterations: 35\n",
      "334: Metro: 49300\n",
      "Warning: Maximum number of iterations has been exceeded.\n",
      "         Current function value: 0.109151\n",
      "         Iterations: 35\n",
      "335: Metro: 46100\n",
      "Warning: Maximum number of iterations has been exceeded.\n",
      "         Current function value: 0.146770\n",
      "         Iterations: 35\n",
      "336: Metro: 15340\n",
      "Warning: Maximum number of iterations has been exceeded.\n",
      "         Current function value: inf\n",
      "         Iterations: 35\n",
      "337: Metro: 31900\n",
      "Warning: Maximum number of iterations has been exceeded.\n",
      "         Current function value: inf\n",
      "         Iterations: 35\n",
      "338: Metro: 30620\n",
      "Warning: Maximum number of iterations has been exceeded.\n",
      "         Current function value: 0.147008\n",
      "         Iterations: 35\n",
      "339: Metro: 11780\n",
      "Warning: Maximum number of iterations has been exceeded.\n",
      "         Current function value: 0.216674\n",
      "         Iterations: 35\n",
      "340: Metro: 17060\n",
      "Optimization terminated successfully.\n",
      "         Current function value: 0.154609\n",
      "         Iterations 20\n",
      "341: Metro: 11900\n",
      "Warning: Maximum number of iterations has been exceeded.\n",
      "         Current function value: inf\n",
      "         Iterations: 35\n",
      "342: Metro: 48260\n",
      "Warning: Maximum number of iterations has been exceeded.\n",
      "         Current function value: inf\n",
      "         Iterations: 35\n",
      "343: Metro: 48940\n",
      "Warning: Maximum number of iterations has been exceeded.\n",
      "         Current function value: inf\n",
      "         Iterations: 35\n",
      "344: Metro: 47664\n",
      "Optimization terminated successfully.\n",
      "         Current function value: 0.160312\n",
      "         Iterations 8\n",
      "345: Metro: 43020\n"
     ]
    },
    {
     "name": "stderr",
     "output_type": "stream",
     "text": [
      "/Users/emmanuel/.pyenv/versions/3.8.0/envs/redlining/lib/python3.8/site-packages/statsmodels/discrete/discrete_model.py:1810: RuntimeWarning: overflow encountered in exp\n",
      "  return 1/(1+np.exp(-X))\n",
      "/Users/emmanuel/.pyenv/versions/3.8.0/envs/redlining/lib/python3.8/site-packages/statsmodels/discrete/discrete_model.py:1863: RuntimeWarning: divide by zero encountered in log\n",
      "  return np.sum(np.log(self.cdf(q*np.dot(X,params))))\n"
     ]
    },
    {
     "name": "stdout",
     "output_type": "stream",
     "text": [
      "Warning: Maximum number of iterations has been exceeded.\n",
      "         Current function value: inf\n",
      "         Iterations: 35\n",
      "346: Metro: 31940\n",
      "Warning: Maximum number of iterations has been exceeded.\n",
      "         Current function value: 0.214730\n",
      "         Iterations: 35\n",
      "347: Metro: 20740\n",
      "Warning: Maximum number of iterations has been exceeded.\n",
      "         Current function value: 0.139768\n",
      "         Iterations: 35\n",
      "348: Metro: 27020\n",
      "Warning: Maximum number of iterations has been exceeded.\n",
      "         Current function value: inf\n",
      "         Iterations: 35\n",
      "349: Metro: 44620\n",
      "Warning: Maximum number of iterations has been exceeded.\n",
      "         Current function value: 0.125309\n",
      "         Iterations: 35\n",
      "350: Metro: 48140\n",
      "Warning: Maximum number of iterations has been exceeded.\n",
      "         Current function value: 0.195406\n",
      "         Iterations: 35\n",
      "351: Metro: 14140\n",
      "Warning: Maximum number of iterations has been exceeded.\n",
      "         Current function value: inf\n",
      "         Iterations: 35\n",
      "352: Metro: 48620\n",
      "Optimization terminated successfully.\n",
      "         Current function value: 0.148110\n",
      "         Iterations 9\n",
      "353: Metro: 49060\n"
     ]
    },
    {
     "name": "stderr",
     "output_type": "stream",
     "text": [
      "/Users/emmanuel/.pyenv/versions/3.8.0/envs/redlining/lib/python3.8/site-packages/statsmodels/discrete/discrete_model.py:1810: RuntimeWarning: overflow encountered in exp\n",
      "  return 1/(1+np.exp(-X))\n",
      "/Users/emmanuel/.pyenv/versions/3.8.0/envs/redlining/lib/python3.8/site-packages/statsmodels/discrete/discrete_model.py:1863: RuntimeWarning: divide by zero encountered in log\n",
      "  return np.sum(np.log(self.cdf(q*np.dot(X,params))))\n"
     ]
    },
    {
     "name": "stdout",
     "output_type": "stream",
     "text": [
      "Warning: Maximum number of iterations has been exceeded.\n",
      "         Current function value: inf\n",
      "         Iterations: 35\n",
      "354: Metro: 45820\n",
      "Optimization terminated successfully.\n",
      "         Current function value: 0.141613\n",
      "         Iterations 9\n",
      "355: Metro: 29940\n",
      "Warning: Maximum number of iterations has been exceeded.\n",
      "         Current function value: 0.092322\n",
      "         Iterations: 35\n",
      "356: Metro: 31740\n",
      "Warning: Maximum number of iterations has been exceeded.\n",
      "         Current function value: 0.087679\n",
      "         Iterations: 35\n",
      "357: Metro: 41460\n"
     ]
    },
    {
     "name": "stderr",
     "output_type": "stream",
     "text": [
      "/Users/emmanuel/.pyenv/versions/3.8.0/envs/redlining/lib/python3.8/site-packages/statsmodels/base/model.py:566: ConvergenceWarning: Maximum Likelihood optimization failed to converge. Check mle_retvals\n",
      "  warnings.warn(\"Maximum Likelihood optimization failed to \"\n",
      "/Users/emmanuel/.pyenv/versions/3.8.0/envs/redlining/lib/python3.8/site-packages/statsmodels/discrete/discrete_model.py:1810: RuntimeWarning: overflow encountered in exp\n",
      "  return 1/(1+np.exp(-X))\n",
      "/Users/emmanuel/.pyenv/versions/3.8.0/envs/redlining/lib/python3.8/site-packages/statsmodels/discrete/discrete_model.py:1863: RuntimeWarning: divide by zero encountered in log\n",
      "  return np.sum(np.log(self.cdf(q*np.dot(X,params))))\n"
     ]
    },
    {
     "name": "stdout",
     "output_type": "stream",
     "text": [
      "Warning: Maximum number of iterations has been exceeded.\n",
      "         Current function value: inf\n",
      "         Iterations: 35\n",
      "358: Metro: 36840\n",
      "Warning: Maximum number of iterations has been exceeded.\n",
      "         Current function value: inf\n",
      "         Iterations: 35\n",
      "359: Metro: 27100\n",
      "Warning: Maximum number of iterations has been exceeded.\n",
      "         Current function value: inf\n",
      "         Iterations: 35\n",
      "360: Metro: 47380\n",
      "Optimization terminated successfully.\n",
      "         Current function value: 0.141690\n",
      "         Iterations 8\n",
      "361: Metro: 25420\n",
      "Optimization terminated successfully.\n",
      "         Current function value: 0.150015\n",
      "         Iterations 8\n",
      "362: Metro: 19804\n",
      "Optimization terminated successfully.\n",
      "         Current function value: 0.196307\n",
      "         Iterations 8\n",
      "363: Metro: 28660\n",
      "Warning: Maximum number of iterations has been exceeded.\n",
      "         Current function value: 0.148832\n",
      "         Iterations: 35\n",
      "364: Metro: 36220\n"
     ]
    },
    {
     "name": "stderr",
     "output_type": "stream",
     "text": [
      "/Users/emmanuel/.pyenv/versions/3.8.0/envs/redlining/lib/python3.8/site-packages/statsmodels/base/model.py:566: ConvergenceWarning: Maximum Likelihood optimization failed to converge. Check mle_retvals\n",
      "  warnings.warn(\"Maximum Likelihood optimization failed to \"\n"
     ]
    },
    {
     "name": "stdout",
     "output_type": "stream",
     "text": [
      "Warning: Maximum number of iterations has been exceeded.\n",
      "         Current function value: 0.156471\n",
      "         Iterations: 35\n",
      "365: Metro: 14100\n",
      "Warning: Maximum number of iterations has been exceeded.\n",
      "         Current function value: 0.122002\n",
      "         Iterations: 35\n",
      "366: Metro: 11820\n"
     ]
    },
    {
     "name": "stderr",
     "output_type": "stream",
     "text": [
      "/Users/emmanuel/.pyenv/versions/3.8.0/envs/redlining/lib/python3.8/site-packages/statsmodels/discrete/discrete_model.py:1810: RuntimeWarning: overflow encountered in exp\n",
      "  return 1/(1+np.exp(-X))\n",
      "/Users/emmanuel/.pyenv/versions/3.8.0/envs/redlining/lib/python3.8/site-packages/statsmodels/discrete/discrete_model.py:1863: RuntimeWarning: divide by zero encountered in log\n",
      "  return np.sum(np.log(self.cdf(q*np.dot(X,params))))\n"
     ]
    },
    {
     "name": "stdout",
     "output_type": "stream",
     "text": [
      "Warning: Maximum number of iterations has been exceeded.\n",
      "         Current function value: inf\n",
      "         Iterations: 35\n",
      "367: Metro: 43780\n",
      "Warning: Maximum number of iterations has been exceeded.\n",
      "         Current function value: 0.154883\n",
      "         Iterations: 35\n",
      "368: Metro: 35380\n"
     ]
    },
    {
     "name": "stderr",
     "output_type": "stream",
     "text": [
      "/Users/emmanuel/.pyenv/versions/3.8.0/envs/redlining/lib/python3.8/site-packages/statsmodels/base/model.py:566: ConvergenceWarning: Maximum Likelihood optimization failed to converge. Check mle_retvals\n",
      "  warnings.warn(\"Maximum Likelihood optimization failed to \"\n"
     ]
    },
    {
     "name": "stdout",
     "output_type": "stream",
     "text": [
      "Warning: Maximum number of iterations has been exceeded.\n",
      "         Current function value: 0.179729\n",
      "         Iterations: 35\n",
      "369: Metro: 22500\n"
     ]
    },
    {
     "name": "stderr",
     "output_type": "stream",
     "text": [
      "/Users/emmanuel/.pyenv/versions/3.8.0/envs/redlining/lib/python3.8/site-packages/statsmodels/base/model.py:566: ConvergenceWarning: Maximum Likelihood optimization failed to converge. Check mle_retvals\n",
      "  warnings.warn(\"Maximum Likelihood optimization failed to \"\n"
     ]
    },
    {
     "name": "stdout",
     "output_type": "stream",
     "text": [
      "Optimization terminated successfully.\n",
      "         Current function value: 0.189074\n",
      "         Iterations 8\n",
      "370: Metro: 25180\n",
      "Optimization terminated successfully.\n",
      "         Current function value: 0.162485\n",
      "         Iterations 23\n",
      "371: Metro: 29540\n",
      "Warning: Maximum number of iterations has been exceeded.\n",
      "         Current function value: 0.127679\n",
      "         Iterations: 35\n",
      "372: Metro: 36540\n"
     ]
    },
    {
     "name": "stderr",
     "output_type": "stream",
     "text": [
      "/Users/emmanuel/.pyenv/versions/3.8.0/envs/redlining/lib/python3.8/site-packages/statsmodels/base/model.py:566: ConvergenceWarning: Maximum Likelihood optimization failed to converge. Check mle_retvals\n",
      "  warnings.warn(\"Maximum Likelihood optimization failed to \"\n"
     ]
    },
    {
     "name": "stdout",
     "output_type": "stream",
     "text": [
      "Optimization terminated successfully.\n",
      "         Current function value: 0.101706\n",
      "         Iterations 9\n",
      "373: Metro: 42700\n",
      "Warning: Maximum number of iterations has been exceeded.\n",
      "         Current function value: 0.230778\n",
      "         Iterations: 35\n",
      "374: Metro: 25060\n"
     ]
    },
    {
     "name": "stderr",
     "output_type": "stream",
     "text": [
      "/Users/emmanuel/.pyenv/versions/3.8.0/envs/redlining/lib/python3.8/site-packages/statsmodels/base/model.py:566: ConvergenceWarning: Maximum Likelihood optimization failed to converge. Check mle_retvals\n",
      "  warnings.warn(\"Maximum Likelihood optimization failed to \"\n"
     ]
    },
    {
     "name": "stdout",
     "output_type": "stream",
     "text": [
      "Optimization terminated successfully.\n",
      "         Current function value: 0.209924\n",
      "         Iterations 8\n",
      "375: Metro: 42620\n"
     ]
    },
    {
     "name": "stderr",
     "output_type": "stream",
     "text": [
      "/Users/emmanuel/.pyenv/versions/3.8.0/envs/redlining/lib/python3.8/site-packages/statsmodels/discrete/discrete_model.py:1810: RuntimeWarning: overflow encountered in exp\n",
      "  return 1/(1+np.exp(-X))\n",
      "/Users/emmanuel/.pyenv/versions/3.8.0/envs/redlining/lib/python3.8/site-packages/statsmodels/discrete/discrete_model.py:1863: RuntimeWarning: divide by zero encountered in log\n",
      "  return np.sum(np.log(self.cdf(q*np.dot(X,params))))\n"
     ]
    },
    {
     "name": "stdout",
     "output_type": "stream",
     "text": [
      "Warning: Maximum number of iterations has been exceeded.\n",
      "         Current function value: inf\n",
      "         Iterations: 35\n",
      "376: Metro: 46660\n",
      "Warning: Maximum number of iterations has been exceeded.\n",
      "         Current function value: inf\n",
      "         Iterations: 35\n",
      "377: Metro: 22180\n",
      "Warning: Maximum number of iterations has been exceeded.\n",
      "         Current function value: 0.234932\n",
      "         Iterations: 35\n",
      "378: Metro: 31260\n"
     ]
    },
    {
     "name": "stderr",
     "output_type": "stream",
     "text": [
      "/Users/emmanuel/.pyenv/versions/3.8.0/envs/redlining/lib/python3.8/site-packages/statsmodels/base/model.py:566: ConvergenceWarning: Maximum Likelihood optimization failed to converge. Check mle_retvals\n",
      "  warnings.warn(\"Maximum Likelihood optimization failed to \"\n"
     ]
    },
    {
     "name": "stdout",
     "output_type": "stream",
     "text": [
      "Warning: Maximum number of iterations has been exceeded.\n",
      "         Current function value: 0.177467\n",
      "         Iterations: 35\n",
      "379: Metro: 29180\n"
     ]
    },
    {
     "name": "stderr",
     "output_type": "stream",
     "text": [
      "/Users/emmanuel/.pyenv/versions/3.8.0/envs/redlining/lib/python3.8/site-packages/statsmodels/discrete/discrete_model.py:1810: RuntimeWarning: overflow encountered in exp\n",
      "  return 1/(1+np.exp(-X))\n",
      "/Users/emmanuel/.pyenv/versions/3.8.0/envs/redlining/lib/python3.8/site-packages/statsmodels/discrete/discrete_model.py:1863: RuntimeWarning: divide by zero encountered in log\n",
      "  return np.sum(np.log(self.cdf(q*np.dot(X,params))))\n"
     ]
    },
    {
     "name": "stdout",
     "output_type": "stream",
     "text": [
      "Warning: Maximum number of iterations has been exceeded.\n",
      "         Current function value: inf\n",
      "         Iterations: 35\n",
      "380: Metro: 26900\n",
      "Optimization terminated successfully.\n",
      "         Current function value: 0.148383\n",
      "         Iterations 8\n",
      "381: Metro: 17660\n",
      "Warning: Maximum number of iterations has been exceeded.\n",
      "         Current function value: 0.129250\n",
      "         Iterations: 35\n",
      "382: Metro: 47220\n",
      "Warning: Maximum number of iterations has been exceeded.\n",
      "         Current function value: 0.177178\n",
      "         Iterations: 35\n",
      "383: Metro: 26220\n"
     ]
    },
    {
     "name": "stderr",
     "output_type": "stream",
     "text": [
      "/Users/emmanuel/.pyenv/versions/3.8.0/envs/redlining/lib/python3.8/site-packages/statsmodels/base/model.py:566: ConvergenceWarning: Maximum Likelihood optimization failed to converge. Check mle_retvals\n",
      "  warnings.warn(\"Maximum Likelihood optimization failed to \"\n"
     ]
    },
    {
     "name": "stdout",
     "output_type": "stream",
     "text": [
      "Warning: Maximum number of iterations has been exceeded.\n",
      "         Current function value: 0.127775\n",
      "         Iterations: 35\n",
      "384: Metro: 42980\n"
     ]
    },
    {
     "name": "stderr",
     "output_type": "stream",
     "text": [
      "/Users/emmanuel/.pyenv/versions/3.8.0/envs/redlining/lib/python3.8/site-packages/statsmodels/discrete/discrete_model.py:1810: RuntimeWarning: overflow encountered in exp\n",
      "  return 1/(1+np.exp(-X))\n",
      "/Users/emmanuel/.pyenv/versions/3.8.0/envs/redlining/lib/python3.8/site-packages/statsmodels/discrete/discrete_model.py:1863: RuntimeWarning: divide by zero encountered in log\n",
      "  return np.sum(np.log(self.cdf(q*np.dot(X,params))))\n"
     ]
    },
    {
     "name": "stdout",
     "output_type": "stream",
     "text": [
      "Warning: Maximum number of iterations has been exceeded.\n",
      "         Current function value: inf\n",
      "         Iterations: 35\n",
      "385: Metro: 30380\n",
      "Warning: Maximum number of iterations has been exceeded.\n",
      "         Current function value: inf\n",
      "         Iterations: 35\n",
      "386: Metro: 41980\n",
      "Warning: Maximum number of iterations has been exceeded.\n",
      "         Current function value: 0.366262\n",
      "         Iterations: 35\n",
      "387: Metro: 32780\n",
      "Warning: Maximum number of iterations has been exceeded.\n",
      "         Current function value: 0.129667\n",
      "         Iterations: 35\n",
      "388: Metro: 21660\n"
     ]
    },
    {
     "name": "stderr",
     "output_type": "stream",
     "text": [
      "/Users/emmanuel/.pyenv/versions/3.8.0/envs/redlining/lib/python3.8/site-packages/statsmodels/base/model.py:566: ConvergenceWarning: Maximum Likelihood optimization failed to converge. Check mle_retvals\n",
      "  warnings.warn(\"Maximum Likelihood optimization failed to \"\n"
     ]
    },
    {
     "name": "stdout",
     "output_type": "stream",
     "text": [
      "Optimization terminated successfully.\n",
      "         Current function value: 0.145826\n",
      "         Iterations 8\n",
      "389: Metro: 10540\n",
      "Warning: Maximum number of iterations has been exceeded.\n",
      "         Current function value: 0.138767\n",
      "         Iterations: 35\n",
      "390: Metro: 39260\n"
     ]
    },
    {
     "name": "stderr",
     "output_type": "stream",
     "text": [
      "/Users/emmanuel/.pyenv/versions/3.8.0/envs/redlining/lib/python3.8/site-packages/statsmodels/base/model.py:566: ConvergenceWarning: Maximum Likelihood optimization failed to converge. Check mle_retvals\n",
      "  warnings.warn(\"Maximum Likelihood optimization failed to \"\n",
      "/Users/emmanuel/.pyenv/versions/3.8.0/envs/redlining/lib/python3.8/site-packages/statsmodels/discrete/discrete_model.py:1810: RuntimeWarning: overflow encountered in exp\n",
      "  return 1/(1+np.exp(-X))\n",
      "/Users/emmanuel/.pyenv/versions/3.8.0/envs/redlining/lib/python3.8/site-packages/statsmodels/discrete/discrete_model.py:1863: RuntimeWarning: divide by zero encountered in log\n",
      "  return np.sum(np.log(self.cdf(q*np.dot(X,params))))\n"
     ]
    },
    {
     "name": "stdout",
     "output_type": "stream",
     "text": [
      "Warning: Maximum number of iterations has been exceeded.\n",
      "         Current function value: inf\n",
      "         Iterations: 35\n",
      "391: Metro: 46300\n",
      "Warning: Maximum number of iterations has been exceeded.\n",
      "         Current function value: inf\n",
      "         Iterations: 35\n",
      "392: Metro: 18700\n",
      "Warning: Maximum number of iterations has been exceeded.\n",
      "         Current function value: inf\n",
      "         Iterations: 35\n",
      "393: Metro: 28900\n",
      "Warning: Maximum number of iterations has been exceeded.\n",
      "         Current function value: inf\n",
      "         Iterations: 35\n",
      "394: Metro: 24420\n",
      "Warning: Maximum number of iterations has been exceeded.\n",
      "         Current function value: 0.133374\n",
      "         Iterations: 35\n",
      "395: Metro: 45520\n",
      "Warning: Maximum number of iterations has been exceeded.\n",
      "         Current function value: inf\n",
      "         Iterations: 35\n",
      "396: Metro: 40700\n",
      "Warning: Maximum number of iterations has been exceeded.\n",
      "         Current function value: 0.162401\n",
      "         Iterations: 35\n",
      "397: Metro: 25840\n",
      "Warning: Maximum number of iterations has been exceeded.\n",
      "         Current function value: 0.176948\n",
      "         Iterations: 35\n",
      "398: Metro: 29260\n",
      "Warning: Maximum number of iterations has been exceeded.\n",
      "         Current function value: inf\n",
      "         Iterations: 35\n",
      "399: Metro: 43740\n",
      "Warning: Maximum number of iterations has been exceeded.\n",
      "         Current function value: 0.219915\n",
      "         Iterations: 35\n",
      "400: Metro: 26500\n",
      "Warning: Maximum number of iterations has been exceeded.\n",
      "         Current function value: inf\n",
      "         Iterations: 35\n",
      "401: Metro: 27780\n",
      "Warning: Maximum number of iterations has been exceeded.\n",
      "         Current function value: inf\n",
      "         Iterations: 35\n",
      "402: Metro: 26860\n",
      "Warning: Maximum number of iterations has been exceeded.\n",
      "         Current function value: inf\n",
      "         Iterations: 35\n",
      "403: Metro: 15540\n",
      "Warning: Maximum number of iterations has been exceeded.\n",
      "         Current function value: 0.108000\n",
      "         Iterations: 35\n",
      "404: Metro: 19060\n"
     ]
    },
    {
     "name": "stderr",
     "output_type": "stream",
     "text": [
      "/Users/emmanuel/.pyenv/versions/3.8.0/envs/redlining/lib/python3.8/site-packages/statsmodels/base/model.py:566: ConvergenceWarning: Maximum Likelihood optimization failed to converge. Check mle_retvals\n",
      "  warnings.warn(\"Maximum Likelihood optimization failed to \"\n",
      "/Users/emmanuel/.pyenv/versions/3.8.0/envs/redlining/lib/python3.8/site-packages/statsmodels/discrete/discrete_model.py:1810: RuntimeWarning: overflow encountered in exp\n",
      "  return 1/(1+np.exp(-X))\n",
      "/Users/emmanuel/.pyenv/versions/3.8.0/envs/redlining/lib/python3.8/site-packages/statsmodels/discrete/discrete_model.py:1863: RuntimeWarning: divide by zero encountered in log\n",
      "  return np.sum(np.log(self.cdf(q*np.dot(X,params))))\n"
     ]
    },
    {
     "name": "stdout",
     "output_type": "stream",
     "text": [
      "Warning: Maximum number of iterations has been exceeded.\n",
      "         Current function value: inf\n",
      "         Iterations: 35\n",
      "405: Metro: 29740\n",
      "Warning: Maximum number of iterations has been exceeded.\n",
      "         Current function value: inf\n",
      "         Iterations: 35\n",
      "406: Metro: 35700\n",
      "Warning: Maximum number of iterations has been exceeded.\n",
      "         Current function value: 0.085014\n",
      "         Iterations: 35\n",
      "407: Metro: 26020\n",
      "Warning: Maximum number of iterations has been exceeded.\n",
      "         Current function value: 0.058476\n",
      "         Iterations: 35\n",
      "408: Metro: 40760\n",
      "Warning: Maximum number of iterations has been exceeded.\n",
      "         Current function value: inf\n",
      "         Iterations: 35\n",
      "409: Metro: 43500\n",
      "Warning: Maximum number of iterations has been exceeded.\n",
      "         Current function value: inf\n",
      "         Iterations: 35\n",
      "410: Metro: 23820\n",
      "Warning: Maximum number of iterations has been exceeded.\n",
      "         Current function value: 0.127113\n",
      "         Iterations: 35\n",
      "411: Metro: 40740\n",
      "Warning: Maximum number of iterations has been exceeded.\n",
      "         Current function value: 0.207207\n",
      "         Iterations: 35\n",
      "412: Metro: 12700\n",
      "Warning: Maximum number of iterations has been exceeded.\n",
      "         Current function value: 0.158299\n",
      "         Iterations: 35\n",
      "413: Metro: 38340\n",
      "Warning: Maximum number of iterations has been exceeded.\n",
      "         Current function value: 0.166150\n",
      "         Iterations: 35\n",
      "414: Metro: 30280\n"
     ]
    },
    {
     "name": "stderr",
     "output_type": "stream",
     "text": [
      "/Users/emmanuel/.pyenv/versions/3.8.0/envs/redlining/lib/python3.8/site-packages/statsmodels/base/model.py:566: ConvergenceWarning: Maximum Likelihood optimization failed to converge. Check mle_retvals\n",
      "  warnings.warn(\"Maximum Likelihood optimization failed to \"\n"
     ]
    },
    {
     "name": "stdout",
     "output_type": "stream",
     "text": [
      "Warning: Maximum number of iterations has been exceeded.\n",
      "         Current function value: 0.151165\n",
      "         Iterations: 35\n",
      "415: Metro: 18980\n",
      "Warning: Maximum number of iterations has been exceeded.\n",
      "         Current function value: 0.175775\n",
      "         Iterations: 35\n",
      "416: Metro: 15140\n"
     ]
    },
    {
     "name": "stderr",
     "output_type": "stream",
     "text": [
      "/Users/emmanuel/.pyenv/versions/3.8.0/envs/redlining/lib/python3.8/site-packages/statsmodels/discrete/discrete_model.py:1810: RuntimeWarning: overflow encountered in exp\n",
      "  return 1/(1+np.exp(-X))\n",
      "/Users/emmanuel/.pyenv/versions/3.8.0/envs/redlining/lib/python3.8/site-packages/statsmodels/discrete/discrete_model.py:1863: RuntimeWarning: divide by zero encountered in log\n",
      "  return np.sum(np.log(self.cdf(q*np.dot(X,params))))\n"
     ]
    },
    {
     "name": "stdout",
     "output_type": "stream",
     "text": [
      "Warning: Maximum number of iterations has been exceeded.\n",
      "         Current function value: inf\n",
      "         Iterations: 35\n",
      "417: Metro: 43180\n",
      "Warning: Maximum number of iterations has been exceeded.\n",
      "         Current function value: inf\n",
      "         Iterations: 35\n",
      "418: Metro: 21460\n",
      "Warning: Maximum number of iterations has been exceeded.\n",
      "         Current function value: inf\n",
      "         Iterations: 35\n",
      "419: Metro: 29980\n",
      "Warning: Maximum number of iterations has been exceeded.\n",
      "         Current function value: inf\n",
      "         Iterations: 35\n",
      "420: Metro: 12940\n",
      "Optimization terminated successfully.\n",
      "         Current function value: 0.125808\n",
      "         Iterations 8\n",
      "421: Metro: 25220\n",
      "Warning: Maximum number of iterations has been exceeded.\n",
      "         Current function value: 0.083180\n",
      "         Iterations: 35\n",
      "422: Metro: 43340\n",
      "Optimization terminated successfully.\n",
      "         Current function value: 0.159954\n",
      "         Iterations 8\n",
      "423: Metro: 27340\n",
      "Warning: Maximum number of iterations has been exceeded.\n",
      "         Current function value: 0.201094\n",
      "         Iterations: 35\n",
      "424: Metro: 24780\n",
      "Warning: Maximum number of iterations has been exceeded.\n",
      "         Current function value: 0.151813\n",
      "         Iterations: 35\n",
      "425: Metro: 47460\n"
     ]
    },
    {
     "name": "stderr",
     "output_type": "stream",
     "text": [
      "/Users/emmanuel/.pyenv/versions/3.8.0/envs/redlining/lib/python3.8/site-packages/statsmodels/base/model.py:566: ConvergenceWarning: Maximum Likelihood optimization failed to converge. Check mle_retvals\n",
      "  warnings.warn(\"Maximum Likelihood optimization failed to \"\n"
     ]
    },
    {
     "name": "stdout",
     "output_type": "stream",
     "text": [
      "Warning: Maximum number of iterations has been exceeded.\n",
      "         Current function value: 0.186280\n",
      "         Iterations: 35\n",
      "426: Metro: 34140\n",
      "Warning: Maximum number of iterations has been exceeded.\n",
      "         Current function value: 0.075288\n",
      "         Iterations: 35\n",
      "427: Metro: 32580\n",
      "Warning: Maximum number of iterations has been exceeded.\n",
      "         Current function value: 0.293554\n",
      "         Iterations: 35\n",
      "428: Metro: 11260\n"
     ]
    },
    {
     "name": "stderr",
     "output_type": "stream",
     "text": [
      "/Users/emmanuel/.pyenv/versions/3.8.0/envs/redlining/lib/python3.8/site-packages/statsmodels/base/model.py:566: ConvergenceWarning: Maximum Likelihood optimization failed to converge. Check mle_retvals\n",
      "  warnings.warn(\"Maximum Likelihood optimization failed to \"\n"
     ]
    },
    {
     "name": "stdout",
     "output_type": "stream",
     "text": [
      "Warning: Maximum number of iterations has been exceeded.\n",
      "         Current function value: 0.111663\n",
      "         Iterations: 35\n",
      "429: Metro: 26820\n"
     ]
    },
    {
     "name": "stderr",
     "output_type": "stream",
     "text": [
      "/Users/emmanuel/.pyenv/versions/3.8.0/envs/redlining/lib/python3.8/site-packages/statsmodels/base/model.py:566: ConvergenceWarning: Maximum Likelihood optimization failed to converge. Check mle_retvals\n",
      "  warnings.warn(\"Maximum Likelihood optimization failed to \"\n"
     ]
    },
    {
     "name": "stdout",
     "output_type": "stream",
     "text": [
      "Warning: Maximum number of iterations has been exceeded.\n",
      "         Current function value: 0.121834\n",
      "         Iterations: 35\n",
      "430: Metro: 46340\n",
      "Optimization terminated successfully.\n",
      "         Current function value: 0.186714\n",
      "         Iterations 8\n",
      "431: Metro: 31020\n",
      "Warning: Maximum number of iterations has been exceeded.\n",
      "         Current function value: 0.165989\n",
      "         Iterations: 35\n",
      "432: Metro: 33220\n"
     ]
    },
    {
     "name": "stderr",
     "output_type": "stream",
     "text": [
      "/Users/emmanuel/.pyenv/versions/3.8.0/envs/redlining/lib/python3.8/site-packages/statsmodels/discrete/discrete_model.py:1810: RuntimeWarning: overflow encountered in exp\n",
      "  return 1/(1+np.exp(-X))\n",
      "/Users/emmanuel/.pyenv/versions/3.8.0/envs/redlining/lib/python3.8/site-packages/statsmodels/discrete/discrete_model.py:1863: RuntimeWarning: divide by zero encountered in log\n",
      "  return np.sum(np.log(self.cdf(q*np.dot(X,params))))\n"
     ]
    },
    {
     "name": "stdout",
     "output_type": "stream",
     "text": [
      "Warning: Maximum number of iterations has been exceeded.\n",
      "         Current function value: inf\n",
      "         Iterations: 35\n",
      "433: Metro: 13020\n",
      "Warning: Maximum number of iterations has been exceeded.\n",
      "         Current function value: inf\n",
      "         Iterations: 35\n",
      "434: Metro: 30100\n",
      "Warning: Maximum number of iterations has been exceeded.\n",
      "         Current function value: 0.271609\n",
      "         Iterations: 35\n",
      "435: Metro: 30860\n",
      "Warning: Maximum number of iterations has been exceeded.\n",
      "         Current function value: 0.109248\n",
      "         Iterations: 35\n",
      "436: Metro: 21220\n",
      "Warning: Maximum number of iterations has been exceeded.\n",
      "         Current function value: 0.055191\n",
      "         Iterations: 35\n",
      "437: Metro: 12740\n",
      "Warning: Maximum number of iterations has been exceeded.\n",
      "         Current function value: 0.143958\n",
      "         Iterations: 35\n",
      "438: Metro: 11980\n",
      "Warning: Maximum number of iterations has been exceeded.\n",
      "         Current function value: 0.204784\n",
      "         Iterations: 35\n",
      "439: Metro: 30980\n",
      "Warning: Maximum number of iterations has been exceeded.\n",
      "         Current function value: 0.225640\n",
      "         Iterations: 35\n",
      "440: Metro: 15180\n"
     ]
    },
    {
     "name": "stderr",
     "output_type": "stream",
     "text": [
      "/Users/emmanuel/.pyenv/versions/3.8.0/envs/redlining/lib/python3.8/site-packages/statsmodels/base/model.py:566: ConvergenceWarning: Maximum Likelihood optimization failed to converge. Check mle_retvals\n",
      "  warnings.warn(\"Maximum Likelihood optimization failed to \"\n"
     ]
    },
    {
     "name": "stdout",
     "output_type": "stream",
     "text": [
      "Warning: Maximum number of iterations has been exceeded.\n",
      "         Current function value: 0.330227\n",
      "         Iterations: 35\n",
      "441: Metro: 22140\n",
      "Warning: Maximum number of iterations has been exceeded.\n",
      "         Current function value: 0.171743\n",
      "         Iterations: 35\n",
      "442: Metro: 27140\n",
      "Optimization terminated successfully.\n",
      "         Current function value: 0.153422\n",
      "         Iterations 8\n",
      "443: Metro: 41820\n"
     ]
    },
    {
     "name": "stderr",
     "output_type": "stream",
     "text": [
      "/Users/emmanuel/.pyenv/versions/3.8.0/envs/redlining/lib/python3.8/site-packages/statsmodels/discrete/discrete_model.py:1810: RuntimeWarning: overflow encountered in exp\n",
      "  return 1/(1+np.exp(-X))\n",
      "/Users/emmanuel/.pyenv/versions/3.8.0/envs/redlining/lib/python3.8/site-packages/statsmodels/discrete/discrete_model.py:1863: RuntimeWarning: divide by zero encountered in log\n",
      "  return np.sum(np.log(self.cdf(q*np.dot(X,params))))\n"
     ]
    },
    {
     "name": "stdout",
     "output_type": "stream",
     "text": [
      "Warning: Maximum number of iterations has been exceeded.\n",
      "         Current function value: inf\n",
      "         Iterations: 35\n",
      "444: Metro: 18580\n",
      "Warning: Maximum number of iterations has been exceeded.\n",
      "         Current function value: 0.212681\n",
      "         Iterations: 35\n",
      "445: Metro: 13540\n"
     ]
    },
    {
     "name": "stderr",
     "output_type": "stream",
     "text": [
      "/Users/emmanuel/.pyenv/versions/3.8.0/envs/redlining/lib/python3.8/site-packages/statsmodels/base/model.py:566: ConvergenceWarning: Maximum Likelihood optimization failed to converge. Check mle_retvals\n",
      "  warnings.warn(\"Maximum Likelihood optimization failed to \"\n"
     ]
    },
    {
     "name": "stdout",
     "output_type": "stream",
     "text": [
      "Warning: Maximum number of iterations has been exceeded.\n",
      "         Current function value: 0.084521\n",
      "         Iterations: 35\n",
      "446: Metro: 23060\n",
      "Optimization terminated successfully.\n",
      "         Current function value: 0.118631\n",
      "         Iterations 8\n",
      "447: Metro: 44540\n"
     ]
    },
    {
     "name": "stderr",
     "output_type": "stream",
     "text": [
      "/Users/emmanuel/.pyenv/versions/3.8.0/envs/redlining/lib/python3.8/site-packages/statsmodels/discrete/discrete_model.py:1810: RuntimeWarning: overflow encountered in exp\n",
      "  return 1/(1+np.exp(-X))\n",
      "/Users/emmanuel/.pyenv/versions/3.8.0/envs/redlining/lib/python3.8/site-packages/statsmodels/discrete/discrete_model.py:1863: RuntimeWarning: divide by zero encountered in log\n",
      "  return np.sum(np.log(self.cdf(q*np.dot(X,params))))\n"
     ]
    },
    {
     "name": "stdout",
     "output_type": "stream",
     "text": [
      "Warning: Maximum number of iterations has been exceeded.\n",
      "         Current function value: inf\n",
      "         Iterations: 35\n",
      "448: Metro: 18180\n",
      "Warning: Maximum number of iterations has been exceeded.\n",
      "         Current function value: 0.151820\n",
      "         Iterations: 35\n",
      "449: Metro: 49020\n",
      "Warning: Maximum number of iterations has been exceeded.\n",
      "         Current function value: 0.099868\n",
      "         Iterations: 35\n",
      "450: Metro: 43300\n"
     ]
    },
    {
     "name": "stderr",
     "output_type": "stream",
     "text": [
      "/Users/emmanuel/.pyenv/versions/3.8.0/envs/redlining/lib/python3.8/site-packages/statsmodels/base/model.py:566: ConvergenceWarning: Maximum Likelihood optimization failed to converge. Check mle_retvals\n",
      "  warnings.warn(\"Maximum Likelihood optimization failed to \"\n"
     ]
    },
    {
     "name": "stdout",
     "output_type": "stream",
     "text": [
      "Warning: Maximum number of iterations has been exceeded.\n",
      "         Current function value: 0.182786\n",
      "         Iterations: 35\n",
      "451: Metro: 15700\n"
     ]
    },
    {
     "name": "stderr",
     "output_type": "stream",
     "text": [
      "/Users/emmanuel/.pyenv/versions/3.8.0/envs/redlining/lib/python3.8/site-packages/statsmodels/base/model.py:566: ConvergenceWarning: Maximum Likelihood optimization failed to converge. Check mle_retvals\n",
      "  warnings.warn(\"Maximum Likelihood optimization failed to \"\n"
     ]
    },
    {
     "name": "stdout",
     "output_type": "stream",
     "text": [
      "Warning: Maximum number of iterations has been exceeded.\n",
      "         Current function value: 0.216845\n",
      "         Iterations: 35\n",
      "452: Metro: 22420\n"
     ]
    },
    {
     "name": "stderr",
     "output_type": "stream",
     "text": [
      "/Users/emmanuel/.pyenv/versions/3.8.0/envs/redlining/lib/python3.8/site-packages/statsmodels/discrete/discrete_model.py:1810: RuntimeWarning: overflow encountered in exp\n",
      "  return 1/(1+np.exp(-X))\n",
      "/Users/emmanuel/.pyenv/versions/3.8.0/envs/redlining/lib/python3.8/site-packages/statsmodels/discrete/discrete_model.py:1863: RuntimeWarning: divide by zero encountered in log\n",
      "  return np.sum(np.log(self.cdf(q*np.dot(X,params))))\n",
      "/Users/emmanuel/.pyenv/versions/3.8.0/envs/redlining/lib/python3.8/site-packages/statsmodels/base/model.py:566: ConvergenceWarning: Maximum Likelihood optimization failed to converge. Check mle_retvals\n",
      "  warnings.warn(\"Maximum Likelihood optimization failed to \"\n",
      "/Users/emmanuel/.pyenv/versions/3.8.0/envs/redlining/lib/python3.8/site-packages/pandas/core/arraylike.py:358: RuntimeWarning: overflow encountered in exp\n",
      "  result = getattr(ufunc, method)(*inputs, **kwargs)\n",
      "/Users/emmanuel/.pyenv/versions/3.8.0/envs/redlining/lib/python3.8/site-packages/statsmodels/discrete/discrete_model.py:1810: RuntimeWarning: overflow encountered in exp\n",
      "  return 1/(1+np.exp(-X))\n",
      "/Users/emmanuel/.pyenv/versions/3.8.0/envs/redlining/lib/python3.8/site-packages/statsmodels/discrete/discrete_model.py:1863: RuntimeWarning: divide by zero encountered in log\n",
      "  return np.sum(np.log(self.cdf(q*np.dot(X,params))))\n"
     ]
    },
    {
     "name": "stdout",
     "output_type": "stream",
     "text": [
      "Warning: Maximum number of iterations has been exceeded.\n",
      "         Current function value: inf\n",
      "         Iterations: 35\n",
      "453: Metro: 15680\n",
      "Warning: Maximum number of iterations has been exceeded.\n",
      "         Current function value: 0.142359\n",
      "         Iterations: 35\n",
      "454: Metro: 16820\n"
     ]
    },
    {
     "name": "stderr",
     "output_type": "stream",
     "text": [
      "/Users/emmanuel/.pyenv/versions/3.8.0/envs/redlining/lib/python3.8/site-packages/statsmodels/base/model.py:566: ConvergenceWarning: Maximum Likelihood optimization failed to converge. Check mle_retvals\n",
      "  warnings.warn(\"Maximum Likelihood optimization failed to \"\n"
     ]
    },
    {
     "name": "stdout",
     "output_type": "stream",
     "text": [
      "Warning: Maximum number of iterations has been exceeded.\n",
      "         Current function value: 0.110135\n",
      "         Iterations: 35\n",
      "455: Metro: 40860\n"
     ]
    },
    {
     "name": "stderr",
     "output_type": "stream",
     "text": [
      "/Users/emmanuel/.pyenv/versions/3.8.0/envs/redlining/lib/python3.8/site-packages/statsmodels/discrete/discrete_model.py:1810: RuntimeWarning: overflow encountered in exp\n",
      "  return 1/(1+np.exp(-X))\n",
      "/Users/emmanuel/.pyenv/versions/3.8.0/envs/redlining/lib/python3.8/site-packages/statsmodels/discrete/discrete_model.py:1863: RuntimeWarning: divide by zero encountered in log\n",
      "  return np.sum(np.log(self.cdf(q*np.dot(X,params))))\n"
     ]
    },
    {
     "name": "stdout",
     "output_type": "stream",
     "text": [
      "Warning: Maximum number of iterations has been exceeded.\n",
      "         Current function value: inf\n",
      "         Iterations: 35\n",
      "456: Metro: 30340\n",
      "Warning: Maximum number of iterations has been exceeded.\n",
      "         Current function value: 0.136005\n",
      "         Iterations: 35\n",
      "457: Metro: 34380\n",
      "Warning: Maximum number of iterations has been exceeded.\n",
      "         Current function value: inf\n",
      "         Iterations: 35\n",
      "458: Metro: 40980\n",
      "Warning: Maximum number of iterations has been exceeded.\n",
      "         Current function value: 0.120810\n",
      "         Iterations: 35\n",
      "459: Metro: 25740\n"
     ]
    },
    {
     "name": "stderr",
     "output_type": "stream",
     "text": [
      "/Users/emmanuel/.pyenv/versions/3.8.0/envs/redlining/lib/python3.8/site-packages/statsmodels/base/model.py:566: ConvergenceWarning: Maximum Likelihood optimization failed to converge. Check mle_retvals\n",
      "  warnings.warn(\"Maximum Likelihood optimization failed to \"\n"
     ]
    },
    {
     "name": "stdout",
     "output_type": "stream",
     "text": [
      "Warning: Maximum number of iterations has been exceeded.\n",
      "         Current function value: 0.125364\n",
      "         Iterations: 35\n",
      "460: Metro: 12140\n",
      "Warning: Maximum number of iterations has been exceeded.\n",
      "         Current function value: 0.178738\n",
      "         Iterations: 35\n",
      "461: Metro: 33780\n"
     ]
    },
    {
     "name": "stderr",
     "output_type": "stream",
     "text": [
      "/Users/emmanuel/.pyenv/versions/3.8.0/envs/redlining/lib/python3.8/site-packages/statsmodels/discrete/discrete_model.py:1810: RuntimeWarning: overflow encountered in exp\n",
      "  return 1/(1+np.exp(-X))\n",
      "/Users/emmanuel/.pyenv/versions/3.8.0/envs/redlining/lib/python3.8/site-packages/statsmodels/discrete/discrete_model.py:1863: RuntimeWarning: divide by zero encountered in log\n",
      "  return np.sum(np.log(self.cdf(q*np.dot(X,params))))\n"
     ]
    },
    {
     "name": "stdout",
     "output_type": "stream",
     "text": [
      "Warning: Maximum number of iterations has been exceeded.\n",
      "         Current function value: inf\n",
      "         Iterations: 35\n",
      "462: Metro: 24900\n",
      "Warning: Maximum number of iterations has been exceeded.\n",
      "         Current function value: inf\n",
      "         Iterations: 35\n",
      "463: Metro: 21580\n",
      "Warning: Maximum number of iterations has been exceeded.\n",
      "         Current function value: inf\n",
      "         Iterations: 35\n",
      "464: Metro: 13140\n",
      "Optimization terminated successfully.\n",
      "         Current function value: 0.225058\n",
      "         Iterations 7\n",
      "465: Metro: 24340\n",
      "Warning: Maximum number of iterations has been exceeded.\n",
      "         Current function value: 0.127479\n",
      "         Iterations: 35\n",
      "466: Metro: 24140\n",
      "Warning: Maximum number of iterations has been exceeded.\n",
      "         Current function value: 0.167578\n",
      "         Iterations: 35\n"
     ]
    },
    {
     "name": "stderr",
     "output_type": "stream",
     "text": [
      "/Users/emmanuel/.pyenv/versions/3.8.0/envs/redlining/lib/python3.8/site-packages/statsmodels/base/model.py:566: ConvergenceWarning: Maximum Likelihood optimization failed to converge. Check mle_retvals\n",
      "  warnings.warn(\"Maximum Likelihood optimization failed to \"\n"
     ]
    },
    {
     "name": "stdout",
     "output_type": "stream",
     "text": [
      "467: Metro: 16540\n",
      "Warning: Maximum number of iterations has been exceeded.\n",
      "         Current function value: 0.129266\n",
      "         Iterations: 35\n",
      "468: Metro: 11420\n",
      "Warning: Maximum number of iterations has been exceeded.\n",
      "         Current function value: 0.125069\n",
      "         Iterations: 35\n",
      "469: Metro: 33420\n"
     ]
    },
    {
     "name": "stderr",
     "output_type": "stream",
     "text": [
      "/Users/emmanuel/.pyenv/versions/3.8.0/envs/redlining/lib/python3.8/site-packages/statsmodels/discrete/discrete_model.py:1810: RuntimeWarning: overflow encountered in exp\n",
      "  return 1/(1+np.exp(-X))\n",
      "/Users/emmanuel/.pyenv/versions/3.8.0/envs/redlining/lib/python3.8/site-packages/statsmodels/discrete/discrete_model.py:1863: RuntimeWarning: divide by zero encountered in log\n",
      "  return np.sum(np.log(self.cdf(q*np.dot(X,params))))\n"
     ]
    },
    {
     "name": "stdout",
     "output_type": "stream",
     "text": [
      "Warning: Maximum number of iterations has been exceeded.\n",
      "         Current function value: inf\n",
      "         Iterations: 35\n",
      "470: Metro: 34300\n",
      "Warning: Maximum number of iterations has been exceeded.\n",
      "         Current function value: inf\n",
      "         Iterations: 35\n",
      "471: Metro: 12300\n",
      "Warning: Maximum number of iterations has been exceeded.\n",
      "         Current function value: 0.144820\n",
      "         Iterations: 35\n",
      "472: Metro: 14780\n",
      "Warning: Maximum number of iterations has been exceeded.\n",
      "         Current function value: 0.136079\n",
      "         Iterations: 35\n",
      "473: Metro: 25460\n",
      "Warning: Maximum number of iterations has been exceeded.\n",
      "         Current function value: inf\n",
      "         Iterations: 35\n",
      "474: Metro: 13940\n",
      "Warning: Maximum number of iterations has been exceeded.\n",
      "         Current function value: 0.119702\n",
      "         Iterations: 35\n",
      "475: Metro: 45500\n",
      "Warning: Maximum number of iterations has been exceeded.\n",
      "         Current function value: 0.119783\n",
      "         Iterations: 35\n",
      "476: Metro: 27620\n",
      "Warning: Maximum number of iterations has been exceeded.\n",
      "         Current function value: inf\n",
      "         Iterations: 35\n",
      "477: Metro: 27220\n",
      "Warning: Maximum number of iterations has been exceeded.\n",
      "         Current function value: 0.204214\n",
      "         Iterations: 35\n",
      "478: Metro: 26300\n",
      "Warning: Maximum number of iterations has been exceeded.\n",
      "         Current function value: 0.178145\n",
      "         Iterations: 35\n",
      "479: Metro: 10940\n"
     ]
    },
    {
     "name": "stderr",
     "output_type": "stream",
     "text": [
      "/Users/emmanuel/.pyenv/versions/3.8.0/envs/redlining/lib/python3.8/site-packages/statsmodels/base/model.py:566: ConvergenceWarning: Maximum Likelihood optimization failed to converge. Check mle_retvals\n",
      "  warnings.warn(\"Maximum Likelihood optimization failed to \"\n",
      "/Users/emmanuel/.pyenv/versions/3.8.0/envs/redlining/lib/python3.8/site-packages/statsmodels/discrete/discrete_model.py:1810: RuntimeWarning: overflow encountered in exp\n",
      "  return 1/(1+np.exp(-X))\n",
      "/Users/emmanuel/.pyenv/versions/3.8.0/envs/redlining/lib/python3.8/site-packages/statsmodels/discrete/discrete_model.py:1863: RuntimeWarning: divide by zero encountered in log\n",
      "  return np.sum(np.log(self.cdf(q*np.dot(X,params))))\n"
     ]
    },
    {
     "name": "stdout",
     "output_type": "stream",
     "text": [
      "Warning: Maximum number of iterations has been exceeded.\n",
      "         Current function value: inf\n",
      "         Iterations: 35\n",
      "480: Metro: 37060\n",
      "Warning: Maximum number of iterations has been exceeded.\n",
      "         Current function value: inf\n",
      "         Iterations: 35\n",
      "481: Metro: 25900\n",
      "Warning: Maximum number of iterations has been exceeded.\n",
      "         Current function value: 0.227299\n",
      "         Iterations: 35\n",
      "482: Metro: 40300\n"
     ]
    },
    {
     "name": "stderr",
     "output_type": "stream",
     "text": [
      "/Users/emmanuel/.pyenv/versions/3.8.0/envs/redlining/lib/python3.8/site-packages/statsmodels/base/model.py:566: ConvergenceWarning: Maximum Likelihood optimization failed to converge. Check mle_retvals\n",
      "  warnings.warn(\"Maximum Likelihood optimization failed to \"\n"
     ]
    },
    {
     "name": "stdout",
     "output_type": "stream",
     "text": [
      "Warning: Maximum number of iterations has been exceeded.\n",
      "         Current function value: 0.185730\n",
      "         Iterations: 35\n",
      "483: Metro: 45780\n",
      "Warning: Maximum number of iterations has been exceeded.\n",
      "         Current function value: 0.149094\n",
      "         Iterations: 35\n",
      "484: Metro: 10980\n"
     ]
    },
    {
     "name": "stderr",
     "output_type": "stream",
     "text": [
      "/Users/emmanuel/.pyenv/versions/3.8.0/envs/redlining/lib/python3.8/site-packages/statsmodels/base/model.py:566: ConvergenceWarning: Maximum Likelihood optimization failed to converge. Check mle_retvals\n",
      "  warnings.warn(\"Maximum Likelihood optimization failed to \"\n",
      "/Users/emmanuel/.pyenv/versions/3.8.0/envs/redlining/lib/python3.8/site-packages/statsmodels/discrete/discrete_model.py:1810: RuntimeWarning: overflow encountered in exp\n",
      "  return 1/(1+np.exp(-X))\n",
      "/Users/emmanuel/.pyenv/versions/3.8.0/envs/redlining/lib/python3.8/site-packages/statsmodels/discrete/discrete_model.py:1863: RuntimeWarning: divide by zero encountered in log\n",
      "  return np.sum(np.log(self.cdf(q*np.dot(X,params))))\n"
     ]
    },
    {
     "name": "stdout",
     "output_type": "stream",
     "text": [
      "Warning: Maximum number of iterations has been exceeded.\n",
      "         Current function value: inf\n",
      "         Iterations: 35\n",
      "485: Metro: 46620\n",
      "Warning: Maximum number of iterations has been exceeded.\n",
      "         Current function value: inf\n",
      "         Iterations: 35\n",
      "486: Metro: 17780\n",
      "Optimization terminated successfully.\n",
      "         Current function value: 0.153248\n",
      "         Iterations 8\n",
      "487: Metro: 36830\n"
     ]
    },
    {
     "name": "stderr",
     "output_type": "stream",
     "text": [
      "/Users/emmanuel/.pyenv/versions/3.8.0/envs/redlining/lib/python3.8/site-packages/statsmodels/discrete/discrete_model.py:1810: RuntimeWarning: overflow encountered in exp\n",
      "  return 1/(1+np.exp(-X))\n",
      "/Users/emmanuel/.pyenv/versions/3.8.0/envs/redlining/lib/python3.8/site-packages/statsmodels/discrete/discrete_model.py:1863: RuntimeWarning: divide by zero encountered in log\n",
      "  return np.sum(np.log(self.cdf(q*np.dot(X,params))))\n"
     ]
    },
    {
     "name": "stdout",
     "output_type": "stream",
     "text": [
      "Warning: Maximum number of iterations has been exceeded.\n",
      "         Current function value: inf\n",
      "         Iterations: 35\n",
      "488: Metro: 19460\n",
      "Warning: Maximum number of iterations has been exceeded.\n",
      "         Current function value: 0.166302\n",
      "         Iterations: 35\n",
      "489: Metro: 41760\n"
     ]
    },
    {
     "name": "stderr",
     "output_type": "stream",
     "text": [
      "/Users/emmanuel/.pyenv/versions/3.8.0/envs/redlining/lib/python3.8/site-packages/statsmodels/base/model.py:566: ConvergenceWarning: Maximum Likelihood optimization failed to converge. Check mle_retvals\n",
      "  warnings.warn(\"Maximum Likelihood optimization failed to \"\n"
     ]
    },
    {
     "name": "stdout",
     "output_type": "stream",
     "text": [
      "Warning: Maximum number of iterations has been exceeded.\n",
      "         Current function value: 0.203367\n",
      "         Iterations: 35\n",
      "490: Metro: 40180\n"
     ]
    },
    {
     "name": "stderr",
     "output_type": "stream",
     "text": [
      "/Users/emmanuel/.pyenv/versions/3.8.0/envs/redlining/lib/python3.8/site-packages/statsmodels/discrete/discrete_model.py:1810: RuntimeWarning: overflow encountered in exp\n",
      "  return 1/(1+np.exp(-X))\n",
      "/Users/emmanuel/.pyenv/versions/3.8.0/envs/redlining/lib/python3.8/site-packages/statsmodels/discrete/discrete_model.py:1863: RuntimeWarning: divide by zero encountered in log\n",
      "  return np.sum(np.log(self.cdf(q*np.dot(X,params))))\n"
     ]
    },
    {
     "name": "stdout",
     "output_type": "stream",
     "text": [
      "Warning: Maximum number of iterations has been exceeded.\n",
      "         Current function value: inf\n",
      "         Iterations: 35\n",
      "491: Metro: 16220\n",
      "Warning: Maximum number of iterations has been exceeded.\n",
      "         Current function value: 0.141394\n",
      "         Iterations: 35\n",
      "492: Metro: 28340\n",
      "Warning: Maximum number of iterations has been exceeded.\n",
      "         Current function value: 0.126969\n",
      "         Iterations: 35\n",
      "493: Metro: 21820\n",
      "Warning: Maximum number of iterations has been exceeded.\n",
      "         Current function value: 0.077668\n",
      "         Iterations: 35\n",
      "494: Metro: 21780\n",
      "Optimization terminated successfully.\n",
      "         Current function value: 0.109266\n",
      "         Iterations 9\n",
      "495: Metro: 37580\n"
     ]
    },
    {
     "name": "stderr",
     "output_type": "stream",
     "text": [
      "/Users/emmanuel/.pyenv/versions/3.8.0/envs/redlining/lib/python3.8/site-packages/statsmodels/discrete/discrete_model.py:1810: RuntimeWarning: overflow encountered in exp\n",
      "  return 1/(1+np.exp(-X))\n",
      "/Users/emmanuel/.pyenv/versions/3.8.0/envs/redlining/lib/python3.8/site-packages/statsmodels/discrete/discrete_model.py:1863: RuntimeWarning: divide by zero encountered in log\n",
      "  return np.sum(np.log(self.cdf(q*np.dot(X,params))))\n"
     ]
    },
    {
     "name": "stdout",
     "output_type": "stream",
     "text": [
      "Warning: Maximum number of iterations has been exceeded.\n",
      "         Current function value: inf\n",
      "         Iterations: 35\n",
      "496: Metro: 34260\n",
      "Warning: Maximum number of iterations has been exceeded.\n",
      "         Current function value: 0.154501\n",
      "         Iterations: 35\n",
      "497: Metro: 23460\n",
      "Warning: Maximum number of iterations has been exceeded.\n",
      "         Current function value: inf\n",
      "         Iterations: 35\n",
      "498: Metro: 45180\n",
      "Warning: Maximum number of iterations has been exceeded.\n",
      "         Current function value: 0.124365\n",
      "         Iterations: 35\n",
      "499: Metro: 46380\n"
     ]
    },
    {
     "name": "stderr",
     "output_type": "stream",
     "text": [
      "/Users/emmanuel/.pyenv/versions/3.8.0/envs/redlining/lib/python3.8/site-packages/statsmodels/base/model.py:566: ConvergenceWarning: Maximum Likelihood optimization failed to converge. Check mle_retvals\n",
      "  warnings.warn(\"Maximum Likelihood optimization failed to \"\n",
      "/Users/emmanuel/.pyenv/versions/3.8.0/envs/redlining/lib/python3.8/site-packages/statsmodels/discrete/discrete_model.py:1810: RuntimeWarning: overflow encountered in exp\n",
      "  return 1/(1+np.exp(-X))\n",
      "/Users/emmanuel/.pyenv/versions/3.8.0/envs/redlining/lib/python3.8/site-packages/statsmodels/discrete/discrete_model.py:1863: RuntimeWarning: divide by zero encountered in log\n",
      "  return np.sum(np.log(self.cdf(q*np.dot(X,params))))\n"
     ]
    },
    {
     "name": "stdout",
     "output_type": "stream",
     "text": [
      "Warning: Maximum number of iterations has been exceeded.\n",
      "         Current function value: inf\n",
      "         Iterations: 35\n",
      "500: Metro: 49660\n",
      "Optimization terminated successfully.\n",
      "         Current function value: 0.193380\n",
      "         Iterations 8\n",
      "501: Metro: 49700\n",
      "Optimization terminated successfully.\n",
      "         Current function value: 0.214988\n",
      "         Iterations 8\n",
      "502: Metro: 40100\n"
     ]
    },
    {
     "name": "stderr",
     "output_type": "stream",
     "text": [
      "/Users/emmanuel/.pyenv/versions/3.8.0/envs/redlining/lib/python3.8/site-packages/statsmodels/discrete/discrete_model.py:1810: RuntimeWarning: overflow encountered in exp\n",
      "  return 1/(1+np.exp(-X))\n",
      "/Users/emmanuel/.pyenv/versions/3.8.0/envs/redlining/lib/python3.8/site-packages/statsmodels/discrete/discrete_model.py:1863: RuntimeWarning: divide by zero encountered in log\n",
      "  return np.sum(np.log(self.cdf(q*np.dot(X,params))))\n"
     ]
    },
    {
     "name": "stdout",
     "output_type": "stream",
     "text": [
      "Warning: Maximum number of iterations has been exceeded.\n",
      "         Current function value: inf\n",
      "         Iterations: 35\n",
      "503: Metro: 48020\n",
      "Warning: Maximum number of iterations has been exceeded.\n",
      "         Current function value: 0.163487\n",
      "         Iterations: 35\n",
      "504: Metro: 44500\n",
      "Warning: Maximum number of iterations has been exceeded.\n",
      "         Current function value: inf\n",
      "         Iterations: 35\n",
      "505: Metro: 27380\n",
      "Warning: Maximum number of iterations has been exceeded.\n",
      "         Current function value: 0.316856\n",
      "         Iterations: 35\n",
      "506: Metro: 21140\n",
      "Warning: Maximum number of iterations has been exceeded.\n",
      "         Current function value: 0.121232\n",
      "         Iterations: 35\n",
      "507: Metro: 47660\n"
     ]
    },
    {
     "name": "stderr",
     "output_type": "stream",
     "text": [
      "/Users/emmanuel/.pyenv/versions/3.8.0/envs/redlining/lib/python3.8/site-packages/statsmodels/base/model.py:566: ConvergenceWarning: Maximum Likelihood optimization failed to converge. Check mle_retvals\n",
      "  warnings.warn(\"Maximum Likelihood optimization failed to \"\n",
      "/Users/emmanuel/.pyenv/versions/3.8.0/envs/redlining/lib/python3.8/site-packages/statsmodels/discrete/discrete_model.py:1810: RuntimeWarning: overflow encountered in exp\n",
      "  return 1/(1+np.exp(-X))\n",
      "/Users/emmanuel/.pyenv/versions/3.8.0/envs/redlining/lib/python3.8/site-packages/statsmodels/discrete/discrete_model.py:1863: RuntimeWarning: divide by zero encountered in log\n",
      "  return np.sum(np.log(self.cdf(q*np.dot(X,params))))\n"
     ]
    },
    {
     "name": "stdout",
     "output_type": "stream",
     "text": [
      "Warning: Maximum number of iterations has been exceeded.\n",
      "         Current function value: inf\n",
      "         Iterations: 35\n",
      "508: Metro: 13660\n",
      "Warning: Maximum number of iterations has been exceeded.\n",
      "         Current function value: 0.095996\n",
      "         Iterations: 35\n",
      "509: Metro: 24980\n",
      "Warning: Maximum number of iterations has been exceeded.\n",
      "         Current function value: inf\n",
      "         Iterations: 35\n",
      "510: Metro: 39780\n",
      "Warning: Maximum number of iterations has been exceeded.\n",
      "         Current function value: 0.087148\n",
      "         Iterations: 35\n",
      "511: Metro: 37260\n",
      "Warning: Maximum number of iterations has been exceeded.\n",
      "         Current function value: inf\n",
      "         Iterations: 35\n",
      "512: Metro: 40580\n",
      "Warning: Maximum number of iterations has been exceeded.\n",
      "         Current function value: 0.187125\n",
      "         Iterations: 35\n",
      "513: Metro: 23900\n",
      "Warning: Maximum number of iterations has been exceeded.\n",
      "         Current function value: 0.166524\n",
      "         Iterations: 35\n",
      "514: Metro: 15420\n",
      "Warning: Maximum number of iterations has been exceeded.\n",
      "         Current function value: 0.154011\n",
      "         Iterations: 35\n",
      "515: Metro: 27860\n",
      "Warning: Maximum number of iterations has been exceeded.\n",
      "         Current function value: 0.153649\n",
      "         Iterations: 35\n",
      "516: Metro: 39220\n"
     ]
    },
    {
     "name": "stderr",
     "output_type": "stream",
     "text": [
      "/Users/emmanuel/.pyenv/versions/3.8.0/envs/redlining/lib/python3.8/site-packages/statsmodels/base/model.py:566: ConvergenceWarning: Maximum Likelihood optimization failed to converge. Check mle_retvals\n",
      "  warnings.warn(\"Maximum Likelihood optimization failed to \"\n",
      "/Users/emmanuel/.pyenv/versions/3.8.0/envs/redlining/lib/python3.8/site-packages/statsmodels/discrete/discrete_model.py:1810: RuntimeWarning: overflow encountered in exp\n",
      "  return 1/(1+np.exp(-X))\n",
      "/Users/emmanuel/.pyenv/versions/3.8.0/envs/redlining/lib/python3.8/site-packages/statsmodels/discrete/discrete_model.py:1863: RuntimeWarning: divide by zero encountered in log\n",
      "  return np.sum(np.log(self.cdf(q*np.dot(X,params))))\n"
     ]
    },
    {
     "name": "stdout",
     "output_type": "stream",
     "text": [
      "Warning: Maximum number of iterations has been exceeded.\n",
      "         Current function value: inf\n",
      "         Iterations: 35\n",
      "517: Metro: 38540\n",
      "Warning: Maximum number of iterations has been exceeded.\n",
      "         Current function value: 0.080092\n",
      "         Iterations: 35\n",
      "518: Metro: 44180\n",
      "Optimization terminated successfully.\n",
      "         Current function value: 0.148459\n",
      "         Iterations 8\n",
      "519: Metro: 21740\n",
      "Warning: Maximum number of iterations has been exceeded.\n",
      "         Current function value: inf\n",
      "         Iterations: 35\n",
      "520: Metro: 35220\n",
      "Warning: Maximum number of iterations has been exceeded.\n",
      "         Current function value: inf\n",
      "         Iterations: 35\n",
      "521: Metro: 28020\n",
      "Warning: Maximum number of iterations has been exceeded.\n",
      "         Current function value: 0.096448\n",
      "         Iterations: 35\n",
      "522: Metro: 25200\n"
     ]
    },
    {
     "name": "stderr",
     "output_type": "stream",
     "text": [
      "/Users/emmanuel/.pyenv/versions/3.8.0/envs/redlining/lib/python3.8/site-packages/statsmodels/base/model.py:566: ConvergenceWarning: Maximum Likelihood optimization failed to converge. Check mle_retvals\n",
      "  warnings.warn(\"Maximum Likelihood optimization failed to \"\n"
     ]
    },
    {
     "name": "stdout",
     "output_type": "stream",
     "text": [
      "Warning: Maximum number of iterations has been exceeded.\n",
      "         Current function value: 0.207533\n",
      "         Iterations: 35\n",
      "523: Metro: 17340\n",
      "Warning: Maximum number of iterations has been exceeded.\n",
      "         Current function value: 0.199570\n",
      "         Iterations: 35\n",
      "524: Metro: 37900\n",
      "Warning: Maximum number of iterations has been exceeded.\n",
      "         Current function value: 0.139491\n",
      "         Iterations: 35\n",
      "525: Metro: 29200\n"
     ]
    },
    {
     "name": "stderr",
     "output_type": "stream",
     "text": [
      "/Users/emmanuel/.pyenv/versions/3.8.0/envs/redlining/lib/python3.8/site-packages/statsmodels/base/model.py:566: ConvergenceWarning: Maximum Likelihood optimization failed to converge. Check mle_retvals\n",
      "  warnings.warn(\"Maximum Likelihood optimization failed to \"\n"
     ]
    },
    {
     "name": "stdout",
     "output_type": "stream",
     "text": [
      "Warning: Maximum number of iterations has been exceeded.\n",
      "         Current function value: 0.115984\n",
      "         Iterations: 35\n",
      "526: Metro: 22100\n"
     ]
    },
    {
     "name": "stderr",
     "output_type": "stream",
     "text": [
      "/Users/emmanuel/.pyenv/versions/3.8.0/envs/redlining/lib/python3.8/site-packages/statsmodels/base/model.py:566: ConvergenceWarning: Maximum Likelihood optimization failed to converge. Check mle_retvals\n",
      "  warnings.warn(\"Maximum Likelihood optimization failed to \"\n"
     ]
    },
    {
     "name": "stdout",
     "output_type": "stream",
     "text": [
      "Warning: Maximum number of iterations has been exceeded.\n",
      "         Current function value: 0.310684\n",
      "         Iterations: 35\n",
      "527: Metro: 14010\n",
      "Optimization terminated successfully.\n",
      "         Current function value: 0.106096\n",
      "         Iterations 23\n",
      "528: Metro: 19500\n",
      "Warning: Maximum number of iterations has been exceeded.\n",
      "         Current function value: 0.133483\n",
      "         Iterations: 35\n",
      "529: Metro: 30660\n"
     ]
    },
    {
     "name": "stderr",
     "output_type": "stream",
     "text": [
      "/Users/emmanuel/.pyenv/versions/3.8.0/envs/redlining/lib/python3.8/site-packages/statsmodels/base/model.py:566: ConvergenceWarning: Maximum Likelihood optimization failed to converge. Check mle_retvals\n",
      "  warnings.warn(\"Maximum Likelihood optimization failed to \"\n",
      "/Users/emmanuel/.pyenv/versions/3.8.0/envs/redlining/lib/python3.8/site-packages/statsmodels/discrete/discrete_model.py:1810: RuntimeWarning: overflow encountered in exp\n",
      "  return 1/(1+np.exp(-X))\n",
      "/Users/emmanuel/.pyenv/versions/3.8.0/envs/redlining/lib/python3.8/site-packages/statsmodels/discrete/discrete_model.py:1863: RuntimeWarning: divide by zero encountered in log\n",
      "  return np.sum(np.log(self.cdf(q*np.dot(X,params))))\n"
     ]
    },
    {
     "name": "stdout",
     "output_type": "stream",
     "text": [
      "Warning: Maximum number of iterations has been exceeded.\n",
      "         Current function value: inf\n",
      "         Iterations: 35\n",
      "530: Metro: 36837\n",
      "Warning: Maximum number of iterations has been exceeded.\n",
      "         Current function value: inf\n",
      "         Iterations: 35\n",
      "531: Metro: 30780\n",
      "Optimization terminated successfully.\n",
      "         Current function value: 0.140584\n",
      "         Iterations 8\n",
      "532: Metro: 44420\n",
      "Warning: Maximum number of iterations has been exceeded.\n",
      "         Current function value: 0.171800\n",
      "         Iterations: 35\n",
      "533: Metro: 18020\n"
     ]
    },
    {
     "name": "stderr",
     "output_type": "stream",
     "text": [
      "/Users/emmanuel/.pyenv/versions/3.8.0/envs/redlining/lib/python3.8/site-packages/statsmodels/discrete/discrete_model.py:1810: RuntimeWarning: overflow encountered in exp\n",
      "  return 1/(1+np.exp(-X))\n",
      "/Users/emmanuel/.pyenv/versions/3.8.0/envs/redlining/lib/python3.8/site-packages/statsmodels/discrete/discrete_model.py:1863: RuntimeWarning: divide by zero encountered in log\n",
      "  return np.sum(np.log(self.cdf(q*np.dot(X,params))))\n"
     ]
    },
    {
     "name": "stdout",
     "output_type": "stream",
     "text": [
      "Warning: Maximum number of iterations has been exceeded.\n",
      "         Current function value: inf\n",
      "         Iterations: 35\n",
      "534: Metro: 45380\n",
      "Warning: Maximum number of iterations has been exceeded.\n",
      "         Current function value: inf\n",
      "         Iterations: 35\n",
      "535: Metro: 16060\n",
      "Warning: Maximum number of iterations has been exceeded.\n",
      "         Current function value: inf\n",
      "         Iterations: 35\n",
      "536: Metro: 17860\n",
      "Warning: Maximum number of iterations has been exceeded.\n",
      "         Current function value: 0.093097\n",
      "         Iterations: 35\n",
      "537: Metro: 27900\n",
      "Warning: Maximum number of iterations has been exceeded.\n",
      "         Current function value: inf\n",
      "         Iterations: 35\n",
      "538: Metro: 31380\n",
      "Warning: Maximum number of iterations has been exceeded.\n",
      "         Current function value: inf\n",
      "         Iterations: 35\n",
      "539: Metro: 40220\n",
      "Warning: Maximum number of iterations has been exceeded.\n",
      "         Current function value: 0.124453\n",
      "         Iterations: 35\n",
      "540: Metro: 47020\n"
     ]
    },
    {
     "name": "stderr",
     "output_type": "stream",
     "text": [
      "/Users/emmanuel/.pyenv/versions/3.8.0/envs/redlining/lib/python3.8/site-packages/statsmodels/base/model.py:566: ConvergenceWarning: Maximum Likelihood optimization failed to converge. Check mle_retvals\n",
      "  warnings.warn(\"Maximum Likelihood optimization failed to \"\n"
     ]
    },
    {
     "name": "stdout",
     "output_type": "stream",
     "text": [
      "Warning: Maximum number of iterations has been exceeded.\n",
      "         Current function value: 0.141247\n",
      "         Iterations: 35\n",
      "541: Metro: 27300\n"
     ]
    },
    {
     "name": "stderr",
     "output_type": "stream",
     "text": [
      "/Users/emmanuel/.pyenv/versions/3.8.0/envs/redlining/lib/python3.8/site-packages/statsmodels/base/model.py:566: ConvergenceWarning: Maximum Likelihood optimization failed to converge. Check mle_retvals\n",
      "  warnings.warn(\"Maximum Likelihood optimization failed to \"\n"
     ]
    },
    {
     "name": "stdout",
     "output_type": "stream",
     "text": [
      "Warning: Maximum number of iterations has been exceeded.\n",
      "         Current function value: 0.131815\n",
      "         Iterations: 35\n",
      "542: Metro: 10660\n"
     ]
    },
    {
     "name": "stderr",
     "output_type": "stream",
     "text": [
      "/Users/emmanuel/.pyenv/versions/3.8.0/envs/redlining/lib/python3.8/site-packages/statsmodels/discrete/discrete_model.py:1810: RuntimeWarning: overflow encountered in exp\n",
      "  return 1/(1+np.exp(-X))\n",
      "/Users/emmanuel/.pyenv/versions/3.8.0/envs/redlining/lib/python3.8/site-packages/statsmodels/discrete/discrete_model.py:1863: RuntimeWarning: divide by zero encountered in log\n",
      "  return np.sum(np.log(self.cdf(q*np.dot(X,params))))\n"
     ]
    },
    {
     "name": "stdout",
     "output_type": "stream",
     "text": [
      "Warning: Maximum number of iterations has been exceeded.\n",
      "         Current function value: inf\n",
      "         Iterations: 35\n",
      "543: Metro: 37140\n",
      "Warning: Maximum number of iterations has been exceeded.\n",
      "         Current function value: 0.126580\n",
      "         Iterations: 35\n",
      "544: Metro: 13220\n",
      "Warning: Maximum number of iterations has been exceeded.\n",
      "         Current function value: 0.199941\n",
      "         Iterations: 35\n",
      "545: Metro: 12900\n",
      "Warning: Maximum number of iterations has been exceeded.\n",
      "         Current function value: 0.510595\n",
      "         Iterations: 35\n",
      "546: Metro: 40780\n",
      "Warning: Maximum number of iterations has been exceeded.\n",
      "         Current function value: inf\n",
      "         Iterations: 35\n",
      "547: Metro: 23660\n",
      "Warning: Maximum number of iterations has been exceeded.\n",
      "         Current function value: inf\n",
      "         Iterations: 35\n",
      "548: Metro: 40380\n",
      "Warning: Maximum number of iterations has been exceeded.\n",
      "         Current function value: 0.108517\n",
      "         Iterations: 35\n",
      "549: Metro: 37460\n"
     ]
    },
    {
     "name": "stderr",
     "output_type": "stream",
     "text": [
      "/Users/emmanuel/.pyenv/versions/3.8.0/envs/redlining/lib/python3.8/site-packages/statsmodels/base/model.py:566: ConvergenceWarning: Maximum Likelihood optimization failed to converge. Check mle_retvals\n",
      "  warnings.warn(\"Maximum Likelihood optimization failed to \"\n"
     ]
    },
    {
     "name": "stdout",
     "output_type": "stream",
     "text": [
      "Warning: Maximum number of iterations has been exceeded.\n",
      "         Current function value: 0.219358\n",
      "         Iterations: 35\n",
      "550: Metro: 22220\n"
     ]
    },
    {
     "name": "stderr",
     "output_type": "stream",
     "text": [
      "/Users/emmanuel/.pyenv/versions/3.8.0/envs/redlining/lib/python3.8/site-packages/statsmodels/base/model.py:566: ConvergenceWarning: Maximum Likelihood optimization failed to converge. Check mle_retvals\n",
      "  warnings.warn(\"Maximum Likelihood optimization failed to \"\n"
     ]
    },
    {
     "name": "stdout",
     "output_type": "stream",
     "text": [
      "Optimization terminated successfully.\n",
      "         Current function value: 0.159358\n",
      "         Iterations 8\n",
      "551: Metro: 25300\n"
     ]
    },
    {
     "name": "stderr",
     "output_type": "stream",
     "text": [
      "/Users/emmanuel/.pyenv/versions/3.8.0/envs/redlining/lib/python3.8/site-packages/statsmodels/discrete/discrete_model.py:1810: RuntimeWarning: overflow encountered in exp\n",
      "  return 1/(1+np.exp(-X))\n",
      "/Users/emmanuel/.pyenv/versions/3.8.0/envs/redlining/lib/python3.8/site-packages/statsmodels/discrete/discrete_model.py:1863: RuntimeWarning: divide by zero encountered in log\n",
      "  return np.sum(np.log(self.cdf(q*np.dot(X,params))))\n"
     ]
    },
    {
     "name": "stdout",
     "output_type": "stream",
     "text": [
      "Warning: Maximum number of iterations has been exceeded.\n",
      "         Current function value: inf\n",
      "         Iterations: 35\n",
      "552: Metro: 44580\n",
      "Warning: Maximum number of iterations has been exceeded.\n",
      "         Current function value: inf\n",
      "         Iterations: 35\n",
      "553: Metro: 46220\n",
      "Warning: Maximum number of iterations has been exceeded.\n",
      "         Current function value: 0.158076\n",
      "         Iterations: 35\n",
      "554: Metro: 34420\n"
     ]
    },
    {
     "name": "stderr",
     "output_type": "stream",
     "text": [
      "/Users/emmanuel/.pyenv/versions/3.8.0/envs/redlining/lib/python3.8/site-packages/statsmodels/base/model.py:566: ConvergenceWarning: Maximum Likelihood optimization failed to converge. Check mle_retvals\n",
      "  warnings.warn(\"Maximum Likelihood optimization failed to \"\n",
      "/Users/emmanuel/.pyenv/versions/3.8.0/envs/redlining/lib/python3.8/site-packages/statsmodels/discrete/discrete_model.py:1810: RuntimeWarning: overflow encountered in exp\n",
      "  return 1/(1+np.exp(-X))\n",
      "/Users/emmanuel/.pyenv/versions/3.8.0/envs/redlining/lib/python3.8/site-packages/statsmodels/discrete/discrete_model.py:1863: RuntimeWarning: divide by zero encountered in log\n",
      "  return np.sum(np.log(self.cdf(q*np.dot(X,params))))\n"
     ]
    },
    {
     "name": "stdout",
     "output_type": "stream",
     "text": [
      "Warning: Maximum number of iterations has been exceeded.\n",
      "         Current function value: inf\n",
      "         Iterations: 35\n",
      "555: Metro: 22020\n",
      "Warning: Maximum number of iterations has been exceeded.\n",
      "         Current function value: 13.570102\n",
      "         Iterations: 35\n",
      "556: Metro: 31220\n",
      "Warning: Maximum number of iterations has been exceeded.\n",
      "         Current function value: inf\n",
      "         Iterations: 35\n",
      "557: Metro: 37540\n",
      "Warning: Maximum number of iterations has been exceeded.\n",
      "         Current function value: inf\n",
      "         Iterations: 35\n",
      "558: Metro: 28820\n",
      "Warning: Maximum number of iterations has been exceeded.\n",
      "         Current function value: inf\n",
      "         Iterations: 35\n",
      "559: Metro: 47820\n",
      "Warning: Maximum number of iterations has been exceeded.\n",
      "         Current function value: inf\n",
      "         Iterations: 35\n",
      "560: Metro: 28620\n",
      "Warning: Maximum number of iterations has been exceeded.\n",
      "         Current function value: 0.200279\n",
      "         Iterations: 35\n",
      "561: Metro: 35100\n",
      "Optimization terminated successfully.\n",
      "         Current function value: 0.191656\n",
      "         Iterations 24\n",
      "562: Metro: 34740\n",
      "Warning: Maximum number of iterations has been exceeded.\n",
      "         Current function value: 0.122831\n",
      "         Iterations: 35\n",
      "563: Metro: 31300\n"
     ]
    },
    {
     "name": "stderr",
     "output_type": "stream",
     "text": [
      "/Users/emmanuel/.pyenv/versions/3.8.0/envs/redlining/lib/python3.8/site-packages/statsmodels/base/model.py:566: ConvergenceWarning: Maximum Likelihood optimization failed to converge. Check mle_retvals\n",
      "  warnings.warn(\"Maximum Likelihood optimization failed to \"\n",
      "/Users/emmanuel/.pyenv/versions/3.8.0/envs/redlining/lib/python3.8/site-packages/statsmodels/discrete/discrete_model.py:1810: RuntimeWarning: overflow encountered in exp\n",
      "  return 1/(1+np.exp(-X))\n",
      "/Users/emmanuel/.pyenv/versions/3.8.0/envs/redlining/lib/python3.8/site-packages/statsmodels/discrete/discrete_model.py:1863: RuntimeWarning: divide by zero encountered in log\n",
      "  return np.sum(np.log(self.cdf(q*np.dot(X,params))))\n"
     ]
    },
    {
     "name": "stdout",
     "output_type": "stream",
     "text": [
      "Warning: Maximum number of iterations has been exceeded.\n",
      "         Current function value: inf\n",
      "         Iterations: 35\n",
      "564: Metro: 11100\n",
      "Warning: Maximum number of iterations has been exceeded.\n",
      "         Current function value: inf\n",
      "         Iterations: 35\n",
      "565: Metro: 10860\n",
      "Warning: Maximum number of iterations has been exceeded.\n",
      "         Current function value: inf\n",
      "         Iterations: 35\n",
      "566: Metro: 20300\n",
      "Warning: Maximum number of iterations has been exceeded.\n",
      "         Current function value: inf\n",
      "         Iterations: 35\n",
      "567: Metro: 20900\n",
      "Warning: Maximum number of iterations has been exceeded.\n",
      "         Current function value: inf\n",
      "         Iterations: 35\n",
      "568: Metro: 48660\n",
      "Warning: Maximum number of iterations has been exceeded.\n",
      "         Current function value: 0.092732\n",
      "         Iterations: 35\n",
      "569: Metro: 24940\n"
     ]
    },
    {
     "name": "stderr",
     "output_type": "stream",
     "text": [
      "/Users/emmanuel/.pyenv/versions/3.8.0/envs/redlining/lib/python3.8/site-packages/statsmodels/base/model.py:566: ConvergenceWarning: Maximum Likelihood optimization failed to converge. Check mle_retvals\n",
      "  warnings.warn(\"Maximum Likelihood optimization failed to \"\n"
     ]
    },
    {
     "name": "stdout",
     "output_type": "stream",
     "text": [
      "Warning: Maximum number of iterations has been exceeded.\n",
      "         Current function value: 0.078375\n",
      "         Iterations: 35\n",
      "570: Metro: 35140\n"
     ]
    },
    {
     "name": "stderr",
     "output_type": "stream",
     "text": [
      "/Users/emmanuel/.pyenv/versions/3.8.0/envs/redlining/lib/python3.8/site-packages/statsmodels/base/model.py:566: ConvergenceWarning: Maximum Likelihood optimization failed to converge. Check mle_retvals\n",
      "  warnings.warn(\"Maximum Likelihood optimization failed to \"\n"
     ]
    },
    {
     "name": "stdout",
     "output_type": "stream",
     "text": [
      "Warning: Maximum number of iterations has been exceeded.\n",
      "         Current function value: 0.216347\n",
      "         Iterations: 35\n",
      "571: Metro: 14300\n",
      "Warning: Maximum number of iterations has been exceeded.\n",
      "         Current function value: inf\n",
      "         Iterations: 35\n"
     ]
    },
    {
     "name": "stderr",
     "output_type": "stream",
     "text": [
      "/Users/emmanuel/.pyenv/versions/3.8.0/envs/redlining/lib/python3.8/site-packages/statsmodels/discrete/discrete_model.py:1810: RuntimeWarning: overflow encountered in exp\n",
      "  return 1/(1+np.exp(-X))\n",
      "/Users/emmanuel/.pyenv/versions/3.8.0/envs/redlining/lib/python3.8/site-packages/statsmodels/discrete/discrete_model.py:1863: RuntimeWarning: divide by zero encountered in log\n",
      "  return np.sum(np.log(self.cdf(q*np.dot(X,params))))\n"
     ]
    },
    {
     "name": "stdout",
     "output_type": "stream",
     "text": [
      "572: Metro: 27180\n",
      "Warning: Maximum number of iterations has been exceeded.\n",
      "         Current function value: 0.154264\n",
      "         Iterations: 35\n",
      "573: Metro: 46900\n"
     ]
    },
    {
     "name": "stderr",
     "output_type": "stream",
     "text": [
      "/Users/emmanuel/.pyenv/versions/3.8.0/envs/redlining/lib/python3.8/site-packages/statsmodels/base/model.py:566: ConvergenceWarning: Maximum Likelihood optimization failed to converge. Check mle_retvals\n",
      "  warnings.warn(\"Maximum Likelihood optimization failed to \"\n",
      "/Users/emmanuel/.pyenv/versions/3.8.0/envs/redlining/lib/python3.8/site-packages/statsmodels/discrete/discrete_model.py:1810: RuntimeWarning: overflow encountered in exp\n",
      "  return 1/(1+np.exp(-X))\n",
      "/Users/emmanuel/.pyenv/versions/3.8.0/envs/redlining/lib/python3.8/site-packages/statsmodels/discrete/discrete_model.py:1863: RuntimeWarning: divide by zero encountered in log\n",
      "  return np.sum(np.log(self.cdf(q*np.dot(X,params))))\n"
     ]
    },
    {
     "name": "stdout",
     "output_type": "stream",
     "text": [
      "Warning: Maximum number of iterations has been exceeded.\n",
      "         Current function value: inf\n",
      "         Iterations: 35\n",
      "574: Metro: 31180\n",
      "Warning: Maximum number of iterations has been exceeded.\n",
      "         Current function value: inf\n",
      "         Iterations: 35\n",
      "575: Metro: 40530\n",
      "Warning: Maximum number of iterations has been exceeded.\n",
      "         Current function value: inf\n",
      "         Iterations: 35\n",
      "576: Metro: 34860\n",
      "Warning: Maximum number of iterations has been exceeded.\n",
      "         Current function value: 0.186827\n",
      "         Iterations: 35\n",
      "577: Metro: 30020\n",
      "Warning: Maximum number of iterations has been exceeded.\n",
      "         Current function value: 0.088434\n",
      "         Iterations: 35\n"
     ]
    },
    {
     "name": "stderr",
     "output_type": "stream",
     "text": [
      "/Users/emmanuel/.pyenv/versions/3.8.0/envs/redlining/lib/python3.8/site-packages/statsmodels/base/model.py:566: ConvergenceWarning: Maximum Likelihood optimization failed to converge. Check mle_retvals\n",
      "  warnings.warn(\"Maximum Likelihood optimization failed to \"\n"
     ]
    },
    {
     "name": "stdout",
     "output_type": "stream",
     "text": [
      "578: Metro: 23240\n",
      "Warning: Maximum number of iterations has been exceeded.\n",
      "         Current function value: 0.188193\n",
      "         Iterations: 35\n",
      "579: Metro: 20140\n"
     ]
    },
    {
     "name": "stderr",
     "output_type": "stream",
     "text": [
      "/Users/emmanuel/.pyenv/versions/3.8.0/envs/redlining/lib/python3.8/site-packages/statsmodels/discrete/discrete_model.py:1810: RuntimeWarning: overflow encountered in exp\n",
      "  return 1/(1+np.exp(-X))\n",
      "/Users/emmanuel/.pyenv/versions/3.8.0/envs/redlining/lib/python3.8/site-packages/statsmodels/discrete/discrete_model.py:1863: RuntimeWarning: divide by zero encountered in log\n",
      "  return np.sum(np.log(self.cdf(q*np.dot(X,params))))\n"
     ]
    },
    {
     "name": "stdout",
     "output_type": "stream",
     "text": [
      "Warning: Maximum number of iterations has been exceeded.\n",
      "         Current function value: inf\n",
      "         Iterations: 35\n",
      "580: Metro: 38500\n",
      "Warning: Maximum number of iterations has been exceeded.\n",
      "         Current function value: 0.136485\n",
      "         Iterations: 35\n",
      "581: Metro: 19540\n",
      "Warning: Maximum number of iterations has been exceeded.\n",
      "         Current function value: 0.178546\n",
      "         Iterations: 35\n",
      "582: Metro: 30700\n",
      "Warning: Maximum number of iterations has been exceeded.\n",
      "         Current function value: inf\n",
      "         Iterations: 35\n",
      "583: Metro: 31860\n",
      "Warning: Maximum number of iterations has been exceeded.\n",
      "         Current function value: 0.150205\n",
      "         Iterations: 35\n",
      "584: Metro: 32860\n",
      "Warning: Maximum number of iterations has been exceeded.\n",
      "         Current function value: inf\n",
      "         Iterations: 35\n",
      "585: Metro: 16460\n",
      "Warning: Maximum number of iterations has been exceeded.\n",
      "         Current function value: inf\n",
      "         Iterations: 35\n",
      "586: Metro: 44020\n",
      "Warning: Maximum number of iterations has been exceeded.\n",
      "         Current function value: inf\n",
      "         Iterations: 35\n",
      "587: Metro: 49220\n",
      "Warning: Maximum number of iterations has been exceeded.\n",
      "         Current function value: inf\n",
      "         Iterations: 35\n",
      "588: Metro: 49460\n",
      "Warning: Maximum number of iterations has been exceeded.\n",
      "         Current function value: inf\n",
      "         Iterations: 35\n",
      "589: Metro: 44740\n",
      "Warning: Maximum number of iterations has been exceeded.\n",
      "         Current function value: inf\n",
      "         Iterations: 35\n",
      "590: Metro: 18820\n",
      "Warning: Maximum number of iterations has been exceeded.\n",
      "         Current function value: 0.060688\n",
      "         Iterations: 35\n",
      "591: Metro: 43980\n",
      "Warning: Maximum number of iterations has been exceeded.\n",
      "         Current function value: inf\n",
      "         Iterations: 35\n",
      "592: Metro: 14160\n",
      "Warning: Maximum number of iterations has been exceeded.\n",
      "         Current function value: inf\n",
      "         Iterations: 35\n",
      "593: Metro: 26340\n",
      "Warning: Maximum number of iterations has been exceeded.\n",
      "         Current function value: inf\n",
      "         Iterations: 35\n",
      "594: Metro: 34500\n",
      "Warning: Maximum number of iterations has been exceeded.\n",
      "         Current function value: inf\n",
      "         Iterations: 35\n",
      "595: Metro: 15780\n",
      "Warning: Maximum number of iterations has been exceeded.\n",
      "         Current function value: inf\n",
      "         Iterations: 35\n",
      "596: Metro: 11860\n",
      "Warning: Maximum number of iterations has been exceeded.\n",
      "         Current function value: inf\n",
      "         Iterations: 35\n",
      "597: Metro: 41140\n",
      "Warning: Maximum number of iterations has been exceeded.\n",
      "         Current function value: 0.105775\n",
      "         Iterations: 35\n",
      "598: Metro: 28260\n",
      "Warning: Maximum number of iterations has been exceeded.\n",
      "         Current function value: inf\n",
      "         Iterations: 35\n",
      "599: Metro: 21380\n",
      "Warning: Maximum number of iterations has been exceeded.\n",
      "         Current function value: 0.198574\n",
      "         Iterations: 35\n",
      "600: Metro: 26090\n",
      "Warning: Maximum number of iterations has been exceeded.\n",
      "         Current function value: 0.170687\n",
      "         Iterations: 35\n",
      "601: Metro: 15940\n",
      "Warning: Maximum number of iterations has been exceeded.\n",
      "         Current function value: 0.136832\n",
      "         Iterations: 35\n",
      "602: Metro: 40620\n"
     ]
    },
    {
     "name": "stderr",
     "output_type": "stream",
     "text": [
      "/Users/emmanuel/.pyenv/versions/3.8.0/envs/redlining/lib/python3.8/site-packages/statsmodels/base/model.py:566: ConvergenceWarning: Maximum Likelihood optimization failed to converge. Check mle_retvals\n",
      "  warnings.warn(\"Maximum Likelihood optimization failed to \"\n",
      "/Users/emmanuel/.pyenv/versions/3.8.0/envs/redlining/lib/python3.8/site-packages/statsmodels/discrete/discrete_model.py:1810: RuntimeWarning: overflow encountered in exp\n",
      "  return 1/(1+np.exp(-X))\n",
      "/Users/emmanuel/.pyenv/versions/3.8.0/envs/redlining/lib/python3.8/site-packages/statsmodels/discrete/discrete_model.py:1863: RuntimeWarning: divide by zero encountered in log\n",
      "  return np.sum(np.log(self.cdf(q*np.dot(X,params))))\n"
     ]
    },
    {
     "name": "stdout",
     "output_type": "stream",
     "text": [
      "Warning: Maximum number of iterations has been exceeded.\n",
      "         Current function value: inf\n",
      "         Iterations: 35\n",
      "603: Metro: 38260\n",
      "Warning: Maximum number of iterations has been exceeded.\n",
      "         Current function value: 0.101089\n",
      "         Iterations: 35\n",
      "604: Metro: 31930\n",
      "Warning: Maximum number of iterations has been exceeded.\n",
      "         Current function value: 0.087561\n",
      "         Iterations: 35\n",
      "605: Metro: 14700\n",
      "Warning: Maximum number of iterations has been exceeded.\n",
      "         Current function value: inf\n",
      "         Iterations: 35\n",
      "606: Metro: 27940\n",
      "Warning: Maximum number of iterations has been exceeded.\n",
      "         Current function value: inf\n",
      "         Iterations: 35\n",
      "607: Metro: 21060\n",
      "Warning: Maximum number of iterations has been exceeded.\n",
      "         Current function value: inf\n",
      "         Iterations: 35\n",
      "608: Metro: 47420\n",
      "Warning: Maximum number of iterations has been exceeded.\n",
      "         Current function value: inf\n",
      "         Iterations: 35\n",
      "609: Metro: 10820\n",
      "Warning: Maximum number of iterations has been exceeded.\n",
      "         Current function value: 0.084001\n",
      "         Iterations: 35\n",
      "610: Metro: 48820\n",
      "Warning: Maximum number of iterations has been exceeded.\n",
      "         Current function value: inf\n",
      "         Iterations: 35\n",
      "611: Metro: 22260\n",
      "Warning: Maximum number of iterations has been exceeded.\n",
      "         Current function value: 0.140940\n",
      "         Iterations: 35\n",
      "612: Metro: 45000\n",
      "Warning: Maximum number of iterations has been exceeded.\n",
      "         Current function value: inf\n",
      "         Iterations: 35\n",
      "613: Metro: 41660\n",
      "Warning: Maximum number of iterations has been exceeded.\n",
      "         Current function value: 0.142616\n",
      "         Iterations: 35\n"
     ]
    },
    {
     "name": "stderr",
     "output_type": "stream",
     "text": [
      "/Users/emmanuel/.pyenv/versions/3.8.0/envs/redlining/lib/python3.8/site-packages/statsmodels/base/model.py:566: ConvergenceWarning: Maximum Likelihood optimization failed to converge. Check mle_retvals\n",
      "  warnings.warn(\"Maximum Likelihood optimization failed to \"\n",
      "/Users/emmanuel/.pyenv/versions/3.8.0/envs/redlining/lib/python3.8/site-packages/statsmodels/discrete/discrete_model.py:1810: RuntimeWarning: overflow encountered in exp\n",
      "  return 1/(1+np.exp(-X))\n",
      "/Users/emmanuel/.pyenv/versions/3.8.0/envs/redlining/lib/python3.8/site-packages/statsmodels/discrete/discrete_model.py:1863: RuntimeWarning: divide by zero encountered in log\n",
      "  return np.sum(np.log(self.cdf(q*np.dot(X,params))))\n"
     ]
    },
    {
     "name": "stdout",
     "output_type": "stream",
     "text": [
      "614: Metro: 13300\n",
      "Warning: Maximum number of iterations has been exceeded.\n",
      "         Current function value: inf\n",
      "         Iterations: 35\n",
      "615: Metro: 10180\n",
      "Warning: Maximum number of iterations has been exceeded.\n",
      "         Current function value: 0.112202\n",
      "         Iterations: 35\n",
      "616: Metro: 14420\n",
      "Warning: Maximum number of iterations has been exceeded.\n",
      "         Current function value: inf\n",
      "         Iterations: 35\n",
      "617: Metro: 18620\n",
      "Warning: Maximum number of iterations has been exceeded.\n",
      "         Current function value: inf\n",
      "         Iterations: 35\n",
      "618: Metro: 46020\n",
      "Warning: Maximum number of iterations has been exceeded.\n",
      "         Current function value: 0.186926\n",
      "         Iterations: 35\n",
      "619: Metro: 24460\n",
      "Warning: Maximum number of iterations has been exceeded.\n",
      "         Current function value: inf\n",
      "         Iterations: 35\n",
      "620: Metro: 24260\n",
      "Optimization terminated successfully.\n",
      "         Current function value: 0.102010\n",
      "         Iterations 34\n",
      "621: Metro: 43580\n",
      "Warning: Maximum number of iterations has been exceeded.\n",
      "         Current function value: 0.150845\n",
      "         Iterations: 35\n",
      "622: Metro: 46820\n"
     ]
    },
    {
     "name": "stderr",
     "output_type": "stream",
     "text": [
      "/Users/emmanuel/.pyenv/versions/3.8.0/envs/redlining/lib/python3.8/site-packages/statsmodels/base/model.py:566: ConvergenceWarning: Maximum Likelihood optimization failed to converge. Check mle_retvals\n",
      "  warnings.warn(\"Maximum Likelihood optimization failed to \"\n"
     ]
    },
    {
     "name": "stdout",
     "output_type": "stream",
     "text": [
      "623: Metro: 35740\n",
      "Warning: Maximum number of iterations has been exceeded.\n",
      "         Current function value: inf\n",
      "         Iterations: 35\n",
      "624: Metro: 42740\n"
     ]
    },
    {
     "name": "stderr",
     "output_type": "stream",
     "text": [
      "/Users/emmanuel/.pyenv/versions/3.8.0/envs/redlining/lib/python3.8/site-packages/statsmodels/discrete/discrete_model.py:1810: RuntimeWarning: overflow encountered in exp\n",
      "  return 1/(1+np.exp(-X))\n",
      "/Users/emmanuel/.pyenv/versions/3.8.0/envs/redlining/lib/python3.8/site-packages/statsmodels/discrete/discrete_model.py:1863: RuntimeWarning: divide by zero encountered in log\n",
      "  return np.sum(np.log(self.cdf(q*np.dot(X,params))))\n"
     ]
    },
    {
     "name": "stdout",
     "output_type": "stream",
     "text": [
      "Warning: Maximum number of iterations has been exceeded.\n",
      "         Current function value: 0.125538\n",
      "         Iterations: 35\n",
      "625: Metro: 32140\n",
      "Warning: Maximum number of iterations has been exceeded.\n",
      "         Current function value: inf\n",
      "         Iterations: 35\n",
      "626: Metro: 43260\n",
      "Warning: Maximum number of iterations has been exceeded.\n",
      "         Current function value: inf\n",
      "         Iterations: 35\n",
      "627: Metro: 13100\n",
      "Warning: Maximum number of iterations has been exceeded.\n",
      "         Current function value: inf\n",
      "         Iterations: 35\n",
      "628: Metro: 36900\n",
      "Warning: Maximum number of iterations has been exceeded.\n",
      "         Current function value: inf\n",
      "         Iterations: 35\n",
      "629: Metro: 48780\n",
      "Warning: Maximum number of iterations has been exceeded.\n",
      "         Current function value: inf\n",
      "         Iterations: 35\n",
      "630: Metro: 35820\n",
      "Warning: Maximum number of iterations has been exceeded.\n",
      "         Current function value: inf\n",
      "         Iterations: 35\n",
      "631: Metro: 23340\n",
      "Warning: Maximum number of iterations has been exceeded.\n",
      "         Current function value: inf\n",
      "         Iterations: 35\n",
      "632: Metro: 21420\n",
      "Warning: Maximum number of iterations has been exceeded.\n",
      "         Current function value: inf\n",
      "         Iterations: 35\n",
      "633: Metro: 10220\n",
      "Warning: Maximum number of iterations has been exceeded.\n",
      "         Current function value: inf\n",
      "         Iterations: 35\n",
      "634: Metro: 23780\n",
      "Warning: Maximum number of iterations has been exceeded.\n",
      "         Current function value: inf\n",
      "         Iterations: 35\n",
      "635: Metro: 32340\n",
      "Warning: Maximum number of iterations has been exceeded.\n",
      "         Current function value: inf\n",
      "         Iterations: 35\n",
      "636: Metro: 18100\n",
      "Warning: Maximum number of iterations has been exceeded.\n",
      "         Current function value: inf\n",
      "         Iterations: 35\n",
      "637: Metro: 13900\n",
      "Warning: Maximum number of iterations has been exceeded.\n",
      "         Current function value: 0.137143\n",
      "         Iterations: 35\n",
      "638: Metro: 11620\n",
      "Warning: Maximum number of iterations has been exceeded.\n",
      "         Current function value: 0.082113\n",
      "         Iterations: 35\n",
      "639: Metro: 49380\n",
      "Warning: Maximum number of iterations has been exceeded.\n",
      "         Current function value: inf\n",
      "         Iterations: 35\n",
      "640: Metro: 30300\n",
      "Warning: Maximum number of iterations has been exceeded.\n",
      "         Current function value: 0.126179\n",
      "         Iterations: 35\n",
      "641: Metro: 19980\n",
      "Warning: Maximum number of iterations has been exceeded.\n",
      "         Current function value: inf\n",
      "         Iterations: 35\n",
      "642: Metro: 27420\n",
      "Warning: Maximum number of iterations has been exceeded.\n",
      "         Current function value: inf\n",
      "         Iterations: 35\n",
      "643: Metro: 26540\n",
      "Warning: Maximum number of iterations has been exceeded.\n",
      "         Current function value: inf\n",
      "         Iterations: 35\n",
      "644: Metro: 17740\n",
      "Warning: Maximum number of iterations has been exceeded.\n",
      "         Current function value: 0.000000\n",
      "         Iterations: 35\n",
      "645: Metro: 31980\n",
      "Warning: Maximum number of iterations has been exceeded.\n",
      "         Current function value: 0.478946\n",
      "         Iterations: 35\n",
      "646: Metro: 47340\n",
      "Warning: Maximum number of iterations has been exceeded.\n",
      "         Current function value: inf\n",
      "         Iterations: 35\n",
      "647: Metro: 19580\n",
      "Warning: Maximum number of iterations has been exceeded.\n",
      "         Current function value: inf\n",
      "         Iterations: 35\n",
      "648: Metro: 25700\n",
      "Warning: Maximum number of iterations has been exceeded.\n",
      "         Current function value: inf\n",
      "         Iterations: 35\n",
      "649: Metro: 17580\n",
      "Warning: Maximum number of iterations has been exceeded.\n",
      "         Current function value: inf\n",
      "         Iterations: 35\n",
      "650: Metro: 45900\n",
      "Warning: Maximum number of iterations has been exceeded.\n",
      "         Current function value: 0.146982\n",
      "         Iterations: 35\n",
      "651: Metro: 31060\n",
      "Warning: Maximum number of iterations has been exceeded.\n",
      "         Current function value: inf\n",
      "         Iterations: 35\n",
      "652: Metro: 15220\n",
      "Warning: Maximum number of iterations has been exceeded.\n",
      "         Current function value: inf\n",
      "         Iterations: 35\n",
      "653: Metro: 45340\n",
      "Warning: Maximum number of iterations has been exceeded.\n",
      "         Current function value: 0.194036\n",
      "         Iterations: 35\n",
      "654: Metro: 29780\n",
      "Warning: Maximum number of iterations has been exceeded.\n",
      "         Current function value: inf\n",
      "         Iterations: 35\n",
      "655: Metro: 34340\n",
      "Warning: Maximum number of iterations has been exceeded.\n",
      "         Current function value: inf\n",
      "         Iterations: 35\n",
      "656: Metro: 49780\n",
      "Warning: Maximum number of iterations has been exceeded.\n",
      "         Current function value: 0.164874\n",
      "         Iterations: 35\n",
      "657: Metro: 30580\n",
      "Warning: Maximum number of iterations has been exceeded.\n",
      "         Current function value: inf\n",
      "         Iterations: 35\n",
      "658: Metro: 29700\n",
      "Warning: Maximum number of iterations has been exceeded.\n",
      "         Current function value: 0.208975\n",
      "         Iterations: 35\n",
      "659: Metro: 23620\n",
      "Warning: Maximum number of iterations has been exceeded.\n",
      "         Current function value: inf\n",
      "         Iterations: 35\n",
      "660: Metro: 29060\n",
      "Warning: Maximum number of iterations has been exceeded.\n",
      "         Current function value: 0.177807\n",
      "         Iterations: 35\n",
      "661: Metro: 47240\n",
      "662: Metro: 48700\n",
      "Warning: Maximum number of iterations has been exceeded.\n",
      "         Current function value: 0.193106\n",
      "         Iterations: 35\n",
      "663: Metro: 23700\n",
      "Warning: Maximum number of iterations has been exceeded.\n",
      "         Current function value: inf\n",
      "         Iterations: 35\n",
      "664: Metro: 39940\n",
      "Warning: Maximum number of iterations has been exceeded.\n",
      "         Current function value: inf\n",
      "         Iterations: 35\n",
      "665: Metro: 20180\n",
      "Warning: Maximum number of iterations has been exceeded.\n",
      "         Current function value: inf\n",
      "         Iterations: 35\n",
      "666: Metro: 20460\n",
      "Warning: Maximum number of iterations has been exceeded.\n",
      "         Current function value: 0.000000\n",
      "         Iterations: 35\n",
      "667: Metro: 13060\n",
      "Warning: Maximum number of iterations has been exceeded.\n",
      "         Current function value: inf\n",
      "         Iterations: 35\n",
      "668: Metro: 28300\n",
      "Warning: Maximum number of iterations has been exceeded.\n",
      "         Current function value: 0.108720\n",
      "         Iterations: 35\n",
      "669: Metro: 11940\n",
      "Warning: Maximum number of iterations has been exceeded.\n",
      "         Current function value: 0.180369\n",
      "         Iterations: 35\n",
      "670: Metro: 19420\n",
      "Warning: Maximum number of iterations has been exceeded.\n",
      "         Current function value: inf\n",
      "         Iterations: 35\n",
      "671: Metro: 26580\n",
      "Warning: Maximum number of iterations has been exceeded.\n",
      "         Current function value: inf\n",
      "         Iterations: 35\n",
      "672: Metro: 15740\n",
      "Warning: Maximum number of iterations has been exceeded.\n",
      "         Current function value: inf\n",
      "         Iterations: 35\n",
      "673: Metro: 16620\n",
      "Warning: Maximum number of iterations has been exceeded.\n",
      "         Current function value: 0.195774\n",
      "         Iterations: 35\n",
      "674: Metro: 34060\n",
      "Warning: Maximum number of iterations has been exceeded.\n",
      "         Current function value: 0.160564\n",
      "         Iterations: 35\n",
      "675: Metro: 25580\n",
      "Warning: Maximum number of iterations has been exceeded.\n",
      "         Current function value: inf\n",
      "         Iterations: 35\n",
      "676: Metro: 45620\n",
      "Warning: Maximum number of iterations has been exceeded.\n",
      "         Current function value: inf\n",
      "         Iterations: 35\n",
      "677: Metro: 32660\n",
      "Warning: Maximum number of iterations has been exceeded.\n",
      "         Current function value: inf\n",
      "         Iterations: 35\n",
      "678: Metro: 20020\n",
      "Warning: Maximum number of iterations has been exceeded.\n",
      "         Current function value: 0.110082\n",
      "         Iterations: 35\n",
      "679: Metro: 18060\n"
     ]
    },
    {
     "name": "stderr",
     "output_type": "stream",
     "text": [
      "/Users/emmanuel/.pyenv/versions/3.8.0/envs/redlining/lib/python3.8/site-packages/statsmodels/base/model.py:566: ConvergenceWarning: Maximum Likelihood optimization failed to converge. Check mle_retvals\n",
      "  warnings.warn(\"Maximum Likelihood optimization failed to \"\n",
      "/Users/emmanuel/.pyenv/versions/3.8.0/envs/redlining/lib/python3.8/site-packages/statsmodels/discrete/discrete_model.py:1810: RuntimeWarning: overflow encountered in exp\n",
      "  return 1/(1+np.exp(-X))\n",
      "/Users/emmanuel/.pyenv/versions/3.8.0/envs/redlining/lib/python3.8/site-packages/statsmodels/discrete/discrete_model.py:1863: RuntimeWarning: divide by zero encountered in log\n",
      "  return np.sum(np.log(self.cdf(q*np.dot(X,params))))\n"
     ]
    },
    {
     "name": "stdout",
     "output_type": "stream",
     "text": [
      "Warning: Maximum number of iterations has been exceeded.\n",
      "         Current function value: inf\n",
      "         Iterations: 35\n",
      "680: Metro: 41220\n",
      "Warning: Maximum number of iterations has been exceeded.\n",
      "         Current function value: inf\n",
      "         Iterations: 35\n",
      "681: Metro: 43700\n",
      "Warning: Maximum number of iterations has been exceeded.\n",
      "         Current function value: inf\n",
      "         Iterations: 35\n",
      "682: Metro: 19140\n",
      "Warning: Maximum number of iterations has been exceeded.\n",
      "         Current function value: inf\n",
      "         Iterations: 35\n",
      "683: Metro: 46180\n",
      "Warning: Maximum number of iterations has been exceeded.\n",
      "         Current function value: 0.155176\n",
      "         Iterations: 35\n",
      "684: Metro: 13980\n",
      "Warning: Maximum number of iterations has been exceeded.\n",
      "         Current function value: 0.107496\n",
      "         Iterations: 35\n",
      "685: Metro: 30940\n",
      "Warning: Maximum number of iterations has been exceeded.\n",
      "         Current function value: inf\n",
      "         Iterations: 35\n",
      "686: Metro: 42460\n",
      "Warning: Maximum number of iterations has been exceeded.\n",
      "         Current function value: inf\n",
      "         Iterations: 35\n",
      "687: Metro: 44900\n",
      "Warning: Maximum number of iterations has been exceeded.\n",
      "         Current function value: inf\n",
      "         Iterations: 35\n",
      "688: Metro: 12460\n",
      "Warning: Maximum number of iterations has been exceeded.\n",
      "         Current function value: inf\n",
      "         Iterations: 35\n",
      "689: Metro: 35260\n",
      "Warning: Maximum number of iterations has been exceeded.\n",
      "         Current function value: inf\n",
      "         Iterations: 35\n",
      "690: Metro: 10700\n",
      "Warning: Maximum number of iterations has been exceeded.\n",
      "         Current function value: inf\n",
      "         Iterations: 35\n",
      "691: Metro: 45460\n",
      "Warning: Maximum number of iterations has been exceeded.\n",
      "         Current function value: 0.206880\n",
      "         Iterations: 35\n",
      "692: Metro: 22520\n",
      "Warning: Maximum number of iterations has been exceeded.\n",
      "         Current function value: 0.162086\n",
      "         Iterations: 35\n",
      "693: Metro: 44260\n"
     ]
    },
    {
     "name": "stderr",
     "output_type": "stream",
     "text": [
      "/Users/emmanuel/.pyenv/versions/3.8.0/envs/redlining/lib/python3.8/site-packages/statsmodels/base/model.py:566: ConvergenceWarning: Maximum Likelihood optimization failed to converge. Check mle_retvals\n",
      "  warnings.warn(\"Maximum Likelihood optimization failed to \"\n",
      "/Users/emmanuel/.pyenv/versions/3.8.0/envs/redlining/lib/python3.8/site-packages/statsmodels/discrete/discrete_model.py:1810: RuntimeWarning: overflow encountered in exp\n",
      "  return 1/(1+np.exp(-X))\n",
      "/Users/emmanuel/.pyenv/versions/3.8.0/envs/redlining/lib/python3.8/site-packages/statsmodels/discrete/discrete_model.py:1863: RuntimeWarning: divide by zero encountered in log\n",
      "  return np.sum(np.log(self.cdf(q*np.dot(X,params))))\n"
     ]
    },
    {
     "name": "stdout",
     "output_type": "stream",
     "text": [
      "Warning: Maximum number of iterations has been exceeded.\n",
      "         Current function value: inf\n",
      "         Iterations: 35\n",
      "694: Metro: 11500\n",
      "Warning: Maximum number of iterations has been exceeded.\n",
      "         Current function value: 0.142290\n",
      "         Iterations: 35\n",
      "695: Metro: 39700\n"
     ]
    },
    {
     "name": "stderr",
     "output_type": "stream",
     "text": [
      "/Users/emmanuel/.pyenv/versions/3.8.0/envs/redlining/lib/python3.8/site-packages/statsmodels/base/model.py:566: ConvergenceWarning: Maximum Likelihood optimization failed to converge. Check mle_retvals\n",
      "  warnings.warn(\"Maximum Likelihood optimization failed to \"\n"
     ]
    },
    {
     "name": "stdout",
     "output_type": "stream",
     "text": [
      "696: Metro: 46980\n",
      "Warning: Maximum number of iterations has been exceeded.\n",
      "         Current function value: inf\n",
      "         Iterations: 35\n",
      "697: Metro: 45980\n"
     ]
    },
    {
     "name": "stderr",
     "output_type": "stream",
     "text": [
      "/Users/emmanuel/.pyenv/versions/3.8.0/envs/redlining/lib/python3.8/site-packages/statsmodels/discrete/discrete_model.py:1810: RuntimeWarning: overflow encountered in exp\n",
      "  return 1/(1+np.exp(-X))\n",
      "/Users/emmanuel/.pyenv/versions/3.8.0/envs/redlining/lib/python3.8/site-packages/statsmodels/discrete/discrete_model.py:1863: RuntimeWarning: divide by zero encountered in log\n",
      "  return np.sum(np.log(self.cdf(q*np.dot(X,params))))\n"
     ]
    },
    {
     "name": "stdout",
     "output_type": "stream",
     "text": [
      "Warning: Maximum number of iterations has been exceeded.\n",
      "         Current function value: inf\n",
      "         Iterations: 35\n",
      "698: Metro: 16420\n",
      "Warning: Maximum number of iterations has been exceeded.\n",
      "         Current function value: inf\n",
      "         Iterations: 35\n",
      "699: Metro: 29340\n",
      "Warning: Maximum number of iterations has been exceeded.\n",
      "         Current function value: 0.155976\n",
      "         Iterations: 35\n",
      "700: Metro: 25620\n"
     ]
    },
    {
     "name": "stderr",
     "output_type": "stream",
     "text": [
      "/Users/emmanuel/.pyenv/versions/3.8.0/envs/redlining/lib/python3.8/site-packages/statsmodels/base/model.py:566: ConvergenceWarning: Maximum Likelihood optimization failed to converge. Check mle_retvals\n",
      "  warnings.warn(\"Maximum Likelihood optimization failed to \"\n",
      "/Users/emmanuel/.pyenv/versions/3.8.0/envs/redlining/lib/python3.8/site-packages/statsmodels/base/model.py:566: ConvergenceWarning: Maximum Likelihood optimization failed to converge. Check mle_retvals\n",
      "  warnings.warn(\"Maximum Likelihood optimization failed to \"\n"
     ]
    },
    {
     "name": "stdout",
     "output_type": "stream",
     "text": [
      "Warning: Maximum number of iterations has been exceeded.\n",
      "         Current function value: 0.124932\n",
      "         Iterations: 35\n",
      "701: Metro: 29020\n",
      "Warning: Maximum number of iterations has been exceeded.\n",
      "         Current function value: 0.139106\n",
      "         Iterations: 35\n",
      "702: Metro: 36300\n"
     ]
    },
    {
     "name": "stderr",
     "output_type": "stream",
     "text": [
      "/Users/emmanuel/.pyenv/versions/3.8.0/envs/redlining/lib/python3.8/site-packages/statsmodels/base/model.py:566: ConvergenceWarning: Maximum Likelihood optimization failed to converge. Check mle_retvals\n",
      "  warnings.warn(\"Maximum Likelihood optimization failed to \"\n",
      "/Users/emmanuel/.pyenv/versions/3.8.0/envs/redlining/lib/python3.8/site-packages/statsmodels/discrete/discrete_model.py:1810: RuntimeWarning: overflow encountered in exp\n",
      "  return 1/(1+np.exp(-X))\n",
      "/Users/emmanuel/.pyenv/versions/3.8.0/envs/redlining/lib/python3.8/site-packages/statsmodels/discrete/discrete_model.py:1863: RuntimeWarning: divide by zero encountered in log\n",
      "  return np.sum(np.log(self.cdf(q*np.dot(X,params))))\n"
     ]
    },
    {
     "name": "stdout",
     "output_type": "stream",
     "text": [
      "Warning: Maximum number of iterations has been exceeded.\n",
      "         Current function value: inf\n",
      "         Iterations: 35\n",
      "703: Metro: 15500\n",
      "Warning: Maximum number of iterations has been exceeded.\n",
      "         Current function value: 0.143667\n",
      "         Iterations: 35\n",
      "704: Metro: 44780\n",
      "Warning: Maximum number of iterations has been exceeded.\n",
      "         Current function value: inf\n",
      "         Iterations: 35\n",
      "705: Metro: 15380\n",
      "Optimization terminated successfully.\n",
      "         Current function value: 0.142495\n",
      "         Iterations 8\n",
      "706: Metro: 34660\n"
     ]
    },
    {
     "name": "stderr",
     "output_type": "stream",
     "text": [
      "/Users/emmanuel/.pyenv/versions/3.8.0/envs/redlining/lib/python3.8/site-packages/statsmodels/discrete/discrete_model.py:1810: RuntimeWarning: overflow encountered in exp\n",
      "  return 1/(1+np.exp(-X))\n",
      "/Users/emmanuel/.pyenv/versions/3.8.0/envs/redlining/lib/python3.8/site-packages/statsmodels/discrete/discrete_model.py:1863: RuntimeWarning: divide by zero encountered in log\n",
      "  return np.sum(np.log(self.cdf(q*np.dot(X,params))))\n"
     ]
    },
    {
     "name": "stdout",
     "output_type": "stream",
     "text": [
      "Warning: Maximum number of iterations has been exceeded.\n",
      "         Current function value: inf\n",
      "         Iterations: 35\n",
      "707: Metro: 48060\n",
      "Warning: Maximum number of iterations has been exceeded.\n",
      "         Current function value: 0.114738\n",
      "         Iterations: 35\n",
      "708: Metro: 16340\n",
      "Warning: Maximum number of iterations has been exceeded.\n",
      "         Current function value: inf\n",
      "         Iterations: 35\n",
      "709: Metro: 18380\n",
      "Warning: Maximum number of iterations has been exceeded.\n",
      "         Current function value: inf\n",
      "         Iterations: 35\n",
      "710: Metro: 42420\n",
      "Warning: Maximum number of iterations has been exceeded.\n",
      "         Current function value: inf\n",
      "         Iterations: 35\n",
      "711: Metro: 15100\n",
      "Warning: Maximum number of iterations has been exceeded.\n",
      "         Current function value: 0.053508\n",
      "         Iterations: 35\n",
      "712: Metro: 38780\n",
      "Warning: Maximum number of iterations has been exceeded.\n",
      "         Current function value: inf\n",
      "         Iterations: 35\n",
      "713: Metro: 36340\n",
      "Warning: Maximum number of iterations has been exceeded.\n",
      "         Current function value: 0.237313\n",
      "         Iterations: 35\n",
      "714: Metro: 31340\n",
      "Warning: Maximum number of iterations has been exceeded.\n",
      "         Current function value: 0.152534\n",
      "         Iterations: 35\n",
      "715: Metro: 45700\n"
     ]
    },
    {
     "name": "stderr",
     "output_type": "stream",
     "text": [
      "/Users/emmanuel/.pyenv/versions/3.8.0/envs/redlining/lib/python3.8/site-packages/statsmodels/base/model.py:566: ConvergenceWarning: Maximum Likelihood optimization failed to converge. Check mle_retvals\n",
      "  warnings.warn(\"Maximum Likelihood optimization failed to \"\n",
      "/Users/emmanuel/.pyenv/versions/3.8.0/envs/redlining/lib/python3.8/site-packages/statsmodels/discrete/discrete_model.py:1810: RuntimeWarning: overflow encountered in exp\n",
      "  return 1/(1+np.exp(-X))\n",
      "/Users/emmanuel/.pyenv/versions/3.8.0/envs/redlining/lib/python3.8/site-packages/statsmodels/discrete/discrete_model.py:1863: RuntimeWarning: divide by zero encountered in log\n",
      "  return np.sum(np.log(self.cdf(q*np.dot(X,params))))\n"
     ]
    },
    {
     "name": "stdout",
     "output_type": "stream",
     "text": [
      "Warning: Maximum number of iterations has been exceeded.\n",
      "         Current function value: inf\n",
      "         Iterations: 35\n",
      "716: Metro: 35420\n",
      "Warning: Maximum number of iterations has been exceeded.\n",
      "         Current function value: 0.204711\n",
      "         Iterations: 35\n",
      "717: Metro: 20540\n",
      "Warning: Maximum number of iterations has been exceeded.\n",
      "         Current function value: inf\n",
      "         Iterations: 35\n",
      "718: Metro: 49080\n",
      "Warning: Maximum number of iterations has been exceeded.\n",
      "         Current function value: inf\n",
      "         Iterations: 35\n",
      "719: Metro: 32100\n",
      "Warning: Maximum number of iterations has been exceeded.\n",
      "         Current function value: 0.120739\n",
      "         Iterations: 35\n",
      "720: Metro: 24500\n",
      "Warning: Maximum number of iterations has been exceeded.\n",
      "         Current function value: 0.178775\n",
      "         Iterations: 35\n",
      "721: Metro: 37620\n",
      "Warning: Maximum number of iterations has been exceeded.\n",
      "         Current function value: inf\n",
      "         Iterations: 35\n",
      "722: Metro: 28740\n",
      "Warning: Maximum number of iterations has been exceeded.\n",
      "         Current function value: 0.209044\n",
      "         Iterations: 35\n",
      "723: Metro: 12120\n"
     ]
    },
    {
     "name": "stderr",
     "output_type": "stream",
     "text": [
      "/Users/emmanuel/.pyenv/versions/3.8.0/envs/redlining/lib/python3.8/site-packages/statsmodels/base/model.py:566: ConvergenceWarning: Maximum Likelihood optimization failed to converge. Check mle_retvals\n",
      "  warnings.warn(\"Maximum Likelihood optimization failed to \"\n",
      "/Users/emmanuel/.pyenv/versions/3.8.0/envs/redlining/lib/python3.8/site-packages/statsmodels/discrete/discrete_model.py:1810: RuntimeWarning: overflow encountered in exp\n",
      "  return 1/(1+np.exp(-X))\n",
      "/Users/emmanuel/.pyenv/versions/3.8.0/envs/redlining/lib/python3.8/site-packages/statsmodels/discrete/discrete_model.py:1863: RuntimeWarning: divide by zero encountered in log\n",
      "  return np.sum(np.log(self.cdf(q*np.dot(X,params))))\n"
     ]
    },
    {
     "name": "stdout",
     "output_type": "stream",
     "text": [
      "Warning: Maximum number of iterations has been exceeded.\n",
      "         Current function value: inf\n",
      "         Iterations: 35\n",
      "724: Metro: 21500\n",
      "Warning: Maximum number of iterations has been exceeded.\n",
      "         Current function value: 0.163173\n",
      "         Iterations: 35\n",
      "725: Metro: 20980\n"
     ]
    },
    {
     "name": "stderr",
     "output_type": "stream",
     "text": [
      "/Users/emmanuel/.pyenv/versions/3.8.0/envs/redlining/lib/python3.8/site-packages/statsmodels/base/model.py:566: ConvergenceWarning: Maximum Likelihood optimization failed to converge. Check mle_retvals\n",
      "  warnings.warn(\"Maximum Likelihood optimization failed to \"\n",
      "/Users/emmanuel/.pyenv/versions/3.8.0/envs/redlining/lib/python3.8/site-packages/statsmodels/discrete/discrete_model.py:1810: RuntimeWarning: overflow encountered in exp\n",
      "  return 1/(1+np.exp(-X))\n",
      "/Users/emmanuel/.pyenv/versions/3.8.0/envs/redlining/lib/python3.8/site-packages/statsmodels/discrete/discrete_model.py:1863: RuntimeWarning: divide by zero encountered in log\n",
      "  return np.sum(np.log(self.cdf(q*np.dot(X,params))))\n"
     ]
    },
    {
     "name": "stdout",
     "output_type": "stream",
     "text": [
      "Warning: Maximum number of iterations has been exceeded.\n",
      "         Current function value: inf\n",
      "         Iterations: 35\n",
      "726: Metro: 38220\n",
      "Warning: Maximum number of iterations has been exceeded.\n",
      "         Current function value: inf\n",
      "         Iterations: 35\n",
      "727: Metro: 31680\n",
      "Warning: Maximum number of iterations has been exceeded.\n",
      "         Current function value: inf\n",
      "         Iterations: 35\n",
      "728: Metro: 40820\n",
      "Warning: Maximum number of iterations has been exceeded.\n",
      "         Current function value: inf\n",
      "         Iterations: 35\n",
      "729: Metro: 25760\n",
      "730: Metro: 37500\n",
      "Warning: Maximum number of iterations has been exceeded.\n",
      "         Current function value: 0.136028\n",
      "         Iterations: 35\n",
      "731: Metro: 14180\n",
      "Warning: Maximum number of iterations has been exceeded.\n",
      "         Current function value: inf\n",
      "         Iterations: 35\n",
      "732: Metro: 22620\n",
      "733: Metro: 18860\n",
      "Warning: Maximum number of iterations has been exceeded.\n",
      "         Current function value: inf\n",
      "         Iterations: 35\n",
      "734: Metro: 38700\n",
      "Warning: Maximum number of iterations has been exceeded.\n",
      "         Current function value: inf\n",
      "         Iterations: 35\n",
      "735: Metro: 47700\n",
      "Warning: Maximum number of iterations has been exceeded.\n",
      "         Current function value: 0.127910\n",
      "         Iterations: 35\n",
      "736: Metro: 19260\n",
      "Warning: Maximum number of iterations has been exceeded.\n",
      "         Current function value: 0.125286\n",
      "         Iterations: 35\n",
      "737: Metro: 11380\n",
      "Warning: Maximum number of iterations has been exceeded.\n",
      "         Current function value: inf\n",
      "         Iterations: 35\n",
      "738: Metro: 38620\n",
      "Warning: Maximum number of iterations has been exceeded.\n",
      "         Current function value: 0.110032\n",
      "         Iterations: 35\n",
      "739: Metro: 19700\n",
      "Warning: Maximum number of iterations has been exceeded.\n",
      "         Current function value: inf\n",
      "         Iterations: 35\n",
      "740: Metro: 17700\n",
      "Warning: Maximum number of iterations has been exceeded.\n",
      "         Current function value: inf\n",
      "         Iterations: 35\n",
      "741: Metro: 12780\n",
      "Warning: Maximum number of iterations has been exceeded.\n",
      "         Current function value: 0.059783\n",
      "         Iterations: 35\n",
      "742: Metro: 17220\n",
      "Warning: Maximum number of iterations has been exceeded.\n",
      "         Current function value: inf\n",
      "         Iterations: 35\n",
      "743: Metro: 10780\n",
      "Warning: Maximum number of iterations has been exceeded.\n",
      "         Current function value: inf\n",
      "         Iterations: 35\n",
      "744: Metro: 12620\n",
      "Warning: Maximum number of iterations has been exceeded.\n",
      "         Current function value: 0.163502\n",
      "         Iterations: 35\n",
      "745: Metro: 48980\n",
      "Warning: Maximum number of iterations has been exceeded.\n",
      "         Current function value: 0.153166\n",
      "         Iterations: 35\n",
      "746: Metro: 47080\n"
     ]
    },
    {
     "name": "stderr",
     "output_type": "stream",
     "text": [
      "/Users/emmanuel/.pyenv/versions/3.8.0/envs/redlining/lib/python3.8/site-packages/statsmodels/base/model.py:566: ConvergenceWarning: Maximum Likelihood optimization failed to converge. Check mle_retvals\n",
      "  warnings.warn(\"Maximum Likelihood optimization failed to \"\n",
      "/Users/emmanuel/.pyenv/versions/3.8.0/envs/redlining/lib/python3.8/site-packages/statsmodels/discrete/discrete_model.py:1810: RuntimeWarning: overflow encountered in exp\n",
      "  return 1/(1+np.exp(-X))\n",
      "/Users/emmanuel/.pyenv/versions/3.8.0/envs/redlining/lib/python3.8/site-packages/statsmodels/discrete/discrete_model.py:1863: RuntimeWarning: divide by zero encountered in log\n",
      "  return np.sum(np.log(self.cdf(q*np.dot(X,params))))\n"
     ]
    },
    {
     "name": "stdout",
     "output_type": "stream",
     "text": [
      "Warning: Maximum number of iterations has been exceeded.\n",
      "         Current function value: inf\n",
      "         Iterations: 35\n",
      "747: Metro: 22900\n",
      "Optimization terminated successfully.\n",
      "         Current function value: 0.143729\n",
      "         Iterations 8\n",
      "748: Metro: 15020\n",
      "Warning: Maximum number of iterations has been exceeded.\n",
      "         Current function value: inf\n",
      "         Iterations: 35\n",
      "749: Metro: 27660\n",
      "Warning: Maximum number of iterations has been exceeded.\n",
      "         Current function value: inf\n",
      "         Iterations: 35\n",
      "750: Metro: 29380\n",
      "Warning: Maximum number of iterations has been exceeded.\n",
      "         Current function value: 0.177107\n",
      "         Iterations: 35\n",
      "751: Metro: 37120\n"
     ]
    },
    {
     "name": "stderr",
     "output_type": "stream",
     "text": [
      "/Users/emmanuel/.pyenv/versions/3.8.0/envs/redlining/lib/python3.8/site-packages/statsmodels/base/model.py:566: ConvergenceWarning: Maximum Likelihood optimization failed to converge. Check mle_retvals\n",
      "  warnings.warn(\"Maximum Likelihood optimization failed to \"\n",
      "/Users/emmanuel/.pyenv/versions/3.8.0/envs/redlining/lib/python3.8/site-packages/statsmodels/discrete/discrete_model.py:1810: RuntimeWarning: overflow encountered in exp\n",
      "  return 1/(1+np.exp(-X))\n",
      "/Users/emmanuel/.pyenv/versions/3.8.0/envs/redlining/lib/python3.8/site-packages/statsmodels/discrete/discrete_model.py:1863: RuntimeWarning: divide by zero encountered in log\n",
      "  return np.sum(np.log(self.cdf(q*np.dot(X,params))))\n"
     ]
    },
    {
     "name": "stdout",
     "output_type": "stream",
     "text": [
      "Warning: Maximum number of iterations has been exceeded.\n",
      "         Current function value: inf\n",
      "         Iterations: 35\n",
      "752: Metro: 40460\n",
      "Warning: Maximum number of iterations has been exceeded.\n",
      "         Current function value: inf\n",
      "         Iterations: 35\n",
      "753: Metro: 38820\n",
      "Warning: Maximum number of iterations has been exceeded.\n",
      "         Current function value: 0.122943\n",
      "         Iterations: 35\n",
      "754: Metro: 37660\n",
      "Warning: Maximum number of iterations has been exceeded.\n",
      "         Current function value: inf\n",
      "         Iterations: 35\n",
      "755: Metro: 15580\n",
      "Warning: Maximum number of iterations has been exceeded.\n",
      "         Current function value: 0.130032\n",
      "         Iterations: 35\n",
      "756: Metro: 36580\n",
      "Warning: Maximum number of iterations has been exceeded.\n",
      "         Current function value: inf\n",
      "         Iterations: 35\n",
      "757: Metro: 11220\n",
      "Warning: Maximum number of iterations has been exceeded.\n",
      "         Current function value: inf\n",
      "         Iterations: 35\n",
      "758: Metro: 13780\n",
      "Warning: Maximum number of iterations has been exceeded.\n",
      "         Current function value: 0.164578\n",
      "         Iterations: 35\n",
      "759: Metro: 18660\n",
      "Warning: Maximum number of iterations has been exceeded.\n",
      "         Current function value: 0.109653\n",
      "         Iterations: 35\n",
      "760: Metro: 33180\n",
      "Warning: Maximum number of iterations has been exceeded.\n",
      "         Current function value: inf\n",
      "         Iterations: 35\n",
      "761: Metro: 16380\n",
      "Warning: Maximum number of iterations has been exceeded.\n",
      "         Current function value: inf\n",
      "         Iterations: 35\n",
      "762: Metro: 30900\n",
      "Warning: Maximum number of iterations has been exceeded.\n",
      "         Current function value: inf\n",
      "         Iterations: 35\n",
      "763: Metro: 41400\n",
      "Warning: Maximum number of iterations has been exceeded.\n",
      "         Current function value: 0.181176\n",
      "         Iterations: 35\n",
      "764: Metro: 24220\n",
      "Warning: Maximum number of iterations has been exceeded.\n",
      "         Current function value: 0.089989\n",
      "         Iterations: 35\n",
      "765: Metro: 47540\n",
      "Warning: Maximum number of iterations has been exceeded.\n",
      "         Current function value: 0.178827\n",
      "         Iterations: 35\n",
      "766: Metro: 36980\n",
      "Warning: Maximum number of iterations has been exceeded.\n",
      "         Current function value: 0.125317\n",
      "         Iterations: 35\n",
      "767: Metro: 31580\n",
      "Warning: Maximum number of iterations has been exceeded.\n",
      "         Current function value: inf\n",
      "         Iterations: 35\n",
      "768: Metro: 12860\n",
      "Warning: Maximum number of iterations has been exceeded.\n",
      "         Current function value: 0.078728\n",
      "         Iterations: 35\n",
      "769: Metro: 46540\n",
      "Warning: Maximum number of iterations has been exceeded.\n",
      "         Current function value: 0.224868\n",
      "         Iterations: 35\n",
      "770: Metro: 27460\n"
     ]
    },
    {
     "name": "stderr",
     "output_type": "stream",
     "text": [
      "/Users/emmanuel/.pyenv/versions/3.8.0/envs/redlining/lib/python3.8/site-packages/statsmodels/base/model.py:566: ConvergenceWarning: Maximum Likelihood optimization failed to converge. Check mle_retvals\n",
      "  warnings.warn(\"Maximum Likelihood optimization failed to \"\n"
     ]
    },
    {
     "name": "stdout",
     "output_type": "stream",
     "text": [
      "Warning: Maximum number of iterations has been exceeded.\n",
      "         Current function value: 0.152514\n",
      "         Iterations: 35\n",
      "771: Metro: 38460\n",
      "Warning: Maximum number of iterations has been exceeded.\n",
      "         Current function value: 0.110488\n",
      "         Iterations: 35\n",
      "772: Metro: 23380\n"
     ]
    },
    {
     "name": "stderr",
     "output_type": "stream",
     "text": [
      "/Users/emmanuel/.pyenv/versions/3.8.0/envs/redlining/lib/python3.8/site-packages/statsmodels/discrete/discrete_model.py:1810: RuntimeWarning: overflow encountered in exp\n",
      "  return 1/(1+np.exp(-X))\n",
      "/Users/emmanuel/.pyenv/versions/3.8.0/envs/redlining/lib/python3.8/site-packages/statsmodels/discrete/discrete_model.py:1863: RuntimeWarning: divide by zero encountered in log\n",
      "  return np.sum(np.log(self.cdf(q*np.dot(X,params))))\n"
     ]
    },
    {
     "name": "stdout",
     "output_type": "stream",
     "text": [
      "Warning: Maximum number of iterations has been exceeded.\n",
      "         Current function value: inf\n",
      "         Iterations: 35\n",
      "773: Metro: 47620\n",
      "Warning: Maximum number of iterations has been exceeded.\n",
      "         Current function value: 0.264953\n",
      "         Iterations: 35\n",
      "774: Metro: 24100\n",
      "Warning: Maximum number of iterations has been exceeded.\n",
      "         Current function value: 0.237986\n",
      "         Iterations: 35\n",
      "775: Metro: 26460\n",
      "Warning: Maximum number of iterations has been exceeded.\n",
      "         Current function value: 8.431745\n",
      "         Iterations: 35\n",
      "776: Metro: 41780\n",
      "Warning: Maximum number of iterations has been exceeded.\n",
      "         Current function value: inf\n",
      "         Iterations: 35\n",
      "777: Metro: 35940\n",
      "Warning: Maximum number of iterations has been exceeded.\n",
      "         Current function value: 0.062721\n",
      "         Iterations: 35\n",
      "778: Metro: 21300\n",
      "Warning: Maximum number of iterations has been exceeded.\n",
      "         Current function value: 0.202325\n",
      "         Iterations: 35\n",
      "779: Metro: 12180\n",
      "Warning: Maximum number of iterations has been exceeded.\n",
      "         Current function value: 0.139360\n",
      "         Iterations: 35\n",
      "780: Metro: 24020\n",
      "Warning: Maximum number of iterations has been exceeded.\n",
      "         Current function value: 0.097460\n",
      "         Iterations: 35\n",
      "781: Metro: 28580\n",
      "Warning: Maximum number of iterations has been exceeded.\n",
      "         Current function value: 0.260250\n",
      "         Iterations: 35\n",
      "782: Metro: 30140\n",
      "Warning: Maximum number of iterations has been exceeded.\n",
      "         Current function value: 0.140347\n",
      "         Iterations: 35\n",
      "783: Metro: 22300\n",
      "Warning: Maximum number of iterations has been exceeded.\n",
      "         Current function value: 0.052512\n",
      "         Iterations: 35\n"
     ]
    },
    {
     "name": "stderr",
     "output_type": "stream",
     "text": [
      "/Users/emmanuel/.pyenv/versions/3.8.0/envs/redlining/lib/python3.8/site-packages/statsmodels/base/model.py:566: ConvergenceWarning: Maximum Likelihood optimization failed to converge. Check mle_retvals\n",
      "  warnings.warn(\"Maximum Likelihood optimization failed to \"\n",
      "/Users/emmanuel/.pyenv/versions/3.8.0/envs/redlining/lib/python3.8/site-packages/statsmodels/base/model.py:566: ConvergenceWarning: Maximum Likelihood optimization failed to converge. Check mle_retvals\n",
      "  warnings.warn(\"Maximum Likelihood optimization failed to \"\n"
     ]
    },
    {
     "name": "stdout",
     "output_type": "stream",
     "text": [
      "784: Metro: 27060\n",
      "Warning: Maximum number of iterations has been exceeded.\n",
      "         Current function value: 0.048749\n",
      "         Iterations: 35\n",
      "785: Metro: 34620\n"
     ]
    },
    {
     "name": "stderr",
     "output_type": "stream",
     "text": [
      "/Users/emmanuel/.pyenv/versions/3.8.0/envs/redlining/lib/python3.8/site-packages/statsmodels/base/model.py:566: ConvergenceWarning: Maximum Likelihood optimization failed to converge. Check mle_retvals\n",
      "  warnings.warn(\"Maximum Likelihood optimization failed to \"\n",
      "/Users/emmanuel/.pyenv/versions/3.8.0/envs/redlining/lib/python3.8/site-packages/statsmodels/discrete/discrete_model.py:1810: RuntimeWarning: overflow encountered in exp\n",
      "  return 1/(1+np.exp(-X))\n",
      "/Users/emmanuel/.pyenv/versions/3.8.0/envs/redlining/lib/python3.8/site-packages/statsmodels/discrete/discrete_model.py:1863: RuntimeWarning: divide by zero encountered in log\n",
      "  return np.sum(np.log(self.cdf(q*np.dot(X,params))))\n"
     ]
    },
    {
     "name": "stdout",
     "output_type": "stream",
     "text": [
      "Warning: Maximum number of iterations has been exceeded.\n",
      "         Current function value: inf\n",
      "         Iterations: 35\n",
      "786: Metro: 36460\n",
      "Warning: Maximum number of iterations has been exceeded.\n",
      "         Current function value: 0.215773\n",
      "         Iterations: 35\n",
      "787: Metro: 31660\n",
      "Warning: Maximum number of iterations has been exceeded.\n",
      "         Current function value: 0.099614\n",
      "         Iterations: 35\n",
      "788: Metro: 42380\n",
      "Warning: Maximum number of iterations has been exceeded.\n",
      "         Current function value: 0.145284\n",
      "         Iterations: 35\n",
      "789: Metro: 39020\n",
      "Warning: Maximum number of iterations has been exceeded.\n",
      "         Current function value: 0.114231\n",
      "         Iterations: 35\n",
      "790: Metro: 25880\n",
      "Warning: Maximum number of iterations has been exceeded.\n",
      "         Current function value: inf\n",
      "         Iterations: 35\n",
      "791: Metro: 35860\n",
      "Warning: Maximum number of iterations has been exceeded.\n",
      "         Current function value: inf\n",
      "         Iterations: 35\n",
      "792: Metro: 35660\n",
      "Warning: Maximum number of iterations has been exceeded.\n",
      "         Current function value: 0.139246\n",
      "         Iterations: 35\n",
      "793: Metro: 39980\n"
     ]
    },
    {
     "name": "stderr",
     "output_type": "stream",
     "text": [
      "/Users/emmanuel/.pyenv/versions/3.8.0/envs/redlining/lib/python3.8/site-packages/statsmodels/base/model.py:566: ConvergenceWarning: Maximum Likelihood optimization failed to converge. Check mle_retvals\n",
      "  warnings.warn(\"Maximum Likelihood optimization failed to \"\n",
      "/Users/emmanuel/.pyenv/versions/3.8.0/envs/redlining/lib/python3.8/site-packages/statsmodels/discrete/discrete_model.py:1810: RuntimeWarning: overflow encountered in exp\n",
      "  return 1/(1+np.exp(-X))\n",
      "/Users/emmanuel/.pyenv/versions/3.8.0/envs/redlining/lib/python3.8/site-packages/statsmodels/discrete/discrete_model.py:1863: RuntimeWarning: divide by zero encountered in log\n",
      "  return np.sum(np.log(self.cdf(q*np.dot(X,params))))\n"
     ]
    },
    {
     "name": "stdout",
     "output_type": "stream",
     "text": [
      "Warning: Maximum number of iterations has been exceeded.\n",
      "         Current function value: inf\n",
      "         Iterations: 35\n",
      "794: Metro: 32940\n",
      "Warning: Maximum number of iterations has been exceeded.\n",
      "         Current function value: inf\n",
      "         Iterations: 35\n",
      "795: Metro: 30220\n",
      "Warning: Maximum number of iterations has been exceeded.\n",
      "         Current function value: inf\n",
      "         Iterations: 35\n",
      "796: Metro: 26380\n",
      "Warning: Maximum number of iterations has been exceeded.\n",
      "         Current function value: 0.139499\n",
      "         Iterations: 35\n",
      "797: Metro: 14020\n",
      "Warning: Maximum number of iterations has been exceeded.\n",
      "         Current function value: 0.145064\n",
      "         Iterations: 35\n",
      "798: Metro: 15060\n",
      "Warning: Maximum number of iterations has been exceeded.\n",
      "         Current function value: inf\n",
      "         Iterations: 35\n",
      "799: Metro: 43460\n",
      "Warning: Maximum number of iterations has been exceeded.\n",
      "         Current function value: inf\n",
      "         Iterations: 35\n",
      "800: Metro: 38100\n",
      "Warning: Maximum number of iterations has been exceeded.\n",
      "         Current function value: 0.183279\n",
      "         Iterations: 35\n",
      "801: Metro: 44860\n",
      "Warning: Maximum number of iterations has been exceeded.\n",
      "         Current function value: inf\n",
      "         Iterations: 35\n",
      "802: Metro: 28860\n",
      "Warning: Maximum number of iterations has been exceeded.\n",
      "         Current function value: inf\n",
      "         Iterations: 35\n",
      "803: Metro: 30060\n",
      "Warning: Maximum number of iterations has been exceeded.\n",
      "         Current function value: 0.083020\n",
      "         Iterations: 35\n",
      "804: Metro: 21840\n",
      "Warning: Maximum number of iterations has been exceeded.\n",
      "         Current function value: inf\n",
      "         Iterations: 35\n",
      "805: Metro: 33380\n",
      "Warning: Maximum number of iterations has been exceeded.\n",
      "         Current function value: inf\n",
      "         Iterations: 35\n",
      "806: Metro: 22800\n",
      "Warning: Maximum number of iterations has been exceeded.\n",
      "         Current function value: 0.192870\n",
      "         Iterations: 35\n",
      "807: Metro: 29860\n",
      "Warning: Maximum number of iterations has been exceeded.\n",
      "         Current function value: inf\n",
      "         Iterations: 35\n",
      "808: Metro: 16020\n",
      "Warning: Maximum number of iterations has been exceeded.\n",
      "         Current function value: 0.137776\n",
      "         Iterations: 35\n",
      "809: Metro: 21980\n",
      "Warning: Maximum number of iterations has been exceeded.\n",
      "         Current function value: inf\n",
      "         Iterations: 35\n",
      "810: Metro: 36660\n",
      "Warning: Maximum number of iterations has been exceeded.\n",
      "         Current function value: 0.139274\n",
      "         Iterations: 35\n"
     ]
    },
    {
     "name": "stderr",
     "output_type": "stream",
     "text": [
      "/Users/emmanuel/.pyenv/versions/3.8.0/envs/redlining/lib/python3.8/site-packages/statsmodels/base/model.py:566: ConvergenceWarning: Maximum Likelihood optimization failed to converge. Check mle_retvals\n",
      "  warnings.warn(\"Maximum Likelihood optimization failed to \"\n"
     ]
    },
    {
     "name": "stdout",
     "output_type": "stream",
     "text": [
      "811: Metro: 26940\n",
      "Warning: Maximum number of iterations has been exceeded.\n",
      "         Current function value: inf\n",
      "         Iterations: 35\n",
      "812: Metro: 13620\n"
     ]
    },
    {
     "name": "stderr",
     "output_type": "stream",
     "text": [
      "/Users/emmanuel/.pyenv/versions/3.8.0/envs/redlining/lib/python3.8/site-packages/statsmodels/discrete/discrete_model.py:1810: RuntimeWarning: overflow encountered in exp\n",
      "  return 1/(1+np.exp(-X))\n",
      "/Users/emmanuel/.pyenv/versions/3.8.0/envs/redlining/lib/python3.8/site-packages/statsmodels/discrete/discrete_model.py:1863: RuntimeWarning: divide by zero encountered in log\n",
      "  return np.sum(np.log(self.cdf(q*np.dot(X,params))))\n"
     ]
    },
    {
     "name": "stdout",
     "output_type": "stream",
     "text": [
      "Warning: Maximum number of iterations has been exceeded.\n",
      "         Current function value: inf\n",
      "         Iterations: 35\n",
      "813: Metro: 37420\n",
      "Warning: Maximum number of iterations has been exceeded.\n",
      "         Current function value: inf\n",
      "         Iterations: 35\n",
      "814: Metro: 33020\n",
      "Warning: Maximum number of iterations has been exceeded.\n",
      "         Current function value: inf\n",
      "         Iterations: 35\n",
      "815: Metro: 22780\n",
      "Warning: Maximum number of iterations has been exceeded.\n",
      "         Current function value: inf\n",
      "         Iterations: 35\n",
      "816: Metro: 33620\n",
      "Warning: Maximum number of iterations has been exceeded.\n",
      "         Current function value: inf\n",
      "         Iterations: 35\n",
      "817: Metro: 38740\n",
      "Warning: Maximum number of iterations has been exceeded.\n",
      "         Current function value: inf\n",
      "         Iterations: 35\n",
      "818: Metro: 32300\n",
      "Warning: Maximum number of iterations has been exceeded.\n",
      "         Current function value: inf\n",
      "         Iterations: 35\n",
      "819: Metro: 32740\n",
      "Warning: Maximum number of iterations has been exceeded.\n",
      "         Current function value: 0.193094\n",
      "         Iterations: 35\n",
      "820: Metro: 41260\n",
      "Warning: Maximum number of iterations has been exceeded.\n",
      "         Current function value: 0.278895\n",
      "         Iterations: 35\n",
      "821: Metro: 46420\n",
      "Warning: Maximum number of iterations has been exceeded.\n",
      "         Current function value: inf\n",
      "         Iterations: 35\n",
      "822: Metro: 25500\n",
      "Optimization terminated successfully.\n",
      "         Current function value: 0.121076\n",
      "         Iterations 28\n",
      "823: Metro: 10460\n",
      "Warning: Maximum number of iterations has been exceeded.\n",
      "         Current function value: inf\n",
      "         Iterations: 35\n",
      "824: Metro: 13700\n",
      "Warning: Maximum number of iterations has been exceeded.\n",
      "         Current function value: inf\n",
      "         Iterations: 35\n",
      "825: Metro: 42500\n",
      "Warning: Maximum number of iterations has been exceeded.\n",
      "         Current function value: inf\n",
      "         Iterations: 35\n",
      "826: Metro: 37300\n",
      "Warning: Maximum number of iterations has been exceeded.\n",
      "         Current function value: 1.188998\n",
      "         Iterations: 35\n",
      "827: Metro: 38380\n",
      "Warning: Maximum number of iterations has been exceeded.\n",
      "         Current function value: 0.000000\n",
      "         Iterations: 35\n",
      "828: Metro: 29500\n",
      "829: Metro: 43660\n",
      "Warning: Maximum number of iterations has been exceeded.\n",
      "         Current function value: inf\n",
      "         Iterations: 35\n",
      "830: Metro: 31620\n",
      "Warning: Maximum number of iterations has been exceeded.\n",
      "         Current function value: inf\n",
      "         Iterations: 35\n",
      "831: Metro: 47980\n",
      "Warning: Maximum number of iterations has been exceeded.\n",
      "         Current function value: inf\n",
      "         Iterations: 35\n",
      "832: Metro: 39660\n",
      "Warning: Maximum number of iterations has been exceeded.\n",
      "         Current function value: 0.066452\n",
      "         Iterations: 35\n",
      "833: Metro: 44660\n",
      "Warning: Maximum number of iterations has been exceeded.\n",
      "         Current function value: inf\n",
      "         Iterations: 35\n",
      "834: Metro: 32260\n",
      "Warning: Maximum number of iterations has been exceeded.\n",
      "         Current function value: 0.082347\n",
      "         Iterations: 35\n",
      "835: Metro: 25100\n",
      "Warning: Maximum number of iterations has been exceeded.\n",
      "         Current function value: inf\n",
      "         Iterations: 35\n",
      "836: Metro: 38180\n",
      "Warning: Maximum number of iterations has been exceeded.\n",
      "         Current function value: inf\n",
      "         Iterations: 35\n",
      "837: Metro: 23980\n",
      "Warning: Maximum number of iterations has been exceeded.\n",
      "         Current function value: 0.158721\n",
      "         Iterations: 35\n",
      "838: Metro: 19620\n",
      "Warning: Maximum number of iterations has been exceeded.\n",
      "         Current function value: inf\n",
      "         Iterations: 35\n",
      "839: Metro: 23140\n",
      "Warning: Maximum number of iterations has been exceeded.\n",
      "         Current function value: inf\n",
      "         Iterations: 35\n",
      "840: Metro: 10760\n",
      "Warning: Maximum number of iterations has been exceeded.\n",
      "         Current function value: 0.091302\n",
      "         Iterations: 35\n",
      "841: Metro: 29900\n",
      "Warning: Maximum number of iterations has been exceeded.\n",
      "         Current function value: inf\n",
      "         Iterations: 35\n",
      "842: Metro: 27530\n",
      "Warning: Maximum number of iterations has been exceeded.\n",
      "         Current function value: 0.159039\n",
      "         Iterations: 35\n",
      "843: Metro: 19220\n",
      "Warning: Maximum number of iterations has been exceeded.\n",
      "         Current function value: 0.140293\n",
      "         Iterations: 35\n",
      "844: Metro: 38920\n",
      "Warning: Maximum number of iterations has been exceeded.\n",
      "         Current function value: inf\n",
      "         Iterations: 35\n",
      "845: Metro: 49260\n",
      "846: Metro: 36820\n",
      "Warning: Maximum number of iterations has been exceeded.\n",
      "         Current function value: 0.155658\n",
      "         Iterations: 35\n",
      "847: Metro: 35580\n",
      "Warning: Maximum number of iterations has been exceeded.\n",
      "         Current function value: inf\n",
      "         Iterations: 35\n",
      "848: Metro: 24820\n",
      "Warning: Maximum number of iterations has been exceeded.\n",
      "         Current function value: 0.158030\n",
      "         Iterations: 35\n",
      "849: Metro: 30420\n",
      "Warning: Maximum number of iterations has been exceeded.\n",
      "         Current function value: 0.000026\n",
      "         Iterations: 35\n",
      "850: Metro: 12980\n",
      "Warning: Maximum number of iterations has been exceeded.\n",
      "         Current function value: 0.127007\n",
      "         Iterations: 35\n",
      "851: Metro: 32540\n",
      "Warning: Maximum number of iterations has been exceeded.\n",
      "         Current function value: inf\n",
      "         Iterations: 35\n",
      "852: Metro: 45020\n",
      "Warning: Maximum number of iterations has been exceeded.\n",
      "         Current function value: inf\n",
      "         Iterations: 35\n",
      "853: Metro: 37940\n",
      "Warning: Maximum number of iterations has been exceeded.\n",
      "         Current function value: inf\n",
      "         Iterations: 35\n",
      "854: Metro: 19860\n",
      "Warning: Maximum number of iterations has been exceeded.\n",
      "         Current function value: inf\n",
      "         Iterations: 35\n",
      "855: Metro: 30820\n",
      "Warning: Maximum number of iterations has been exceeded.\n",
      "         Current function value: 0.118166\n",
      "         Iterations: 35\n",
      "856: Metro: 24740\n",
      "Warning: Maximum number of iterations has been exceeded.\n",
      "         Current function value: inf\n",
      "         Iterations: 35\n",
      "857: Metro: 20340\n",
      "Warning: Maximum number of iterations has been exceeded.\n",
      "         Current function value: 0.152291\n",
      "         Iterations: 35\n",
      "858: Metro: 48180\n",
      "Warning: Maximum number of iterations has been exceeded.\n",
      "         Current function value: inf\n",
      "         Iterations: 35\n",
      "859: Metro: 43380\n",
      "Warning: Maximum number of iterations has been exceeded.\n",
      "         Current function value: inf\n",
      "         Iterations: 35\n",
      "860: Metro: 42780\n",
      "Warning: Maximum number of iterations has been exceeded.\n",
      "         Current function value: inf\n",
      "         Iterations: 35\n",
      "861: Metro: 28540\n",
      "Warning: Maximum number of iterations has been exceeded.\n",
      "         Current function value: inf\n",
      "         Iterations: 35\n",
      "862: Metro: 40540\n",
      "Warning: Maximum number of iterations has been exceeded.\n",
      "         Current function value: inf\n",
      "         Iterations: 35\n",
      "863: Metro: 21900\n",
      "Warning: Maximum number of iterations has been exceeded.\n",
      "         Current function value: inf\n",
      "         Iterations: 35\n",
      "864: Metro: 34350\n",
      "Warning: Maximum number of iterations has been exceeded.\n",
      "         Current function value: inf\n",
      "         Iterations: 35\n",
      "865: Metro: 10380\n",
      "Warning: Maximum number of iterations has been exceeded.\n",
      "         Current function value: 0.264967\n",
      "         Iterations: 35\n",
      "866: Metro: 32420\n",
      "Warning: Maximum number of iterations has been exceeded.\n",
      "         Current function value: inf\n",
      "         Iterations: 35\n",
      "867: Metro: 11640\n",
      "Warning: Maximum number of iterations has been exceeded.\n",
      "         Current function value: inf\n",
      "         Iterations: 35\n",
      "868: Metro: 41900\n",
      "Warning: Maximum number of iterations has been exceeded.\n",
      "         Current function value: inf\n",
      "         Iterations: 35\n",
      "869: Metro: 38660\n",
      "Warning: Maximum number of iterations has been exceeded.\n",
      "         Current function value: 0.282255\n",
      "         Iterations: 35\n",
      "870: Metro: 25020\n",
      "Warning: Maximum number of iterations has been exceeded.\n",
      "         Current function value: inf\n",
      "         Iterations: 35\n",
      "871: Metro: 49500\n",
      "Warning: Maximum number of iterations has been exceeded.\n",
      "         Current function value: inf\n",
      "         Iterations: 35\n",
      "872: Metro: 42180\n",
      "873: Metro: 17620\n",
      "874: Metro: 33580\n",
      "Warning: Maximum number of iterations has been exceeded.\n",
      "         Current function value: inf\n",
      "         Iterations: 35\n",
      "875: Metro: 14220\n",
      "Warning: Maximum number of iterations has been exceeded.\n",
      "         Current function value: inf\n",
      "         Iterations: 35\n",
      "876: Metro: 43060\n"
     ]
    },
    {
     "name": "stdout",
     "output_type": "stream",
     "text": [
      "Warning: Maximum number of iterations has been exceeded.\n",
      "         Current function value: inf\n",
      "         Iterations: 35\n",
      "877: Metro: 35060\n",
      "Warning: Maximum number of iterations has been exceeded.\n",
      "         Current function value: inf\n",
      "         Iterations: 35\n",
      "878: Metro: 30260\n",
      "Warning: Maximum number of iterations has been exceeded.\n",
      "         Current function value: inf\n",
      "         Iterations: 35\n",
      "879: Metro: 20580\n",
      "Warning: Maximum number of iterations has been exceeded.\n",
      "         Current function value: inf\n",
      "         Iterations: 35\n",
      "880: Metro: 45140\n",
      "Warning: Maximum number of iterations has been exceeded.\n",
      "         Current function value: inf\n",
      "         Iterations: 35\n",
      "881: Metro: 20820\n",
      "Warning: Maximum number of iterations has been exceeded.\n",
      "         Current function value: inf\n",
      "         Iterations: 35\n",
      "882: Metro: 31500\n",
      "Warning: Maximum number of iterations has been exceeded.\n",
      "         Current function value: inf\n",
      "         Iterations: 35\n",
      "883: Metro: 27540\n",
      "Warning: Maximum number of iterations has been exceeded.\n",
      "         Current function value: 0.122100\n",
      "         Iterations: 35\n",
      "884: Metro: 37780\n",
      "885: Metro: 48220\n",
      "Warning: Maximum number of iterations has been exceeded.\n",
      "         Current function value: inf\n",
      "         Iterations: 35\n",
      "886: Metro: 44940\n",
      "Warning: Maximum number of iterations has been exceeded.\n",
      "         Current function value: 0.151460\n",
      "         Iterations: 35\n"
     ]
    },
    {
     "name": "stderr",
     "output_type": "stream",
     "text": [
      "/Users/emmanuel/.pyenv/versions/3.8.0/envs/redlining/lib/python3.8/site-packages/statsmodels/base/model.py:566: ConvergenceWarning: Maximum Likelihood optimization failed to converge. Check mle_retvals\n",
      "  warnings.warn(\"Maximum Likelihood optimization failed to \"\n"
     ]
    },
    {
     "name": "stdout",
     "output_type": "stream",
     "text": [
      "887: Metro: 25780\n",
      "Warning: Maximum number of iterations has been exceeded.\n",
      "         Current function value: 0.209819\n",
      "         Iterations: 35\n",
      "888: Metro: 11660\n"
     ]
    },
    {
     "name": "stderr",
     "output_type": "stream",
     "text": [
      "/Users/emmanuel/.pyenv/versions/3.8.0/envs/redlining/lib/python3.8/site-packages/statsmodels/discrete/discrete_model.py:1810: RuntimeWarning: overflow encountered in exp\n",
      "  return 1/(1+np.exp(-X))\n",
      "/Users/emmanuel/.pyenv/versions/3.8.0/envs/redlining/lib/python3.8/site-packages/statsmodels/discrete/discrete_model.py:1863: RuntimeWarning: divide by zero encountered in log\n",
      "  return np.sum(np.log(self.cdf(q*np.dot(X,params))))\n"
     ]
    },
    {
     "name": "stdout",
     "output_type": "stream",
     "text": [
      "Warning: Maximum number of iterations has been exceeded.\n",
      "         Current function value: inf\n",
      "         Iterations: 35\n",
      "889: Metro: 32180\n",
      "Warning: Maximum number of iterations has been exceeded.\n",
      "         Current function value: inf\n",
      "         Iterations: 35\n",
      "890: Metro: 35900\n",
      "Warning: Maximum number of iterations has been exceeded.\n",
      "         Current function value: inf\n",
      "         Iterations: 35\n",
      "891: Metro: 40260\n",
      "Warning: Maximum number of iterations has been exceeded.\n",
      "         Current function value: 0.134813\n",
      "         Iterations: 35\n",
      "892: Metro: 15620\n",
      "Warning: Maximum number of iterations has been exceeded.\n",
      "         Current function value: inf\n",
      "         Iterations: 35\n",
      "893: Metro: 39060\n",
      "Warning: Maximum number of iterations has been exceeded.\n",
      "         Current function value: 0.190528\n",
      "         Iterations: 35\n",
      "894: Metro: 44980\n",
      "Warning: Maximum number of iterations has been exceeded.\n",
      "         Current function value: inf\n",
      "         Iterations: 35\n",
      "895: Metro: 36700\n",
      "Warning: Maximum number of iterations has been exceeded.\n",
      "         Current function value: 0.184804\n",
      "         Iterations: 35\n",
      "896: Metro: 33060\n",
      "Warning: Maximum number of iterations has been exceeded.\n",
      "         Current function value: inf\n",
      "         Iterations: 35\n",
      "897: Metro: 34780\n",
      "Warning: Maximum number of iterations has been exceeded.\n",
      "         Current function value: inf\n",
      "         Iterations: 35\n",
      "898: Metro: 11060\n",
      "Warning: Maximum number of iterations has been exceeded.\n",
      "         Current function value: inf\n",
      "         Iterations: 35\n",
      "899: Metro: 34460\n",
      "Warning: Maximum number of iterations has been exceeded.\n",
      "         Current function value: inf\n",
      "         Iterations: 35\n",
      "900: Metro: 28380\n",
      "Warning: Maximum number of iterations has been exceeded.\n",
      "         Current function value: 0.000058\n",
      "         Iterations: 35\n",
      "901: Metro: 32460\n",
      "Warning: Maximum number of iterations has been exceeded.\n",
      "         Current function value: inf\n",
      "         Iterations: 35\n",
      "902: Metro: 15820\n",
      "Warning: Maximum number of iterations has been exceeded.\n",
      "         Current function value: inf\n",
      "         Iterations: 35\n",
      "903: Metro: 17380\n",
      "Warning: Maximum number of iterations has been exceeded.\n",
      "         Current function value: inf\n",
      "         Iterations: 35\n",
      "904: Metro: 48500\n",
      "Warning: Maximum number of iterations has been exceeded.\n",
      "         Current function value: inf\n",
      "         Iterations: 35\n",
      "905: Metro: 46460\n",
      "Warning: Maximum number of iterations has been exceeded.\n",
      "         Current function value: inf\n",
      "         Iterations: 35\n",
      "906: Metro: 18500\n",
      "Warning: Maximum number of iterations has been exceeded.\n",
      "         Current function value: 0.189326\n",
      "         Iterations: 35\n",
      "907: Metro: 42900\n",
      "Warning: Maximum number of iterations has been exceeded.\n",
      "         Current function value: inf\n",
      "         Iterations: 35\n",
      "908: Metro: 14620\n",
      "Warning: Maximum number of iterations has been exceeded.\n",
      "         Current function value: 0.176250\n",
      "         Iterations: 35\n",
      "909: Metro: 18220\n",
      "Warning: Maximum number of iterations has been exceeded.\n",
      "         Current function value: inf\n",
      "         Iterations: 35\n",
      "910: Metro: 46780\n",
      "Warning: Maximum number of iterations has been exceeded.\n",
      "         Current function value: inf\n",
      "         Iterations: 35\n",
      "911: Metro: 24700\n",
      "Warning: Maximum number of iterations has been exceeded.\n",
      "         Current function value: inf\n",
      "         Iterations: 35\n",
      "912: Metro: 47180\n",
      "Warning: Maximum number of iterations has been exceeded.\n",
      "         Current function value: 0.125744\n",
      "         Iterations: 35\n",
      "913: Metro: 11020\n",
      "Warning: Maximum number of iterations has been exceeded.\n",
      "         Current function value: 0.215219\n",
      "         Iterations: 35\n",
      "914: Metro: 18420\n",
      "Warning: Maximum number of iterations has been exceeded.\n",
      "         Current function value: inf\n",
      "         Iterations: 35\n",
      "915: Metro: 26700\n",
      "916: Metro: 21540\n",
      "Warning: Maximum number of iterations has been exceeded.\n",
      "         Current function value: inf\n",
      "         Iterations: 35\n",
      "917: Metro: 34020\n",
      "Warning: Maximum number of iterations has been exceeded.\n",
      "         Current function value: inf\n",
      "         Iterations: 35\n",
      "918: Metro: 27700\n",
      "Warning: Maximum number of iterations has been exceeded.\n",
      "         Current function value: inf\n",
      "         Iterations: 35\n",
      "919: Metro: 17500\n",
      "Warning: Maximum number of iterations has been exceeded.\n",
      "         Current function value: inf\n",
      "         Iterations: 35\n",
      "920: Metro: 36380\n",
      "Warning: Maximum number of iterations has been exceeded.\n",
      "         Current function value: inf\n",
      "         Iterations: 35\n",
      "921: Metro: 17260\n",
      "922: Metro: 10100\n",
      "Warning: Maximum number of iterations has been exceeded.\n",
      "         Current function value: inf\n",
      "         Iterations: 35\n",
      "923: Metro: 37800\n",
      "Warning: Maximum number of iterations has been exceeded.\n",
      "         Current function value: inf\n",
      "         Iterations: 35\n",
      "924: Metro: 48460\n",
      "Warning: Maximum number of iterations has been exceeded.\n",
      "         Current function value: 0.163644\n",
      "         Iterations: 35\n",
      "925: Metro: 16660\n",
      "Warning: Maximum number of iterations has been exceeded.\n",
      "         Current function value: 0.141785\n",
      "         Iterations: 35\n",
      "926: Metro: 27160\n",
      "Warning: Maximum number of iterations has been exceeded.\n",
      "         Current function value: 0.167105\n",
      "         Iterations: 35\n",
      "927: Metro: 34220\n",
      "Warning: Maximum number of iterations has been exceeded.\n",
      "         Current function value: inf\n",
      "         Iterations: 35\n",
      "928: Metro: 13260\n",
      "Warning: Maximum number of iterations has been exceeded.\n",
      "         Current function value: 0.094051\n",
      "         Iterations: 35\n",
      "929: Metro: 18740\n",
      "Warning: Maximum number of iterations has been exceeded.\n",
      "         Current function value: inf\n",
      "         Iterations: 35\n",
      "930: Metro: 22340\n",
      "931: Metro: 23500\n",
      "Warning: Maximum number of iterations has been exceeded.\n",
      "         Current function value: inf\n",
      "         Iterations: 35\n",
      "932: Metro: 42820\n",
      "Warning: Maximum number of iterations has been exceeded.\n",
      "         Current function value: inf\n",
      "         Iterations: 35\n",
      "933: Metro: 32620\n",
      "Warning: Maximum number of iterations has been exceeded.\n",
      "         Current function value: inf\n",
      "         Iterations: 35\n",
      "934: Metro: 32280\n",
      "Warning: Maximum number of iterations has been exceeded.\n",
      "         Current function value: inf\n",
      "         Iterations: 35\n",
      "935: Metro: 26260\n",
      "Warning: Maximum number of iterations has been exceeded.\n",
      "         Current function value: inf\n",
      "         Iterations: 35\n",
      "936: Metro: 19760\n",
      "Warning: Maximum number of iterations has been exceeded.\n",
      "         Current function value: inf\n",
      "         Iterations: 35\n",
      "937: Metro: 28780\n",
      "Warning: Maximum number of iterations has been exceeded.\n",
      "         Current function value: inf\n",
      "         Iterations: 35\n",
      "938: Metro: 38580\n",
      "Warning: Maximum number of iterations has been exceeded.\n",
      "         Current function value: 0.217557\n",
      "         Iterations: 35\n",
      "939: Metro: 35020\n",
      "Warning: Maximum number of iterations has been exceeded.\n",
      "         Current function value: inf\n",
      "         Iterations: 35\n",
      "940: Metro: 21120\n",
      "Warning: Maximum number of iterations has been exceeded.\n",
      "         Current function value: inf\n",
      "         Iterations: 35\n",
      "941: Metro: 21180\n",
      "942: Metro: 49820\n",
      "943: Metro: 37770\n",
      "Warning: Maximum number of iterations has been exceeded.\n",
      "         Current function value: inf\n",
      "         Iterations: 35\n",
      "944: Metro: 33500\n",
      "Warning: Maximum number of iterations has been exceeded.\n",
      "         Current function value: inf\n",
      "         Iterations: 35\n",
      "945: Metro: 11140\n",
      "Warning: Maximum number of iterations has been exceeded.\n",
      "         Current function value: inf\n",
      "         Iterations: 35\n",
      "946: Metro: 21640\n",
      "Warning: Maximum number of iterations has been exceeded.\n",
      "         Current function value: inf\n",
      "         Iterations: 35\n",
      "947: Metro: 47780\n",
      "Warning: Maximum number of iterations has been exceeded.\n",
      "         Current function value: inf\n",
      "         Iterations: 35\n",
      "948: Metro: 22860\n",
      "Warning: Maximum number of iterations has been exceeded.\n",
      "         Current function value: inf\n",
      "         Iterations: 35\n",
      "949: Metro: 32500\n",
      "Warning: Maximum number of iterations has been exceeded.\n",
      "         Current function value: inf\n",
      "         Iterations: 35\n",
      "950: Metro: 42300\n",
      "Warning: Maximum number of iterations has been exceeded.\n",
      "         Current function value: inf\n",
      "         Iterations: 35\n",
      "951: Metro: 25820\n",
      "952: Metro: 20060\n",
      "Warning: Maximum number of iterations has been exceeded.\n",
      "         Current function value: inf\n",
      "         Iterations: 35\n",
      "953: Metro: 11580\n",
      "Warning: Maximum number of iterations has been exceeded.\n",
      "         Current function value: inf\n",
      "         Iterations: 35\n"
     ]
    },
    {
     "name": "stdout",
     "output_type": "stream",
     "text": [
      "954: Metro: 21860\n",
      "Warning: Maximum number of iterations has been exceeded.\n",
      "         Current function value: 0.237304\n",
      "         Iterations: 35\n",
      "955: Metro: 48100\n",
      "Warning: Maximum number of iterations has been exceeded.\n",
      "         Current function value: inf\n",
      "         Iterations: 35\n",
      "956: Metro: 13500\n",
      "Warning: Maximum number of iterations has been exceeded.\n",
      "         Current function value: inf\n",
      "         Iterations: 35\n",
      "957: Metro: 17640\n",
      "958: Metro: 27580\n"
     ]
    }
   ],
   "source": [
    "metro_analysis = []\n",
    "i = 0\n",
    "\n",
    "for metro in metros:\n",
    "    print(str(i) + ': Metro: ' + metro)\n",
    "    metro_df = hmda19_df3[(hmda19_df3['metro_code'] == metro)]\n",
    "    metro_apps = len(metro_df)\n",
    "    \n",
    "    regression_formula = create_formula(independent_vars)\n",
    "    model = run_regression(data = metro_df, formula = regression_formula)\n",
    "    \n",
    "    try:\n",
    "        results = model.fit()\n",
    "        info = results.mle_retvals['converged']\n",
    "        \n",
    "        results_df = convert_results_to_df(results)\n",
    "        results_df.insert(0, 'metro_code', metro)\n",
    "        results_df.insert(1, 'metro_apps', metro_apps)\n",
    "        results_df.insert(2, 'psuedo_rsquare', results.prsquared)\n",
    "        results_df['iteration_flag'] = info\n",
    "        \n",
    "    except:\n",
    "        independent_nan_list = []\n",
    "        for regression_var in independent_vars:\n",
    "            results_dict = {'metro_code': metro, 'metro_apps': metro_apps, 'variable_name': regression_var, \n",
    "                            'standard_error': np.nan,  'z_value': np.nan, 'p_value': np.nan, 'odds_ratio': np.nan, \n",
    "                            'iteration_flag': np.nan, 'psuedo_rsquare': np.nan}\n",
    "            \n",
    "            non_results_df = pd.DataFrame([results_dict], columns = results_dict.keys())\n",
    "            independent_nan_list.append(non_results_df)\n",
    "            \n",
    "        results_df = pd.concat(independent_nan_list)\n",
    "        \n",
    "    metro_analysis.append(results_df)\n",
    "    i += 1\n",
    "    \n",
    "results_df2 = pd.concat(metro_analysis)"
   ]
  },
  {
   "cell_type": "markdown",
   "id": "abandoned-tampa",
   "metadata": {},
   "source": [
    "### 7. Join results with metros data\n",
    "#### Is every variable accounted for:\n",
    "- If a variables has less than 959, then it's missing in certain metros"
   ]
  },
  {
   "cell_type": "code",
   "execution_count": 18,
   "id": "united-poverty",
   "metadata": {},
   "outputs": [
    {
     "data": {
      "text/html": [
       "<div>\n",
       "<style scoped>\n",
       "    .dataframe tbody tr th:only-of-type {\n",
       "        vertical-align: middle;\n",
       "    }\n",
       "\n",
       "    .dataframe tbody tr th {\n",
       "        vertical-align: top;\n",
       "    }\n",
       "\n",
       "    .dataframe thead th {\n",
       "        text-align: right;\n",
       "    }\n",
       "</style>\n",
       "<table border=\"1\" class=\"dataframe\">\n",
       "  <thead>\n",
       "    <tr style=\"text-align: right;\">\n",
       "      <th></th>\n",
       "      <th>index</th>\n",
       "      <th>variable_name</th>\n",
       "    </tr>\n",
       "  </thead>\n",
       "  <tbody>\n",
       "    <tr>\n",
       "      <th>34</th>\n",
       "      <td>Intercept</td>\n",
       "      <td>250</td>\n",
       "    </tr>\n",
       "  </tbody>\n",
       "</table>\n",
       "</div>"
      ],
      "text/plain": [
       "        index  variable_name\n",
       "34  Intercept            250"
      ]
     },
     "execution_count": 18,
     "metadata": {},
     "output_type": "execute_result"
    }
   ],
   "source": [
    "var_used_check = pd.DataFrame(results_df2['variable_name'].value_counts(dropna = False)).reset_index()\n",
    "\n",
    "var_used_check[(var_used_check['variable_name'] < 959)]"
   ]
  },
  {
   "cell_type": "markdown",
   "id": "prescribed-swimming",
   "metadata": {},
   "source": [
    "#### Join with metro names and var count dataframes"
   ]
  },
  {
   "cell_type": "code",
   "execution_count": 19,
   "id": "asian-parks",
   "metadata": {},
   "outputs": [],
   "source": [
    "results_df3 = pd.merge(results_df2, metros_df2, how = 'left', on = ['metro_code'])\n",
    "results_df4 = pd.merge(results_df3, metro_varcount_df3, how = 'left',  on = ['metro_code', 'variable_name'])"
   ]
  },
  {
   "cell_type": "markdown",
   "id": "streaming-letter",
   "metadata": {},
   "source": [
    "### 8. Categorize Results\n",
    "\n",
    "#### Filter for metros that don't produce any results\n",
    "- Results Flag 1: No meaningful results, all columns shows up as NaN"
   ]
  },
  {
   "cell_type": "code",
   "execution_count": 20,
   "id": "upset-portugal",
   "metadata": {},
   "outputs": [],
   "source": [
    "results_df4.loc[((results_df4['psuedo_rsquare'].isnull()) & (results_df4['coefficient'].isnull()) & \\\n",
    "                 (results_df4['standard_error'] .isnull()) & (results_df4['z_value'].isnull()) & \\\n",
    "                 (results_df4['p_value'].isnull()) & (results_df4['odds_ratio'].isnull())), \n",
    "                 'results_flag'] = '1'\n",
    "\n",
    "metros_no_results = results_df4[(results_df4['results_flag'] == '1')]['metro_code'].nunique()\n",
    "\n",
    "all_metros = results_df4['metro_code'].nunique()"
   ]
  },
  {
   "cell_type": "markdown",
   "id": "biological-norfolk",
   "metadata": {},
   "source": [
    "#### Metro Results Breakdown:\n",
    "- 709 metros don't produce results\n",
    "- 250 metros prodocues results"
   ]
  },
  {
   "cell_type": "code",
   "execution_count": 21,
   "id": "partial-quest",
   "metadata": {},
   "outputs": [
    {
     "name": "stdout",
     "output_type": "stream",
     "text": [
      "Percent of metros with no results: 73.93117831074035\n",
      "Number of metros that DON'T produce results: 709\n",
      "Number of metros that produce results: 250\n"
     ]
    }
   ],
   "source": [
    "print('Percent of metros with no results: ' + str(((metros_no_results/all_metros) * 100)))\n",
    "\n",
    "print('Number of metros that DON\\'T produce results: ' + str(metros_no_results))\n",
    "\n",
    "print('Number of metros that produce results: ' + str(results_df4[(results_df4['results_flag'] != '1')] \\\n",
    "                                                      ['metro_code'].nunique()))"
   ]
  },
  {
   "cell_type": "code",
   "execution_count": 22,
   "id": "defined-redhead",
   "metadata": {},
   "outputs": [
    {
     "data": {
      "text/plain": [
       "count     709.000000\n",
       "mean      473.320169\n",
       "std       690.641226\n",
       "min         1.000000\n",
       "25%       120.000000\n",
       "50%       235.000000\n",
       "75%       502.000000\n",
       "max      7148.000000\n",
       "Name: metro_apps, dtype: float64"
      ]
     },
     "execution_count": 22,
     "metadata": {},
     "output_type": "execute_result"
    }
   ],
   "source": [
    "metros_size_df = pd.DataFrame(results_df4[(results_df4['results_flag'] == '1')].\\\n",
    "                 groupby(by = ['metro_code', 'metro_apps']).size()).reset_index().rename(columns = {0: 'count'})\n",
    "\n",
    "metros_size_df['metro_apps'].describe()"
   ]
  },
  {
   "cell_type": "markdown",
   "id": "unusual-calculator",
   "metadata": {},
   "source": [
    "#### Filter for metros that produce the results, but the equation needs work\n",
    "- Results Flag: 2, no meaningful results because of the equation "
   ]
  },
  {
   "cell_type": "code",
   "execution_count": 23,
   "id": "talented-disease",
   "metadata": {},
   "outputs": [],
   "source": [
    "results_df4.loc[(results_df4['psuedo_rsquare'] < .1) | (results_df4['iteration_flag'] == False),\n",
    "                'results_flag'] = '2'\n",
    "\n",
    "broken_results_metros = results_df4[(results_df4['results_flag'] == '2')]['metro_code'].nunique()"
   ]
  },
  {
   "cell_type": "markdown",
   "id": "marine-muslim",
   "metadata": {},
   "source": [
    "#### Metro Results Breakdown:\n",
    "- 121 metros with unreliable results, not enoght variance in variables. "
   ]
  },
  {
   "cell_type": "code",
   "execution_count": 24,
   "id": "thermal-stockholm",
   "metadata": {},
   "outputs": [
    {
     "name": "stdout",
     "output_type": "stream",
     "text": [
      "Number of metros with broken results: 122\n",
      "Percentage of metros with no results: 12.721584984358708\n"
     ]
    }
   ],
   "source": [
    "print('Number of metros with broken results: ' + str(broken_results_metros))\n",
    "print('Percentage of metros with no results: ' + str((broken_results_metros/all_metros) * 100))"
   ]
  },
  {
   "cell_type": "markdown",
   "id": "controversial-bonus",
   "metadata": {},
   "source": [
    "#### Filter for metros where the equation is valid\n",
    "- Results flag 3: valid results"
   ]
  },
  {
   "cell_type": "code",
   "execution_count": 25,
   "id": "spoken-advance",
   "metadata": {},
   "outputs": [],
   "source": [
    "results_df4.loc[(results_df4['psuedo_rsquare'] >= .1) & (results_df4['iteration_flag'] == True), \n",
    "                'results_flag'] = '3'\n",
    "\n",
    "valid_results_metros = results_df4[(results_df4['results_flag'] == '3')]['metro_code'].nunique()"
   ]
  },
  {
   "cell_type": "markdown",
   "id": "therapeutic-answer",
   "metadata": {},
   "source": [
    "#### Metro Results Breakdown:\n",
    "- 128 metros with reliable results."
   ]
  },
  {
   "cell_type": "code",
   "execution_count": 26,
   "id": "surprised-bulgarian",
   "metadata": {},
   "outputs": [
    {
     "name": "stdout",
     "output_type": "stream",
     "text": [
      "Number of metros with valid results: 128\n",
      "Percentage of metros with valid results: 13.347236704900938\n"
     ]
    }
   ],
   "source": [
    "print('Number of metros with valid results: ' + str(valid_results_metros))\n",
    "print('Percentage of metros with valid results: ' + str((valid_results_metros/all_metros) * 100))"
   ]
  },
  {
   "cell_type": "markdown",
   "id": "killing-publisher",
   "metadata": {},
   "source": [
    "#### Overall metros breakdown\n",
    "- 1: No Results\n",
    "- 2: Variable Issues\n",
    "- 3: Results"
   ]
  },
  {
   "cell_type": "code",
   "execution_count": 27,
   "id": "local-output",
   "metadata": {},
   "outputs": [
    {
     "data": {
      "text/plain": [
       "1    709\n",
       "3    128\n",
       "2    122\n",
       "Name: results_flag, dtype: int64"
      ]
     },
     "execution_count": 27,
     "metadata": {},
     "output_type": "execute_result"
    }
   ],
   "source": [
    "metro_results_df = pd.DataFrame(results_df4.groupby(by = ['results_flag', 'metro_code']).size()).reset_index().\\\n",
    "                   rename(columns = {0: 'count'})\n",
    "\n",
    "metro_results_df['results_flag'].value_counts(dropna = False)"
   ]
  },
  {
   "cell_type": "markdown",
   "id": "awful-technique",
   "metadata": {},
   "source": [
    "### 9. Assessing the variables of valid metros\n",
    "#### Variables where the p-value and z-value are missing\n",
    "- 63 records"
   ]
  },
  {
   "cell_type": "code",
   "execution_count": 28,
   "id": "abroad-dutch",
   "metadata": {},
   "outputs": [
    {
     "data": {
      "text/plain": [
       "NaN    32793\n",
       "1         63\n",
       "Name: variable_check, dtype: int64"
      ]
     },
     "execution_count": 28,
     "metadata": {},
     "output_type": "execute_result"
    }
   ],
   "source": [
    "results_df4.loc[(results_df4['results_flag'] == '3') & (results_df4['z_value'].isnull()) &\\\n",
    "                (results_df4['p_value'].isnull()), 'variable_check'] = '1'\n",
    "\n",
    "results_df4['variable_check'].value_counts(dropna = False)"
   ]
  },
  {
   "cell_type": "markdown",
   "id": "corporate-devil",
   "metadata": {},
   "source": [
    "#### Metros with a varibale that has a missing p-value\n",
    "- 17 metros that are valid but there's missing p-values in them"
   ]
  },
  {
   "cell_type": "code",
   "execution_count": 29,
   "id": "limited-valuation",
   "metadata": {},
   "outputs": [
    {
     "name": "stdout",
     "output_type": "stream",
     "text": [
      "17\n"
     ]
    },
    {
     "data": {
      "text/plain": [
       "Lansing-East Lansing, MI                         12\n",
       "Rockingham County-Strafford County, NH            6\n",
       "Yuba City, CA                                     6\n",
       "Mount Vernon-Anacortes, WA                        6\n",
       "Madison, WI                                       4\n",
       "Boise City, ID                                    4\n",
       "Kennewick-Richland, WA                            4\n",
       "Evansville, IN-KY                                 3\n",
       "El Paso, TX                                       3\n",
       "Knoxville, TN                                     2\n",
       "Portland-Vancouver-Hillsboro, OR-WA               2\n",
       "Duluth, MN-WI                                     2\n",
       "Ocala, FL                                         2\n",
       "Wilmington, NC                                    2\n",
       "Reading, PA                                       2\n",
       "Myrtle Beach-Conway-North Myrtle Beach, SC-NC     2\n",
       "Ann Arbor, MI                                     1\n",
       "Name: metro_name, dtype: int64"
      ]
     },
     "execution_count": 29,
     "metadata": {},
     "output_type": "execute_result"
    }
   ],
   "source": [
    "missing_pvalues_metros_df = results_df4[(results_df4['results_flag'] == '3') & \\\n",
    "                                        (results_df4['variable_check'] == '1')]\n",
    "\n",
    "print(missing_pvalues_metros_df['metro_code'].nunique())\n",
    "missing_pvalues_metros_df['metro_name'].value_counts(dropna = False)"
   ]
  },
  {
   "cell_type": "markdown",
   "id": "handed-raleigh",
   "metadata": {},
   "source": [
    "#### Variables that are not statistcially significant\n",
    "- 2693 records"
   ]
  },
  {
   "cell_type": "code",
   "execution_count": 30,
   "id": "upset-warehouse",
   "metadata": {},
   "outputs": [
    {
     "data": {
      "text/plain": [
       "NaN    30100\n",
       "2       2693\n",
       "1         63\n",
       "Name: variable_check, dtype: int64"
      ]
     },
     "execution_count": 30,
     "metadata": {},
     "output_type": "execute_result"
    }
   ],
   "source": [
    "results_df4.loc[(results_df4['results_flag'] == '3') & (results_df4['p_value'] >= .05),\n",
    "                'variable_check'] = '2'\n",
    "\n",
    "results_df4['variable_check'].value_counts(dropna = False)"
   ]
  },
  {
   "cell_type": "markdown",
   "id": "polish-budget",
   "metadata": {},
   "source": [
    "#### Filter for variables that are statistcially significant but need more applications\n",
    "- Variable Check 3: 448 records"
   ]
  },
  {
   "cell_type": "code",
   "execution_count": 31,
   "id": "stainless-penguin",
   "metadata": {},
   "outputs": [
    {
     "data": {
      "text/plain": [
       "NaN    29652\n",
       "2       2693\n",
       "3        448\n",
       "1         63\n",
       "Name: variable_check, dtype: int64"
      ]
     },
     "execution_count": 31,
     "metadata": {},
     "output_type": "execute_result"
    }
   ],
   "source": [
    "results_df4.loc[(results_df4['results_flag'] == '3') & (results_df4['p_value'] < .05) &\\\n",
    "                (results_df4['total_count'] < 75), 'variable_check'] = '3'\n",
    "\n",
    "results_df4['variable_check'].value_counts(dropna = False)"
   ]
  },
  {
   "cell_type": "markdown",
   "id": "hungry-location",
   "metadata": {},
   "source": [
    "#### Filter those records that are statistcially signicant but no disparity\n",
    "- Variable Check 4: 503 records"
   ]
  },
  {
   "cell_type": "code",
   "execution_count": 32,
   "id": "assisted-exploration",
   "metadata": {},
   "outputs": [
    {
     "data": {
      "text/plain": [
       "NaN    29149\n",
       "2       2693\n",
       "4        503\n",
       "3        448\n",
       "1         63\n",
       "Name: variable_check, dtype: int64"
      ]
     },
     "execution_count": 32,
     "metadata": {},
     "output_type": "execute_result"
    }
   ],
   "source": [
    "results_df4.loc[(results_df4['results_flag'] == '3') & (results_df4['p_value'] < .05) &\\\n",
    "                (results_df4['total_count'] >= 75) & (results_df4['odds_ratio'] < 1.45), \n",
    "                'variable_check'] = '4'\n",
    "\n",
    "results_df4['variable_check'].value_counts(dropna = False)"
   ]
  },
  {
   "cell_type": "markdown",
   "id": "female-sensitivity",
   "metadata": {},
   "source": [
    "#### Filter those records that are statistcially signicant with a disparity\n",
    "- Variable Check 5: 677 records"
   ]
  },
  {
   "cell_type": "code",
   "execution_count": 33,
   "id": "immune-abuse",
   "metadata": {},
   "outputs": [
    {
     "data": {
      "text/plain": [
       "NaN    28472\n",
       "2       2693\n",
       "5        677\n",
       "4        503\n",
       "3        448\n",
       "1         63\n",
       "Name: variable_check, dtype: int64"
      ]
     },
     "execution_count": 33,
     "metadata": {},
     "output_type": "execute_result"
    }
   ],
   "source": [
    "results_df4.loc[(results_df4['results_flag'] == '3') & (results_df4['p_value'] < .05) &\\\n",
    "                (results_df4['total_count'] >= 75) & (results_df4['odds_ratio'] >= 1.45), \n",
    "                'variable_check'] = '5'\n",
    "\n",
    "results_df4['variable_check'].value_counts(dropna = False)"
   ]
  },
  {
   "cell_type": "markdown",
   "id": "latter-czech",
   "metadata": {},
   "source": [
    "### 10.  Breakdown of statistcially valid metros for race and ethnicity\n",
    "- 96 NaN are all Intercept variables"
   ]
  },
  {
   "cell_type": "code",
   "execution_count": 34,
   "id": "structured-forwarding",
   "metadata": {},
   "outputs": [
    {
     "data": {
      "text/plain": [
       "2      2693\n",
       "5       677\n",
       "4       503\n",
       "3       448\n",
       "NaN      96\n",
       "1        63\n",
       "Name: variable_check, dtype: int64"
      ]
     },
     "execution_count": 34,
     "metadata": {},
     "output_type": "execute_result"
    }
   ],
   "source": [
    "results_df4[(results_df4['results_flag'] == '3')]['variable_check'].value_counts(dropna = False)"
   ]
  },
  {
   "cell_type": "markdown",
   "id": "expired-experience",
   "metadata": {},
   "source": [
    "#### Statistically Valid Metros Race and Ethnicity Breakdown:\n",
    "- 2: Not statistically significant -- 295 records\n",
    "- 5: Statistically significant disparity -- 166 records\n",
    "- 3: Not enough applications -- 25 records\n",
    "- 4: Small disparities –– 23 records\n",
    "- 1: Missing p-values -- 3 records"
   ]
  },
  {
   "cell_type": "code",
   "execution_count": 35,
   "id": "regional-internet",
   "metadata": {},
   "outputs": [
    {
     "data": {
      "text/plain": [
       "2    295\n",
       "5    166\n",
       "3     25\n",
       "4     23\n",
       "1      3\n",
       "Name: variable_check, dtype: int64"
      ]
     },
     "execution_count": 35,
     "metadata": {},
     "output_type": "execute_result"
    }
   ],
   "source": [
    "races = ['black', 'latino', 'asian_cb', 'native']\n",
    "\n",
    "results_df5 = results_df4[(results_df4['results_flag'] == '3') & (results_df4['variable_name'].isin(races))]\n",
    "\n",
    "results_df5['variable_check'].value_counts(dropna = False)"
   ]
  },
  {
   "cell_type": "code",
   "execution_count": 36,
   "id": "hourly-lesson",
   "metadata": {},
   "outputs": [
    {
     "data": {
      "text/plain": [
       "128"
      ]
     },
     "execution_count": 36,
     "metadata": {},
     "output_type": "execute_result"
    }
   ],
   "source": [
    "results_df5['metro_code'].nunique()"
   ]
  },
  {
   "cell_type": "markdown",
   "id": "three-chinese",
   "metadata": {},
   "source": [
    "#### Breakdown of 128 Metros"
   ]
  },
  {
   "cell_type": "code",
   "execution_count": 37,
   "id": "eight-yellow",
   "metadata": {},
   "outputs": [],
   "source": [
    "metro_results = pd.DataFrame(results_df5.groupby(by = ['metro_code', 'variable_check']).size()).reset_index().\\\n",
    "                rename(columns = {0: 'count'})"
   ]
  },
  {
   "cell_type": "markdown",
   "id": "continental-johns",
   "metadata": {},
   "source": [
    "#### Number of metros with no reliable results:"
   ]
  },
  {
   "cell_type": "code",
   "execution_count": 38,
   "id": "developing-expense",
   "metadata": {},
   "outputs": [],
   "source": [
    "reliable_metros_df = metro_results[(metro_results['variable_check'] == '5') |\\\n",
    "                                   (metro_results['variable_check'] == '4')]\n",
    "\n",
    "reliable_metros = reliable_metros_df['metro_code'].unique()"
   ]
  },
  {
   "cell_type": "markdown",
   "id": "above-promotion",
   "metadata": {},
   "source": [
    "#### Number of metros where all racial and ethnic variables are not statistically significant\n",
    "- 21 metros"
   ]
  },
  {
   "cell_type": "code",
   "execution_count": 39,
   "id": "civilian-pittsburgh",
   "metadata": {},
   "outputs": [
    {
     "name": "stdout",
     "output_type": "stream",
     "text": [
      "21\n"
     ]
    },
    {
     "data": {
      "text/plain": [
       "array(['2'], dtype=object)"
      ]
     },
     "execution_count": 39,
     "metadata": {},
     "output_type": "execute_result"
    }
   ],
   "source": [
    "print(metro_results[~(metro_results['metro_code'].isin(reliable_metros)) & \\\n",
    "                     (metro_results['count'] == 4)]['metro_code'].nunique())\n",
    "\n",
    "metro_results[~(metro_results['metro_code'].isin(reliable_metros)) & \\\n",
    "               (metro_results['count'] == 4)]['variable_check'].unique()"
   ]
  },
  {
   "cell_type": "markdown",
   "id": "fewer-shirt",
   "metadata": {},
   "source": [
    "#### Number of metros where all racial and ethnic variables are not reliable\n",
    "- 16 metros\n",
    "- Because not statistically significant, not enough applications, or missing a p-value"
   ]
  },
  {
   "cell_type": "code",
   "execution_count": 40,
   "id": "cross-anchor",
   "metadata": {},
   "outputs": [
    {
     "name": "stdout",
     "output_type": "stream",
     "text": [
      "16\n"
     ]
    },
    {
     "data": {
      "text/plain": [
       "array(['2', '3', '1'], dtype=object)"
      ]
     },
     "execution_count": 40,
     "metadata": {},
     "output_type": "execute_result"
    }
   ],
   "source": [
    "print(metro_results[~(metro_results['metro_code'].isin(reliable_metros)) & \\\n",
    "                     (metro_results['count'] < 4)]['metro_code'].nunique())\n",
    "\n",
    "metro_results[~(metro_results['metro_code'].isin(reliable_metros)) & \\\n",
    "               (metro_results['count'] < 4)]['variable_check'].unique()"
   ]
  },
  {
   "cell_type": "markdown",
   "id": "little-sailing",
   "metadata": {},
   "source": [
    "#### Number of metros with valid results\n",
    "- 91 metros"
   ]
  },
  {
   "cell_type": "code",
   "execution_count": 41,
   "id": "pressed-vehicle",
   "metadata": {},
   "outputs": [
    {
     "data": {
      "text/plain": [
       "91"
      ]
     },
     "execution_count": 41,
     "metadata": {},
     "output_type": "execute_result"
    }
   ],
   "source": [
    "valid_results_df = metro_results[(metro_results['variable_check'] == '5') |\\\n",
    "                              (metro_results['variable_check'] == '4')]\n",
    "\n",
    "valid_results_df['metro_code'].nunique()"
   ]
  },
  {
   "cell_type": "markdown",
   "id": "exotic-final",
   "metadata": {},
   "source": [
    "#### Metros with at least one disparity:\n",
    "- 89 metros"
   ]
  },
  {
   "cell_type": "code",
   "execution_count": 42,
   "id": "exterior-banking",
   "metadata": {},
   "outputs": [
    {
     "data": {
      "text/plain": [
       "89"
      ]
     },
     "execution_count": 42,
     "metadata": {},
     "output_type": "execute_result"
    }
   ],
   "source": [
    "valid_results_df[(valid_results_df['variable_check'] == '5')]['metro_code'].nunique()"
   ]
  },
  {
   "cell_type": "markdown",
   "id": "respiratory-spending",
   "metadata": {},
   "source": [
    "#### Metros where the only valid result is a small disparity\n",
    "- 2 metros"
   ]
  },
  {
   "cell_type": "code",
   "execution_count": 43,
   "id": "specific-reproduction",
   "metadata": {},
   "outputs": [
    {
     "data": {
      "text/plain": [
       "2"
      ]
     },
     "execution_count": 43,
     "metadata": {},
     "output_type": "execute_result"
    }
   ],
   "source": [
    "disparity_metro = valid_results_df[(valid_results_df['variable_check'] == '5')]['metro_code'].unique()\n",
    "\n",
    "valid_results_df[~(valid_results_df['metro_code'].isin(disparity_metro))]['metro_code'].nunique()"
   ]
  },
  {
   "cell_type": "markdown",
   "id": "adult-thread",
   "metadata": {},
   "source": [
    "### 11. Places with small disparities"
   ]
  },
  {
   "cell_type": "code",
   "execution_count": 44,
   "id": "wireless-engine",
   "metadata": {},
   "outputs": [
    {
     "name": "stdout",
     "output_type": "stream",
     "text": [
      "18\n"
     ]
    },
    {
     "data": {
      "text/plain": [
       "New York-Jersey City-White Plains, NY-NJ     2\n",
       "Phoenix-Mesa-Chandler, AZ                    2\n",
       "Houston-The Woodlands-Sugar Land, TX         2\n",
       "Orlando-Kissimmee-Sanford, FL                2\n",
       "Las Vegas-Henderson-Paradise, NV             2\n",
       "San Diego-Chula Vista-Carlsbad, CA           1\n",
       "Seattle-Bellevue-Kent, WA                    1\n",
       "Tampa-St. Petersburg-Clearwater, FL          1\n",
       "Austin-Round Rock-Georgetown, TX             1\n",
       "Nassau County-Suffolk County, NY             1\n",
       "Newark, NJ-PA                                1\n",
       "Chicago-Naperville-Evanston, IL              1\n",
       "Kansas City, MO-KS                           1\n",
       "Fort Lauderdale-Pompano Beach-Sunrise, FL    1\n",
       "Los Angeles-Long Beach-Glendale, CA          1\n",
       "Portland-Vancouver-Hillsboro, OR-WA          1\n",
       "New Brunswick-Lakewood, NJ                   1\n",
       "Charlotte-Concord-Gastonia, NC-SC            1\n",
       "Name: metro_name, dtype: int64"
      ]
     },
     "execution_count": 44,
     "metadata": {},
     "output_type": "execute_result"
    }
   ],
   "source": [
    "print(results_df5[(results_df5['variable_check'] == '4')]['metro_name'].nunique())\n",
    "\n",
    "results_df5[(results_df5['variable_check'] == '4')]['metro_name'].value_counts(dropna = False)"
   ]
  },
  {
   "cell_type": "markdown",
   "id": "illegal-little",
   "metadata": {},
   "source": [
    "#### Places where the only reliable results are small disparities"
   ]
  },
  {
   "cell_type": "code",
   "execution_count": 45,
   "id": "solar-start",
   "metadata": {},
   "outputs": [
    {
     "data": {
      "text/html": [
       "<div>\n",
       "<style scoped>\n",
       "    .dataframe tbody tr th:only-of-type {\n",
       "        vertical-align: middle;\n",
       "    }\n",
       "\n",
       "    .dataframe tbody tr th {\n",
       "        vertical-align: top;\n",
       "    }\n",
       "\n",
       "    .dataframe thead th {\n",
       "        text-align: right;\n",
       "    }\n",
       "</style>\n",
       "<table border=\"1\" class=\"dataframe\">\n",
       "  <thead>\n",
       "    <tr style=\"text-align: right;\">\n",
       "      <th></th>\n",
       "      <th>metro_name</th>\n",
       "      <th>variable_name</th>\n",
       "      <th>p_value</th>\n",
       "      <th>odds_ratio</th>\n",
       "      <th>variable_check</th>\n",
       "    </tr>\n",
       "  </thead>\n",
       "  <tbody>\n",
       "    <tr>\n",
       "      <th>524</th>\n",
       "      <td>Fort Lauderdale-Pompano Beach-Sunrise, FL</td>\n",
       "      <td>black</td>\n",
       "      <td>0.000018</td>\n",
       "      <td>1.433741</td>\n",
       "      <td>4</td>\n",
       "    </tr>\n",
       "    <tr>\n",
       "      <th>5306</th>\n",
       "      <td>Las Vegas-Henderson-Paradise, NV</td>\n",
       "      <td>black</td>\n",
       "      <td>0.002907</td>\n",
       "      <td>1.415229</td>\n",
       "      <td>4</td>\n",
       "    </tr>\n",
       "    <tr>\n",
       "      <th>5309</th>\n",
       "      <td>Las Vegas-Henderson-Paradise, NV</td>\n",
       "      <td>asian_cb</td>\n",
       "      <td>0.019246</td>\n",
       "      <td>1.217433</td>\n",
       "      <td>4</td>\n",
       "    </tr>\n",
       "  </tbody>\n",
       "</table>\n",
       "</div>"
      ],
      "text/plain": [
       "                                     metro_name variable_name   p_value  \\\n",
       "524   Fort Lauderdale-Pompano Beach-Sunrise, FL         black  0.000018   \n",
       "5306           Las Vegas-Henderson-Paradise, NV         black  0.002907   \n",
       "5309           Las Vegas-Henderson-Paradise, NV      asian_cb  0.019246   \n",
       "\n",
       "      odds_ratio variable_check  \n",
       "524     1.433741              4  \n",
       "5306    1.415229              4  \n",
       "5309    1.217433              4  "
      ]
     },
     "execution_count": 45,
     "metadata": {},
     "output_type": "execute_result"
    }
   ],
   "source": [
    "small_disparities = valid_results_df[~(valid_results_df['metro_code'].isin(disparity_metro))]['metro_code']\n",
    "\n",
    "results_df5[(results_df5['metro_code'].isin(small_disparities)) & (results_df5['variable_check'] == '4')]\\\n",
    "[['metro_name', 'variable_name', 'p_value', 'odds_ratio', 'variable_check']]"
   ]
  },
  {
   "cell_type": "markdown",
   "id": "rolled-management",
   "metadata": {},
   "source": [
    "#### Smallest disparities overall"
   ]
  },
  {
   "cell_type": "code",
   "execution_count": 46,
   "id": "therapeutic-restoration",
   "metadata": {},
   "outputs": [
    {
     "data": {
      "text/html": [
       "<div>\n",
       "<style scoped>\n",
       "    .dataframe tbody tr th:only-of-type {\n",
       "        vertical-align: middle;\n",
       "    }\n",
       "\n",
       "    .dataframe tbody tr th {\n",
       "        vertical-align: top;\n",
       "    }\n",
       "\n",
       "    .dataframe thead th {\n",
       "        text-align: right;\n",
       "    }\n",
       "</style>\n",
       "<table border=\"1\" class=\"dataframe\">\n",
       "  <thead>\n",
       "    <tr style=\"text-align: right;\">\n",
       "      <th></th>\n",
       "      <th>metro_name</th>\n",
       "      <th>variable_name</th>\n",
       "      <th>p_value</th>\n",
       "      <th>odds_ratio</th>\n",
       "      <th>variable_check</th>\n",
       "    </tr>\n",
       "  </thead>\n",
       "  <tbody>\n",
       "    <tr>\n",
       "      <th>2329</th>\n",
       "      <td>Los Angeles-Long Beach-Glendale, CA</td>\n",
       "      <td>latino</td>\n",
       "      <td>0.016634</td>\n",
       "      <td>1.153441</td>\n",
       "      <td>4</td>\n",
       "    </tr>\n",
       "    <tr>\n",
       "      <th>39</th>\n",
       "      <td>New York-Jersey City-White Plains, NY-NJ</td>\n",
       "      <td>asian_cb</td>\n",
       "      <td>0.000722</td>\n",
       "      <td>1.175773</td>\n",
       "      <td>4</td>\n",
       "    </tr>\n",
       "    <tr>\n",
       "      <th>353</th>\n",
       "      <td>Nassau County-Suffolk County, NY</td>\n",
       "      <td>asian_cb</td>\n",
       "      <td>0.047683</td>\n",
       "      <td>1.207980</td>\n",
       "      <td>4</td>\n",
       "    </tr>\n",
       "    <tr>\n",
       "      <th>5309</th>\n",
       "      <td>Las Vegas-Henderson-Paradise, NV</td>\n",
       "      <td>asian_cb</td>\n",
       "      <td>0.019246</td>\n",
       "      <td>1.217433</td>\n",
       "      <td>4</td>\n",
       "    </tr>\n",
       "    <tr>\n",
       "      <th>74</th>\n",
       "      <td>New Brunswick-Lakewood, NJ</td>\n",
       "      <td>asian_cb</td>\n",
       "      <td>0.020274</td>\n",
       "      <td>1.238206</td>\n",
       "      <td>4</td>\n",
       "    </tr>\n",
       "  </tbody>\n",
       "</table>\n",
       "</div>"
      ],
      "text/plain": [
       "                                    metro_name variable_name   p_value  \\\n",
       "2329       Los Angeles-Long Beach-Glendale, CA        latino  0.016634   \n",
       "39    New York-Jersey City-White Plains, NY-NJ      asian_cb  0.000722   \n",
       "353           Nassau County-Suffolk County, NY      asian_cb  0.047683   \n",
       "5309          Las Vegas-Henderson-Paradise, NV      asian_cb  0.019246   \n",
       "74                  New Brunswick-Lakewood, NJ      asian_cb  0.020274   \n",
       "\n",
       "      odds_ratio variable_check  \n",
       "2329    1.153441              4  \n",
       "39      1.175773              4  \n",
       "353     1.207980              4  \n",
       "5309    1.217433              4  \n",
       "74      1.238206              4  "
      ]
     },
     "execution_count": 46,
     "metadata": {},
     "output_type": "execute_result"
    }
   ],
   "source": [
    "results_df5[(results_df5['variable_check'] == '4')][['metro_name', 'variable_name', 'p_value', 'odds_ratio', \n",
    "                                                     'variable_check']].sort_values(by = ['odds_ratio']).head(5)"
   ]
  },
  {
   "cell_type": "markdown",
   "id": "straight-triple",
   "metadata": {},
   "source": [
    "#### Largest disparities overall"
   ]
  },
  {
   "cell_type": "code",
   "execution_count": 47,
   "id": "cooked-quick",
   "metadata": {},
   "outputs": [
    {
     "data": {
      "text/html": [
       "<div>\n",
       "<style scoped>\n",
       "    .dataframe tbody tr th:only-of-type {\n",
       "        vertical-align: middle;\n",
       "    }\n",
       "\n",
       "    .dataframe tbody tr th {\n",
       "        vertical-align: top;\n",
       "    }\n",
       "\n",
       "    .dataframe thead th {\n",
       "        text-align: right;\n",
       "    }\n",
       "</style>\n",
       "<table border=\"1\" class=\"dataframe\">\n",
       "  <thead>\n",
       "    <tr style=\"text-align: right;\">\n",
       "      <th></th>\n",
       "      <th>metro_name</th>\n",
       "      <th>variable_name</th>\n",
       "      <th>p_value</th>\n",
       "      <th>odds_ratio</th>\n",
       "      <th>variable_check</th>\n",
       "    </tr>\n",
       "  </thead>\n",
       "  <tbody>\n",
       "    <tr>\n",
       "      <th>12408</th>\n",
       "      <td>Waco, TX</td>\n",
       "      <td>latino</td>\n",
       "      <td>0.003080</td>\n",
       "      <td>3.291675</td>\n",
       "      <td>5</td>\n",
       "    </tr>\n",
       "    <tr>\n",
       "      <th>18922</th>\n",
       "      <td>Fayetteville-Springdale-Rogers, AR</td>\n",
       "      <td>black</td>\n",
       "      <td>0.007222</td>\n",
       "      <td>3.098998</td>\n",
       "      <td>5</td>\n",
       "    </tr>\n",
       "    <tr>\n",
       "      <th>4240</th>\n",
       "      <td>Port St. Lucie, FL</td>\n",
       "      <td>asian_cb</td>\n",
       "      <td>0.000520</td>\n",
       "      <td>3.086573</td>\n",
       "      <td>5</td>\n",
       "    </tr>\n",
       "    <tr>\n",
       "      <th>9397</th>\n",
       "      <td>Rockingham County-Strafford County, NH</td>\n",
       "      <td>asian_cb</td>\n",
       "      <td>0.000215</td>\n",
       "      <td>2.962371</td>\n",
       "      <td>5</td>\n",
       "    </tr>\n",
       "    <tr>\n",
       "      <th>11143</th>\n",
       "      <td>Dayton-Kettering, OH</td>\n",
       "      <td>black</td>\n",
       "      <td>0.000306</td>\n",
       "      <td>2.882675</td>\n",
       "      <td>5</td>\n",
       "    </tr>\n",
       "  </tbody>\n",
       "</table>\n",
       "</div>"
      ],
      "text/plain": [
       "                                   metro_name variable_name   p_value  \\\n",
       "12408                                Waco, TX        latino  0.003080   \n",
       "18922      Fayetteville-Springdale-Rogers, AR         black  0.007222   \n",
       "4240                       Port St. Lucie, FL      asian_cb  0.000520   \n",
       "9397   Rockingham County-Strafford County, NH      asian_cb  0.000215   \n",
       "11143                    Dayton-Kettering, OH         black  0.000306   \n",
       "\n",
       "       odds_ratio variable_check  \n",
       "12408    3.291675              5  \n",
       "18922    3.098998              5  \n",
       "4240     3.086573              5  \n",
       "9397     2.962371              5  \n",
       "11143    2.882675              5  "
      ]
     },
     "execution_count": 47,
     "metadata": {},
     "output_type": "execute_result"
    }
   ],
   "source": [
    "results_df5[(results_df5['variable_check'] == '5')][['metro_name', 'variable_name', 'p_value', 'odds_ratio', \n",
    "                                                     'variable_check']].sort_values(by = ['odds_ratio'],\n",
    "                                                                                   ascending = False).head(5)"
   ]
  },
  {
   "cell_type": "markdown",
   "id": "associate-explorer",
   "metadata": {},
   "source": [
    "### 12. Breakdown of metros with disparities\n",
    "#### Looking at 10 most populous metros"
   ]
  },
  {
   "cell_type": "code",
   "execution_count": 50,
   "id": "signal-picnic",
   "metadata": {},
   "outputs": [
    {
     "data": {
      "text/html": [
       "<div>\n",
       "<style scoped>\n",
       "    .dataframe tbody tr th:only-of-type {\n",
       "        vertical-align: middle;\n",
       "    }\n",
       "\n",
       "    .dataframe tbody tr th {\n",
       "        vertical-align: top;\n",
       "    }\n",
       "\n",
       "    .dataframe thead th {\n",
       "        text-align: right;\n",
       "    }\n",
       "</style>\n",
       "<table border=\"1\" class=\"dataframe\">\n",
       "  <thead>\n",
       "    <tr style=\"text-align: right;\">\n",
       "      <th></th>\n",
       "      <th>metro_code</th>\n",
       "      <th>metro_name</th>\n",
       "      <th>metro_type</th>\n",
       "      <th>metro_pop</th>\n",
       "    </tr>\n",
       "  </thead>\n",
       "  <tbody>\n",
       "    <tr>\n",
       "      <th>621</th>\n",
       "      <td>35614</td>\n",
       "      <td>New York-Jersey City-White Plains, NY-NJ</td>\n",
       "      <td>Metropolitan Division</td>\n",
       "      <td>11915488.0</td>\n",
       "    </tr>\n",
       "    <tr>\n",
       "      <th>508</th>\n",
       "      <td>31084</td>\n",
       "      <td>Los Angeles-Long Beach-Glendale, CA</td>\n",
       "      <td>Metropolitan Division</td>\n",
       "      <td>10081570.0</td>\n",
       "    </tr>\n",
       "    <tr>\n",
       "      <th>166</th>\n",
       "      <td>16984</td>\n",
       "      <td>Chicago-Naperville-Evanston, IL</td>\n",
       "      <td>Metropolitan Division</td>\n",
       "      <td>7175030.0</td>\n",
       "    </tr>\n",
       "    <tr>\n",
       "      <th>396</th>\n",
       "      <td>26420</td>\n",
       "      <td>Houston-The Woodlands-Sugar Land, TX</td>\n",
       "      <td>Metropolitan Statistical Area</td>\n",
       "      <td>6884138.0</td>\n",
       "    </tr>\n",
       "    <tr>\n",
       "      <th>48</th>\n",
       "      <td>12060</td>\n",
       "      <td>Atlanta-Sandy Springs-Alpharetta, GA</td>\n",
       "      <td>Metropolitan Statistical Area</td>\n",
       "      <td>5862424.0</td>\n",
       "    </tr>\n",
       "    <tr>\n",
       "      <th>215</th>\n",
       "      <td>19124</td>\n",
       "      <td>Dallas-Plano-Irving, TX</td>\n",
       "      <td>Metropolitan Division</td>\n",
       "      <td>4903580.0</td>\n",
       "    </tr>\n",
       "    <tr>\n",
       "      <th>914</th>\n",
       "      <td>47894</td>\n",
       "      <td>Washington-Arlington-Alexandria, DC-VA-MD-WV</td>\n",
       "      <td>Metropolitan Division</td>\n",
       "      <td>4901633.0</td>\n",
       "    </tr>\n",
       "    <tr>\n",
       "      <th>680</th>\n",
       "      <td>38060</td>\n",
       "      <td>Phoenix-Mesa-Chandler, AZ</td>\n",
       "      <td>Metropolitan Statistical Area</td>\n",
       "      <td>4761603.0</td>\n",
       "    </tr>\n",
       "    <tr>\n",
       "      <th>730</th>\n",
       "      <td>40140</td>\n",
       "      <td>Riverside-San Bernardino-Ontario, CA</td>\n",
       "      <td>Metropolitan Statistical Area</td>\n",
       "      <td>4560470.0</td>\n",
       "    </tr>\n",
       "    <tr>\n",
       "      <th>567</th>\n",
       "      <td>33460</td>\n",
       "      <td>Minneapolis-St. Paul-Bloomington, MN-WI</td>\n",
       "      <td>Metropolitan Statistical Area</td>\n",
       "      <td>3573609.0</td>\n",
       "    </tr>\n",
       "  </tbody>\n",
       "</table>\n",
       "</div>"
      ],
      "text/plain": [
       "    metro_code                                    metro_name  \\\n",
       "621      35614      New York-Jersey City-White Plains, NY-NJ   \n",
       "508      31084           Los Angeles-Long Beach-Glendale, CA   \n",
       "166      16984               Chicago-Naperville-Evanston, IL   \n",
       "396      26420          Houston-The Woodlands-Sugar Land, TX   \n",
       "48       12060          Atlanta-Sandy Springs-Alpharetta, GA   \n",
       "215      19124                       Dallas-Plano-Irving, TX   \n",
       "914      47894  Washington-Arlington-Alexandria, DC-VA-MD-WV   \n",
       "680      38060                     Phoenix-Mesa-Chandler, AZ   \n",
       "730      40140          Riverside-San Bernardino-Ontario, CA   \n",
       "567      33460       Minneapolis-St. Paul-Bloomington, MN-WI   \n",
       "\n",
       "                        metro_type   metro_pop  \n",
       "621          Metropolitan Division  11915488.0  \n",
       "508          Metropolitan Division  10081570.0  \n",
       "166          Metropolitan Division   7175030.0  \n",
       "396  Metropolitan Statistical Area   6884138.0  \n",
       "48   Metropolitan Statistical Area   5862424.0  \n",
       "215          Metropolitan Division   4903580.0  \n",
       "914          Metropolitan Division   4901633.0  \n",
       "680  Metropolitan Statistical Area   4761603.0  \n",
       "730  Metropolitan Statistical Area   4560470.0  \n",
       "567  Metropolitan Statistical Area   3573609.0  "
      ]
     },
     "execution_count": 50,
     "metadata": {},
     "output_type": "execute_result"
    }
   ],
   "source": [
    "top10_metros = metros_df2.sort_values(by = ['metro_pop'], ascending = False).head(10)\n",
    "top10_metros"
   ]
  },
  {
   "cell_type": "markdown",
   "id": "coupled-territory",
   "metadata": {},
   "source": [
    "#### Of the largest metros, Chicago has the worst disparity for Black applicants. Lenders are 2.5 times more likely to deny Black applicants than similarly qualified White applicants. "
   ]
  },
  {
   "cell_type": "code",
   "execution_count": 51,
   "id": "seventh-synthesis",
   "metadata": {},
   "outputs": [
    {
     "data": {
      "text/html": [
       "<div>\n",
       "<style scoped>\n",
       "    .dataframe tbody tr th:only-of-type {\n",
       "        vertical-align: middle;\n",
       "    }\n",
       "\n",
       "    .dataframe tbody tr th {\n",
       "        vertical-align: top;\n",
       "    }\n",
       "\n",
       "    .dataframe thead th {\n",
       "        text-align: right;\n",
       "    }\n",
       "</style>\n",
       "<table border=\"1\" class=\"dataframe\">\n",
       "  <thead>\n",
       "    <tr style=\"text-align: right;\">\n",
       "      <th></th>\n",
       "      <th>metro_code</th>\n",
       "      <th>metro_name</th>\n",
       "      <th>metro_pop</th>\n",
       "      <th>psuedo_rsquare</th>\n",
       "      <th>variable_name</th>\n",
       "      <th>p_value</th>\n",
       "      <th>odds_ratio</th>\n",
       "    </tr>\n",
       "  </thead>\n",
       "  <tbody>\n",
       "    <tr>\n",
       "      <th>36</th>\n",
       "      <td>35614</td>\n",
       "      <td>New York-Jersey City-White Plains, NY-NJ</td>\n",
       "      <td>11915488.0</td>\n",
       "      <td>0.212318</td>\n",
       "      <td>black</td>\n",
       "      <td>1.540452e-10</td>\n",
       "      <td>1.580497</td>\n",
       "    </tr>\n",
       "    <tr>\n",
       "      <th>2328</th>\n",
       "      <td>31084</td>\n",
       "      <td>Los Angeles-Long Beach-Glendale, CA</td>\n",
       "      <td>10081570.0</td>\n",
       "      <td>0.211224</td>\n",
       "      <td>black</td>\n",
       "      <td>4.564155e-09</td>\n",
       "      <td>1.755397</td>\n",
       "    </tr>\n",
       "    <tr>\n",
       "      <th>2467</th>\n",
       "      <td>16984</td>\n",
       "      <td>Chicago-Naperville-Evanston, IL</td>\n",
       "      <td>7175030.0</td>\n",
       "      <td>0.225103</td>\n",
       "      <td>black</td>\n",
       "      <td>8.646620e-37</td>\n",
       "      <td>2.483044</td>\n",
       "    </tr>\n",
       "    <tr>\n",
       "      <th>2468</th>\n",
       "      <td>16984</td>\n",
       "      <td>Chicago-Naperville-Evanston, IL</td>\n",
       "      <td>7175030.0</td>\n",
       "      <td>0.225103</td>\n",
       "      <td>latino</td>\n",
       "      <td>1.587004e-16</td>\n",
       "      <td>1.591326</td>\n",
       "    </tr>\n",
       "    <tr>\n",
       "      <th>2119</th>\n",
       "      <td>26420</td>\n",
       "      <td>Houston-The Woodlands-Sugar Land, TX</td>\n",
       "      <td>6884138.0</td>\n",
       "      <td>0.224035</td>\n",
       "      <td>black</td>\n",
       "      <td>5.975492e-28</td>\n",
       "      <td>2.041829</td>\n",
       "    </tr>\n",
       "    <tr>\n",
       "      <th>3060</th>\n",
       "      <td>12060</td>\n",
       "      <td>Atlanta-Sandy Springs-Alpharetta, GA</td>\n",
       "      <td>5862424.0</td>\n",
       "      <td>0.247692</td>\n",
       "      <td>black</td>\n",
       "      <td>1.329923e-25</td>\n",
       "      <td>1.729919</td>\n",
       "    </tr>\n",
       "    <tr>\n",
       "      <th>2014</th>\n",
       "      <td>19124</td>\n",
       "      <td>Dallas-Plano-Irving, TX</td>\n",
       "      <td>4903580.0</td>\n",
       "      <td>0.273443</td>\n",
       "      <td>black</td>\n",
       "      <td>2.003999e-19</td>\n",
       "      <td>2.101777</td>\n",
       "    </tr>\n",
       "    <tr>\n",
       "      <th>2017</th>\n",
       "      <td>19124</td>\n",
       "      <td>Dallas-Plano-Irving, TX</td>\n",
       "      <td>4903580.0</td>\n",
       "      <td>0.273443</td>\n",
       "      <td>asian_cb</td>\n",
       "      <td>1.972840e-16</td>\n",
       "      <td>1.729214</td>\n",
       "    </tr>\n",
       "    <tr>\n",
       "      <th>385</th>\n",
       "      <td>47894</td>\n",
       "      <td>Washington-Arlington-Alexandria, DC-VA-MD-WV</td>\n",
       "      <td>4901633.0</td>\n",
       "      <td>0.249535</td>\n",
       "      <td>black</td>\n",
       "      <td>1.402257e-19</td>\n",
       "      <td>2.073654</td>\n",
       "    </tr>\n",
       "    <tr>\n",
       "      <th>388</th>\n",
       "      <td>47894</td>\n",
       "      <td>Washington-Arlington-Alexandria, DC-VA-MD-WV</td>\n",
       "      <td>4901633.0</td>\n",
       "      <td>0.249535</td>\n",
       "      <td>asian_cb</td>\n",
       "      <td>2.640166e-23</td>\n",
       "      <td>2.028950</td>\n",
       "    </tr>\n",
       "    <tr>\n",
       "      <th>386</th>\n",
       "      <td>47894</td>\n",
       "      <td>Washington-Arlington-Alexandria, DC-VA-MD-WV</td>\n",
       "      <td>4901633.0</td>\n",
       "      <td>0.249535</td>\n",
       "      <td>latino</td>\n",
       "      <td>2.569957e-10</td>\n",
       "      <td>1.709092</td>\n",
       "    </tr>\n",
       "    <tr>\n",
       "      <th>4028</th>\n",
       "      <td>38060</td>\n",
       "      <td>Phoenix-Mesa-Chandler, AZ</td>\n",
       "      <td>4761603.0</td>\n",
       "      <td>0.202911</td>\n",
       "      <td>black</td>\n",
       "      <td>4.720054e-10</td>\n",
       "      <td>1.890507</td>\n",
       "    </tr>\n",
       "    <tr>\n",
       "      <th>2850</th>\n",
       "      <td>40140</td>\n",
       "      <td>Riverside-San Bernardino-Ontario, CA</td>\n",
       "      <td>4560470.0</td>\n",
       "      <td>0.210756</td>\n",
       "      <td>black</td>\n",
       "      <td>2.474990e-05</td>\n",
       "      <td>1.628171</td>\n",
       "    </tr>\n",
       "    <tr>\n",
       "      <th>3475</th>\n",
       "      <td>33460</td>\n",
       "      <td>Minneapolis-St. Paul-Bloomington, MN-WI</td>\n",
       "      <td>3573609.0</td>\n",
       "      <td>0.266631</td>\n",
       "      <td>black</td>\n",
       "      <td>8.538529e-11</td>\n",
       "      <td>2.154326</td>\n",
       "    </tr>\n",
       "    <tr>\n",
       "      <th>3477</th>\n",
       "      <td>33460</td>\n",
       "      <td>Minneapolis-St. Paul-Bloomington, MN-WI</td>\n",
       "      <td>3573609.0</td>\n",
       "      <td>0.266631</td>\n",
       "      <td>native</td>\n",
       "      <td>3.944893e-02</td>\n",
       "      <td>2.067026</td>\n",
       "    </tr>\n",
       "    <tr>\n",
       "      <th>3478</th>\n",
       "      <td>33460</td>\n",
       "      <td>Minneapolis-St. Paul-Bloomington, MN-WI</td>\n",
       "      <td>3573609.0</td>\n",
       "      <td>0.266631</td>\n",
       "      <td>asian_cb</td>\n",
       "      <td>2.307718e-08</td>\n",
       "      <td>1.749404</td>\n",
       "    </tr>\n",
       "    <tr>\n",
       "      <th>3476</th>\n",
       "      <td>33460</td>\n",
       "      <td>Minneapolis-St. Paul-Bloomington, MN-WI</td>\n",
       "      <td>3573609.0</td>\n",
       "      <td>0.266631</td>\n",
       "      <td>latino</td>\n",
       "      <td>6.427513e-03</td>\n",
       "      <td>1.469225</td>\n",
       "    </tr>\n",
       "  </tbody>\n",
       "</table>\n",
       "</div>"
      ],
      "text/plain": [
       "     metro_code                                    metro_name   metro_pop  \\\n",
       "36        35614      New York-Jersey City-White Plains, NY-NJ  11915488.0   \n",
       "2328      31084           Los Angeles-Long Beach-Glendale, CA  10081570.0   \n",
       "2467      16984               Chicago-Naperville-Evanston, IL   7175030.0   \n",
       "2468      16984               Chicago-Naperville-Evanston, IL   7175030.0   \n",
       "2119      26420          Houston-The Woodlands-Sugar Land, TX   6884138.0   \n",
       "3060      12060          Atlanta-Sandy Springs-Alpharetta, GA   5862424.0   \n",
       "2014      19124                       Dallas-Plano-Irving, TX   4903580.0   \n",
       "2017      19124                       Dallas-Plano-Irving, TX   4903580.0   \n",
       "385       47894  Washington-Arlington-Alexandria, DC-VA-MD-WV   4901633.0   \n",
       "388       47894  Washington-Arlington-Alexandria, DC-VA-MD-WV   4901633.0   \n",
       "386       47894  Washington-Arlington-Alexandria, DC-VA-MD-WV   4901633.0   \n",
       "4028      38060                     Phoenix-Mesa-Chandler, AZ   4761603.0   \n",
       "2850      40140          Riverside-San Bernardino-Ontario, CA   4560470.0   \n",
       "3475      33460       Minneapolis-St. Paul-Bloomington, MN-WI   3573609.0   \n",
       "3477      33460       Minneapolis-St. Paul-Bloomington, MN-WI   3573609.0   \n",
       "3478      33460       Minneapolis-St. Paul-Bloomington, MN-WI   3573609.0   \n",
       "3476      33460       Minneapolis-St. Paul-Bloomington, MN-WI   3573609.0   \n",
       "\n",
       "      psuedo_rsquare variable_name       p_value  odds_ratio  \n",
       "36          0.212318         black  1.540452e-10    1.580497  \n",
       "2328        0.211224         black  4.564155e-09    1.755397  \n",
       "2467        0.225103         black  8.646620e-37    2.483044  \n",
       "2468        0.225103        latino  1.587004e-16    1.591326  \n",
       "2119        0.224035         black  5.975492e-28    2.041829  \n",
       "3060        0.247692         black  1.329923e-25    1.729919  \n",
       "2014        0.273443         black  2.003999e-19    2.101777  \n",
       "2017        0.273443      asian_cb  1.972840e-16    1.729214  \n",
       "385         0.249535         black  1.402257e-19    2.073654  \n",
       "388         0.249535      asian_cb  2.640166e-23    2.028950  \n",
       "386         0.249535        latino  2.569957e-10    1.709092  \n",
       "4028        0.202911         black  4.720054e-10    1.890507  \n",
       "2850        0.210756         black  2.474990e-05    1.628171  \n",
       "3475        0.266631         black  8.538529e-11    2.154326  \n",
       "3477        0.266631        native  3.944893e-02    2.067026  \n",
       "3478        0.266631      asian_cb  2.307718e-08    1.749404  \n",
       "3476        0.266631        latino  6.427513e-03    1.469225  "
      ]
     },
     "execution_count": 51,
     "metadata": {},
     "output_type": "execute_result"
    }
   ],
   "source": [
    "results_df5[(results_df5['metro_code'].isin(top10_metros['metro_code'])) & \\\n",
    "            (results_df5['variable_check'] == '5')]\\\n",
    "[['metro_code', 'metro_name', 'metro_pop', 'psuedo_rsquare', 'variable_name', 'p_value', 'odds_ratio']].\\\n",
    "sort_values(by = ['metro_pop', 'odds_ratio'], ascending = False)"
   ]
  },
  {
   "cell_type": "markdown",
   "id": "annoying-macedonia",
   "metadata": {},
   "source": [
    "#### Minneapolis is the only metro where all four race and ethnicites are more likely to be denied. "
   ]
  },
  {
   "cell_type": "code",
   "execution_count": 52,
   "id": "rotary-special",
   "metadata": {},
   "outputs": [
    {
     "data": {
      "text/plain": [
       "Minneapolis-St. Paul-Bloomington, MN-WI    4\n",
       "Birmingham-Hoover, AL                      3\n",
       "Indianapolis-Carmel-Anderson, IN           3\n",
       "Cincinnati, OH-KY-IN                       3\n",
       "Durham-Chapel Hill, NC                     3\n",
       "Name: metro_name, dtype: int64"
      ]
     },
     "execution_count": 52,
     "metadata": {},
     "output_type": "execute_result"
    }
   ],
   "source": [
    "results_df5[(results_df5['variable_check'] == '5')]['metro_name'].value_counts(dropna = False).head(5)"
   ]
  },
  {
   "cell_type": "markdown",
   "id": "meaning-button",
   "metadata": {},
   "source": [
    "#### Key Metros\n",
    "#### Chicago Results"
   ]
  },
  {
   "cell_type": "code",
   "execution_count": 53,
   "id": "classical-mambo",
   "metadata": {},
   "outputs": [
    {
     "data": {
      "text/html": [
       "<div>\n",
       "<style scoped>\n",
       "    .dataframe tbody tr th:only-of-type {\n",
       "        vertical-align: middle;\n",
       "    }\n",
       "\n",
       "    .dataframe tbody tr th {\n",
       "        vertical-align: top;\n",
       "    }\n",
       "\n",
       "    .dataframe thead th {\n",
       "        text-align: right;\n",
       "    }\n",
       "</style>\n",
       "<table border=\"1\" class=\"dataframe\">\n",
       "  <thead>\n",
       "    <tr style=\"text-align: right;\">\n",
       "      <th></th>\n",
       "      <th>metro_code</th>\n",
       "      <th>metro_name</th>\n",
       "      <th>metro_pop</th>\n",
       "      <th>metro_apps</th>\n",
       "      <th>psuedo_rsquare</th>\n",
       "      <th>variable_name</th>\n",
       "      <th>p_value</th>\n",
       "      <th>odds_ratio</th>\n",
       "    </tr>\n",
       "  </thead>\n",
       "  <tbody>\n",
       "    <tr>\n",
       "      <th>2467</th>\n",
       "      <td>16984</td>\n",
       "      <td>Chicago-Naperville-Evanston, IL</td>\n",
       "      <td>7175030.0</td>\n",
       "      <td>57155</td>\n",
       "      <td>0.225103</td>\n",
       "      <td>black</td>\n",
       "      <td>8.646620e-37</td>\n",
       "      <td>2.483044</td>\n",
       "    </tr>\n",
       "    <tr>\n",
       "      <th>2468</th>\n",
       "      <td>16984</td>\n",
       "      <td>Chicago-Naperville-Evanston, IL</td>\n",
       "      <td>7175030.0</td>\n",
       "      <td>57155</td>\n",
       "      <td>0.225103</td>\n",
       "      <td>latino</td>\n",
       "      <td>1.587004e-16</td>\n",
       "      <td>1.591326</td>\n",
       "    </tr>\n",
       "    <tr>\n",
       "      <th>2469</th>\n",
       "      <td>16984</td>\n",
       "      <td>Chicago-Naperville-Evanston, IL</td>\n",
       "      <td>7175030.0</td>\n",
       "      <td>57155</td>\n",
       "      <td>0.225103</td>\n",
       "      <td>native</td>\n",
       "      <td>3.414332e-01</td>\n",
       "      <td>1.547534</td>\n",
       "    </tr>\n",
       "    <tr>\n",
       "      <th>2470</th>\n",
       "      <td>16984</td>\n",
       "      <td>Chicago-Naperville-Evanston, IL</td>\n",
       "      <td>7175030.0</td>\n",
       "      <td>57155</td>\n",
       "      <td>0.225103</td>\n",
       "      <td>asian_cb</td>\n",
       "      <td>2.562963e-07</td>\n",
       "      <td>1.388372</td>\n",
       "    </tr>\n",
       "  </tbody>\n",
       "</table>\n",
       "</div>"
      ],
      "text/plain": [
       "     metro_code                       metro_name  metro_pop  metro_apps  \\\n",
       "2467      16984  Chicago-Naperville-Evanston, IL  7175030.0       57155   \n",
       "2468      16984  Chicago-Naperville-Evanston, IL  7175030.0       57155   \n",
       "2469      16984  Chicago-Naperville-Evanston, IL  7175030.0       57155   \n",
       "2470      16984  Chicago-Naperville-Evanston, IL  7175030.0       57155   \n",
       "\n",
       "      psuedo_rsquare variable_name       p_value  odds_ratio  \n",
       "2467        0.225103         black  8.646620e-37    2.483044  \n",
       "2468        0.225103        latino  1.587004e-16    1.591326  \n",
       "2469        0.225103        native  3.414332e-01    1.547534  \n",
       "2470        0.225103      asian_cb  2.562963e-07    1.388372  "
      ]
     },
     "execution_count": 53,
     "metadata": {},
     "output_type": "execute_result"
    }
   ],
   "source": [
    "results_df5[(results_df5['metro_code'] == '16984')][['metro_code', 'metro_name', 'metro_pop', 'metro_apps',\n",
    "            'psuedo_rsquare', 'variable_name', 'p_value', 'odds_ratio']]"
   ]
  },
  {
   "cell_type": "markdown",
   "id": "eight-opera",
   "metadata": {},
   "source": [
    "#### Minneapolis Results"
   ]
  },
  {
   "cell_type": "code",
   "execution_count": 55,
   "id": "reliable-sound",
   "metadata": {},
   "outputs": [
    {
     "data": {
      "text/html": [
       "<div>\n",
       "<style scoped>\n",
       "    .dataframe tbody tr th:only-of-type {\n",
       "        vertical-align: middle;\n",
       "    }\n",
       "\n",
       "    .dataframe tbody tr th {\n",
       "        vertical-align: top;\n",
       "    }\n",
       "\n",
       "    .dataframe thead th {\n",
       "        text-align: right;\n",
       "    }\n",
       "</style>\n",
       "<table border=\"1\" class=\"dataframe\">\n",
       "  <thead>\n",
       "    <tr style=\"text-align: right;\">\n",
       "      <th></th>\n",
       "      <th>metro_code</th>\n",
       "      <th>metro_name</th>\n",
       "      <th>metro_pop</th>\n",
       "      <th>metro_apps</th>\n",
       "      <th>psuedo_rsquare</th>\n",
       "      <th>variable_name</th>\n",
       "      <th>p_value</th>\n",
       "      <th>odds_ratio</th>\n",
       "    </tr>\n",
       "  </thead>\n",
       "  <tbody>\n",
       "    <tr>\n",
       "      <th>3475</th>\n",
       "      <td>33460</td>\n",
       "      <td>Minneapolis-St. Paul-Bloomington, MN-WI</td>\n",
       "      <td>3573609.0</td>\n",
       "      <td>42162</td>\n",
       "      <td>0.266631</td>\n",
       "      <td>black</td>\n",
       "      <td>8.538529e-11</td>\n",
       "      <td>2.154326</td>\n",
       "    </tr>\n",
       "    <tr>\n",
       "      <th>3476</th>\n",
       "      <td>33460</td>\n",
       "      <td>Minneapolis-St. Paul-Bloomington, MN-WI</td>\n",
       "      <td>3573609.0</td>\n",
       "      <td>42162</td>\n",
       "      <td>0.266631</td>\n",
       "      <td>latino</td>\n",
       "      <td>6.427513e-03</td>\n",
       "      <td>1.469225</td>\n",
       "    </tr>\n",
       "    <tr>\n",
       "      <th>3477</th>\n",
       "      <td>33460</td>\n",
       "      <td>Minneapolis-St. Paul-Bloomington, MN-WI</td>\n",
       "      <td>3573609.0</td>\n",
       "      <td>42162</td>\n",
       "      <td>0.266631</td>\n",
       "      <td>native</td>\n",
       "      <td>3.944893e-02</td>\n",
       "      <td>2.067026</td>\n",
       "    </tr>\n",
       "    <tr>\n",
       "      <th>3478</th>\n",
       "      <td>33460</td>\n",
       "      <td>Minneapolis-St. Paul-Bloomington, MN-WI</td>\n",
       "      <td>3573609.0</td>\n",
       "      <td>42162</td>\n",
       "      <td>0.266631</td>\n",
       "      <td>asian_cb</td>\n",
       "      <td>2.307718e-08</td>\n",
       "      <td>1.749404</td>\n",
       "    </tr>\n",
       "  </tbody>\n",
       "</table>\n",
       "</div>"
      ],
      "text/plain": [
       "     metro_code                               metro_name  metro_pop  \\\n",
       "3475      33460  Minneapolis-St. Paul-Bloomington, MN-WI  3573609.0   \n",
       "3476      33460  Minneapolis-St. Paul-Bloomington, MN-WI  3573609.0   \n",
       "3477      33460  Minneapolis-St. Paul-Bloomington, MN-WI  3573609.0   \n",
       "3478      33460  Minneapolis-St. Paul-Bloomington, MN-WI  3573609.0   \n",
       "\n",
       "      metro_apps  psuedo_rsquare variable_name       p_value  odds_ratio  \n",
       "3475       42162        0.266631         black  8.538529e-11    2.154326  \n",
       "3476       42162        0.266631        latino  6.427513e-03    1.469225  \n",
       "3477       42162        0.266631        native  3.944893e-02    2.067026  \n",
       "3478       42162        0.266631      asian_cb  2.307718e-08    1.749404  "
      ]
     },
     "execution_count": 55,
     "metadata": {},
     "output_type": "execute_result"
    }
   ],
   "source": [
    "results_df5[(results_df5['metro_code'] == '33460') & ((results_df5['variable_check'] == '4') |\\\n",
    "            (results_df5['variable_check'] == '5'))][['metro_code', 'metro_name', 'metro_pop', 'metro_apps',\n",
    "            'psuedo_rsquare', 'variable_name', 'p_value', 'odds_ratio']]"
   ]
  },
  {
   "cell_type": "markdown",
   "id": "urban-breakdown",
   "metadata": {},
   "source": [
    "#### Charolette Results"
   ]
  },
  {
   "cell_type": "code",
   "execution_count": 56,
   "id": "induced-difficulty",
   "metadata": {},
   "outputs": [
    {
     "data": {
      "text/html": [
       "<div>\n",
       "<style scoped>\n",
       "    .dataframe tbody tr th:only-of-type {\n",
       "        vertical-align: middle;\n",
       "    }\n",
       "\n",
       "    .dataframe tbody tr th {\n",
       "        vertical-align: top;\n",
       "    }\n",
       "\n",
       "    .dataframe thead th {\n",
       "        text-align: right;\n",
       "    }\n",
       "</style>\n",
       "<table border=\"1\" class=\"dataframe\">\n",
       "  <thead>\n",
       "    <tr style=\"text-align: right;\">\n",
       "      <th></th>\n",
       "      <th>metro_code</th>\n",
       "      <th>metro_name</th>\n",
       "      <th>metro_pop</th>\n",
       "      <th>psuedo_rsquare</th>\n",
       "      <th>variable_name</th>\n",
       "      <th>p_value</th>\n",
       "      <th>odds_ratio</th>\n",
       "    </tr>\n",
       "  </thead>\n",
       "  <tbody>\n",
       "    <tr>\n",
       "      <th>1736</th>\n",
       "      <td>16740</td>\n",
       "      <td>Charlotte-Concord-Gastonia, NC-SC</td>\n",
       "      <td>2545560.0</td>\n",
       "      <td>0.243282</td>\n",
       "      <td>black</td>\n",
       "      <td>1.752335e-06</td>\n",
       "      <td>1.543780</td>\n",
       "    </tr>\n",
       "    <tr>\n",
       "      <th>1737</th>\n",
       "      <td>16740</td>\n",
       "      <td>Charlotte-Concord-Gastonia, NC-SC</td>\n",
       "      <td>2545560.0</td>\n",
       "      <td>0.243282</td>\n",
       "      <td>latino</td>\n",
       "      <td>4.598104e-03</td>\n",
       "      <td>1.307147</td>\n",
       "    </tr>\n",
       "    <tr>\n",
       "      <th>1739</th>\n",
       "      <td>16740</td>\n",
       "      <td>Charlotte-Concord-Gastonia, NC-SC</td>\n",
       "      <td>2545560.0</td>\n",
       "      <td>0.243282</td>\n",
       "      <td>asian_cb</td>\n",
       "      <td>1.757505e-07</td>\n",
       "      <td>1.744474</td>\n",
       "    </tr>\n",
       "  </tbody>\n",
       "</table>\n",
       "</div>"
      ],
      "text/plain": [
       "     metro_code                         metro_name  metro_pop  psuedo_rsquare  \\\n",
       "1736      16740  Charlotte-Concord-Gastonia, NC-SC  2545560.0        0.243282   \n",
       "1737      16740  Charlotte-Concord-Gastonia, NC-SC  2545560.0        0.243282   \n",
       "1739      16740  Charlotte-Concord-Gastonia, NC-SC  2545560.0        0.243282   \n",
       "\n",
       "     variable_name       p_value  odds_ratio  \n",
       "1736         black  1.752335e-06    1.543780  \n",
       "1737        latino  4.598104e-03    1.307147  \n",
       "1739      asian_cb  1.757505e-07    1.744474  "
      ]
     },
     "execution_count": 56,
     "metadata": {},
     "output_type": "execute_result"
    }
   ],
   "source": [
    "results_df5[(results_df5['metro_code'] == '16740') & ((results_df5['variable_check'] == '4') |\\\n",
    "            (results_df5['variable_check'] == '5'))][['metro_code', 'metro_name', 'metro_pop', \n",
    "            'psuedo_rsquare', 'variable_name', 'p_value', 'odds_ratio']]"
   ]
  },
  {
   "cell_type": "markdown",
   "id": "persistent-ethernet",
   "metadata": {},
   "source": [
    "#### Largest disparites for Latinos"
   ]
  },
  {
   "cell_type": "code",
   "execution_count": 57,
   "id": "duplicate-virus",
   "metadata": {},
   "outputs": [
    {
     "data": {
      "text/html": [
       "<div>\n",
       "<style scoped>\n",
       "    .dataframe tbody tr th:only-of-type {\n",
       "        vertical-align: middle;\n",
       "    }\n",
       "\n",
       "    .dataframe tbody tr th {\n",
       "        vertical-align: top;\n",
       "    }\n",
       "\n",
       "    .dataframe thead th {\n",
       "        text-align: right;\n",
       "    }\n",
       "</style>\n",
       "<table border=\"1\" class=\"dataframe\">\n",
       "  <thead>\n",
       "    <tr style=\"text-align: right;\">\n",
       "      <th></th>\n",
       "      <th>metro_code</th>\n",
       "      <th>metro_name</th>\n",
       "      <th>metro_pop</th>\n",
       "      <th>psuedo_rsquare</th>\n",
       "      <th>variable_name</th>\n",
       "      <th>p_value</th>\n",
       "      <th>odds_ratio</th>\n",
       "    </tr>\n",
       "  </thead>\n",
       "  <tbody>\n",
       "    <tr>\n",
       "      <th>12408</th>\n",
       "      <td>47380</td>\n",
       "      <td>Waco, TX</td>\n",
       "      <td>268361.0</td>\n",
       "      <td>0.354818</td>\n",
       "      <td>latino</td>\n",
       "      <td>0.003080</td>\n",
       "      <td>3.291675</td>\n",
       "    </tr>\n",
       "    <tr>\n",
       "      <th>1841</th>\n",
       "      <td>24660</td>\n",
       "      <td>Greensboro-High Point, NC</td>\n",
       "      <td>762063.0</td>\n",
       "      <td>0.248711</td>\n",
       "      <td>latino</td>\n",
       "      <td>0.000003</td>\n",
       "      <td>2.740411</td>\n",
       "    </tr>\n",
       "    <tr>\n",
       "      <th>2259</th>\n",
       "      <td>40060</td>\n",
       "      <td>Richmond, VA</td>\n",
       "      <td>1269530.0</td>\n",
       "      <td>0.262993</td>\n",
       "      <td>latino</td>\n",
       "      <td>0.000006</td>\n",
       "      <td>2.676193</td>\n",
       "    </tr>\n",
       "    <tr>\n",
       "      <th>10321</th>\n",
       "      <td>31540</td>\n",
       "      <td>Madison, WI</td>\n",
       "      <td>653725.0</td>\n",
       "      <td>0.248577</td>\n",
       "      <td>latino</td>\n",
       "      <td>0.000884</td>\n",
       "      <td>2.576313</td>\n",
       "    </tr>\n",
       "    <tr>\n",
       "      <th>4447</th>\n",
       "      <td>13820</td>\n",
       "      <td>Birmingham-Hoover, AL</td>\n",
       "      <td>1085330.0</td>\n",
       "      <td>0.245919</td>\n",
       "      <td>latino</td>\n",
       "      <td>0.000088</td>\n",
       "      <td>2.411361</td>\n",
       "    </tr>\n",
       "  </tbody>\n",
       "</table>\n",
       "</div>"
      ],
      "text/plain": [
       "      metro_code                 metro_name  metro_pop  psuedo_rsquare  \\\n",
       "12408      47380                   Waco, TX   268361.0        0.354818   \n",
       "1841       24660  Greensboro-High Point, NC   762063.0        0.248711   \n",
       "2259       40060               Richmond, VA  1269530.0        0.262993   \n",
       "10321      31540                Madison, WI   653725.0        0.248577   \n",
       "4447       13820      Birmingham-Hoover, AL  1085330.0        0.245919   \n",
       "\n",
       "      variable_name   p_value  odds_ratio  \n",
       "12408        latino  0.003080    3.291675  \n",
       "1841         latino  0.000003    2.740411  \n",
       "2259         latino  0.000006    2.676193  \n",
       "10321        latino  0.000884    2.576313  \n",
       "4447         latino  0.000088    2.411361  "
      ]
     },
     "execution_count": 57,
     "metadata": {},
     "output_type": "execute_result"
    }
   ],
   "source": [
    "results_df5[(results_df5['variable_check'] == '5') & (results_df5['variable_name'] == 'latino')]\\\n",
    "[['metro_code', 'metro_name', 'metro_pop', 'psuedo_rsquare', 'variable_name', 'p_value', 'odds_ratio']].\\\n",
    "sort_values(by = ['odds_ratio'], ascending = False).head(5)"
   ]
  },
  {
   "cell_type": "markdown",
   "id": "given-china",
   "metadata": {},
   "source": [
    "#### Largest disparites for AAPI"
   ]
  },
  {
   "cell_type": "code",
   "execution_count": 58,
   "id": "meaningful-utilization",
   "metadata": {},
   "outputs": [
    {
     "data": {
      "text/html": [
       "<div>\n",
       "<style scoped>\n",
       "    .dataframe tbody tr th:only-of-type {\n",
       "        vertical-align: middle;\n",
       "    }\n",
       "\n",
       "    .dataframe tbody tr th {\n",
       "        vertical-align: top;\n",
       "    }\n",
       "\n",
       "    .dataframe thead th {\n",
       "        text-align: right;\n",
       "    }\n",
       "</style>\n",
       "<table border=\"1\" class=\"dataframe\">\n",
       "  <thead>\n",
       "    <tr style=\"text-align: right;\">\n",
       "      <th></th>\n",
       "      <th>metro_code</th>\n",
       "      <th>metro_name</th>\n",
       "      <th>metro_pop</th>\n",
       "      <th>psuedo_rsquare</th>\n",
       "      <th>variable_name</th>\n",
       "      <th>p_value</th>\n",
       "      <th>odds_ratio</th>\n",
       "    </tr>\n",
       "  </thead>\n",
       "  <tbody>\n",
       "    <tr>\n",
       "      <th>4240</th>\n",
       "      <td>38940</td>\n",
       "      <td>Port St. Lucie, FL</td>\n",
       "      <td>472012.0</td>\n",
       "      <td>0.258088</td>\n",
       "      <td>asian_cb</td>\n",
       "      <td>5.200978e-04</td>\n",
       "      <td>3.086573</td>\n",
       "    </tr>\n",
       "    <tr>\n",
       "      <th>9397</th>\n",
       "      <td>40484</td>\n",
       "      <td>Rockingham County-Strafford County, NH</td>\n",
       "      <td>435483.0</td>\n",
       "      <td>0.209597</td>\n",
       "      <td>asian_cb</td>\n",
       "      <td>2.149115e-04</td>\n",
       "      <td>2.962371</td>\n",
       "    </tr>\n",
       "    <tr>\n",
       "      <th>2261</th>\n",
       "      <td>40060</td>\n",
       "      <td>Richmond, VA</td>\n",
       "      <td>1269530.0</td>\n",
       "      <td>0.262993</td>\n",
       "      <td>asian_cb</td>\n",
       "      <td>2.973412e-07</td>\n",
       "      <td>2.673358</td>\n",
       "    </tr>\n",
       "    <tr>\n",
       "      <th>18925</th>\n",
       "      <td>22220</td>\n",
       "      <td>Fayetteville-Springdale-Rogers, AR</td>\n",
       "      <td>514259.0</td>\n",
       "      <td>0.230162</td>\n",
       "      <td>asian_cb</td>\n",
       "      <td>3.072155e-04</td>\n",
       "      <td>2.655565</td>\n",
       "    </tr>\n",
       "    <tr>\n",
       "      <th>2052</th>\n",
       "      <td>41700</td>\n",
       "      <td>San Antonio-New Braunfels, TX</td>\n",
       "      <td>2468193.0</td>\n",
       "      <td>0.247725</td>\n",
       "      <td>asian_cb</td>\n",
       "      <td>1.727325e-12</td>\n",
       "      <td>2.560846</td>\n",
       "    </tr>\n",
       "  </tbody>\n",
       "</table>\n",
       "</div>"
      ],
      "text/plain": [
       "      metro_code                              metro_name  metro_pop  \\\n",
       "4240       38940                      Port St. Lucie, FL   472012.0   \n",
       "9397       40484  Rockingham County-Strafford County, NH   435483.0   \n",
       "2261       40060                            Richmond, VA  1269530.0   \n",
       "18925      22220      Fayetteville-Springdale-Rogers, AR   514259.0   \n",
       "2052       41700           San Antonio-New Braunfels, TX  2468193.0   \n",
       "\n",
       "       psuedo_rsquare variable_name       p_value  odds_ratio  \n",
       "4240         0.258088      asian_cb  5.200978e-04    3.086573  \n",
       "9397         0.209597      asian_cb  2.149115e-04    2.962371  \n",
       "2261         0.262993      asian_cb  2.973412e-07    2.673358  \n",
       "18925        0.230162      asian_cb  3.072155e-04    2.655565  \n",
       "2052         0.247725      asian_cb  1.727325e-12    2.560846  "
      ]
     },
     "execution_count": 58,
     "metadata": {},
     "output_type": "execute_result"
    }
   ],
   "source": [
    "results_df5[(results_df5['variable_check'] == '5') & (results_df5['variable_name'] == 'asian_cb')]\\\n",
    "[['metro_code', 'metro_name', 'metro_pop', 'psuedo_rsquare', 'variable_name', 'p_value', 'odds_ratio']].\\\n",
    "sort_values(by = ['odds_ratio'], ascending = False).head(5)"
   ]
  },
  {
   "cell_type": "markdown",
   "id": "enhanced-cannon",
   "metadata": {},
   "source": [
    "#### Largest disparites for Native American applicants"
   ]
  },
  {
   "cell_type": "code",
   "execution_count": 59,
   "id": "hollow-rouge",
   "metadata": {},
   "outputs": [
    {
     "data": {
      "text/html": [
       "<div>\n",
       "<style scoped>\n",
       "    .dataframe tbody tr th:only-of-type {\n",
       "        vertical-align: middle;\n",
       "    }\n",
       "\n",
       "    .dataframe tbody tr th {\n",
       "        vertical-align: top;\n",
       "    }\n",
       "\n",
       "    .dataframe thead th {\n",
       "        text-align: right;\n",
       "    }\n",
       "</style>\n",
       "<table border=\"1\" class=\"dataframe\">\n",
       "  <thead>\n",
       "    <tr style=\"text-align: right;\">\n",
       "      <th></th>\n",
       "      <th>metro_code</th>\n",
       "      <th>metro_name</th>\n",
       "      <th>metro_pop</th>\n",
       "      <th>psuedo_rsquare</th>\n",
       "      <th>variable_name</th>\n",
       "      <th>p_value</th>\n",
       "      <th>odds_ratio</th>\n",
       "    </tr>\n",
       "  </thead>\n",
       "  <tbody>\n",
       "    <tr>\n",
       "      <th>3477</th>\n",
       "      <td>33460</td>\n",
       "      <td>Minneapolis-St. Paul-Bloomington, MN-WI</td>\n",
       "      <td>3573609.0</td>\n",
       "      <td>0.266631</td>\n",
       "      <td>native</td>\n",
       "      <td>0.039449</td>\n",
       "      <td>2.067026</td>\n",
       "    </tr>\n",
       "  </tbody>\n",
       "</table>\n",
       "</div>"
      ],
      "text/plain": [
       "     metro_code                               metro_name  metro_pop  \\\n",
       "3477      33460  Minneapolis-St. Paul-Bloomington, MN-WI  3573609.0   \n",
       "\n",
       "      psuedo_rsquare variable_name   p_value  odds_ratio  \n",
       "3477        0.266631        native  0.039449    2.067026  "
      ]
     },
     "execution_count": 59,
     "metadata": {},
     "output_type": "execute_result"
    }
   ],
   "source": [
    "results_df5[(results_df5['variable_check'] == '5') & (results_df5['variable_name'] == 'native')]\\\n",
    "[['metro_code', 'metro_name', 'metro_pop', 'psuedo_rsquare', 'variable_name', 'p_value', 'odds_ratio']].\\\n",
    "sort_values(by = ['odds_ratio'], ascending = False).head(5)"
   ]
  },
  {
   "cell_type": "markdown",
   "id": "plastic-logging",
   "metadata": {},
   "source": [
    "#### Largest disparites for Black applicants"
   ]
  },
  {
   "cell_type": "code",
   "execution_count": 60,
   "id": "serial-citizen",
   "metadata": {},
   "outputs": [
    {
     "data": {
      "text/html": [
       "<div>\n",
       "<style scoped>\n",
       "    .dataframe tbody tr th:only-of-type {\n",
       "        vertical-align: middle;\n",
       "    }\n",
       "\n",
       "    .dataframe tbody tr th {\n",
       "        vertical-align: top;\n",
       "    }\n",
       "\n",
       "    .dataframe thead th {\n",
       "        text-align: right;\n",
       "    }\n",
       "</style>\n",
       "<table border=\"1\" class=\"dataframe\">\n",
       "  <thead>\n",
       "    <tr style=\"text-align: right;\">\n",
       "      <th></th>\n",
       "      <th>metro_code</th>\n",
       "      <th>metro_name</th>\n",
       "      <th>metro_pop</th>\n",
       "      <th>psuedo_rsquare</th>\n",
       "      <th>variable_name</th>\n",
       "      <th>p_value</th>\n",
       "      <th>odds_ratio</th>\n",
       "    </tr>\n",
       "  </thead>\n",
       "  <tbody>\n",
       "    <tr>\n",
       "      <th>18922</th>\n",
       "      <td>22220</td>\n",
       "      <td>Fayetteville-Springdale-Rogers, AR</td>\n",
       "      <td>514259.0</td>\n",
       "      <td>0.230162</td>\n",
       "      <td>black</td>\n",
       "      <td>7.221820e-03</td>\n",
       "      <td>3.098998</td>\n",
       "    </tr>\n",
       "    <tr>\n",
       "      <th>11143</th>\n",
       "      <td>19430</td>\n",
       "      <td>Dayton-Kettering, OH</td>\n",
       "      <td>803543.0</td>\n",
       "      <td>0.279138</td>\n",
       "      <td>black</td>\n",
       "      <td>3.058314e-04</td>\n",
       "      <td>2.882675</td>\n",
       "    </tr>\n",
       "    <tr>\n",
       "      <th>5100</th>\n",
       "      <td>36420</td>\n",
       "      <td>Oklahoma City, OK</td>\n",
       "      <td>1382841.0</td>\n",
       "      <td>0.270741</td>\n",
       "      <td>black</td>\n",
       "      <td>2.024550e-06</td>\n",
       "      <td>2.840909</td>\n",
       "    </tr>\n",
       "    <tr>\n",
       "      <th>2258</th>\n",
       "      <td>40060</td>\n",
       "      <td>Richmond, VA</td>\n",
       "      <td>1269530.0</td>\n",
       "      <td>0.262993</td>\n",
       "      <td>black</td>\n",
       "      <td>5.007157e-08</td>\n",
       "      <td>2.720363</td>\n",
       "    </tr>\n",
       "    <tr>\n",
       "      <th>5169</th>\n",
       "      <td>44700</td>\n",
       "      <td>Stockton, CA</td>\n",
       "      <td>742603.0</td>\n",
       "      <td>0.196393</td>\n",
       "      <td>black</td>\n",
       "      <td>1.838385e-04</td>\n",
       "      <td>2.621905</td>\n",
       "    </tr>\n",
       "  </tbody>\n",
       "</table>\n",
       "</div>"
      ],
      "text/plain": [
       "      metro_code                          metro_name  metro_pop  \\\n",
       "18922      22220  Fayetteville-Springdale-Rogers, AR   514259.0   \n",
       "11143      19430                Dayton-Kettering, OH   803543.0   \n",
       "5100       36420                   Oklahoma City, OK  1382841.0   \n",
       "2258       40060                        Richmond, VA  1269530.0   \n",
       "5169       44700                        Stockton, CA   742603.0   \n",
       "\n",
       "       psuedo_rsquare variable_name       p_value  odds_ratio  \n",
       "18922        0.230162         black  7.221820e-03    3.098998  \n",
       "11143        0.279138         black  3.058314e-04    2.882675  \n",
       "5100         0.270741         black  2.024550e-06    2.840909  \n",
       "2258         0.262993         black  5.007157e-08    2.720363  \n",
       "5169         0.196393         black  1.838385e-04    2.621905  "
      ]
     },
     "execution_count": 60,
     "metadata": {},
     "output_type": "execute_result"
    }
   ],
   "source": [
    "results_df5[(results_df5['variable_check'] == '5') & (results_df5['variable_name'] == 'black')]\\\n",
    "[['metro_code', 'metro_name', 'metro_pop', 'psuedo_rsquare', 'variable_name', 'p_value', 'odds_ratio']].\\\n",
    "sort_values(by = ['odds_ratio'], ascending = False).head(5)"
   ]
  },
  {
   "cell_type": "markdown",
   "id": "pregnant-fabric",
   "metadata": {},
   "source": [
    "#### Largest disparites for Native American applicants"
   ]
  },
  {
   "cell_type": "code",
   "execution_count": 62,
   "id": "fitted-validity",
   "metadata": {},
   "outputs": [
    {
     "data": {
      "text/html": [
       "<div>\n",
       "<style scoped>\n",
       "    .dataframe tbody tr th:only-of-type {\n",
       "        vertical-align: middle;\n",
       "    }\n",
       "\n",
       "    .dataframe tbody tr th {\n",
       "        vertical-align: top;\n",
       "    }\n",
       "\n",
       "    .dataframe thead th {\n",
       "        text-align: right;\n",
       "    }\n",
       "</style>\n",
       "<table border=\"1\" class=\"dataframe\">\n",
       "  <thead>\n",
       "    <tr style=\"text-align: right;\">\n",
       "      <th></th>\n",
       "      <th>metro_code</th>\n",
       "      <th>metro_name</th>\n",
       "      <th>metro_pop</th>\n",
       "      <th>psuedo_rsquare</th>\n",
       "      <th>variable_name</th>\n",
       "      <th>p_value</th>\n",
       "      <th>odds_ratio</th>\n",
       "    </tr>\n",
       "  </thead>\n",
       "  <tbody>\n",
       "    <tr>\n",
       "      <th>3477</th>\n",
       "      <td>33460</td>\n",
       "      <td>Minneapolis-St. Paul-Bloomington, MN-WI</td>\n",
       "      <td>3573609.0</td>\n",
       "      <td>0.266631</td>\n",
       "      <td>native</td>\n",
       "      <td>0.039449</td>\n",
       "      <td>2.067026</td>\n",
       "    </tr>\n",
       "  </tbody>\n",
       "</table>\n",
       "</div>"
      ],
      "text/plain": [
       "     metro_code                               metro_name  metro_pop  \\\n",
       "3477      33460  Minneapolis-St. Paul-Bloomington, MN-WI  3573609.0   \n",
       "\n",
       "      psuedo_rsquare variable_name   p_value  odds_ratio  \n",
       "3477        0.266631        native  0.039449    2.067026  "
      ]
     },
     "execution_count": 62,
     "metadata": {},
     "output_type": "execute_result"
    }
   ],
   "source": [
    "results_df5[(results_df5['variable_check'] == '5') & (results_df5['variable_name'] == 'native')]\\\n",
    "[['metro_code', 'metro_name', 'metro_pop', 'psuedo_rsquare', 'variable_name', 'p_value', 'odds_ratio']].\\\n",
    "sort_values(by = ['odds_ratio'], ascending = False).head(5)"
   ]
  },
  {
   "cell_type": "markdown",
   "id": "systematic-tuition",
   "metadata": {},
   "source": [
    "#### Summary of findings by race and ethnicity\n",
    "- Black applciants are more likely to be denied in 71 metros\n",
    "- Latinos in 39 metros\n",
    "- Asian/Pacific Islander in 55\n",
    "- Native American in 1 metro"
   ]
  },
  {
   "cell_type": "code",
   "execution_count": 63,
   "id": "beneficial-sociology",
   "metadata": {},
   "outputs": [
    {
     "data": {
      "text/html": [
       "<div>\n",
       "<style scoped>\n",
       "    .dataframe tbody tr th:only-of-type {\n",
       "        vertical-align: middle;\n",
       "    }\n",
       "\n",
       "    .dataframe tbody tr th {\n",
       "        vertical-align: top;\n",
       "    }\n",
       "\n",
       "    .dataframe thead th {\n",
       "        text-align: right;\n",
       "    }\n",
       "</style>\n",
       "<table border=\"1\" class=\"dataframe\">\n",
       "  <thead>\n",
       "    <tr style=\"text-align: right;\">\n",
       "      <th></th>\n",
       "      <th>Race/Ethnicity</th>\n",
       "      <th>Missing</th>\n",
       "      <th>Not Sig</th>\n",
       "      <th>More Apps</th>\n",
       "      <th>Small Disparity</th>\n",
       "      <th>Disparity</th>\n",
       "    </tr>\n",
       "  </thead>\n",
       "  <tbody>\n",
       "    <tr>\n",
       "      <th>0</th>\n",
       "      <td>asian_cb</td>\n",
       "      <td>0</td>\n",
       "      <td>61</td>\n",
       "      <td>2</td>\n",
       "      <td>10</td>\n",
       "      <td>55</td>\n",
       "    </tr>\n",
       "    <tr>\n",
       "      <th>1</th>\n",
       "      <td>black</td>\n",
       "      <td>1</td>\n",
       "      <td>48</td>\n",
       "      <td>6</td>\n",
       "      <td>2</td>\n",
       "      <td>71</td>\n",
       "    </tr>\n",
       "    <tr>\n",
       "      <th>2</th>\n",
       "      <td>latino</td>\n",
       "      <td>0</td>\n",
       "      <td>76</td>\n",
       "      <td>2</td>\n",
       "      <td>11</td>\n",
       "      <td>39</td>\n",
       "    </tr>\n",
       "    <tr>\n",
       "      <th>3</th>\n",
       "      <td>native</td>\n",
       "      <td>2</td>\n",
       "      <td>110</td>\n",
       "      <td>15</td>\n",
       "      <td>0</td>\n",
       "      <td>1</td>\n",
       "    </tr>\n",
       "  </tbody>\n",
       "</table>\n",
       "</div>"
      ],
      "text/plain": [
       "  Race/Ethnicity  Missing  Not Sig  More Apps  Small Disparity  Disparity\n",
       "0       asian_cb        0       61          2               10         55\n",
       "1          black        1       48          6                2         71\n",
       "2         latino        0       76          2               11         39\n",
       "3         native        2      110         15                0          1"
      ]
     },
     "execution_count": 63,
     "metadata": {},
     "output_type": "execute_result"
    }
   ],
   "source": [
    "metro_race_bd = pd.pivot_table(results_df5, index = ['variable_name'], columns = ['variable_check'], \n",
    "                               values = ['metro_name'], aggfunc = 'count', fill_value = 0).reset_index()\n",
    "\n",
    "metro_race_bd.columns = metro_race_bd.columns.droplevel(0)\n",
    "metro_race_bd.columns.name = None\n",
    "metro_race_bd.columns = ['Race/Ethnicity', 'Missing', 'Not Sig', 'More Apps', 'Small Disparity', 'Disparity']\n",
    "\n",
    "metro_race_bd"
   ]
  },
  {
   "cell_type": "markdown",
   "id": "expressed-commercial",
   "metadata": {},
   "source": [
    "### 12. Write out results\n",
    "#### Add definitions for output"
   ]
  },
  {
   "cell_type": "code",
   "execution_count": 64,
   "id": "center-float",
   "metadata": {},
   "outputs": [
    {
     "data": {
      "text/html": [
       "<div>\n",
       "<style scoped>\n",
       "    .dataframe tbody tr th:only-of-type {\n",
       "        vertical-align: middle;\n",
       "    }\n",
       "\n",
       "    .dataframe tbody tr th {\n",
       "        vertical-align: top;\n",
       "    }\n",
       "\n",
       "    .dataframe thead th {\n",
       "        text-align: right;\n",
       "    }\n",
       "</style>\n",
       "<table border=\"1\" class=\"dataframe\">\n",
       "  <thead>\n",
       "    <tr style=\"text-align: right;\">\n",
       "      <th></th>\n",
       "      <th>results_flag</th>\n",
       "      <th>variable_check</th>\n",
       "      <th>reliable_note</th>\n",
       "    </tr>\n",
       "  </thead>\n",
       "  <tbody>\n",
       "    <tr>\n",
       "      <th>0</th>\n",
       "      <td>1</td>\n",
       "      <td>NaN</td>\n",
       "      <td>No results</td>\n",
       "    </tr>\n",
       "    <tr>\n",
       "      <th>1</th>\n",
       "      <td>2</td>\n",
       "      <td>NaN</td>\n",
       "      <td>Not enough variance in variables</td>\n",
       "    </tr>\n",
       "    <tr>\n",
       "      <th>2</th>\n",
       "      <td>3</td>\n",
       "      <td>1</td>\n",
       "      <td>Not statistically significant</td>\n",
       "    </tr>\n",
       "    <tr>\n",
       "      <th>3</th>\n",
       "      <td>3</td>\n",
       "      <td>2</td>\n",
       "      <td>Not statistically significant</td>\n",
       "    </tr>\n",
       "    <tr>\n",
       "      <th>4</th>\n",
       "      <td>3</td>\n",
       "      <td>3</td>\n",
       "      <td>Not enough applications</td>\n",
       "    </tr>\n",
       "    <tr>\n",
       "      <th>5</th>\n",
       "      <td>3</td>\n",
       "      <td>4</td>\n",
       "      <td>Doesn't meet level of disparity</td>\n",
       "    </tr>\n",
       "    <tr>\n",
       "      <th>6</th>\n",
       "      <td>3</td>\n",
       "      <td>5</td>\n",
       "      <td>Statistically significant disparity</td>\n",
       "    </tr>\n",
       "  </tbody>\n",
       "</table>\n",
       "</div>"
      ],
      "text/plain": [
       "  results_flag variable_check                        reliable_note\n",
       "0            1            NaN                           No results\n",
       "1            2            NaN     Not enough variance in variables\n",
       "2            3              1        Not statistically significant\n",
       "3            3              2        Not statistically significant\n",
       "4            3              3              Not enough applications\n",
       "5            3              4      Doesn't meet level of disparity\n",
       "6            3              5  Statistically significant disparity"
      ]
     },
     "execution_count": 64,
     "metadata": {},
     "output_type": "execute_result"
    }
   ],
   "source": [
    "lookup_dict = {'results_flag': ['1', '2', '3', '3', '3', '3', '3'],\n",
    "               'variable_check': [np.nan, np.nan, '1', '2', '3', '4', '5'],\n",
    "               'reliable_note': ['No results', 'Not enough variance in variables', \n",
    "                                 'Not statistically significant', 'Not statistically significant', \n",
    "                                 'Not enough applications', 'Doesn\\'t meet level of disparity',\n",
    "                                 'Statistically significant disparity']}\n",
    "\n",
    "lookup_df = pd.DataFrame(data=lookup_dict)\n",
    "\n",
    "lookup_df"
   ]
  },
  {
   "cell_type": "code",
   "execution_count": 66,
   "id": "similar-florence",
   "metadata": {},
   "outputs": [],
   "source": [
    "results_df6 = pd.merge(results_df4, lookup_df, how = 'left', on = ['results_flag', 'variable_check'])\n",
    "\n",
    "results_df6.loc[(results_df6['variable_check'] == '4') | (results_df6['variable_check'] == '5'),\n",
    "                'is_reliable'] = True\n",
    "\n",
    "results_df6.loc[(results_df6['variable_check'] != '4') & (results_df6['variable_check'] != '5'),\n",
    "                'is_reliable'] = False\n",
    "\n",
    "results_df6['odds_ratio_rd'] = results_df6['odds_ratio'].round(1)"
   ]
  },
  {
   "cell_type": "markdown",
   "id": "statutory-italic",
   "metadata": {},
   "source": [
    "#### Clean results for all metros:"
   ]
  },
  {
   "cell_type": "code",
   "execution_count": 67,
   "id": "moral-toddler",
   "metadata": {},
   "outputs": [
    {
     "data": {
      "text/html": [
       "<div>\n",
       "<style scoped>\n",
       "    .dataframe tbody tr th:only-of-type {\n",
       "        vertical-align: middle;\n",
       "    }\n",
       "\n",
       "    .dataframe tbody tr th {\n",
       "        vertical-align: top;\n",
       "    }\n",
       "\n",
       "    .dataframe thead th {\n",
       "        text-align: right;\n",
       "    }\n",
       "</style>\n",
       "<table border=\"1\" class=\"dataframe\">\n",
       "  <thead>\n",
       "    <tr style=\"text-align: right;\">\n",
       "      <th></th>\n",
       "      <th>metro_code</th>\n",
       "      <th>metro_name</th>\n",
       "      <th>metro_pop</th>\n",
       "      <th>metro_apps</th>\n",
       "      <th>metro_type</th>\n",
       "      <th>variable_name</th>\n",
       "      <th>total_count</th>\n",
       "      <th>loan</th>\n",
       "      <th>denied</th>\n",
       "      <th>is_reliable</th>\n",
       "      <th>reliable_note</th>\n",
       "      <th>odds_ratio</th>\n",
       "    </tr>\n",
       "  </thead>\n",
       "  <tbody>\n",
       "    <tr>\n",
       "      <th>2780</th>\n",
       "      <td>36084</td>\n",
       "      <td>Oakland-Berkeley-Livermore, CA</td>\n",
       "      <td>2799005.0</td>\n",
       "      <td>22676</td>\n",
       "      <td>Metropolitan Division</td>\n",
       "      <td>Black</td>\n",
       "      <td>655.0</td>\n",
       "      <td>591.0</td>\n",
       "      <td>64.0</td>\n",
       "      <td>True</td>\n",
       "      <td>Statistically significant disparity</td>\n",
       "      <td>1.7</td>\n",
       "    </tr>\n",
       "    <tr>\n",
       "      <th>30952</th>\n",
       "      <td>17380</td>\n",
       "      <td>Cleveland, MS</td>\n",
       "      <td>31848.0</td>\n",
       "      <td>75</td>\n",
       "      <td>Micropolitan Statistical Area</td>\n",
       "      <td>Black</td>\n",
       "      <td>10.0</td>\n",
       "      <td>8.0</td>\n",
       "      <td>2.0</td>\n",
       "      <td>False</td>\n",
       "      <td>No results</td>\n",
       "      <td>NaN</td>\n",
       "    </tr>\n",
       "    <tr>\n",
       "      <th>18924</th>\n",
       "      <td>22220</td>\n",
       "      <td>Fayetteville-Springdale-Rogers, AR</td>\n",
       "      <td>514259.0</td>\n",
       "      <td>5443</td>\n",
       "      <td>Metropolitan Statistical Area</td>\n",
       "      <td>Native American</td>\n",
       "      <td>49.0</td>\n",
       "      <td>46.0</td>\n",
       "      <td>3.0</td>\n",
       "      <td>False</td>\n",
       "      <td>Not statistically significant</td>\n",
       "      <td>1.5</td>\n",
       "    </tr>\n",
       "    <tr>\n",
       "      <th>26016</th>\n",
       "      <td>13780</td>\n",
       "      <td>Binghamton, NY</td>\n",
       "      <td>241874.0</td>\n",
       "      <td>1070</td>\n",
       "      <td>Metropolitan Statistical Area</td>\n",
       "      <td>Latino</td>\n",
       "      <td>23.0</td>\n",
       "      <td>23.0</td>\n",
       "      <td>0.0</td>\n",
       "      <td>False</td>\n",
       "      <td>No results</td>\n",
       "      <td>NaN</td>\n",
       "    </tr>\n",
       "    <tr>\n",
       "      <th>29081</th>\n",
       "      <td>24820</td>\n",
       "      <td>Greenville, OH</td>\n",
       "      <td>51513.0</td>\n",
       "      <td>159</td>\n",
       "      <td>Micropolitan Statistical Area</td>\n",
       "      <td>Black</td>\n",
       "      <td>1.0</td>\n",
       "      <td>1.0</td>\n",
       "      <td>0.0</td>\n",
       "      <td>False</td>\n",
       "      <td>No results</td>\n",
       "      <td>NaN</td>\n",
       "    </tr>\n",
       "  </tbody>\n",
       "</table>\n",
       "</div>"
      ],
      "text/plain": [
       "      metro_code                          metro_name  metro_pop  metro_apps  \\\n",
       "2780       36084      Oakland-Berkeley-Livermore, CA  2799005.0       22676   \n",
       "30952      17380                       Cleveland, MS    31848.0          75   \n",
       "18924      22220  Fayetteville-Springdale-Rogers, AR   514259.0        5443   \n",
       "26016      13780                      Binghamton, NY   241874.0        1070   \n",
       "29081      24820                      Greenville, OH    51513.0         159   \n",
       "\n",
       "                          metro_type    variable_name  total_count   loan  \\\n",
       "2780           Metropolitan Division            Black        655.0  591.0   \n",
       "30952  Micropolitan Statistical Area            Black         10.0    8.0   \n",
       "18924  Metropolitan Statistical Area  Native American         49.0   46.0   \n",
       "26016  Metropolitan Statistical Area           Latino         23.0   23.0   \n",
       "29081  Micropolitan Statistical Area            Black          1.0    1.0   \n",
       "\n",
       "       denied  is_reliable                        reliable_note  odds_ratio  \n",
       "2780     64.0         True  Statistically significant disparity         1.7  \n",
       "30952     2.0        False                           No results         NaN  \n",
       "18924     3.0        False        Not statistically significant         1.5  \n",
       "26016     0.0        False                           No results         NaN  \n",
       "29081     0.0        False                           No results         NaN  "
      ]
     },
     "execution_count": 67,
     "metadata": {},
     "output_type": "execute_result"
    }
   ],
   "source": [
    "races_replace = {'black': 'Black', 'latino': 'Latino', 'native': 'Native American', 'asian_cb': 'AAPI'}\n",
    "\n",
    "results_df7 = results_df6[(results_df6['variable_name'].isin(races))]\\\n",
    "[['metro_code', 'metro_name', 'metro_pop', 'metro_apps', 'metro_type', 'variable_name', 'total_count', 'loan', \n",
    "  'denied', 'is_reliable', 'reliable_note', 'odds_ratio_rd']].rename(columns = {'odds_ratio_rd': 'odds_ratio'})\n",
    "\n",
    "results_df8 = results_df7.replace(races_replace)\n",
    "\n",
    "results_df8.sample(5, random_state = 303)"
   ]
  },
  {
   "cell_type": "code",
   "execution_count": 71,
   "id": "focused-junction",
   "metadata": {},
   "outputs": [],
   "source": [
    "results_df8.to_csv('../../findings/metro_findings/1_metro_findings_200823.csv', index = False)"
   ]
  },
  {
   "cell_type": "code",
   "execution_count": null,
   "id": "covered-plane",
   "metadata": {},
   "outputs": [],
   "source": []
  }
 ],
 "metadata": {
  "kernelspec": {
   "display_name": "Python 3",
   "language": "python",
   "name": "python3"
  },
  "language_info": {
   "codemirror_mode": {
    "name": "ipython",
    "version": 3
   },
   "file_extension": ".py",
   "mimetype": "text/x-python",
   "name": "python",
   "nbconvert_exporter": "python",
   "pygments_lexer": "ipython3",
   "version": "3.8.0"
  }
 },
 "nbformat": 4,
 "nbformat_minor": 5
}
