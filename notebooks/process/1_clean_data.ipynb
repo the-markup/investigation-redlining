{
 "cells": [
  {
   "cell_type": "code",
   "execution_count": 1,
   "id": "double-result",
   "metadata": {},
   "outputs": [],
   "source": [
    "%load_ext autoreload\n",
    "%autoreload 2"
   ]
  },
  {
   "cell_type": "code",
   "execution_count": 2,
   "id": "temporal-gambling",
   "metadata": {},
   "outputs": [],
   "source": [
    "import pandas as pd\n",
    "import numpy as np\n",
    "\n",
    "import sys\n",
    "sys.path.append('../..')\n",
    "\n",
    "from utils.clean_data import (clean_location, clean_race_ethnicity, find_same_race, clean_credit_model, \n",
    "                              find_coapplicants, clean_outcomes, find_aus_patterns, clean_aus)"
   ]
  },
  {
   "cell_type": "markdown",
   "id": "referenced-camel",
   "metadata": {},
   "source": [
    "### 1. Import HMDA data\n",
    "- Data can be download from the CFPB site: [2019 LAR dataset](https://ffiec.cfpb.gov/data-publication/snapshot-national-loan-level-dataset/2019)\n",
    "- The date the file was downloaded was appended to the raw file name.\n",
    "- 99 Columns\n",
    "- 17,545,457 records\n",
    "- [Data Dictionary](https://ffiec.cfpb.gov/documentation/2019/lar-data-fields/)"
   ]
  },
  {
   "cell_type": "code",
   "execution_count": 3,
   "id": "bulgarian-cylinder",
   "metadata": {},
   "outputs": [
    {
     "name": "stdout",
     "output_type": "stream",
     "text": [
      "<class 'pandas.core.frame.DataFrame'>\n",
      "RangeIndex: 17545457 entries, 0 to 17545456\n",
      "Data columns (total 99 columns):\n",
      " #   Column                                    Dtype \n",
      "---  ------                                    ----- \n",
      " 0   activity_year                             object\n",
      " 1   lei                                       object\n",
      " 2   derived_msa_md                            object\n",
      " 3   state_code                                object\n",
      " 4   county_code                               object\n",
      " 5   census_tract                              object\n",
      " 6   conforming_loan_limit                     object\n",
      " 7   derived_loan_product_type                 object\n",
      " 8   derived_dwelling_category                 object\n",
      " 9   derived_ethnicity                         object\n",
      " 10  derived_race                              object\n",
      " 11  derived_sex                               object\n",
      " 12  action_taken                              object\n",
      " 13  purchaser_type                            object\n",
      " 14  preapproval                               object\n",
      " 15  loan_type                                 object\n",
      " 16  loan_purpose                              object\n",
      " 17  lien_status                               object\n",
      " 18  reverse_mortgage                          object\n",
      " 19  open_end_line_of_credit                   object\n",
      " 20  business_or_commercial_purpose            object\n",
      " 21  loan_amount                               object\n",
      " 22  combined_loan_to_value_ratio              object\n",
      " 23  interest_rate                             object\n",
      " 24  rate_spread                               object\n",
      " 25  hoepa_status                              object\n",
      " 26  total_loan_costs                          object\n",
      " 27  total_points_and_fees                     object\n",
      " 28  origination_charges                       object\n",
      " 29  discount_points                           object\n",
      " 30  lender_credits                            object\n",
      " 31  loan_term                                 object\n",
      " 32  prepayment_penalty_term                   object\n",
      " 33  intro_rate_period                         object\n",
      " 34  negative_amortization                     object\n",
      " 35  interest_only_payment                     object\n",
      " 36  balloon_payment                           object\n",
      " 37  other_nonamortizing_features              object\n",
      " 38  property_value                            object\n",
      " 39  construction_method                       object\n",
      " 40  occupancy_type                            object\n",
      " 41  manufactured_home_secured_property_type   object\n",
      " 42  manufactured_home_land_property_interest  object\n",
      " 43  total_units                               object\n",
      " 44  multifamily_affordable_units              object\n",
      " 45  income                                    object\n",
      " 46  debt_to_income_ratio                      object\n",
      " 47  applicant_credit_score_type               object\n",
      " 48  co_applicant_credit_score_type            object\n",
      " 49  applicant_ethnicity_1                     object\n",
      " 50  applicant_ethnicity_2                     object\n",
      " 51  applicant_ethnicity_3                     object\n",
      " 52  applicant_ethnicity_4                     object\n",
      " 53  applicant_ethnicity_5                     object\n",
      " 54  co_applicant_ethnicity_1                  object\n",
      " 55  co_applicant_ethnicity_2                  object\n",
      " 56  co_applicant_ethnicity_3                  object\n",
      " 57  co_applicant_ethnicity_4                  object\n",
      " 58  co_applicant_ethnicity_5                  object\n",
      " 59  applicant_ethnicity_observed              object\n",
      " 60  co_applicant_ethnicity_observed           object\n",
      " 61  applicant_race_1                          object\n",
      " 62  applicant_race_2                          object\n",
      " 63  applicant_race_3                          object\n",
      " 64  applicant_race_4                          object\n",
      " 65  applicant_race_5                          object\n",
      " 66  co_applicant_race_1                       object\n",
      " 67  co_applicant_race_2                       object\n",
      " 68  co_applicant_race_3                       object\n",
      " 69  co_applicant_race_4                       object\n",
      " 70  co_applicant_race_5                       object\n",
      " 71  applicant_race_observed                   object\n",
      " 72  co_applicant_race_observed                object\n",
      " 73  applicant_sex                             object\n",
      " 74  co_applicant_sex                          object\n",
      " 75  applicant_sex_observed                    object\n",
      " 76  co_applicant_sex_observed                 object\n",
      " 77  applicant_age                             object\n",
      " 78  co_applicant_age                          object\n",
      " 79  applicant_age_above_62                    object\n",
      " 80  co_applicant_age_above_62                 object\n",
      " 81  submission_of_application                 object\n",
      " 82  initially_payable_to_institution          object\n",
      " 83  aus_1                                     object\n",
      " 84  aus_2                                     object\n",
      " 85  aus_3                                     object\n",
      " 86  aus_4                                     object\n",
      " 87  aus_5                                     object\n",
      " 88  denial_reason_1                           object\n",
      " 89  denial_reason_2                           object\n",
      " 90  denial_reason_3                           object\n",
      " 91  denial_reason_4                           object\n",
      " 92  tract_population                          object\n",
      " 93  tract_minority_population_percent         object\n",
      " 94  ffiec_msa_md_median_family_income         object\n",
      " 95  tract_to_msa_income_percentage            object\n",
      " 96  tract_owner_occupied_units                object\n",
      " 97  tract_one_to_four_family_homes            object\n",
      " 98  tract_median_age_of_housing_units         object\n",
      "dtypes: object(99)\n",
      "memory usage: 12.9+ GB\n"
     ]
    }
   ],
   "source": [
    "hmda19_df = pd.read_csv('../../data/hmda_lar/raw_data/2019_public_lar_csv210810.csv', dtype = str)\n",
    "\n",
    "hmda19_df.info()"
   ]
  },
  {
   "cell_type": "markdown",
   "id": "instrumental-illness",
   "metadata": {},
   "source": [
    "### 2. Clean Data\n",
    "\n",
    "\n",
    "#### Dropping columns I don't need (21 in total) to make the data easier to work with:\n",
    "\n",
    "##### The following columns were added by the CFPB, not using them. \n",
    "    - derived_loan_product_type\n",
    "    - derived_dwelling_category\n",
    "    - derived_ethnicity\n",
    "    - derived_race\n",
    "    - derived_sex\n",
    "##### Focusing on the applicant's first ethnicity\n",
    "    - applicant_ethnicity-2\n",
    "    - applicant_ethnicity-3\n",
    "    - applicant_ethnicity-4\n",
    "    - applicant_ethnicity-5\n",
    "##### Focusing on the co-applicant's first ethnicity. Don't need these columns to find co-applicants.\n",
    "    - co-applicant_ethnicity-2\n",
    "    - co-applicant_ethnicity-3\n",
    "    - co-applicant_ethnicity-4\n",
    "    - co-applicant_ethnicity-5\n",
    "##### Focusing on the applicant's first race\n",
    "    - applicant_race-2\n",
    "    - applicant_race-3\n",
    "    - applicant_race-4\n",
    "    - applicant_race-5\n",
    "##### Focusing on the co-applicant's first race. Don't need these columns to find co-applicants.\n",
    "    - co-applicant_race-2 \n",
    "    - co-applicant_race-3 \n",
    "    - co-applicant_race-4 \n",
    "    - co-applicant_race-5\n",
    "    \n",
    "#### Using 78 columns instead of 99"
   ]
  },
  {
   "cell_type": "code",
   "execution_count": 4,
   "id": "controversial-copyright",
   "metadata": {},
   "outputs": [
    {
     "name": "stdout",
     "output_type": "stream",
     "text": [
      "78\n"
     ]
    }
   ],
   "source": [
    "remove_cols = ['derived_loan_product_type', 'derived_dwelling_category', 'derived_ethnicity', \n",
    "               'derived_race', 'derived_sex', \n",
    "               'applicant_ethnicity_2','applicant_ethnicity_3', 'applicant_ethnicity_4', 'applicant_ethnicity_5',\n",
    "               'co_applicant_ethnicity_2', 'co_applicant_ethnicity_3', 'co_applicant_ethnicity_4', \n",
    "               'co_applicant_ethnicity_5', \n",
    "               'applicant_race_2','applicant_race_3', 'applicant_race_4', 'applicant_race_5', \n",
    "               'co_applicant_race_2', 'co_applicant_race_3', 'co_applicant_race_4', \n",
    "               'co_applicant_race_5']\n",
    "\n",
    "new_headers = []\n",
    "for column in hmda19_df.columns:\n",
    "    if column not in remove_cols:\n",
    "        new_headers.append(column)\n",
    "        \n",
    "print(len(new_headers))"
   ]
  },
  {
   "cell_type": "markdown",
   "id": "annual-saskatchewan",
   "metadata": {},
   "source": [
    "#### Create smaller subset of HMDA data\n",
    "- Deleting the orginal HMDA df to clear memory"
   ]
  },
  {
   "cell_type": "code",
   "execution_count": 5,
   "id": "located-yeast",
   "metadata": {},
   "outputs": [
    {
     "name": "stdout",
     "output_type": "stream",
     "text": [
      "<class 'pandas.core.frame.DataFrame'>\n",
      "RangeIndex: 17545457 entries, 0 to 17545456\n",
      "Data columns (total 78 columns):\n",
      " #   Column                                    Dtype \n",
      "---  ------                                    ----- \n",
      " 0   activity_year                             object\n",
      " 1   lei                                       object\n",
      " 2   derived_msa_md                            object\n",
      " 3   state_code                                object\n",
      " 4   county_code                               object\n",
      " 5   census_tract                              object\n",
      " 6   conforming_loan_limit                     object\n",
      " 7   action_taken                              object\n",
      " 8   purchaser_type                            object\n",
      " 9   preapproval                               object\n",
      " 10  loan_type                                 object\n",
      " 11  loan_purpose                              object\n",
      " 12  lien_status                               object\n",
      " 13  reverse_mortgage                          object\n",
      " 14  open_end_line_of_credit                   object\n",
      " 15  business_or_commercial_purpose            object\n",
      " 16  loan_amount                               object\n",
      " 17  combined_loan_to_value_ratio              object\n",
      " 18  interest_rate                             object\n",
      " 19  rate_spread                               object\n",
      " 20  hoepa_status                              object\n",
      " 21  total_loan_costs                          object\n",
      " 22  total_points_and_fees                     object\n",
      " 23  origination_charges                       object\n",
      " 24  discount_points                           object\n",
      " 25  lender_credits                            object\n",
      " 26  loan_term                                 object\n",
      " 27  prepayment_penalty_term                   object\n",
      " 28  intro_rate_period                         object\n",
      " 29  negative_amortization                     object\n",
      " 30  interest_only_payment                     object\n",
      " 31  balloon_payment                           object\n",
      " 32  other_nonamortizing_features              object\n",
      " 33  property_value                            object\n",
      " 34  construction_method                       object\n",
      " 35  occupancy_type                            object\n",
      " 36  manufactured_home_secured_property_type   object\n",
      " 37  manufactured_home_land_property_interest  object\n",
      " 38  total_units                               object\n",
      " 39  multifamily_affordable_units              object\n",
      " 40  income                                    object\n",
      " 41  debt_to_income_ratio                      object\n",
      " 42  applicant_credit_score_type               object\n",
      " 43  co_applicant_credit_score_type            object\n",
      " 44  applicant_ethnicity_1                     object\n",
      " 45  co_applicant_ethnicity_1                  object\n",
      " 46  applicant_ethnicity_observed              object\n",
      " 47  co_applicant_ethnicity_observed           object\n",
      " 48  applicant_race_1                          object\n",
      " 49  co_applicant_race_1                       object\n",
      " 50  applicant_race_observed                   object\n",
      " 51  co_applicant_race_observed                object\n",
      " 52  applicant_sex                             object\n",
      " 53  co_applicant_sex                          object\n",
      " 54  applicant_sex_observed                    object\n",
      " 55  co_applicant_sex_observed                 object\n",
      " 56  applicant_age                             object\n",
      " 57  co_applicant_age                          object\n",
      " 58  applicant_age_above_62                    object\n",
      " 59  co_applicant_age_above_62                 object\n",
      " 60  submission_of_application                 object\n",
      " 61  initially_payable_to_institution          object\n",
      " 62  aus_1                                     object\n",
      " 63  aus_2                                     object\n",
      " 64  aus_3                                     object\n",
      " 65  aus_4                                     object\n",
      " 66  aus_5                                     object\n",
      " 67  denial_reason_1                           object\n",
      " 68  denial_reason_2                           object\n",
      " 69  denial_reason_3                           object\n",
      " 70  denial_reason_4                           object\n",
      " 71  tract_population                          object\n",
      " 72  tract_minority_population_percent         object\n",
      " 73  ffiec_msa_md_median_family_income         object\n",
      " 74  tract_to_msa_income_percentage            object\n",
      " 75  tract_owner_occupied_units                object\n",
      " 76  tract_one_to_four_family_homes            object\n",
      " 77  tract_median_age_of_housing_units         object\n",
      "dtypes: object(78)\n",
      "memory usage: 10.2+ GB\n"
     ]
    }
   ],
   "source": [
    "hmda19_df2 = hmda19_df[new_headers].copy()\n",
    "del hmda19_df\n",
    "\n",
    "hmda19_df2.info()"
   ]
  },
  {
   "cell_type": "markdown",
   "id": "everyday-visit",
   "metadata": {},
   "source": [
    "### 2. Clean Location"
   ]
  },
  {
   "cell_type": "code",
   "execution_count": 6,
   "id": "severe-shooting",
   "metadata": {},
   "outputs": [],
   "source": [
    "### Group all unique combinations of county codes and census tract\n",
    "location_df = pd.DataFrame(hmda19_df2.groupby(by = ['county_code', 'census_tract'], dropna = False).size()).\\\n",
    "              reset_index().rename(columns = {0: 'count'})\n",
    "\n",
    "### Replacing the Nulls with other text so that the function works, Keeping the Nulls seperate from the \"NAs\"\n",
    "location_df = location_df.replace(to_replace = 'Na', value = 'ii-ii')\n",
    "location_df = location_df.fillna('00-00')"
   ]
  },
  {
   "cell_type": "code",
   "execution_count": 7,
   "id": "spare-helping",
   "metadata": {},
   "outputs": [
    {
     "name": "stdout",
     "output_type": "stream",
     "text": [
      "76439\n",
      "1\n",
      "3489\n"
     ]
    },
    {
     "data": {
      "text/html": [
       "<div>\n",
       "<style scoped>\n",
       "    .dataframe tbody tr th:only-of-type {\n",
       "        vertical-align: middle;\n",
       "    }\n",
       "\n",
       "    .dataframe tbody tr th {\n",
       "        vertical-align: top;\n",
       "    }\n",
       "\n",
       "    .dataframe thead th {\n",
       "        text-align: right;\n",
       "    }\n",
       "</style>\n",
       "<table border=\"1\" class=\"dataframe\">\n",
       "  <thead>\n",
       "    <tr style=\"text-align: right;\">\n",
       "      <th></th>\n",
       "      <th>county_code</th>\n",
       "      <th>census_tract</th>\n",
       "      <th>count</th>\n",
       "    </tr>\n",
       "  </thead>\n",
       "  <tbody>\n",
       "    <tr>\n",
       "      <th>65426</th>\n",
       "      <td>48201</td>\n",
       "      <td>48201431201</td>\n",
       "      <td>3</td>\n",
       "    </tr>\n",
       "    <tr>\n",
       "      <th>6782</th>\n",
       "      <td>06037</td>\n",
       "      <td>06037599100</td>\n",
       "      <td>3</td>\n",
       "    </tr>\n",
       "    <tr>\n",
       "      <th>64125</th>\n",
       "      <td>48113</td>\n",
       "      <td>48113017812</td>\n",
       "      <td>98</td>\n",
       "    </tr>\n",
       "  </tbody>\n",
       "</table>\n",
       "</div>"
      ],
      "text/plain": [
       "      county_code census_tract  count\n",
       "65426       48201  48201431201      3\n",
       "6782        06037  06037599100      3\n",
       "64125       48113  48113017812     98"
      ]
     },
     "execution_count": 7,
     "metadata": {},
     "output_type": "execute_result"
    }
   ],
   "source": [
    "### Number of unique combinations of county and census\n",
    "print(len(location_df))\n",
    "\n",
    "### Records where county code or census tract are Na\n",
    "print(((location_df['county_code'] == 'ii-ii') | (location_df['census_tract'] == 'ii-ii')).values.sum())\n",
    "### Records where county or census tract are NULL\n",
    "print(((location_df['county_code'] == '00-00') | (location_df['census_tract'] == '00-00')).values.sum())\n",
    "\n",
    "location_df.sample(3, random_state = 303)"
   ]
  },
  {
   "cell_type": "code",
   "execution_count": 8,
   "id": "tropical-childhood",
   "metadata": {},
   "outputs": [
    {
     "name": "stdout",
     "output_type": "stream",
     "text": [
      "Number of records with location nulls: 349945\n"
     ]
    }
   ],
   "source": [
    "### Running clean_location function to ensure every record has county code\n",
    "location_df['location_code'] = location_df.apply(clean_location, axis = 1)\n",
    "\n",
    "### Split location column for state and county fips codes\n",
    "location_df['state_fips'] = location_df['location_code'].str[0:2]\n",
    "location_df['county_fips'] = location_df['location_code'].str[2:5]\n",
    "\n",
    "### Number of records with no county code and census tract information\n",
    "nulls_df = location_df[(location_df['state_fips'] == '--') & (location_df['county_fips'] == '---')]\n",
    "print('Number of records with location nulls: ' + str(nulls_df['count'].sum()))\n",
    "\n",
    "### Remove columns that are no longer needed\n",
    "location_df2 = location_df.drop(columns = ['count', 'location_code'], axis = 1)"
   ]
  },
  {
   "cell_type": "code",
   "execution_count": 9,
   "id": "strong-tiffany",
   "metadata": {},
   "outputs": [
    {
     "data": {
      "text/html": [
       "<div>\n",
       "<style scoped>\n",
       "    .dataframe tbody tr th:only-of-type {\n",
       "        vertical-align: middle;\n",
       "    }\n",
       "\n",
       "    .dataframe tbody tr th {\n",
       "        vertical-align: top;\n",
       "    }\n",
       "\n",
       "    .dataframe thead th {\n",
       "        text-align: right;\n",
       "    }\n",
       "</style>\n",
       "<table border=\"1\" class=\"dataframe\">\n",
       "  <thead>\n",
       "    <tr style=\"text-align: right;\">\n",
       "      <th></th>\n",
       "      <th>county_code</th>\n",
       "      <th>census_tract</th>\n",
       "      <th>state_fips</th>\n",
       "      <th>county_fips</th>\n",
       "    </tr>\n",
       "  </thead>\n",
       "  <tbody>\n",
       "    <tr>\n",
       "      <th>0</th>\n",
       "      <td>01001</td>\n",
       "      <td>01001020100</td>\n",
       "      <td>01</td>\n",
       "      <td>001</td>\n",
       "    </tr>\n",
       "  </tbody>\n",
       "</table>\n",
       "</div>"
      ],
      "text/plain": [
       "  county_code census_tract state_fips county_fips\n",
       "0       01001  01001020100         01         001"
      ]
     },
     "execution_count": 9,
     "metadata": {},
     "output_type": "execute_result"
    }
   ],
   "source": [
    "### Replace two dashes and three dashes data points with NaN \n",
    "location_df2 = location_df2.replace(to_replace = '--', value = np.nan)\n",
    "location_df2 = location_df2.replace(to_replace = '---', value = np.nan)\n",
    "\n",
    "### Replace '00-00' and 'ii-ii' with the orginal data points to join back to the orginal HMDA data\n",
    "location_df2 = location_df2.replace(to_replace = '00-00', value = np.nan)\n",
    "location_df2 = location_df2.replace(to_replace = 'ii-ii', value = 'Na')\n",
    "\n",
    "location_df2.head(1)"
   ]
  },
  {
   "cell_type": "code",
   "execution_count": 10,
   "id": "raising-undergraduate",
   "metadata": {},
   "outputs": [
    {
     "name": "stdout",
     "output_type": "stream",
     "text": [
      "Null Records that don't have fips data: 349945\n"
     ]
    }
   ],
   "source": [
    "hmda19_df2 = pd.merge(hmda19_df2, location_df2, how = 'left', on = ['county_code', 'census_tract'])\n",
    "\n",
    "nulls_records = (hmda19_df2['county_fips'].isnull() & hmda19_df2['state_fips'].isnull()).values.sum()\n",
    "\n",
    "### This number matches the one from above:\n",
    "print('Null Records that don\\'t have fips data: ' + str((nulls_records)))"
   ]
  },
  {
   "cell_type": "markdown",
   "id": "educated-council",
   "metadata": {},
   "source": [
    "### 3. Clean Race and Ethnicity\n",
    "- 1: Native American\n",
    "- 2: Asian\n",
    "- 3: Black\n",
    "- 4: Pacific Islander\n",
    "- 5: White\n",
    "- 6: Latino\n",
    "- 7: Race NA"
   ]
  },
  {
   "cell_type": "code",
   "execution_count": 11,
   "id": "oriented-grace",
   "metadata": {},
   "outputs": [
    {
     "name": "stdout",
     "output_type": "stream",
     "text": [
      "164\n"
     ]
    },
    {
     "data": {
      "text/html": [
       "<div>\n",
       "<style scoped>\n",
       "    .dataframe tbody tr th:only-of-type {\n",
       "        vertical-align: middle;\n",
       "    }\n",
       "\n",
       "    .dataframe tbody tr th {\n",
       "        vertical-align: top;\n",
       "    }\n",
       "\n",
       "    .dataframe thead th {\n",
       "        text-align: right;\n",
       "    }\n",
       "</style>\n",
       "<table border=\"1\" class=\"dataframe\">\n",
       "  <thead>\n",
       "    <tr style=\"text-align: right;\">\n",
       "      <th></th>\n",
       "      <th>applicant_race_1</th>\n",
       "      <th>applicant_ethnicity_1</th>\n",
       "      <th>count</th>\n",
       "    </tr>\n",
       "  </thead>\n",
       "  <tbody>\n",
       "    <tr>\n",
       "      <th>0</th>\n",
       "      <td>1</td>\n",
       "      <td>1</td>\n",
       "      <td>29471</td>\n",
       "    </tr>\n",
       "    <tr>\n",
       "      <th>1</th>\n",
       "      <td>1</td>\n",
       "      <td>11</td>\n",
       "      <td>1858</td>\n",
       "    </tr>\n",
       "  </tbody>\n",
       "</table>\n",
       "</div>"
      ],
      "text/plain": [
       "  applicant_race_1 applicant_ethnicity_1  count\n",
       "0                1                     1  29471\n",
       "1                1                    11   1858"
      ]
     },
     "execution_count": 11,
     "metadata": {},
     "output_type": "execute_result"
    }
   ],
   "source": [
    "### Group race and ethnicity for all unique combinations\n",
    "main_race_eth = pd.DataFrame(hmda19_df2.groupby(by = ['applicant_race_1', 'applicant_ethnicity_1'],\n",
    "                             dropna = False).size()).reset_index().rename(columns = {0: 'count'})\n",
    "\n",
    "### Replace NAs with 000 for cleaning purposes\n",
    "main_race_eth = main_race_eth.fillna('000')\n",
    "print(len(main_race_eth))\n",
    "main_race_eth.head(2)"
   ]
  },
  {
   "cell_type": "code",
   "execution_count": 12,
   "id": "understood-rachel",
   "metadata": {},
   "outputs": [
    {
     "data": {
      "text/plain": [
       "5    9923840\n",
       "7    3729763\n",
       "6    1697089\n",
       "3    1135436\n",
       "2     928462\n",
       "1      92074\n",
       "4      38793\n",
       "Name: app_race_ethnicity, dtype: int64"
      ]
     },
     "execution_count": 12,
     "metadata": {},
     "output_type": "execute_result"
    }
   ],
   "source": [
    "### Apply clean_race_ethnicity function for the r/e dataframe\n",
    "main_race_eth['app_race_ethnicity'] = main_race_eth.apply(clean_race_ethnicity, axis = 1)\n",
    "\n",
    "### Replace 000 with NaN to join back with HMDA data\n",
    "main_race_eth = main_race_eth.replace(to_replace = '000', value = np.nan)\n",
    "### Drop Count Column\n",
    "main_race_eth = main_race_eth.drop(columns = ['count'], axis = 1)\n",
    "\n",
    "hmda19_df2 = pd.merge(hmda19_df2, main_race_eth, how = 'left', on = ['applicant_race_1', 'applicant_ethnicity_1'])\n",
    "\n",
    "hmda19_df2['app_race_ethnicity'].value_counts(dropna = False)"
   ]
  },
  {
   "cell_type": "markdown",
   "id": "reserved-scoop",
   "metadata": {},
   "source": [
    "### 4. Clean Co Race and Ethnicity\n",
    "- 1: Native American\n",
    "- 2: Asian\n",
    "- 3: Black\n",
    "- 4: Pacific Islander\n",
    "- 5: White\n",
    "- 6: Latino\n",
    "- 7: Race NA\n",
    "- 8: No Coapp"
   ]
  },
  {
   "cell_type": "code",
   "execution_count": 13,
   "id": "adapted-anger",
   "metadata": {},
   "outputs": [
    {
     "data": {
      "text/html": [
       "<div>\n",
       "<style scoped>\n",
       "    .dataframe tbody tr th:only-of-type {\n",
       "        vertical-align: middle;\n",
       "    }\n",
       "\n",
       "    .dataframe tbody tr th {\n",
       "        vertical-align: top;\n",
       "    }\n",
       "\n",
       "    .dataframe thead th {\n",
       "        text-align: right;\n",
       "    }\n",
       "</style>\n",
       "<table border=\"1\" class=\"dataframe\">\n",
       "  <thead>\n",
       "    <tr style=\"text-align: right;\">\n",
       "      <th></th>\n",
       "      <th>co_applicant_race_1</th>\n",
       "      <th>co_applicant_ethnicity_1</th>\n",
       "      <th>count</th>\n",
       "    </tr>\n",
       "  </thead>\n",
       "  <tbody>\n",
       "    <tr>\n",
       "      <th>0</th>\n",
       "      <td>1</td>\n",
       "      <td>1</td>\n",
       "      <td>9973</td>\n",
       "    </tr>\n",
       "  </tbody>\n",
       "</table>\n",
       "</div>"
      ],
      "text/plain": [
       "  co_applicant_race_1 co_applicant_ethnicity_1  count\n",
       "0                   1                        1   9973"
      ]
     },
     "execution_count": 13,
     "metadata": {},
     "output_type": "execute_result"
    }
   ],
   "source": [
    "coapp_race_ethnicity = pd.DataFrame(hmda19_df2.groupby(by = ['co_applicant_race_1', 'co_applicant_ethnicity_1'],\n",
    "                                    dropna = False).size()).reset_index().rename(columns = {0: 'count'})\n",
    "\n",
    "coapp_race_ethnicity = coapp_race_ethnicity.fillna('000')\n",
    "coapp_race_ethnicity.head(1)"
   ]
  },
  {
   "cell_type": "code",
   "execution_count": 14,
   "id": "executive-cooperation",
   "metadata": {},
   "outputs": [
    {
     "data": {
      "text/plain": [
       "8    9158472\n",
       "5    4581280\n",
       "7    2360361\n",
       "6     683338\n",
       "2     422998\n",
       "3     289797\n",
       "1      30843\n",
       "4      18368\n",
       "Name: coapp_race_ethnicity, dtype: int64"
      ]
     },
     "execution_count": 14,
     "metadata": {},
     "output_type": "execute_result"
    }
   ],
   "source": [
    "### Using clean_race_ethnicity function for the coapp r/e dataframe, it has a no co-app flag\n",
    "coapp_race_ethnicity['coapp_race_ethnicity'] = coapp_race_ethnicity.apply(clean_race_ethnicity, axis = 1)\n",
    "\n",
    "coapp_race_ethnicity = coapp_race_ethnicity.drop(columns = ['count'], axis = 1)\n",
    "coapp_race_ethnicity = coapp_race_ethnicity.replace(to_replace = '000', value = np.nan)\n",
    "\n",
    "hmda19_df2 = pd.merge(hmda19_df2, coapp_race_ethnicity, how = 'left', \n",
    "                      on = ['co_applicant_race_1', 'co_applicant_ethnicity_1'])\n",
    "\n",
    "hmda19_df2['coapp_race_ethnicity'].value_counts(dropna = False)"
   ]
  },
  {
   "cell_type": "markdown",
   "id": "micro-system",
   "metadata": {},
   "source": [
    "### 6. Same or Different Race for Co-Applicant\n",
    "- 1: Same\n",
    "- 2: Difference\n",
    "- 3: Not Applicable"
   ]
  },
  {
   "cell_type": "code",
   "execution_count": 15,
   "id": "preliminary-allen",
   "metadata": {},
   "outputs": [
    {
     "data": {
      "text/html": [
       "<div>\n",
       "<style scoped>\n",
       "    .dataframe tbody tr th:only-of-type {\n",
       "        vertical-align: middle;\n",
       "    }\n",
       "\n",
       "    .dataframe tbody tr th {\n",
       "        vertical-align: top;\n",
       "    }\n",
       "\n",
       "    .dataframe thead th {\n",
       "        text-align: right;\n",
       "    }\n",
       "</style>\n",
       "<table border=\"1\" class=\"dataframe\">\n",
       "  <thead>\n",
       "    <tr style=\"text-align: right;\">\n",
       "      <th></th>\n",
       "      <th>app_race_ethnicity</th>\n",
       "      <th>coapp_race_ethnicity</th>\n",
       "      <th>count</th>\n",
       "    </tr>\n",
       "  </thead>\n",
       "  <tbody>\n",
       "    <tr>\n",
       "      <th>9</th>\n",
       "      <td>2</td>\n",
       "      <td>2</td>\n",
       "      <td>323202</td>\n",
       "    </tr>\n",
       "    <tr>\n",
       "      <th>51</th>\n",
       "      <td>7</td>\n",
       "      <td>4</td>\n",
       "      <td>457</td>\n",
       "    </tr>\n",
       "  </tbody>\n",
       "</table>\n",
       "</div>"
      ],
      "text/plain": [
       "   app_race_ethnicity coapp_race_ethnicity   count\n",
       "9                   2                    2  323202\n",
       "51                  7                    4     457"
      ]
     },
     "execution_count": 15,
     "metadata": {},
     "output_type": "execute_result"
    }
   ],
   "source": [
    "### group all instances of main applicants and co-applicants races and ethnicities\n",
    "coapp_same_race = pd.DataFrame(hmda19_df2.groupby(by = ['app_race_ethnicity', 'coapp_race_ethnicity'],\n",
    "                               dropna = False).size()).reset_index().rename(columns = {0: 'count'})\n",
    "\n",
    "coapp_same_race.sample(2, random_state = 303)"
   ]
  },
  {
   "cell_type": "code",
   "execution_count": 16,
   "id": "convenient-swiss",
   "metadata": {},
   "outputs": [
    {
     "data": {
      "text/plain": [
       "4    9158472\n",
       "1    5409249\n",
       "3    2423876\n",
       "2     553860\n",
       "Name: coapp_same_race, dtype: int64"
      ]
     },
     "execution_count": 16,
     "metadata": {},
     "output_type": "execute_result"
    }
   ],
   "source": [
    "### Find records where applicant and co-applicant are the same\n",
    "coapp_same_race['coapp_same_race'] = coapp_same_race.apply(find_same_race, axis = 1)\n",
    "\n",
    "coapp_same_race = coapp_same_race.drop(columns = ['count'], axis = 1)\n",
    "hmda19_df2 = pd.merge(hmda19_df2, coapp_same_race, how = 'left', \n",
    "                    on = ['app_race_ethnicity', 'coapp_race_ethnicity'])\n",
    "\n",
    "hmda19_df2['coapp_same_race'].value_counts(dropna = False)"
   ]
  },
  {
   "cell_type": "markdown",
   "id": "arranged-input",
   "metadata": {},
   "source": [
    "### 7. Clean Credit Models\n",
    "- 1: Equifax\n",
    "- 2: Experian\n",
    "- 3: TransUnion\n",
    "- 4: Vantage\n",
    "- 5: More than one\n",
    "- 6: Other Model\n",
    "- 7: Credit Na"
   ]
  },
  {
   "cell_type": "code",
   "execution_count": 17,
   "id": "governing-creativity",
   "metadata": {},
   "outputs": [
    {
     "data": {
      "text/html": [
       "<div>\n",
       "<style scoped>\n",
       "    .dataframe tbody tr th:only-of-type {\n",
       "        vertical-align: middle;\n",
       "    }\n",
       "\n",
       "    .dataframe tbody tr th {\n",
       "        vertical-align: top;\n",
       "    }\n",
       "\n",
       "    .dataframe thead th {\n",
       "        text-align: right;\n",
       "    }\n",
       "</style>\n",
       "<table border=\"1\" class=\"dataframe\">\n",
       "  <thead>\n",
       "    <tr style=\"text-align: right;\">\n",
       "      <th></th>\n",
       "      <th>applicant_credit_score_type</th>\n",
       "      <th>count</th>\n",
       "    </tr>\n",
       "  </thead>\n",
       "  <tbody>\n",
       "    <tr>\n",
       "      <th>0</th>\n",
       "      <td>1</td>\n",
       "      <td>3406553</td>\n",
       "    </tr>\n",
       "  </tbody>\n",
       "</table>\n",
       "</div>"
      ],
      "text/plain": [
       "  applicant_credit_score_type    count\n",
       "0                           1  3406553"
      ]
     },
     "execution_count": 17,
     "metadata": {},
     "output_type": "execute_result"
    }
   ],
   "source": [
    "credit_models = pd.DataFrame(hmda19_df2.groupby(by = ['applicant_credit_score_type'],\n",
    "                dropna = False).size()).reset_index().rename(columns = {0: 'count'})\n",
    "\n",
    "credit_models.head(1)"
   ]
  },
  {
   "cell_type": "code",
   "execution_count": 18,
   "id": "welsh-usage",
   "metadata": {},
   "outputs": [
    {
     "data": {
      "text/plain": [
       "7    6787023\n",
       "1    3406553\n",
       "3    2895349\n",
       "2    2752732\n",
       "6    1172497\n",
       "5     498468\n",
       "4      32835\n",
       "Name: app_credit_model, dtype: int64"
      ]
     },
     "execution_count": 18,
     "metadata": {},
     "output_type": "execute_result"
    }
   ],
   "source": [
    "### Using function to standardize credit model\n",
    "credit_models['app_credit_model'] = credit_models.apply(clean_credit_model, axis = 1)\n",
    "\n",
    "credit_models = credit_models.drop(columns = ['count'], axis = 1)\n",
    "\n",
    "hmda19_df2 = pd.merge(hmda19_df2, credit_models, how = 'left', on = ['applicant_credit_score_type'])\n",
    "\n",
    "hmda19_df2['app_credit_model'].value_counts(dropna = False)"
   ]
  },
  {
   "cell_type": "markdown",
   "id": "compact-actress",
   "metadata": {},
   "source": [
    "### 8. Find Co-Applicants\n",
    "\n",
    "- 9999 in age means [no co-applicant](https://s3.amazonaws.com/cfpb-hmda-public/prod/help/2018-public-LAR-code-sheet.pdf)\n",
    "- 8888 in age means no applicable"
   ]
  },
  {
   "cell_type": "code",
   "execution_count": 19,
   "id": "global-nashville",
   "metadata": {},
   "outputs": [
    {
     "data": {
      "text/html": [
       "<div>\n",
       "<style scoped>\n",
       "    .dataframe tbody tr th:only-of-type {\n",
       "        vertical-align: middle;\n",
       "    }\n",
       "\n",
       "    .dataframe tbody tr th {\n",
       "        vertical-align: top;\n",
       "    }\n",
       "\n",
       "    .dataframe thead th {\n",
       "        text-align: right;\n",
       "    }\n",
       "</style>\n",
       "<table border=\"1\" class=\"dataframe\">\n",
       "  <thead>\n",
       "    <tr style=\"text-align: right;\">\n",
       "      <th></th>\n",
       "      <th>coapp_race_ethnicity</th>\n",
       "      <th>co_applicant_sex</th>\n",
       "      <th>co_applicant_age</th>\n",
       "      <th>co_applicant_credit_score_type</th>\n",
       "      <th>count</th>\n",
       "    </tr>\n",
       "  </thead>\n",
       "  <tbody>\n",
       "    <tr>\n",
       "      <th>0</th>\n",
       "      <td>1</td>\n",
       "      <td>1</td>\n",
       "      <td>25-34</td>\n",
       "      <td>1</td>\n",
       "      <td>241</td>\n",
       "    </tr>\n",
       "  </tbody>\n",
       "</table>\n",
       "</div>"
      ],
      "text/plain": [
       "  coapp_race_ethnicity co_applicant_sex co_applicant_age  \\\n",
       "0                    1                1            25-34   \n",
       "\n",
       "  co_applicant_credit_score_type  count  \n",
       "0                              1    241  "
      ]
     },
     "execution_count": 19,
     "metadata": {},
     "output_type": "execute_result"
    }
   ],
   "source": [
    "coapp_cols = ['coapp_race_ethnicity', 'co_applicant_sex', 'co_applicant_age', 'co_applicant_credit_score_type']\n",
    "\n",
    "coapp_comb_df = pd.DataFrame(hmda19_df2.groupby(by = coapp_cols, dropna = False).size()).reset_index().rename(\\\n",
    "                columns = {0: 'count'})\n",
    "\n",
    "coapp_comb_df.head(1)"
   ]
  },
  {
   "cell_type": "markdown",
   "id": "waiting-myanmar",
   "metadata": {},
   "source": [
    "#### Co-Applicants\n",
    "\n",
    "- 1: Co-Applicants\n",
    "- 2: No co-applicants\n",
    "- 3: Not Applicable"
   ]
  },
  {
   "cell_type": "code",
   "execution_count": 20,
   "id": "tribal-salem",
   "metadata": {},
   "outputs": [
    {
     "data": {
      "text/plain": [
       "2    9269362\n",
       "1    7107953\n",
       "3    1168142\n",
       "Name: co_applicant, dtype: int64"
      ]
     },
     "execution_count": 20,
     "metadata": {},
     "output_type": "execute_result"
    }
   ],
   "source": [
    "### Run function to find co-applicants\n",
    "coapp_comb_df['co_applicant'] = coapp_comb_df.apply(find_coapplicants, axis = 1)\n",
    "\n",
    "coapp_comb_df = coapp_comb_df.drop(columns = ['count'], axis = 1)\n",
    "\n",
    "hmda19_df2 = pd.merge(hmda19_df2, coapp_comb_df, how = 'left', on = coapp_cols)\n",
    "\n",
    "hmda19_df2['co_applicant'].value_counts(dropna = False)"
   ]
  },
  {
   "cell_type": "markdown",
   "id": "social-joint",
   "metadata": {},
   "source": [
    "### 9. Standardize Outcomes\n",
    "- 1: Loan originated\n",
    "- 2: Application approved but not accepted\n",
    "- 3: Application denied\n",
    "- 4: Application withdrawn by applicant\n",
    "- 5: File closed for incompleteness\n",
    "- 6: Purchased loan\n",
    "- 7: Preapproval request denied\n",
    "- 8: Preapproval request approved but not accepted"
   ]
  },
  {
   "cell_type": "code",
   "execution_count": 21,
   "id": "biological-union",
   "metadata": {},
   "outputs": [
    {
     "data": {
      "text/html": [
       "<div>\n",
       "<style scoped>\n",
       "    .dataframe tbody tr th:only-of-type {\n",
       "        vertical-align: middle;\n",
       "    }\n",
       "\n",
       "    .dataframe tbody tr th {\n",
       "        vertical-align: top;\n",
       "    }\n",
       "\n",
       "    .dataframe thead th {\n",
       "        text-align: right;\n",
       "    }\n",
       "</style>\n",
       "<table border=\"1\" class=\"dataframe\">\n",
       "  <thead>\n",
       "    <tr style=\"text-align: right;\">\n",
       "      <th></th>\n",
       "      <th>action_taken</th>\n",
       "      <th>count</th>\n",
       "    </tr>\n",
       "  </thead>\n",
       "  <tbody>\n",
       "    <tr>\n",
       "      <th>0</th>\n",
       "      <td>1</td>\n",
       "      <td>9325241</td>\n",
       "    </tr>\n",
       "    <tr>\n",
       "      <th>1</th>\n",
       "      <td>3</td>\n",
       "      <td>2538965</td>\n",
       "    </tr>\n",
       "  </tbody>\n",
       "</table>\n",
       "</div>"
      ],
      "text/plain": [
       "  action_taken    count\n",
       "0            1  9325241\n",
       "1            3  2538965"
      ]
     },
     "execution_count": 21,
     "metadata": {},
     "output_type": "execute_result"
    }
   ],
   "source": [
    "action_taken = pd.DataFrame(hmda19_df2['action_taken'].value_counts(dropna = False)).reset_index().\\\n",
    "               rename(columns = {'index': 'action_taken', 'action_taken': 'count'})\n",
    "\n",
    "action_taken.head(2)"
   ]
  },
  {
   "cell_type": "markdown",
   "id": "verbal-mexico",
   "metadata": {},
   "source": [
    "#### Outcomes:\n",
    "- 1: Loans\n",
    "- 3: Denials\n",
    "- 4: Other Outcomes\n",
    "- 6: Purchase loans"
   ]
  },
  {
   "cell_type": "code",
   "execution_count": 22,
   "id": "measured-plymouth",
   "metadata": {},
   "outputs": [
    {
     "data": {
      "text/plain": [
       "1    9325241\n",
       "4    3415558\n",
       "3    2538965\n",
       "6    2265693\n",
       "Name: loan_outcome, dtype: int64"
      ]
     },
     "execution_count": 22,
     "metadata": {},
     "output_type": "execute_result"
    }
   ],
   "source": [
    "### Clean Outcomes\n",
    "action_taken['loan_outcome'] = action_taken.apply(clean_outcomes, axis = 1)\n",
    "\n",
    "action_taken = action_taken.drop(columns = ['count'], axis = 1)\n",
    "\n",
    "hmda19_df2 = pd.merge(hmda19_df2, action_taken, how = 'left', on = ['action_taken'])\n",
    "\n",
    "hmda19_df2['loan_outcome'].value_counts(dropna = False)"
   ]
  },
  {
   "cell_type": "markdown",
   "id": "conscious-wisdom",
   "metadata": {},
   "source": [
    "### 10. Standardize Automated Underwriting System"
   ]
  },
  {
   "cell_type": "code",
   "execution_count": 23,
   "id": "congressional-restaurant",
   "metadata": {},
   "outputs": [
    {
     "data": {
      "text/html": [
       "<div>\n",
       "<style scoped>\n",
       "    .dataframe tbody tr th:only-of-type {\n",
       "        vertical-align: middle;\n",
       "    }\n",
       "\n",
       "    .dataframe tbody tr th {\n",
       "        vertical-align: top;\n",
       "    }\n",
       "\n",
       "    .dataframe thead th {\n",
       "        text-align: right;\n",
       "    }\n",
       "</style>\n",
       "<table border=\"1\" class=\"dataframe\">\n",
       "  <thead>\n",
       "    <tr style=\"text-align: right;\">\n",
       "      <th></th>\n",
       "      <th>aus_1</th>\n",
       "      <th>aus_2</th>\n",
       "      <th>aus_3</th>\n",
       "      <th>aus_4</th>\n",
       "      <th>aus_5</th>\n",
       "    </tr>\n",
       "  </thead>\n",
       "  <tbody>\n",
       "    <tr>\n",
       "      <th>0</th>\n",
       "      <td>1</td>\n",
       "      <td>1</td>\n",
       "      <td>1</td>\n",
       "      <td>1</td>\n",
       "      <td>1</td>\n",
       "    </tr>\n",
       "    <tr>\n",
       "      <th>1</th>\n",
       "      <td>1</td>\n",
       "      <td>1</td>\n",
       "      <td>1</td>\n",
       "      <td>1</td>\n",
       "      <td>2</td>\n",
       "    </tr>\n",
       "  </tbody>\n",
       "</table>\n",
       "</div>"
      ],
      "text/plain": [
       "  aus_1 aus_2 aus_3 aus_4 aus_5\n",
       "0     1     1     1     1     1\n",
       "1     1     1     1     1     2"
      ]
     },
     "execution_count": 23,
     "metadata": {},
     "output_type": "execute_result"
    }
   ],
   "source": [
    "aus = ['aus_1', 'aus_2', 'aus_3', 'aus_4', 'aus_5']\n",
    "\n",
    "### Group all unique combinations of AUS together to find all the patterns\n",
    "aus_df = pd.DataFrame(hmda19_df2.groupby(by = aus, dropna = False).size()).\\\n",
    "         reset_index().rename(columns = {0: 'count'})\n",
    "aus_df = aus_df.drop(columns = ['count'], axis = 1)\n",
    "\n",
    "aus_df.head(2)"
   ]
  },
  {
   "cell_type": "markdown",
   "id": "incorporate-ukraine",
   "metadata": {},
   "source": [
    "#### Aus Cat\n",
    "- 1: One AUS was used\n",
    "- 2: Same AUS was used mulitple times\n",
    "- 3: Different AUS was used \n",
    "- 4: Exempt"
   ]
  },
  {
   "cell_type": "code",
   "execution_count": 24,
   "id": "electoral-administrator",
   "metadata": {},
   "outputs": [
    {
     "data": {
      "text/plain": [
       "1    16144858\n",
       "3      778268\n",
       "4      471452\n",
       "2      150879\n",
       "Name: aus_cat, dtype: int64"
      ]
     },
     "execution_count": 24,
     "metadata": {},
     "output_type": "execute_result"
    }
   ],
   "source": [
    "### Calculate unique values and nulls\n",
    "aus_df = find_aus_patterns(aus_df)\n",
    "\n",
    "### Categorize AUS\n",
    "aus_df['aus_cat'] = aus_df.apply(clean_aus, axis = 1)\n",
    "\n",
    "aus_df = aus_df.drop(columns = ['number_of_values', 'number_of_nulls'], axis = 1)\n",
    "\n",
    "hmda19_df2 = pd.merge(hmda19_df2, aus_df, how = 'left', on = aus)\n",
    "hmda19_df2['aus_cat'].value_counts(dropna = False)"
   ]
  },
  {
   "cell_type": "markdown",
   "id": "disciplinary-blond",
   "metadata": {},
   "source": [
    "### Write out new csv"
   ]
  },
  {
   "cell_type": "code",
   "execution_count": 25,
   "id": "hispanic-electric",
   "metadata": {},
   "outputs": [
    {
     "name": "stdout",
     "output_type": "stream",
     "text": [
      "<class 'pandas.core.frame.DataFrame'>\n",
      "Int64Index: 17545457 entries, 0 to 17545456\n",
      "Data columns (total 87 columns):\n",
      " #   Column                                    Dtype \n",
      "---  ------                                    ----- \n",
      " 0   activity_year                             object\n",
      " 1   lei                                       object\n",
      " 2   derived_msa_md                            object\n",
      " 3   state_code                                object\n",
      " 4   county_code                               object\n",
      " 5   census_tract                              object\n",
      " 6   conforming_loan_limit                     object\n",
      " 7   action_taken                              object\n",
      " 8   purchaser_type                            object\n",
      " 9   preapproval                               object\n",
      " 10  loan_type                                 object\n",
      " 11  loan_purpose                              object\n",
      " 12  lien_status                               object\n",
      " 13  reverse_mortgage                          object\n",
      " 14  open_end_line_of_credit                   object\n",
      " 15  business_or_commercial_purpose            object\n",
      " 16  loan_amount                               object\n",
      " 17  combined_loan_to_value_ratio              object\n",
      " 18  interest_rate                             object\n",
      " 19  rate_spread                               object\n",
      " 20  hoepa_status                              object\n",
      " 21  total_loan_costs                          object\n",
      " 22  total_points_and_fees                     object\n",
      " 23  origination_charges                       object\n",
      " 24  discount_points                           object\n",
      " 25  lender_credits                            object\n",
      " 26  loan_term                                 object\n",
      " 27  prepayment_penalty_term                   object\n",
      " 28  intro_rate_period                         object\n",
      " 29  negative_amortization                     object\n",
      " 30  interest_only_payment                     object\n",
      " 31  balloon_payment                           object\n",
      " 32  other_nonamortizing_features              object\n",
      " 33  property_value                            object\n",
      " 34  construction_method                       object\n",
      " 35  occupancy_type                            object\n",
      " 36  manufactured_home_secured_property_type   object\n",
      " 37  manufactured_home_land_property_interest  object\n",
      " 38  total_units                               object\n",
      " 39  multifamily_affordable_units              object\n",
      " 40  income                                    object\n",
      " 41  debt_to_income_ratio                      object\n",
      " 42  applicant_credit_score_type               object\n",
      " 43  co_applicant_credit_score_type            object\n",
      " 44  applicant_ethnicity_1                     object\n",
      " 45  co_applicant_ethnicity_1                  object\n",
      " 46  applicant_ethnicity_observed              object\n",
      " 47  co_applicant_ethnicity_observed           object\n",
      " 48  applicant_race_1                          object\n",
      " 49  co_applicant_race_1                       object\n",
      " 50  applicant_race_observed                   object\n",
      " 51  co_applicant_race_observed                object\n",
      " 52  applicant_sex                             object\n",
      " 53  co_applicant_sex                          object\n",
      " 54  applicant_sex_observed                    object\n",
      " 55  co_applicant_sex_observed                 object\n",
      " 56  applicant_age                             object\n",
      " 57  co_applicant_age                          object\n",
      " 58  applicant_age_above_62                    object\n",
      " 59  co_applicant_age_above_62                 object\n",
      " 60  submission_of_application                 object\n",
      " 61  initially_payable_to_institution          object\n",
      " 62  aus_1                                     object\n",
      " 63  aus_2                                     object\n",
      " 64  aus_3                                     object\n",
      " 65  aus_4                                     object\n",
      " 66  aus_5                                     object\n",
      " 67  denial_reason_1                           object\n",
      " 68  denial_reason_2                           object\n",
      " 69  denial_reason_3                           object\n",
      " 70  denial_reason_4                           object\n",
      " 71  tract_population                          object\n",
      " 72  tract_minority_population_percent         object\n",
      " 73  ffiec_msa_md_median_family_income         object\n",
      " 74  tract_to_msa_income_percentage            object\n",
      " 75  tract_owner_occupied_units                object\n",
      " 76  tract_one_to_four_family_homes            object\n",
      " 77  tract_median_age_of_housing_units         object\n",
      " 78  state_fips                                object\n",
      " 79  county_fips                               object\n",
      " 80  app_race_ethnicity                        object\n",
      " 81  coapp_race_ethnicity                      object\n",
      " 82  coapp_same_race                           object\n",
      " 83  app_credit_model                          object\n",
      " 84  co_applicant                              object\n",
      " 85  loan_outcome                              object\n",
      " 86  aus_cat                                   object\n",
      "dtypes: object(87)\n",
      "memory usage: 11.5+ GB\n"
     ]
    }
   ],
   "source": [
    "hmda19_df2.info()"
   ]
  },
  {
   "cell_type": "code",
   "execution_count": 26,
   "id": "exclusive-learning",
   "metadata": {},
   "outputs": [],
   "source": [
    "hmda19_df2.to_csv('../../data/hmda_lar/cleaned_data/1_hmda2019_210823.csv', index = False)"
   ]
  },
  {
   "cell_type": "code",
   "execution_count": null,
   "id": "educated-encyclopedia",
   "metadata": {},
   "outputs": [],
   "source": []
  }
 ],
 "metadata": {
  "kernelspec": {
   "display_name": "Python 3",
   "language": "python",
   "name": "python3"
  },
  "language_info": {
   "codemirror_mode": {
    "name": "ipython",
    "version": 3
   },
   "file_extension": ".py",
   "mimetype": "text/x-python",
   "name": "python",
   "nbconvert_exporter": "python",
   "pygments_lexer": "ipython3",
   "version": "3.8.0"
  }
 },
 "nbformat": 4,
 "nbformat_minor": 5
}
